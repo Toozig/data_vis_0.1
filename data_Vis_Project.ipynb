{
 "cells": [
  {
   "cell_type": "code",
   "execution_count": null,
   "metadata": {},
   "outputs": [],
   "source": []
  },
  {
   "cell_type": "code",
   "execution_count": 2,
   "metadata": {},
   "outputs": [],
   "source": [
    "from sklearn.manifold import TSNE\n",
    "from pandas.core.frame import DataFrame\n",
    "import tekore as tk\n",
    "import numpy as np\n",
    "import pandas as pd\n",
    "from numpy.polynomial.chebyshev import chebfit,chebval\n",
    "from sklearn.decomposition import PCA\n",
    "import plotly.express as px"
   ]
  },
  {
   "cell_type": "code",
   "execution_count": 74,
   "metadata": {},
   "outputs": [],
   "source": [
    "client_id = '4cc0d73dc6ae4e64b7318da7236f7f04'\n",
    "client_secret = '3a88b3d055854dcb9cfe1a1ed8784942'\n",
    "SPOTIFY_REDIRECT_URI= \"http://localhost/\"\n",
    "app_token = tk.request_client_token(client_id, client_secret)"
   ]
  },
  {
   "cell_type": "code",
   "execution_count": 78,
   "metadata": {},
   "outputs": [
    {
     "data": {
      "text/plain": [
       "SimpleAlbum with fields:\n",
       "  album_group = None\n",
       "  album_type = 'album'\n",
       "  artists = [1 x SimpleArtist(external_urls, href, id, name, type, uri)]\n",
       "  available_markets = [0 x str]\n",
       "  external_urls = {'spotify'}\n",
       "  href = 'https://api.spotify.com/v1/albums/3Aod8ev2Xu4swkRslc26tl'\n",
       "  id = '3Aod8ev2Xu4swkRslc26tl'\n",
       "  images = [3 x Image(height, url, width)]\n",
       "  is_playable = None\n",
       "  name = 'Hijas Del Tomate'\n",
       "  release_date = '2002-07-30'\n",
       "  release_date_precision = 'day'\n",
       "  total_tracks = 10\n",
       "  type = 'album'\n",
       "  uri = 'spotify:album:3Aod8ev2Xu4swkRslc26tl'"
      ]
     },
     "execution_count": 78,
     "metadata": {},
     "output_type": "execute_result"
    }
   ],
   "source": [
    "# sp = tk.Spotify(app_token)\n",
    "sp.track('49sMsFUxaaGDlaKZNBfVSd').album"
   ]
  },
  {
   "cell_type": "code",
   "execution_count": null,
   "metadata": {},
   "outputs": [],
   "source": [
    "def interval_vec(interval_list, title):\n",
    "    dur = 0\n",
    "    for i in interval_list:\n",
    "        dur += i.duration\n",
    "    titles = [f'average {title} interval duration', 'num of intervals']\n",
    "    data= dur / len(interval_list), len(interval_list)\n",
    "    return pd.Series(index = titles, data=data)\n",
    "\n",
    "def section_vec(section_list, duration):\n",
    "    loudness = 0\n",
    "    tempo = 0\n",
    "    key = 0\n",
    "    loud_l =[]\n",
    "    tempo_l = []\n",
    "    key_l = []\n",
    "    key_c, tempo_c, loud_c = 0,0,0\n",
    "    for i in section_list:\n",
    "        percentage = i.duration / duration\n",
    "        loudness += percentage * i.loudness\n",
    "        tempo += percentage * i.tempo\n",
    "        key += percentage * i.key\n",
    "        if len(loud_l):\n",
    "            key_c += key_l[-1] != i.key\n",
    "            tempo_c += tempo_l[-1] < i.tempo\n",
    "            loud_c += loud_l[-1] < i.loudness\n",
    "        loud_l.append(i.loudness)\n",
    "        tempo_l.append(i.tempo)\n",
    "        key_l.append(i.key)\n",
    "    titles = [\"average loudness\", \"average tempo\",\"average key\", \"loudness std\", \"tempo std\", \"key std\", \"key change\", \"tempo change\", \"loudness change\", \"num sections\"]\n",
    "    data = loudness, tempo, key, np.std(loud_l), np.std(tempo_l), np.std(key_l), key_c /(len(section_list) -1), tempo_c /(len(section_list) -1), loud_c /(len(section_list) -1), len(section_list)\n",
    "    return pd.Series(index=titles, data=data)\n",
    "\n",
    "def segment_vec(segment_list, duration):\n",
    "    last_timbre = []\n",
    "    last_pitches = []\n",
    "    timbre_avg = np.zeros(12)\n",
    "    pitches_avg = np.zeros(12)\n",
    "    matrix = np.empty((len(segment_list), 25))\n",
    "    dur_vec = []\n",
    "    x_vec = []\n",
    "    for seg in segment_list:\n",
    "        cur_p =list(seg.pitches)\n",
    "        cur_t =  list(seg.timbre)\n",
    "        x_vec.append(seg.start)\n",
    "        dur_vec.append(seg.duration)\n",
    "        matrix[-1] = [seg.loudness_max ] + cur_p + cur_t\n",
    "\n",
    "    data = np.nan_to_num(matrix.T) @ dur_vec\n",
    "    func =  chebfit(x_vec,np.nan_to_num(np.sum(matrix, axis=1)),12)\n",
    "    print(f\"x shape: {len(x_vec)}, sum shape: {np.sum(matrix, axis=1).shape}\")\n",
    "    result =  chebfit(x_vec,np.nan_to_num(np.sum(matrix, axis=1)),8)\n",
    "    print(result)\n",
    "    titles = [\"loudness_max avg\"] + [f\"pitches {i} avg\" for i in range(12)] +[f\"ptimbre {i} avg\" for i in range(12)] + [f\"poly coef{i % 31} {i % 25}\" for i in range(result.shape[0])] \n",
    "    \n",
    "    \n",
    "#     return  pd.Series(index=titles, data =list(data) + list(data_std))\n",
    "    return pd.Series(index=titles , data=np.concatenate([result,data]))\n",
    "                    \n",
    "def song_vector(song):\n",
    "    duration = song.track['duration']\n",
    "    song_meta = pd.Series(index=['tempo', 'loudness'], data = [song.track['tempo'], song.track['loudness']])\n",
    "    sections_vec = section_vec(song.sections, duration)\n",
    "    bars_vec = interval_vec(song.bars, \"bars\")\n",
    "    beats_vec = interval_vec(song.beats, \"beats\")\n",
    "    # segments_vec = segment_vec(song.segments, duration)\n",
    "    return pd.concat([song_meta, sections_vec,bars_vec, beats_vec])\n",
    "    \n",
    "\n",
    "\n",
    "\n",
    "def get_user_token():\n",
    "# get the user token from the web\n",
    "    print(\"copy the web address after you log in to your potify account\")\n",
    "    token  = tk.prompt_for_user_token(client_id, client_secret,SPOTIFY_REDIRECT_URI, scope = 'user-library-read playlist-read-private')\n",
    "    return tk.Spotify(token)\n",
    "\n",
    "\n",
    "def get_playlist(spotify):\n",
    "    # choosing one of the users playlist\n",
    "    print('\\nChoose one of your playlists:\\n')\n",
    "    for i in range(len(spotify.followed_playlists().items)):\n",
    "        print(f\"{i + 1}) {spotify.followed_playlists().items[i].name} - {spotify.followed_playlists().items[i].tracks.total}\")\n",
    "    playlist_idx = int(input(\"\")) - 1\n",
    "    return spotify.playlist_items(spotify.followed_playlists().items[playlist_idx].id, as_tracks=False).items\n",
    "\n",
    "def get_track_feat(id):\n",
    "    audio_feat = spotify.track_audio_features(id)\n",
    "    return pd.Series({\"acousticness\":audio_feat.acousticness,\n",
    "                     \"danceability\" :audio_feat.danceability,\n",
    "                     \"energy\":audio_feat.energy,\n",
    "                     \"liveness\": audio_feat.liveness,\n",
    "                     \"loudness\": audio_feat.loudness,\n",
    "                     \"speechiness\": audio_feat.speechiness,\n",
    "                     \"tempo\": audio_feat.tempo,\n",
    "                     \"valence\": audio_feat.valence})\n",
    "\n",
    "def get_songs_data(tracks)-> pd.DataFrame: \n",
    "    songs_s = []\n",
    "    # songs_id = [i.track.id for i in tracks]\n",
    "    artists_s = pd.Series()\n",
    "    for i in range(len(tracks)):\n",
    "        print(f\"idx: {i} length list: {len(songs_s)} \")\n",
    "        if not i + 1 % 100:\n",
    "            time.sleep(15)\n",
    "            print(\"sleeping!\")\n",
    "            pd.concat(songs_s, axis=1).T.to_csv(\"test_df.csv\")\n",
    "        track = tracks[i]\n",
    "        song = track.track\n",
    "        song_data = song_vector(spotify.track_audio_analysis(song.id))\n",
    "        song_f = get_track_feat(song.id)\n",
    "        song_date = pd.Series(data=[song.album.release_date.split('-')[0]], index=[\"release year\"])\n",
    "        artists_s = pd.concat([artists_s,pd.Series(data=[\"|\".join([i.name for i in song.artists])],index=[song.name + '-' + song.artists[0].name])])\n",
    "        song_data = pd.concat([song_f, song_data, song_date]).rename(song.name + '-' + song.artists[0].name )\n",
    "        songs_s.append(song_data)\n",
    "    add = artists_s.str.get_dummies()\n",
    "    result = pd.concat(songs_s, axis=1)\n",
    "    return pd.concat([result.T, add], axis=1)\n",
    " "
   ]
  },
  {
   "cell_type": "code",
   "execution_count": null,
   "metadata": {},
   "outputs": [],
   "source": [
    "\n",
    "# No need to run this!\n",
    "# client_id = '4cc0d73dc6ae4e64b7318da7236f7f04'\n",
    "# client_secret = '3a88b3d055854dcb9cfe1a1ed8784942'\n",
    "# SPOTIFY_REDIRECT_URI= \"http://localhost/\"\n",
    "# app_token = tk.request_client_token(client_id, client_secret)\n",
    "# spotify = get_user_token()\n",
    "# tracks = []\n",
    "# for i in range(5):\n",
    "#     tracks = tracks + list(get_playlist(spotify))\n",
    "# df = get_songs_data(tracks)\n",
    "# df.T.to_csv(\"test_df.csv\")"
   ]
  },
  {
   "cell_type": "code",
   "execution_count": 39,
   "metadata": {},
   "outputs": [
    {
     "data": {
      "text/html": [
       "<div>\n",
       "<style scoped>\n",
       "    .dataframe tbody tr th:only-of-type {\n",
       "        vertical-align: middle;\n",
       "    }\n",
       "\n",
       "    .dataframe tbody tr th {\n",
       "        vertical-align: top;\n",
       "    }\n",
       "\n",
       "    .dataframe thead th {\n",
       "        text-align: right;\n",
       "    }\n",
       "</style>\n",
       "<table border=\"1\" class=\"dataframe\">\n",
       "  <thead>\n",
       "    <tr style=\"text-align: right;\">\n",
       "      <th></th>\n",
       "      <th>acousticness</th>\n",
       "      <th>danceability</th>\n",
       "      <th>energy</th>\n",
       "      <th>liveness</th>\n",
       "      <th>loudness</th>\n",
       "      <th>speechiness</th>\n",
       "      <th>tempo</th>\n",
       "      <th>valence</th>\n",
       "      <th>tempo</th>\n",
       "      <th>loudness</th>\n",
       "      <th>...</th>\n",
       "      <th>Yoni Rechter</th>\n",
       "      <th>Zehava Ben</th>\n",
       "      <th>אז. עכשיו.</th>\n",
       "      <th>אריסה</th>\n",
       "      <th>אתניקס</th>\n",
       "      <th>גלי עטרי</th>\n",
       "      <th>הכוכב הבא</th>\n",
       "      <th>חלב ודבש</th>\n",
       "      <th>שחר חסון</th>\n",
       "      <th>שרי</th>\n",
       "    </tr>\n",
       "  </thead>\n",
       "  <tbody>\n",
       "    <tr>\n",
       "      <th>האם האם האם-Gidi Gov</th>\n",
       "      <td>0.34500</td>\n",
       "      <td>0.414</td>\n",
       "      <td>0.648</td>\n",
       "      <td>0.3550</td>\n",
       "      <td>-7.239</td>\n",
       "      <td>0.0546</td>\n",
       "      <td>120.208</td>\n",
       "      <td>0.4020</td>\n",
       "      <td>120.208</td>\n",
       "      <td>-7.239</td>\n",
       "      <td>...</td>\n",
       "      <td>0.0</td>\n",
       "      <td>0.0</td>\n",
       "      <td>0.0</td>\n",
       "      <td>0.0</td>\n",
       "      <td>0.0</td>\n",
       "      <td>0.0</td>\n",
       "      <td>0.0</td>\n",
       "      <td>0.0</td>\n",
       "      <td>0.0</td>\n",
       "      <td>0.0</td>\n",
       "    </tr>\n",
       "    <tr>\n",
       "      <th>הגננים היום עצובים-Yehudit Ravitz</th>\n",
       "      <td>0.26500</td>\n",
       "      <td>0.522</td>\n",
       "      <td>0.407</td>\n",
       "      <td>0.0914</td>\n",
       "      <td>-11.926</td>\n",
       "      <td>0.0332</td>\n",
       "      <td>104.159</td>\n",
       "      <td>0.3180</td>\n",
       "      <td>104.159</td>\n",
       "      <td>-11.926</td>\n",
       "      <td>...</td>\n",
       "      <td>0.0</td>\n",
       "      <td>0.0</td>\n",
       "      <td>0.0</td>\n",
       "      <td>0.0</td>\n",
       "      <td>0.0</td>\n",
       "      <td>0.0</td>\n",
       "      <td>0.0</td>\n",
       "      <td>0.0</td>\n",
       "      <td>0.0</td>\n",
       "      <td>0.0</td>\n",
       "    </tr>\n",
       "    <tr>\n",
       "      <th>הוא-Noa</th>\n",
       "      <td>0.86100</td>\n",
       "      <td>0.301</td>\n",
       "      <td>0.279</td>\n",
       "      <td>0.9710</td>\n",
       "      <td>-13.746</td>\n",
       "      <td>0.0407</td>\n",
       "      <td>140.794</td>\n",
       "      <td>0.0969</td>\n",
       "      <td>140.794</td>\n",
       "      <td>-13.746</td>\n",
       "      <td>...</td>\n",
       "      <td>0.0</td>\n",
       "      <td>0.0</td>\n",
       "      <td>0.0</td>\n",
       "      <td>0.0</td>\n",
       "      <td>0.0</td>\n",
       "      <td>0.0</td>\n",
       "      <td>0.0</td>\n",
       "      <td>0.0</td>\n",
       "      <td>0.0</td>\n",
       "      <td>0.0</td>\n",
       "    </tr>\n",
       "    <tr>\n",
       "      <th>הוא הולך ממך-Yehudit Ravitz</th>\n",
       "      <td>0.39600</td>\n",
       "      <td>0.191</td>\n",
       "      <td>0.310</td>\n",
       "      <td>0.0811</td>\n",
       "      <td>-16.038</td>\n",
       "      <td>0.0340</td>\n",
       "      <td>153.235</td>\n",
       "      <td>0.1320</td>\n",
       "      <td>153.235</td>\n",
       "      <td>-16.038</td>\n",
       "      <td>...</td>\n",
       "      <td>0.0</td>\n",
       "      <td>0.0</td>\n",
       "      <td>0.0</td>\n",
       "      <td>0.0</td>\n",
       "      <td>0.0</td>\n",
       "      <td>0.0</td>\n",
       "      <td>0.0</td>\n",
       "      <td>0.0</td>\n",
       "      <td>0.0</td>\n",
       "      <td>0.0</td>\n",
       "    </tr>\n",
       "    <tr>\n",
       "      <th>הולכת ממך-Sharon Haziz</th>\n",
       "      <td>0.13400</td>\n",
       "      <td>0.627</td>\n",
       "      <td>0.840</td>\n",
       "      <td>0.0854</td>\n",
       "      <td>-8.187</td>\n",
       "      <td>0.0403</td>\n",
       "      <td>96.994</td>\n",
       "      <td>0.7240</td>\n",
       "      <td>96.994</td>\n",
       "      <td>-8.187</td>\n",
       "      <td>...</td>\n",
       "      <td>0.0</td>\n",
       "      <td>0.0</td>\n",
       "      <td>0.0</td>\n",
       "      <td>0.0</td>\n",
       "      <td>0.0</td>\n",
       "      <td>0.0</td>\n",
       "      <td>0.0</td>\n",
       "      <td>0.0</td>\n",
       "      <td>0.0</td>\n",
       "      <td>0.0</td>\n",
       "    </tr>\n",
       "    <tr>\n",
       "      <th>...</th>\n",
       "      <td>...</td>\n",
       "      <td>...</td>\n",
       "      <td>...</td>\n",
       "      <td>...</td>\n",
       "      <td>...</td>\n",
       "      <td>...</td>\n",
       "      <td>...</td>\n",
       "      <td>...</td>\n",
       "      <td>...</td>\n",
       "      <td>...</td>\n",
       "      <td>...</td>\n",
       "      <td>...</td>\n",
       "      <td>...</td>\n",
       "      <td>...</td>\n",
       "      <td>...</td>\n",
       "      <td>...</td>\n",
       "      <td>...</td>\n",
       "      <td>...</td>\n",
       "      <td>...</td>\n",
       "      <td>...</td>\n",
       "      <td>...</td>\n",
       "    </tr>\n",
       "    <tr>\n",
       "      <th>נעמיד פני יתומים-Yehudit Ravitz</th>\n",
       "      <td>0.00747</td>\n",
       "      <td>0.466</td>\n",
       "      <td>0.464</td>\n",
       "      <td>0.2200</td>\n",
       "      <td>-11.048</td>\n",
       "      <td>0.0264</td>\n",
       "      <td>78.123</td>\n",
       "      <td>0.6450</td>\n",
       "      <td>78.123</td>\n",
       "      <td>-11.048</td>\n",
       "      <td>...</td>\n",
       "      <td>0.0</td>\n",
       "      <td>0.0</td>\n",
       "      <td>0.0</td>\n",
       "      <td>0.0</td>\n",
       "      <td>0.0</td>\n",
       "      <td>0.0</td>\n",
       "      <td>0.0</td>\n",
       "      <td>0.0</td>\n",
       "      <td>0.0</td>\n",
       "      <td>0.0</td>\n",
       "    </tr>\n",
       "    <tr>\n",
       "      <th>נשים רוקדות-Chava Alberstein</th>\n",
       "      <td>0.51600</td>\n",
       "      <td>0.587</td>\n",
       "      <td>0.548</td>\n",
       "      <td>0.9650</td>\n",
       "      <td>-8.898</td>\n",
       "      <td>0.3680</td>\n",
       "      <td>100.273</td>\n",
       "      <td>0.7440</td>\n",
       "      <td>100.273</td>\n",
       "      <td>-8.898</td>\n",
       "      <td>...</td>\n",
       "      <td>0.0</td>\n",
       "      <td>0.0</td>\n",
       "      <td>0.0</td>\n",
       "      <td>0.0</td>\n",
       "      <td>0.0</td>\n",
       "      <td>0.0</td>\n",
       "      <td>0.0</td>\n",
       "      <td>0.0</td>\n",
       "      <td>0.0</td>\n",
       "      <td>0.0</td>\n",
       "    </tr>\n",
       "    <tr>\n",
       "      <th>סיגליות-David Broza</th>\n",
       "      <td>0.57900</td>\n",
       "      <td>0.572</td>\n",
       "      <td>0.545</td>\n",
       "      <td>0.2270</td>\n",
       "      <td>-10.282</td>\n",
       "      <td>0.0316</td>\n",
       "      <td>125.699</td>\n",
       "      <td>0.5770</td>\n",
       "      <td>125.699</td>\n",
       "      <td>-10.282</td>\n",
       "      <td>...</td>\n",
       "      <td>0.0</td>\n",
       "      <td>0.0</td>\n",
       "      <td>0.0</td>\n",
       "      <td>0.0</td>\n",
       "      <td>0.0</td>\n",
       "      <td>0.0</td>\n",
       "      <td>0.0</td>\n",
       "      <td>0.0</td>\n",
       "      <td>0.0</td>\n",
       "      <td>0.0</td>\n",
       "    </tr>\n",
       "    <tr>\n",
       "      <th>סליחות-Yehudit Ravitz</th>\n",
       "      <td>0.86800</td>\n",
       "      <td>0.373</td>\n",
       "      <td>0.174</td>\n",
       "      <td>0.1950</td>\n",
       "      <td>-14.733</td>\n",
       "      <td>0.0302</td>\n",
       "      <td>99.799</td>\n",
       "      <td>0.5140</td>\n",
       "      <td>99.799</td>\n",
       "      <td>-14.733</td>\n",
       "      <td>...</td>\n",
       "      <td>0.0</td>\n",
       "      <td>0.0</td>\n",
       "      <td>0.0</td>\n",
       "      <td>0.0</td>\n",
       "      <td>0.0</td>\n",
       "      <td>0.0</td>\n",
       "      <td>0.0</td>\n",
       "      <td>0.0</td>\n",
       "      <td>0.0</td>\n",
       "      <td>0.0</td>\n",
       "    </tr>\n",
       "    <tr>\n",
       "      <th>סעידה סולטנה-Dana International</th>\n",
       "      <td>0.00147</td>\n",
       "      <td>0.849</td>\n",
       "      <td>0.678</td>\n",
       "      <td>0.1560</td>\n",
       "      <td>-9.047</td>\n",
       "      <td>0.0515</td>\n",
       "      <td>116.081</td>\n",
       "      <td>0.8010</td>\n",
       "      <td>116.081</td>\n",
       "      <td>-9.047</td>\n",
       "      <td>...</td>\n",
       "      <td>0.0</td>\n",
       "      <td>0.0</td>\n",
       "      <td>0.0</td>\n",
       "      <td>0.0</td>\n",
       "      <td>0.0</td>\n",
       "      <td>0.0</td>\n",
       "      <td>0.0</td>\n",
       "      <td>0.0</td>\n",
       "      <td>0.0</td>\n",
       "      <td>0.0</td>\n",
       "    </tr>\n",
       "  </tbody>\n",
       "</table>\n",
       "<p>415 rows × 292 columns</p>\n",
       "</div>"
      ],
      "text/plain": [
       "                                   acousticness  danceability  energy  \\\n",
       "האם האם האם-Gidi Gov                    0.34500         0.414   0.648   \n",
       "הגננים היום עצובים-Yehudit Ravitz       0.26500         0.522   0.407   \n",
       "הוא-Noa                                 0.86100         0.301   0.279   \n",
       "הוא הולך ממך-Yehudit Ravitz             0.39600         0.191   0.310   \n",
       "הולכת ממך-Sharon Haziz                  0.13400         0.627   0.840   \n",
       "...                                         ...           ...     ...   \n",
       "נעמיד פני יתומים-Yehudit Ravitz         0.00747         0.466   0.464   \n",
       "נשים רוקדות-Chava Alberstein            0.51600         0.587   0.548   \n",
       "סיגליות-David Broza                     0.57900         0.572   0.545   \n",
       "סליחות-Yehudit Ravitz                   0.86800         0.373   0.174   \n",
       "סעידה סולטנה-Dana International         0.00147         0.849   0.678   \n",
       "\n",
       "                                   liveness  loudness  speechiness    tempo  \\\n",
       "האם האם האם-Gidi Gov                 0.3550    -7.239       0.0546  120.208   \n",
       "הגננים היום עצובים-Yehudit Ravitz    0.0914   -11.926       0.0332  104.159   \n",
       "הוא-Noa                              0.9710   -13.746       0.0407  140.794   \n",
       "הוא הולך ממך-Yehudit Ravitz          0.0811   -16.038       0.0340  153.235   \n",
       "הולכת ממך-Sharon Haziz               0.0854    -8.187       0.0403   96.994   \n",
       "...                                     ...       ...          ...      ...   \n",
       "נעמיד פני יתומים-Yehudit Ravitz      0.2200   -11.048       0.0264   78.123   \n",
       "נשים רוקדות-Chava Alberstein         0.9650    -8.898       0.3680  100.273   \n",
       "סיגליות-David Broza                  0.2270   -10.282       0.0316  125.699   \n",
       "סליחות-Yehudit Ravitz                0.1950   -14.733       0.0302   99.799   \n",
       "סעידה סולטנה-Dana International      0.1560    -9.047       0.0515  116.081   \n",
       "\n",
       "                                   valence    tempo  loudness  ...  \\\n",
       "האם האם האם-Gidi Gov                0.4020  120.208    -7.239  ...   \n",
       "הגננים היום עצובים-Yehudit Ravitz   0.3180  104.159   -11.926  ...   \n",
       "הוא-Noa                             0.0969  140.794   -13.746  ...   \n",
       "הוא הולך ממך-Yehudit Ravitz         0.1320  153.235   -16.038  ...   \n",
       "הולכת ממך-Sharon Haziz              0.7240   96.994    -8.187  ...   \n",
       "...                                    ...      ...       ...  ...   \n",
       "נעמיד פני יתומים-Yehudit Ravitz     0.6450   78.123   -11.048  ...   \n",
       "נשים רוקדות-Chava Alberstein        0.7440  100.273    -8.898  ...   \n",
       "סיגליות-David Broza                 0.5770  125.699   -10.282  ...   \n",
       "סליחות-Yehudit Ravitz               0.5140   99.799   -14.733  ...   \n",
       "סעידה סולטנה-Dana International     0.8010  116.081    -9.047  ...   \n",
       "\n",
       "                                   Yoni Rechter  Zehava Ben  אז. עכשיו.  \\\n",
       "האם האם האם-Gidi Gov                        0.0         0.0         0.0   \n",
       "הגננים היום עצובים-Yehudit Ravitz           0.0         0.0         0.0   \n",
       "הוא-Noa                                     0.0         0.0         0.0   \n",
       "הוא הולך ממך-Yehudit Ravitz                 0.0         0.0         0.0   \n",
       "הולכת ממך-Sharon Haziz                      0.0         0.0         0.0   \n",
       "...                                         ...         ...         ...   \n",
       "נעמיד פני יתומים-Yehudit Ravitz             0.0         0.0         0.0   \n",
       "נשים רוקדות-Chava Alberstein                0.0         0.0         0.0   \n",
       "סיגליות-David Broza                         0.0         0.0         0.0   \n",
       "סליחות-Yehudit Ravitz                       0.0         0.0         0.0   \n",
       "סעידה סולטנה-Dana International             0.0         0.0         0.0   \n",
       "\n",
       "                                   אריסה  אתניקס  גלי עטרי  הכוכב הבא  \\\n",
       "האם האם האם-Gidi Gov                 0.0     0.0       0.0        0.0   \n",
       "הגננים היום עצובים-Yehudit Ravitz    0.0     0.0       0.0        0.0   \n",
       "הוא-Noa                              0.0     0.0       0.0        0.0   \n",
       "הוא הולך ממך-Yehudit Ravitz          0.0     0.0       0.0        0.0   \n",
       "הולכת ממך-Sharon Haziz               0.0     0.0       0.0        0.0   \n",
       "...                                  ...     ...       ...        ...   \n",
       "נעמיד פני יתומים-Yehudit Ravitz      0.0     0.0       0.0        0.0   \n",
       "נשים רוקדות-Chava Alberstein         0.0     0.0       0.0        0.0   \n",
       "סיגליות-David Broza                  0.0     0.0       0.0        0.0   \n",
       "סליחות-Yehudit Ravitz                0.0     0.0       0.0        0.0   \n",
       "סעידה סולטנה-Dana International      0.0     0.0       0.0        0.0   \n",
       "\n",
       "                                   חלב ודבש  שחר חסון  שרי  \n",
       "האם האם האם-Gidi Gov                    0.0       0.0  0.0  \n",
       "הגננים היום עצובים-Yehudit Ravitz       0.0       0.0  0.0  \n",
       "הוא-Noa                                 0.0       0.0  0.0  \n",
       "הוא הולך ממך-Yehudit Ravitz             0.0       0.0  0.0  \n",
       "הולכת ממך-Sharon Haziz                  0.0       0.0  0.0  \n",
       "...                                     ...       ...  ...  \n",
       "נעמיד פני יתומים-Yehudit Ravitz         0.0       0.0  0.0  \n",
       "נשים רוקדות-Chava Alberstein            0.0       0.0  0.0  \n",
       "סיגליות-David Broza                     0.0       0.0  0.0  \n",
       "סליחות-Yehudit Ravitz                   0.0       0.0  0.0  \n",
       "סעידה סולטנה-Dana International         0.0       0.0  0.0  \n",
       "\n",
       "[415 rows x 292 columns]"
      ]
     },
     "execution_count": 39,
     "metadata": {},
     "output_type": "execute_result"
    }
   ],
   "source": [
    "df= pd.read_csv(\"spotify/test_df.csv\", index_col=0).T\n",
    "df"
   ]
  },
  {
   "cell_type": "code",
   "execution_count": 40,
   "metadata": {},
   "outputs": [],
   "source": [
    "#Normalizing the needed columns (other columns are one hot vector or year)\n",
    "df.iloc[:,:24] = (df.iloc[:,:24]-df.iloc[:,:24].mean())/df.iloc[:,:24].std()\n",
    "# dropping columns which did not contribute\n",
    "dff =  df.drop(['loudness change','key change', 'tempo change'], axis=1)"
   ]
  },
  {
   "cell_type": "code",
   "execution_count": 41,
   "metadata": {},
   "outputs": [
    {
     "data": {
      "application/vnd.plotly.v1+json": {
       "config": {
        "plotlyServerURL": "https://plot.ly"
       },
       "data": [
        {
         "customdata": [
          [
           "האם האם האם-Gidi Gov",
           1997
          ],
          [
           "הגננים היום עצובים-Yehudit Ravitz",
           1993
          ],
          [
           "הוא-Noa",
           1998
          ],
          [
           "הוא הולך ממך-Yehudit Ravitz",
           1987
          ],
          [
           "הולכת ממך-Sharon Haziz",
           2012
          ],
          [
           "הורה ממטרה-Shoshana Damari",
           2006
          ],
          [
           "היא הולכת בדרכים-Kaveret",
           1998
          ],
          [
           "היא יודעת-Ninet Tayeb",
           2006
          ],
          [
           "היא רוקדת-Yardena Arazi",
           1998
          ],
          [
           "היא רוקדת-Yardena Arazi.1",
           2019
          ],
          [
           "היו לילות-Noa",
           2011
          ],
          [
           "הכינור הנאמן-Yardena Arazi",
           1987
          ],
          [
           "הכל זה לטובה-Dana International",
           2007
          ],
          [
           "הכל סגור-Sarit Hadad",
           2012
          ],
          [
           "הלב-Maya Buskila",
           2004
          ],
          [
           "הלילה-Hakol Over Habibi",
           1989
          ],
          [
           "הללויה-חלב ודבש",
           1995
          ],
          [
           "הם בזמר הזה-Matti Caspi",
           1984
          ],
          [
           "המגפיים של ברוך-Kaveret",
           1973
          ],
          [
           "הנסיכה והרוח-Rita",
           1988
          ],
          [
           "השיר הזה-Sharona Pick",
           2004
          ],
          [
           "ואלס להגנת הצומח-Lehakat HaNachal",
           2010
          ],
          [
           "ודוד יפה עיניים-A-WA",
           2019
          ],
          [
           "וידוי-Yehudit Ravitz",
           1994
          ],
          [
           "ונצואלה-Green Onion",
           2003
          ],
          [
           "זה הכל בשבילך-Danny Sanderson",
           1990
          ],
          [
           "זודיאק-Yaron Hadad",
           1994
          ],
          [
           "זן נדיר-Yehudit Ravitz",
           1998
          ],
          [
           "זן נדיר-Korin Allal",
           1992
          ],
          [
           "חברים בכל מיני צבעים-Sarit Hadad",
           1999
          ],
          [
           "חופים הם לפעמים-Chava Alberstein",
           1975
          ],
          [
           "חזקה מהרוח-Gali Atari",
           1992
          ],
          [
           "חיוכים-Chava Alberstein",
           1968
          ],
          [
           "חייך וחיי-Gidi Gov",
           1997
          ],
          [
           "חייל של 100 שערים-Sheygets",
           2001
          ],
          [
           "חיכיתי לו-Sarit Hadad",
           2015
          ],
          [
           "חמימות חולפת-Dana Berger",
           1998
          ],
          [
           "טיקיטאס-Noa Kirel",
           2017
          ],
          [
           "יחילוי ויחלי-Ofra Haza",
           1984
          ],
          [
           "Maria-Evadne Baker",
           1965
          ],
          [
           "Marija Magdalena-Doris Dragović",
           2014
          ],
          [
           "Matchmaker-John Williams",
           1971
          ],
          [
           "Material Girl-הכוכב הבא",
           2019
          ],
          [
           "Mercy-Madame Monsieur",
           2018
          ],
          [
           "A Million Dreams-P!nk",
           2018
          ],
          [
           "A Million Voices-Polina Gagarina",
           2015
          ],
          [
           "Molitva - Serbian Version-Marija Šerifović",
           2007
          ],
          [
           "Money Money-Joel Grey",
           1972
          ],
          [
           "Mood Ring (By Demand) - Pride Remix-Britney Spears",
           2020
          ],
          [
           "Move Your Body - Single Mix-Sia",
           2017
          ],
          [
           "Mr. Blue Sky-Electric Light Orchestra",
           1977
          ],
          [
           "Mucho Bien-MR.BLACK",
           2020
          ],
          [
           "Mudbira-A-WA",
           2019
          ],
          [
           "Murder On The Dancefloor-Sophie Ellis-Bextor",
           2002
          ],
          [
           "My Favorite Things-Julie Andrews",
           1964
          ],
          [
           "My Happy Ending-Avril Lavigne",
           2004
          ],
          [
           "My Heart Will Go On - Love Theme from \"Titanic\"-Céline Dion",
           1997
          ],
          [
           "My Number One-Helena Paparizou",
           2005
          ],
          [
           "My Prerogative-Britney Spears",
           2004
          ],
          [
           "Neka Mi Ne Svane-Danijela Martinovic",
           2014
          ],
          [
           "Nel Blu Dipinto Di Blu-Domenico Modugno",
           2008
          ],
          [
           "Nemo-Nightwish",
           2005
          ],
          [
           "Ne partez pas sans moi (Grand prix de L'Eurovision 1988)-Céline Dion",
           1994
          ],
          [
           "Vay Halime-Candan Erçetin",
           2009
          ],
          [
           "Viens on s’aime-Slimane",
           2018
          ],
          [
           "Vogue-Madonna",
           2009
          ],
          [
           "Wannabe-Spice Girls",
           1996
          ],
          [
           "WAP (feat. Megan Thee Stallion)-Cardi B",
           2020
          ],
          [
           "We R Who We R-Kesha",
           2010
          ],
          [
           "What's Up?-4 Non Blondes",
           1992
          ],
          [
           "Whenever, Wherever-Shakira",
           2001
          ],
          [
           "When We're High-LP",
           2017
          ],
          [
           "When We Were Young-Adele",
           2015
          ],
          [
           "When You're Gone-Bryan Adams",
           1998
          ],
          [
           "Where Have You Been-Sarit Hadad",
           2012
          ],
          [
           "Who Knew-P!nk",
           2006
          ],
          [
           "A Whole New World-Lea Salonga",
           2004
          ],
          [
           "Wild Dances-Ruslana",
           2004
          ],
          [
           "Wind It Up-Gwen Stefani",
           2006
          ],
          [
           "Wings-Delta Goodrem",
           2016
          ],
          [
           "Woman in Love-Barbra Streisand",
           1980
          ],
          [
           "Womanizer - Acoustic-Lily Allen",
           2009
          ],
          [
           "Work Bitch-Britney Spears",
           2013
          ],
          [
           "Written in the Stars (feat. Eric Turner)-Tinie Tempah",
           2010
          ],
          [
           "Ya Watani-A-WA",
           2019
          ],
          [
           "Yoncé - Homecoming Live-Beyoncé",
           2019
          ],
          [
           "(You Drive Me) Crazy-Britney Spears",
           1999
          ],
          [
           "You Oughta Know-Alanis Morissette",
           2020
          ],
          [
           "You Oughta Know - 2015 Remaster-Alanis Morissette",
           1995
          ],
          [
           "You've Got The Love-Florence + The Machine",
           2009
          ],
          [
           "אגדת דשא-Gidi Gov",
           2019
          ],
          [
           "אגדת השמש והירח-Ethnix",
           1995
          ],
          [
           "אדוני-Roni Duani",
           2006
          ],
          [
           "אדון שוקו-Arik Einstein",
           1989
          ],
          [
           "אהבה קטנה-Shiri Maimon",
           2005
          ],
          [
           "אוהב להיות בבית-Arik Einstein",
           1993
          ],
          [
           "אוהבת לא אוהבת-Arkadi Duchin",
           2001
          ],
          [
           "אור-Shoshana Damari",
           1988
          ],
          [
           "אותך-Ilana Avital",
           1977
          ],
          [
           "אחלה עולם-Gidi Gov",
           2003
          ],
          [
           "איך שיר נולד-Yehonatan Geffen",
           1978
          ],
          [
           "אין לי רגע דל-Rivka Michaeli",
           1981
          ],
          [
           "אין עוד יום-Gidi Gov",
           1991
          ],
          [
           "אי שם-Ilanit",
           1972
          ],
          [
           "איתו לנצח-Kerach Tesha",
           1997
          ],
          [
           "אם ננעלו-Ofra Haza",
           1984
          ],
          [
           "אני אוהב-Yehonatan Geffen",
           1978
          ],
          [
           "אני אשתגע-Nurit Galron",
           2005
          ],
          [
           "אני חולם על נעמי-Hedva Amrani",
           2020
          ],
          [
           "אני חיה לי מיום ליום-Rita",
           1988
          ],
          [
           "אני משם-Yehudit Ravitz",
           1993
          ],
          [
           "אני שטה-Zehava Ben",
           2000
          ],
          [
           "אצל הדודה והדוד-Noa Kirel",
           2017
          ],
          [
           "ארץ טרופית יפה / בוא לריו - Live-Yehudit Ravitz",
           2008
          ],
          [
           "את ואני-Shlomo Artzi",
           1975
          ],
          [
           "את חירותי-Berry Sakharof",
           2020
          ],
          [
           "את חרותי-Chava Alberstein",
           1975
          ],
          [
           "את תלכי בשדה-Chava Alberstein",
           1975
          ],
          [
           "באהבתנו-Yehudit Ravitz",
           1993
          ],
          [
           "בגידה-Rita",
           1986
          ],
          [
           "בגלל הלילה-Chava Alberstein",
           2016
          ],
          [
           "בוא-Rita",
           1988
          ],
          [
           "בואי כלה-Noa",
           1998
          ],
          [
           "בוקר טוב עולם-Avtipus",
           1995
          ],
          [
           "בחום של תל אביב-Sarit Hadad",
           2004
          ],
          [
           "בי גאראר (חסר שקט)-Rita",
           2011
          ],
          [
           "בך לא נוגע-Yehudit Ravitz",
           2000
          ],
          [
           "בלילות הקיץ החמים-Matti Caspi",
           1978
          ],
          [
           "בלעדייך-Gidi Gov",
           1978
          ],
          [
           "בן אדם-Yardena Arazi",
           1998
          ],
          [
           "גבריאל-Ofra Haza",
           1982
          ],
          [
           "גיטרה וכינור-Arik Einstein",
           1999
          ],
          [
           "גלבי-Ofra Haza",
           1984
          ],
          [
           "ג'סיקה-Ethnix",
           1993
          ],
          [
           "גשם בעיתו-Ruthi Navon",
           1974
          ],
          [
           "דבקה רפיח - Bonus-Yehudit Ravitz",
           1981
          ],
          [
           "דון קיחוטה-Dana International",
           1998
          ],
          [
           "דון קיחוטה-Shiri Maimon",
           2002
          ],
          [
           "דמעות של מלאכים-Yehudit Ravitz",
           1979
          ],
          [
           "Never Be The Same Again-Melanie C",
           1999
          ],
          [
           "Nobody's Wife-Anouk",
           1997
          ],
          [
           "No Roots-Alice Merton",
           2017
          ],
          [
           "no tears left to cry-Ariana Grande",
           2018
          ],
          [
           "Oh My God (feat. Lily Allen)-Mark Ronson",
           2007
          ],
          [
           "Ojos Así-Shakira",
           1998
          ],
          [
           "One of Us-Cher",
           2018
          ],
          [
           "Oniro Mou-Yianna Terzi",
           2018
          ],
          [
           "Ooh Aah...Just a Little Bit - Motiv8 Radio Edit-Gina G",
           1996
          ],
          [
           "Oops!...I Did It Again-Britney Spears",
           2000
          ],
          [
           "Open Your Heart-Madonna",
           1986
          ],
          [
           "Ora Na Gyriseis-Malu",
           2017
          ],
          [
           "Over The Hills And Far Away-Nightwish",
           2001
          ],
          [
           "Paid My Dues-Anastacia",
           1999
          ],
          [
           "A Palé - Gesaffelstein Remix-Gesaffelstein",
           2019
          ],
          [
           "Parle à ma main (feat. Yelle et Christelle)-Fatal Bazooka",
           2007
          ],
          [
           "Parle à ta tête-Indila",
           2019
          ],
          [
           "Partition-Beyoncé",
           2014
          ],
          [
           "Part of Your World - From \"The Little Mermaid\" / Soundtrack Version-Jodi Benson",
           1997
          ],
          [
           "Party In The U.S.A.-Miley Cyrus",
           2009
          ],
          [
           "Pas eu le temps-Patrick Bruel",
           2019
          ],
          [
           "Petra - Offer Nissim 08' Reconstruction-Dana International",
           2008
          ],
          [
           "Petra - Offer Nissim Reconstruction Mix-Dana International",
           2014
          ],
          [
           "The Phantom Of the Opera-Andrew Lloyd Webber",
           2004
          ],
          [
           "Pon de Replay-Rihanna",
           2005
          ],
          [
           "Poor Unfortunate Souls - From \"The Little Mermaid\" / Soundtrack Version-Pat Carroll",
           1997
          ],
          [
           "Qué Hiciste-Jennifer Lopez",
           2012
          ],
          [
           "Que Nadie Sepa Mi Sufrir-Soledad",
           1997
          ],
          [
           "¿Quién te has creído que soy?-Fangoria",
           2019
          ],
          [
           "Read U Wrote U (Ellis Miah Mix) [feat. The Cast of RuPaul's Drag Race All Stars, Season 2]-RuPaul",
           2016
          ],
          [
           "Reflection-Christina Aguilera",
           1998
          ],
          [
           "Reflection (2020) - From \"Mulan\"-Christina Aguilera",
           2020
          ],
          [
           "Replay-Tamta",
           2019
          ],
          [
           "Rich Girl-Gwen Stefani",
           2004
          ],
          [
           "Rolling in the Deep-Adele",
           2011
          ],
          [
           "Sa Leat-Arik Einstein",
           1974
          ],
          [
           "Satellite-Lena",
           2010
          ],
          [
           "Say You'll Be There-Spice Girls",
           1996
          ],
          [
           "Send My Love (To Your New Lover)-Adele",
           2016
          ],
          [
           "Send My Love (To Your New Lover)-Adele.1",
           2015
          ],
          [
           "Set Fire to the Rain-Adele",
           2011
          ],
          [
           "Shake It Out-Florence + The Machine",
           2011
          ],
          [
           "Shallow-Lady Gaga",
           2018
          ],
          [
           "Ship To Wreck-Florence + The Machine",
           2015
          ],
          [
           "Shufuni-Sarit Hadad",
           2019
          ],
          [
           "Since U Been Gone-Kelly Clarkson",
           2004
          ],
          [
           "Sissy That Walk-RuPaul",
           2014
          ],
          [
           "Sk8er Boi-Avril Lavigne",
           2002
          ],
          [
           "Smile-Lily Allen",
           2006
          ],
          [
           "So Emotional-Whitney Houston",
           1987
          ],
          [
           "Sokratis-Elpida",
           1998
          ],
          [
           "Soldi-Mahmood",
           2019
          ],
          [
           "Solo (feat. Demi Lovato)-Clean Bandit",
           2018
          ],
          [
           "Something to Sing About-Original Cast of Buffy The Vampire Slayer",
           2002
          ],
          [
           "Soon We'll Be Found-Sia",
           2008
          ],
          [
           "Sound of Silence-Dami Im",
           2016
          ],
          [
           "Sous le vent-Garou",
           2000
          ],
          [
           "Spice Up Your Life-Spice Girls",
           1997
          ],
          [
           "Stop-Spice Girls",
           1997
          ],
          [
           "Sto Theo Me Paei-Eleni Foureira",
           2017
          ],
          [
           "Superstar - Turkish Version-Sibel Tüzün",
           2006
          ],
          [
           "Sweet but Psycho-Ava Max",
           2018
          ],
          [
           "Tears (feat. Louisa Johnson)-Clean Bandit",
           2016
          ],
          [
           "Temperatura-Eleni Foureira",
           2020
          ],
          [
           "Think-Aretha Franklin",
           1968
          ],
          [
           "Ti Koitas-Eleni Foureira",
           2016
          ],
          [
           "Together-Sia",
           2020
          ],
          [
           "Torn-Natalie Imbruglia",
           2007
          ],
          [
           "Total Eclipse of the Heart-Bonnie Tyler",
           1999
          ],
          [
           "Tous Eipes Pos-Malu",
           2019
          ],
          [
           "Tren Del Cielo-Soledad",
           2001
          ],
          [
           "Tren Del Cielo-Soledad.1",
           2005
          ],
          [
           "Tu te reconnaitras-Anne-Marie David",
           1973
          ],
          [
           "Tu Veneno-Natalia Oreiro",
           1999
          ],
          [
           "Umbrella-Rihanna",
           2008
          ],
          [
           "Une belle histoire-Michel Fugain & Le Big Bazar",
           1972
          ],
          [
           "1000 Doves-Lady Gaga",
           2020
          ],
          [
           "911-Lady Gaga",
           2020
          ],
          [
           "Ainsi bas la vida-Indila",
           2014
          ],
          [
           "Alejandro-Lady Gaga",
           2009
          ],
          [
           "Alive-Sia",
           2016
          ],
          [
           "All of My Love - Radio edit-Destiny",
           2020
          ],
          [
           "Alone-Céline Dion",
           2008
          ],
          [
           "Always Look On The Bright Side Of Life-Monty Python",
           1989
          ],
          [
           "Amies ennemies-Nâdiya",
           2006
          ],
          [
           "Anaconda-Nicki Minaj",
           2014
          ],
          [
           "Around The World-Aqua",
           2009
          ],
          [
           "Baby Can I Hold You-Red Band",
           2014
          ],
          [
           "Baby (feat. MARINA & Luis Fonsi)-Clean Bandit",
           2018
          ],
          [
           "Bamakom Hachi Namooch Be'e Tel Aviv (At the Lowest Place in Tel Aviv)-Dana International",
           2008
          ],
          [
           "Bang Bang-Jessie J",
           2014
          ],
          [
           "Because of You-Kelly Clarkson",
           2012
          ],
          [
           "Beegharar - Offer Nissim Club Remix-Rita",
           2012
          ],
          [
           "Believe-Cher",
           1998
          ],
          [
           "Best Thing I Never Had-Beyoncé",
           2011
          ],
          [
           "BLACK PARADE-Beyoncé",
           2020
          ],
          [
           "Bootylicious-Destiny's Child",
           2001
          ],
          [
           "Born This Way-Lady Gaga",
           2011
          ],
          [
           "Born to Make You Happy-Britney Spears",
           1999
          ],
          [
           "Break Up Bye Bye - Frock Destroyers Version-The Cast of RuPaul's Drag Race UK",
           2019
          ],
          [
           "Broken-Shefita",
           2017
          ],
          [
           "Cabaret-Liza Minnelli",
           1972
          ],
          [
           "Call Me - Original Version-Anna Vissi",
           2007
          ],
          [
           "Cambio Dolor-Natalia Oreiro",
           1998
          ],
          [
           "Ça va ça vient-Vitaa",
           2019
          ],
          [
           "Chameleon-Michela",
           2019
          ],
          [
           "Cheap Thrills-Sia",
           2016
          ],
          [
           "Chewing-Gum-Vendredi sur Mer",
           2019
          ],
          [
           "Cinderella - Yamim Tovim-Sexta",
           2016
          ],
          [
           "Climb Ev'ry Mountain-Peggy Wood",
           1964
          ],
          [
           "Colors of the Wind-Judy Kuhn",
           2012
          ],
          [
           "Come On Over (All I Want Is You)-Christina Aguilera",
           1999
          ],
          [
           "Crying for No Reason-Katy B",
           2014
          ],
          [
           "Dancing On My Own - Radio Edit-Robyn",
           2010
          ],
          [
           "Dernière danse-Indila",
           2014
          ],
          [
           "Dime-Beth",
           2003
          ],
          [
           "Diva - Original Hebrew Version-Dana International",
           1998
          ],
          [
           "Doctor Jones - Original Version-Aqua",
           1997
          ],
          [
           "Dog Days Are Over-Florence + The Machine",
           2009
          ],
          [
           "Don't Speak-No Doubt",
           1995
          ],
          [
           "Don't Start Now-Dua Lipa",
           2020
          ],
          [
           "Don't Start Now-Dua Lipa.1",
           2019
          ],
          [
           "Don't Turn Around-Ace of Base",
           1993
          ],
          [
           "Dynamite-Taio Cruz",
           2010
          ],
          [
           "Echo (You and I)-Anggun",
           2012
          ],
          [
           "Ein bisschen Frieden-Nicole",
           2009
          ],
          [
           "Eize Rikud-Hedva Amrani",
           2011
          ],
          [
           "Elastic Heart-Sia",
           2014
          ],
          [
           "Empire State of Mind (Part II) Broken Down-Alicia Keys",
           2009
          ],
          [
           "Eres Tú-Mocedades",
           1994
          ],
          [
           "Estoy Aquí-Shakira",
           1995
          ],
          [
           "Euphoria-Loreen",
           2012
          ],
          [
           "Ever Dream-Nightwish",
           2002
          ],
          [
           "Everytime We Touch - Radio Edit-Cascada",
           2011
          ],
          [
           "Every Way That I Can - Philippe Laurent from Galleon Radio Edit-Sertab Erener",
           2003
          ],
          [
           "Feel This Moment (feat. Christina Aguilera)-Pitbull",
           2012
          ],
          [
           "Flames-David Guetta",
           2018
          ],
          [
           "Forogj Világ!-Nox",
           2005
          ],
          [
           "Free-Dana International",
           1999
          ],
          [
           "Fuego-Eleni Foureira",
           2018
          ],
          [
           "Genie In a Bottle-Christina Aguilera",
           1999
          ],
          [
           "Get Me Bodied-Beyoncé",
           2006
          ],
          [
           "Gimme! Gimme! Gimme! (A Man After Midnight) - Offer Nissim Needs a Man Remix-Cher",
           2018
          ],
          [
           "GIRL LIKE ME-Black Eyed Peas",
           2020
          ],
          [
           "Give That-B. Ames",
           2019
          ],
          [
           "Going Under-Evanescence",
           2003
          ],
          [
           "Good as Hell-Lizzo",
           2016
          ],
          [
           "Good Night Europe-Offer Nissim",
           2017
          ],
          [
           "The Greatest (feat. Kendrick Lamar)-Sia",
           2016
          ],
          [
           "Gul l’Abi-Acid Arab",
           2016
          ],
          [
           "Habib galbi-A-WA",
           2015
          ],
          [
           "Hakol Beseder - Omri Smadar Remix-Yehudit Ravitz",
           2019
          ],
          [
           "Hana Mash Hu Al Yaman-A-WA",
           2019
          ],
          [
           "Hana Mash Hu Al Yaman-A-WA.1",
           2019
          ],
          [
           "Hard out Here-Lily Allen",
           2013
          ],
          [
           "Heaven Is a Place on Earth-Belinda Carlisle",
           2013
          ],
          [
           "Hey Mickey-Toni Basil",
           2020
          ],
          [
           "Hit the Road Jack-Ray Charles",
           2012
          ],
          [
           "Hot N Cold-Katy Perry",
           2008
          ],
          [
           "How Far I'll Go-Auli'i Cravalho",
           2016
          ],
          [
           "Hurt-Christina Aguilera",
           2006
          ],
          [
           "IDGAF-Dua Lipa",
           2017
          ],
          [
           "I'll Be Fine-Clairy Browne & The Bangin' Rackettes",
           2013
          ],
          [
           "I'm a Slave 4 U-Britney Spears",
           2001
          ],
          [
           "I'm Gonna Be (500 Miles)-The Proclaimers",
           1988
          ],
          [
           "I'm Outta Love-Anastacia",
           1999
          ],
          [
           "Independent Women, Pt. 1-Destiny's Child",
           2001
          ],
          [
           "Into the Unknown-Idina Menzel",
           2019
          ],
          [
           "Ironic-Alanis Morissette",
           1995
          ],
          [
           "Irreplaceable-Beyoncé",
           2007
          ],
          [
           "It's My Life-No Doubt",
           2019
          ],
          [
           "I Wanna Dance with Somebody (Who Loves Me)-Whitney Houston",
           1987
          ],
          [
           "I WILL SURVIVE-Gloria Gaynor",
           2010
          ],
          [
           "(I Would) Die For You-Antique",
           2007
          ],
          [
           "Je suis l'enfant soleil-Anne-Marie David",
           2005
          ],
          [
           "Je T’aime-Lara Fabian",
           1997
          ],
          [
           "Ze Rak Sport-Dafna Dekel",
           2017
          ],
          [
           "אהבה היא שיר לשניים-Ilanit",
           2013
          ],
          [
           "עוד נגיע-Yardena Arazi",
           1984
          ],
          [
           "עולה עולה-Izhar Cohan",
           1998
          ],
          [
           "עטוף ברחמים-Rita",
           1988
          ],
          [
           "עטור מצחך זהב שחור - ארץ ישראל הישנה והטובה חלק ג - רימאסטרינג-Arik Einstein",
           2018
          ],
          [
           "עין גדי-Yehudit Ravitz",
           1979
          ],
          [
           "על גבעות שיך אבריק - אדמה אדמתי-OFARIM",
           1972
          ],
          [
           "עליך ועליי-Sarit Hadad",
           2007
          ],
          [
           "עקרה (אורי)-Noa",
           2013
          ],
          [
           "ערב כחול עמוק-Rita",
           1994
          ],
          [
           "ערב שח-Shoshana Damari",
           2010
          ],
          [
           "'פאוץ-Noa Kirel",
           2019
          ],
          [
           "פגישה לאין קץ-Chava Alberstein",
           2016
          ],
          [
           "פנים אל מול פנים-Gidi Gov",
           1995
          ],
          [
           "פרח הלילך-Chava Alberstein",
           1975
          ],
          [
           "צא מזה - Live-Yehudit Ravitz",
           2008
          ],
          [
           "קולנוע (עומר מושקוביץ)-Omer Moskovich",
           2020
          ],
          [
           "קרן אור-Noa",
           1998
          ],
          [
           "רועה ורועה-Shoshana Damari",
           2010
          ],
          [
           "רוקדת-Ania Bukstein",
           2017
          ],
          [
           "רחבת הריקודים-Yehudit Ravitz",
           1987
          ],
          [
           "רחמים-Ofra Haza",
           2000
          ],
          [
           "רעידת אדמה-Yehudit Ravitz",
           1990
          ],
          [
           "שביל הבריחה-Rita",
           1986
          ],
          [
           "שבתות וחגים-Yehudit Ravitz",
           1994
          ],
          [
           "שחמט-Chava Alberstein",
           1990
          ],
          [
           "שטח ההפקר-Gidi Gov",
           1983
          ],
          [
           "שיבולת בשדה-Ran & Nama",
           1960
          ],
          [
           "שיר הפיפי-Gitit Fisher",
           2019
          ],
          [
           "שיר הפריחה - 1985 Version-Ofra Haza",
           1986
          ],
          [
           "שיר לאסף-Keren Peles",
           2010
          ],
          [
           "שיר משמר-Chava Alberstein",
           2016
          ],
          [
           "שיר של יום חולין-Ilanit",
           2009
          ],
          [
           "שרה ברחובות - גרסת האירוויזיון-Rita",
           2015
          ],
          [
           "שתו העדרים - מעמק לגבעה-OFARIM",
           1972
          ],
          [
           "תאמרו לו-Nasrin Kadri",
           2018
          ],
          [
           "תמונה-Yehudit Ravitz",
           1993
          ],
          [
           "תפילה - 1985 Version-Ofra Haza",
           2000
          ],
          [
           "תפתח חלון-Rita",
           1999
          ],
          [
           "תשאירי לי מקום לחבק אותך-Avtipus",
           1995
          ],
          [
           "メリッサ-PornoGraffitti",
           1999
          ],
          [
           "ילדות נשכחת-Nurit Galron",
           1983
          ],
          [
           "ים של געגוע-Yehudit Ravitz",
           2007
          ],
          [
           "יעלה ויבוא-Gidi Gov",
           1973
          ],
          [
           "יעקב-Laladin",
           1994
          ],
          [
           "ירושלים של זהב-Ofra Haza",
           2000
          ],
          [
           "יש אי שם-Noa",
           2011
          ],
          [
           "יש לי חולשה לרקדנים-Riki Gal",
           1993
          ],
          [
           "יש לי ציפור קטנה בלב-Noa Kirel",
           2019
          ],
          [
           "ישנן בנות-Dana International",
           1998
          ],
          [
           "כאן-Orna & Moshe Datz",
           1994
          ],
          [
           "כלניות-Shoshana Damari",
           2010
          ],
          [
           "כמה שאני יפה - 1985-Tzipi Shavit",
           1985
          ],
          [
           "כמו ים-Yehonatan Geffen",
           1978
          ],
          [
           "כמו סינדרלה-Sarit Hadad",
           1999
          ],
          [
           "כשאני איתך אני כמו דג-Teapacks",
           2003
          ],
          [
           "לא דיברנו עוד על אהבה-Gidi Gov",
           1995
          ],
          [
           "לאורך הים-Ofra Haza",
           2000
          ],
          [
           "לדמעות יש פה-Sarit Hadad",
           1999
          ],
          [
           "לו יהי-Chava Alberstein",
           1973
          ],
          [
           "לונדון-Chava Alberstein",
           1989
          ],
          [
           "לילה-Yehudit Ravitz",
           1979
          ],
          [
           "לילה טוב אירופה-Dana International",
           1998
          ],
          [
           "ליל חניה-Hanan Yovel",
           2006
          ],
          [
           "ללדין-Laladin",
           1994
          ],
          [
           "למה הלכת ממנו-Teapacks",
           2003
          ],
          [
           "למה ליבך כמו קרח-Gidi Gov",
           2003
          ],
          [
           "למחרת-Yehudit Ravitz",
           1993
          ],
          [
           "למי שאינו מאמין-Yehudit Ravitz",
           1984
          ],
          [
           "לעולם בעקבות השמש-שרי",
           2019
          ],
          [
           "לקחת את ידי בידך-Yehudit Ravitz",
           1979
          ],
          [
           "מגדלור-Shoshana Damari",
           2012
          ],
          [
           "מגדלור-Mika Karni",
           2004
          ],
          [
           "מה אתה רוצה-Ella Lee",
           2020
          ],
          [
           "מוסיקה נשארת-Yardena Arazi",
           1998
          ],
          [
           "מחרוזת שירי כפר-Ofra Haza",
           1985
          ],
          [
           "מחרוזת שירי רועים: א.שיר השומר, ב.רועה ורועה, ג.ערב שח, ד.שיר הכד, ה.דבקה רפיח-Ofra Haza",
           1983
          ],
          [
           "מידיד לאויב-Gitit Fisher",
           2019
          ],
          [
           "?מי המנטה? מי המסטיק? מי השוקולד-Shokolad Menta Mastik",
           2005
          ],
          [
           "מיטשל-Mika Karni",
           1997
          ],
          [
           "מי יודע מדוע ולמה לובשת הזברה פיג`מה-Mashina",
           1989
          ],
          [
           "מישהו-Yehudit Ravitz",
           1979
          ],
          [
           "מלכת השושנים-Eden Ben Zaken",
           2015
          ],
          [
           "מסקרה שחורה-Dikla",
           2016
          ],
          [
           "מפחד עלייך-Miri Mesika",
           2018
          ],
          [
           "מפחד עלייך - OFFER NISSIM REMIX-Miri Mesika",
           2018
          ],
          [
           "מקהלה עליזה-Chava Alberstein",
           1967
          ],
          [
           "מקהלה עליזה-Dana International",
           2020
          ],
          [
           "משירי ארץ אהבתי-Chava Alberstein",
           1970
          ],
          [
           "מתי לחזור-אתניקס",
           2011
          ],
          [
           "נגיעה אחת רכה-Nurit Galron",
           1984
          ],
          [
           "נוסעת לפטרה-Dana International",
           1998
          ],
          [
           "נח-Matti Caspi",
           1974
          ],
          [
           "ניצנים נראו בארץ-HaGevatron",
           1994
          ],
          [
           "נעמיד פני יתומים-Yehudit Ravitz",
           1993
          ],
          [
           "נשים רוקדות-Chava Alberstein",
           1975
          ],
          [
           "סיגליות-David Broza",
           1983
          ],
          [
           "סליחות-Yehudit Ravitz",
           1979
          ],
          [
           "סעידה סולטנה-Dana International",
           1998
          ]
         ],
         "hovertemplate": "0=%{x}<br>1=%{y}<br>index=%{customdata[0]}<br>release year=%{marker.color}<extra></extra>",
         "legendgroup": "",
         "marker": {
          "color": [
           1997,
           1993,
           1998,
           1987,
           2012,
           2006,
           1998,
           2006,
           1998,
           2019,
           2011,
           1987,
           2007,
           2012,
           2004,
           1989,
           1995,
           1984,
           1973,
           1988,
           2004,
           2010,
           2019,
           1994,
           2003,
           1990,
           1994,
           1998,
           1992,
           1999,
           1975,
           1992,
           1968,
           1997,
           2001,
           2015,
           1998,
           2017,
           1984,
           1965,
           2014,
           1971,
           2019,
           2018,
           2018,
           2015,
           2007,
           1972,
           2020,
           2017,
           1977,
           2020,
           2019,
           2002,
           1964,
           2004,
           1997,
           2005,
           2004,
           2014,
           2008,
           2005,
           1994,
           2009,
           2018,
           2009,
           1996,
           2020,
           2010,
           1992,
           2001,
           2017,
           2015,
           1998,
           2012,
           2006,
           2004,
           2004,
           2006,
           2016,
           1980,
           2009,
           2013,
           2010,
           2019,
           2019,
           1999,
           2020,
           1995,
           2009,
           2019,
           1995,
           2006,
           1989,
           2005,
           1993,
           2001,
           1988,
           1977,
           2003,
           1978,
           1981,
           1991,
           1972,
           1997,
           1984,
           1978,
           2005,
           2020,
           1988,
           1993,
           2000,
           2017,
           2008,
           1975,
           2020,
           1975,
           1975,
           1993,
           1986,
           2016,
           1988,
           1998,
           1995,
           2004,
           2011,
           2000,
           1978,
           1978,
           1998,
           1982,
           1999,
           1984,
           1993,
           1974,
           1981,
           1998,
           2002,
           1979,
           1999,
           1997,
           2017,
           2018,
           2007,
           1998,
           2018,
           2018,
           1996,
           2000,
           1986,
           2017,
           2001,
           1999,
           2019,
           2007,
           2019,
           2014,
           1997,
           2009,
           2019,
           2008,
           2014,
           2004,
           2005,
           1997,
           2012,
           1997,
           2019,
           2016,
           1998,
           2020,
           2019,
           2004,
           2011,
           1974,
           2010,
           1996,
           2016,
           2015,
           2011,
           2011,
           2018,
           2015,
           2019,
           2004,
           2014,
           2002,
           2006,
           1987,
           1998,
           2019,
           2018,
           2002,
           2008,
           2016,
           2000,
           1997,
           1997,
           2017,
           2006,
           2018,
           2016,
           2020,
           1968,
           2016,
           2020,
           2007,
           1999,
           2019,
           2001,
           2005,
           1973,
           1999,
           2008,
           1972,
           2020,
           2020,
           2014,
           2009,
           2016,
           2020,
           2008,
           1989,
           2006,
           2014,
           2009,
           2014,
           2018,
           2008,
           2014,
           2012,
           2012,
           1998,
           2011,
           2020,
           2001,
           2011,
           1999,
           2019,
           2017,
           1972,
           2007,
           1998,
           2019,
           2019,
           2016,
           2019,
           2016,
           1964,
           2012,
           1999,
           2014,
           2010,
           2014,
           2003,
           1998,
           1997,
           2009,
           1995,
           2020,
           2019,
           1993,
           2010,
           2012,
           2009,
           2011,
           2014,
           2009,
           1994,
           1995,
           2012,
           2002,
           2011,
           2003,
           2012,
           2018,
           2005,
           1999,
           2018,
           1999,
           2006,
           2018,
           2020,
           2019,
           2003,
           2016,
           2017,
           2016,
           2016,
           2015,
           2019,
           2019,
           2019,
           2013,
           2013,
           2020,
           2012,
           2008,
           2016,
           2006,
           2017,
           2013,
           2001,
           1988,
           1999,
           2001,
           2019,
           1995,
           2007,
           2019,
           1987,
           2010,
           2007,
           2005,
           1997,
           2017,
           2013,
           1984,
           1998,
           1988,
           2018,
           1979,
           1972,
           2007,
           2013,
           1994,
           2010,
           2019,
           2016,
           1995,
           1975,
           2008,
           2020,
           1998,
           2010,
           2017,
           1987,
           2000,
           1990,
           1986,
           1994,
           1990,
           1983,
           1960,
           2019,
           1986,
           2010,
           2016,
           2009,
           2015,
           1972,
           2018,
           1993,
           2000,
           1999,
           1995,
           1999,
           1983,
           2007,
           1973,
           1994,
           2000,
           2011,
           1993,
           2019,
           1998,
           1994,
           2010,
           1985,
           1978,
           1999,
           2003,
           1995,
           2000,
           1999,
           1973,
           1989,
           1979,
           1998,
           2006,
           1994,
           2003,
           2003,
           1993,
           1984,
           2019,
           1979,
           2012,
           2004,
           2020,
           1998,
           1985,
           1983,
           2019,
           2005,
           1997,
           1989,
           1979,
           2015,
           2016,
           2018,
           2018,
           1967,
           2020,
           1970,
           2011,
           1984,
           1998,
           1974,
           1994,
           1993,
           1975,
           1983,
           1979,
           1998
          ],
          "coloraxis": "coloraxis",
          "symbol": "circle"
         },
         "mode": "markers",
         "name": "",
         "orientation": "v",
         "showlegend": false,
         "type": "scatter",
         "x": [
          5.270519912625445,
          9.412215453298334,
          4.545078373222674,
          15.56011796163585,
          -9.683851080350852,
          -3.6316211703361745,
          4.123631838968907,
          -3.64774134854942,
          4.279940816717201,
          -16.881075857566437,
          -8.444616153782105,
          15.363243005952926,
          -4.82539487692766,
          -9.727474662832545,
          -1.8206167788971288,
          13.326790138919389,
          7.366582808294828,
          18.419593033907763,
          29.164313850530288,
          14.464227523881993,
          -1.7524733793431984,
          -7.627027157622246,
          -16.81068431559555,
          8.548834685090158,
          -0.7342890098979227,
          12.402377889028074,
          8.429268280007921,
          4.346867492320579,
          10.327691810093315,
          3.179775883761308,
          27.458284367151993,
          10.256388195466746,
          34.22997456416634,
          5.308060593628644,
          1.227339412516577,
          -12.844798897216048,
          4.206036363803989,
          -14.852412943750322,
          18.296833835555294,
          37.46871390082464,
          -11.722700649337995,
          31.500060723485888,
          -16.786298133396045,
          -15.694496447556949,
          -15.677996498357272,
          -12.76924039489579,
          -4.592086270296035,
          30.34504056664316,
          -17.786056286798456,
          -14.872375483501004,
          25.351465852394295,
          -17.761193537811447,
          -16.774631410086297,
          0.1663424360942755,
          38.35309934964199,
          -1.9105160239100891,
          5.50108602390385,
          -2.780468771355712,
          -1.8899772467957452,
          -11.62484959083744,
          -5.289551366967678,
          -2.7793221159755204,
          8.320167337355961,
          -6.855900748234181,
          -15.74796232186249,
          -6.80954072849197,
          6.17420168914636,
          -17.752993709212323,
          -7.826888244129039,
          10.309434342493326,
          1.1891068530936872,
          -14.800172439559894,
          -12.697738437303517,
          4.200541523060672,
          -9.848154473560626,
          -3.8442719410260673,
          -1.3392781127079714,
          -1.8721031707422433,
          -3.7724513052451205,
          -13.853402523108063,
          22.49485081981593,
          -6.653896185837383,
          -10.755868416256313,
          -7.860958247346729,
          -16.821504522849338,
          -16.56543501814021,
          3.1443832080912864,
          -17.527032011157083,
          7.237374200513953,
          -6.795142948822025,
          -16.25407224587749,
          7.247963303989052,
          -3.72194940235804,
          13.44375617407805,
          -2.7832994716487756,
          9.38081856327571,
          1.3021289319987317,
          14.509502098561217,
          25.156869049405124,
          -0.48073249371773247,
          24.539296377267615,
          21.31523465676784,
          11.48412834368558,
          30.615320877514804,
          5.09379057293265,
          18.26846610209373,
          24.599931443707064,
          -2.521127025887751,
          -17.688316342276856,
          14.427935181593757,
          9.264002664018822,
          2.1449917649343395,
          -14.76547304027944,
          -5.714000625217304,
          27.183421043683335,
          -17.66942690144236,
          27.335449958759703,
          27.469367593642936,
          9.495732160777242,
          16.388924106154082,
          -13.436343446149252,
          14.459049902515268,
          4.502517240328379,
          7.408061008154071,
          -1.7592477285413344,
          -8.782557479096461,
          2.3582105757375813,
          24.34134591584824,
          24.37119404264802,
          4.284143050310917,
          20.1505619083568,
          3.4747950597488186,
          18.26732502260206,
          9.296763352148592,
          28.31897905765544,
          21.278280582717468,
          4.200151183403518,
          0.32469130547847286,
          23.68370748620637,
          3.13893593158813,
          5.213179850119643,
          -14.707933945133133,
          -15.791879287667468,
          -4.838202566653951,
          4.155121703843126,
          -15.448300011147303,
          -15.70143435570738,
          6.279820349524569,
          2.1968295468939716,
          16.257115184377056,
          -14.648911543233423,
          1.1270922013360738,
          3.1497840577443705,
          -16.690575717900877,
          -4.769094702021441,
          -16.804355175502934,
          -11.63043507906794,
          5.644017591570579,
          -6.824104704308483,
          -16.738481300104937,
          -5.9418773682746355,
          -11.730376598946236,
          -1.5698465057180955,
          -2.7424132926570706,
          5.69333508160962,
          -9.700291526353993,
          5.253310637529694,
          -16.7726136823843,
          -13.714484469382615,
          4.300135124292758,
          -17.593189721529477,
          -16.789280165942163,
          -1.9017839106938743,
          -8.789055483323702,
          28.454276866762655,
          -7.820725976196804,
          6.213157852189285,
          -13.701468223442788,
          -12.699024227334451,
          -8.810227845382705,
          -8.829174450151099,
          -15.650588253670296,
          -12.848652280934772,
          -16.81155252475767,
          -1.827071997387832,
          -11.823277595007202,
          0.13579432751404824,
          -3.7518959176091013,
          15.284951801253975,
          4.346167436838559,
          -16.647531521344277,
          -15.799120596182746,
          0.49783282952553704,
          -5.73583645771023,
          -13.777314045514066,
          2.314433157006901,
          5.146984616362878,
          5.176699865456336,
          -14.834705935721793,
          -3.674269260007442,
          -15.782418090251095,
          -13.823059213822066,
          -17.820486934805334,
          34.29866923952346,
          -13.872669239531035,
          -17.806563189442663,
          -4.860928627586142,
          3.2955874718620137,
          -16.803445614999912,
          1.2541737514563909,
          -2.852008069812188,
          29.158934704108905,
          3.04468751061218,
          -5.842060789808156,
          30.23528228928169,
          -17.814052619386924,
          -17.821938466393014,
          -11.748685178383075,
          -6.787224448605516,
          -13.7580842715954,
          -17.76493547159814,
          -5.753546958251041,
          13.418816522907113,
          -3.8135016412181484,
          -11.79582700016198,
          -6.851220411160132,
          -11.69682564733533,
          -15.748681367691793,
          -5.822321378217004,
          -11.836447021424773,
          -9.753458023142022,
          -9.789447441746336,
          4.191823208425431,
          -8.786275840871683,
          -17.79944903548569,
          1.0951601720736968,
          -8.828044219593695,
          3.163787465253939,
          -16.82596800754383,
          -14.818914957133227,
          30.48508514650685,
          -4.780027460672986,
          4.24792344567947,
          -16.727340466855754,
          -16.778511301823674,
          -13.740104277379826,
          -16.725979497551542,
          -13.71075562771439,
          38.43928662988793,
          -9.422283799058022,
          3.15961754446196,
          -11.754731878956461,
          -7.794481335704439,
          -11.649453342705005,
          -0.7810536977351323,
          4.1028380408412115,
          5.194283026164223,
          -6.8130089255799815,
          7.2789971486587985,
          -17.82531478104306,
          -16.828495584006127,
          9.236541802834832,
          -7.857473867685907,
          -9.811994303651739,
          -6.673039735410438,
          -8.809836007548485,
          -11.798064391946008,
          -6.590472304839451,
          8.365798172793218,
          7.233730063561415,
          -9.764977845316896,
          0.21389219593771955,
          -8.826955669126159,
          -0.8590846434932329,
          -9.862625695288282,
          -15.783551942146094,
          -2.775648777402763,
          3.2751754967540947,
          -15.785175327749512,
          3.215016702820297,
          -3.8024410192980582,
          -15.828737785707078,
          -17.71714441006155,
          -16.849246074176662,
          -0.8516260750446294,
          -13.826956888993205,
          -14.476524120091193,
          -13.795070470244124,
          -13.74171035088487,
          -12.824748501005482,
          -16.765273677339213,
          -16.77463161609194,
          -16.77463161609194,
          -10.777804898116942,
          -10.709353813411985,
          -17.787748834688802,
          -9.54374490862148,
          -5.848872686273728,
          -13.464728437316523,
          -3.5954493102009812,
          -14.751655732924378,
          -10.76732669626174,
          1.1474580179817486,
          14.191905127242132,
          3.2189559619729025,
          1.2018701573475348,
          -16.53624523184992,
          7.295767361597982,
          -4.865692777303948,
          -16.788053697478528,
          15.257131348010128,
          -7.70143323623095,
          -4.870140391712814,
          -2.7469744997509404,
          5.365977899661778,
          -14.771314752150172,
          -10.63544958060025,
          18.29023924015102,
          4.287830958761265,
          14.463117397458683,
          -15.359305927434626,
          23.658613469351604,
          30.457928234440665,
          -4.751889364233008,
          -10.365673990086389,
          8.395733861194573,
          -7.512382880494621,
          -16.703934779860543,
          -13.443830221909124,
          7.434806238903848,
          27.48825739024312,
          -5.6063880047906824,
          -17.716823303335534,
          4.544573255075832,
          -7.484377668994205,
          -14.760714308506717,
          15.243545940108744,
          2.288003484965888,
          12.293800585113662,
          16.500389674642946,
          8.54369003314204,
          12.288546706872108,
          19.558673045019344,
          42.16917976078877,
          -16.748437654959616,
          16.33853238772614,
          -7.766107073098422,
          -13.624950841263605,
          -6.579190804587283,
          -12.660850671347479,
          30.38499295755912,
          -15.660743601585505,
          9.390555322293523,
          2.2577589638521642,
          3.292807372538826,
          7.4176011482708875,
          3.118679381850411,
          19.55117456014099,
          -4.669207849027883,
          29.209513398100118,
          8.226181720966219,
          2.3199667449516013,
          -8.39382411638504,
          9.299632000858882,
          -16.709844675179394,
          4.2084381290965265,
          8.308321973788177,
          -7.482229430501988,
          17.443147997778954,
          24.583110218177247,
          3.14879545879586,
          -0.8610821864444663,
          7.438983428259768,
          2.414810194818408,
          3.3409225120494472,
          29.397771758113826,
          13.492290893011917,
          23.663091189735013,
          4.1368903681901195,
          -3.7048575014348355,
          8.252292538477679,
          -0.7913989202401295,
          -0.6008319954190565,
          9.3968260271935,
          18.557378490045025,
          -16.549334515880265,
          23.531125389316188,
          -9.616762312599722,
          -1.7281067943459127,
          -17.715299021238256,
          4.22333948081068,
          17.34611201266462,
          19.33890340633933,
          -16.767972292958802,
          -2.621632500630887,
          5.459936064434203,
          13.294130905703454,
          23.44523438367473,
          -12.823825529230936,
          -13.736878562218573,
          -15.809563065951947,
          -15.706569803284662,
          35.259236049895776,
          -17.730499378340067,
          32.226342410943914,
          -8.841042400100655,
          18.485418621371164,
          4.261568245571468,
          28.18124771164513,
          8.552158256175325,
          9.396542403893916,
          27.25073234967527,
          19.36369940775784,
          23.558114394865694,
          4.269413366912751
         ],
         "xaxis": "x",
         "y": [
          -0.49560742803163255,
          1.5139740766671583,
          -2.233598542545109,
          -4.526329270771307,
          2.180951912658407,
          -1.8845831309822911,
          -2.8772688138403413,
          1.8451547588747785,
          0.22368169522840892,
          -1.2055206055688135,
          -3.2879826516275727,
          -0.45719964313429073,
          -1.445162503117035,
          1.0094859277373325,
          -1.1616683966327646,
          0.15868496963390785,
          -1.0876298607791148,
          -0.4614842077672167,
          -1.644107568664773,
          1.1850727548910454,
          -0.2230833697244181,
          -0.07704722272539523,
          1.759517710378113,
          5.945926959517751,
          -3.1195903573175365,
          3.7198898260370794,
          1.7620777537783836,
          -0.570647260376751,
          -0.8570804015509835,
          -1.6008855635047012,
          4.953200143098848,
          0.11442847711173842,
          -4.811680297991999,
          1.8898879956260808,
          -3.1333301800748106,
          -0.8796934589213656,
          1.1895175505282385,
          1.711197405911539,
          1.9697210750458396,
          3.9386904424388334,
          0.3330757142143241,
          1.8300573369851938,
          -2.5817955474087446,
          2.6358002882106524,
          -3.0107158462006995,
          5.234188950348976,
          4.949562637895221,
          1.9964657282131653,
          0.05286619327220956,
          -1.1331361925731585,
          -5.917602029235496,
          -0.002053325478342395,
          2.6616837769261563,
          -0.27936821305048465,
          0.3501821711807988,
          -5.073873355404258,
          2.0909841421332347,
          0.7932722197935076,
          0.4553153582270269,
          -0.9368520428063989,
          0.2175613577532607,
          -1.2082562732416489,
          -1.7835897641543605,
          0.8614831349888773,
          1.7879924398226947,
          -0.6940579061638521,
          0.8497772692509098,
          -0.6165986993313297,
          0.07959554139713013,
          -2.0237283075929353,
          1.1379120647746213,
          0.5125242453303187,
          -2.590419322256493,
          -0.5972167925752295,
          -1.3479103122808118,
          -1.8132015914384065,
          1.1342671550451209,
          -4.328769584843091,
          0.15236467487190794,
          0.03276133134639722,
          -4.0170323579049,
          -1.381724309725086,
          -1.2844532873214485,
          2.9698313585256004,
          1.9750396791167786,
          4.690892505900664,
          1.2149900853299598,
          2.8269316044629815,
          1.0680399801641582,
          1.5105783313563743,
          5.12159586452233,
          -1.8732411730294398,
          -0.9397938292870641,
          1.8477860370447345,
          3.0222832335379377,
          -1.2039350584676565,
          -2.48477062320748,
          0.06630380853091644,
          0.07577901079770712,
          4.136091076067088,
          1.3418717416789065,
          -0.5536858673478542,
          3.045072850601134,
          3.7885402088540503,
          -3.1161979781814586,
          -5.129492477808618,
          -0.7998638042151787,
          1.7500242998108195,
          -1.8673395207904566,
          0.36349502345511964,
          -1.5141245582425906,
          -0.8395749482287701,
          2.0524406037873515,
          -4.623054333785882,
          -2.053900082524821,
          0.21582867310614623,
          1.9052513942840381,
          0.6144719702637348,
          1.9685623156817742,
          2.140195399375431,
          1.7182762884420926,
          0.29909001206728203,
          -5.487690221503523,
          -1.343318056108016,
          -1.4093155992397606,
          1.0432710845291262,
          -2.558276784918889,
          -1.085162908349291,
          3.9969468872157554,
          -1.0158930073047,
          -3.2990643970345466,
          5.6732565173508815,
          3.084872493457043,
          -1.7924047876968403,
          3.2550502332940146,
          1.7087963409725986,
          -0.5335140455996215,
          -0.6085331568027815,
          -2.161269722355279,
          -4.624887168346756,
          1.9500966357849945,
          0.7775322994185205,
          -0.1483616680512839,
          2.8021321011654354,
          -1.1892438543056199,
          4.49520438448755,
          -2.0196883385242477,
          -1.0212875442261373,
          2.1374012318505837,
          -0.09066497768501237,
          3.0435861225442093,
          -0.9032014924391624,
          2.0884097199017817,
          0.7748203253398509,
          -0.5580789502501234,
          -0.37931365487973207,
          -6.261667121166125,
          3.1131147563921964,
          2.3049086226337168,
          0.1943754353808417,
          -2.585839963025326,
          -2.330402747993283,
          0.385199056710195,
          1.7147392392186807,
          4.113108222494419,
          0.11692187807492846,
          3.644927111572844,
          -0.46793746303810013,
          0.787751486416788,
          2.5545904549085803,
          3.1619649629260764,
          2.1648902038785454,
          1.6037557375126341,
          1.3409441609457011,
          -3.450296123352761,
          2.5191453430448973,
          1.0162366586571046,
          -3.486700152992003,
          -3.5031254532196994,
          0.838467746388429,
          0.6663546358445779,
          2.8665939461032064,
          -2.1395736219384682,
          -0.930976010533295,
          -0.8773966795221612,
          -0.5116379216875387,
          -2.827071627698068,
          2.7403618182967815,
          -0.7398034952739672,
          -1.1526813704963919,
          2.6915684219197167,
          1.2869566593977402,
          0.18040691954330781,
          -1.967892266219769,
          -1.0879267869566414,
          -1.6392590970429048,
          -0.2762994519291825,
          -0.5766857533965692,
          0.6374990829008188,
          -0.3792973881579215,
          -0.4755292739899297,
          -0.8702468954476883,
          2.5781977864019057,
          1.3682613300823956,
          2.1082541472070693,
          -4.74778839516218,
          1.753713567004876,
          -1.4350465647778539,
          -4.588082410429235,
          2.4420972513922927,
          1.3205300990556246,
          1.433751580242659,
          -4.415652966209533,
          -5.482334566228031,
          -4.168868128510647,
          -0.4016229169877441,
          0.76503112425133,
          -0.5746386070698163,
          1.75830963167098,
          1.9517650788725518,
          2.274711461504217,
          -4.421684992647599,
          0.21211232074494651,
          1.4903350120398942,
          -1.4813207225369625,
          -1.2835743078782318,
          -2.245854667847366,
          0.6366763660143598,
          -0.6866562019885684,
          -2.5951202038314922,
          -1.5390492622165963,
          -1.755327749868869,
          -1.471730848478511,
          1.8823736284628851,
          -0.3577898855503466,
          1.4541873209592022,
          -1.0786904938534396,
          3.230045579048402,
          -1.5812509496099707,
          1.865561729350458,
          1.365668637361763,
          -1.219377875926264,
          2.169508563926265,
          1.8226538174139186,
          2.371957980439466,
          3.1837844667428095,
          0.9079326902268164,
          -1.064700613308863,
          2.587972265875591,
          2.7843989273935277,
          -0.15532681269050186,
          1.0494891707347664,
          -0.2510521671028467,
          0.9632471335573011,
          -0.7917816068356642,
          -1.4824743025153109,
          -1.1294487649377052,
          -2.9853728327875944,
          4.474138265612085,
          -0.09509560136602266,
          -0.11044302921875389,
          2.1607317879361183,
          -0.1835228521700087,
          -1.3370041728443918,
          0.6969384866104873,
          -1.6791005460725688,
          -0.5525696471906535,
          3.5709630212388093,
          4.14294963020252,
          0.0035143962949738044,
          -0.8639642635450389,
          -3.3549632001236716,
          -1.863600264263389,
          2.4120076040763103,
          -1.4359686495155406,
          2.879352471987345,
          -1.763609996814067,
          -2.8990821770544146,
          1.8820192263893485,
          -4.98917935302083,
          2.272620135601757,
          -2.917939381810267,
          -0.03235366625846458,
          -0.9079023343598871,
          -5.011531757794325,
          3.10026527743722,
          -1.6396693966345928,
          -5.728111633954153,
          1.5655249153104838,
          2.1579852739531264,
          -0.4516371361842731,
          1.3637798692014802,
          1.3637798692014802,
          -0.3573597238703159,
          -0.5300844395811698,
          -3.0756485136048584,
          -2.787204300909459,
          -1.0845327409602068,
          5.591476069383409,
          -1.6756782609731067,
          2.5191211187086258,
          -5.576162260925634,
          0.5979454844096271,
          -1.0530416765947332,
          -0.24975910744137725,
          1.9747384719644288,
          -1.5520253713070253,
          3.487299962162224,
          -4.446637907639918,
          -0.679416532502649,
          -0.7684041644268036,
          0.4292603271542231,
          -0.5805124356995351,
          -2.29965510808749,
          1.1910779579755408,
          -0.41863286226778057,
          2.705553845296821,
          -1.0831441362019245,
          -0.33576274355133756,
          -0.40431991305052245,
          2.0134159656684942,
          -1.5216884670272652,
          -0.1019674409112161,
          -0.5286902565403097,
          4.196713367713346,
          0.46216582574859927,
          -0.21000740925162117,
          -1.155141840429181,
          2.0800189532656415,
          -2.495307275671058,
          3.016679842826029,
          -2.581165052334905,
          -3.071404261611598,
          -0.11051622196339765,
          9.172841754812529,
          -0.8335314694601088,
          -4.192858437947034,
          -4.878267033042535,
          2.5542049822064117,
          3.51051869211887,
          0.5174640459164916,
          -0.16066258574623005,
          3.471669081966988,
          -0.02344599641062379,
          -3.2635279446190353,
          0.5719722919750045,
          -0.8805269076602975,
          3.1262117138006555,
          3.439140753811149,
          3.453058302435933,
          -4.538747370008619,
          2.9402137850813137,
          -2.5385663178057696,
          -0.9446192836070907,
          -2.1420224465839426,
          -1.362272523591796,
          -5.491090130893453,
          0.5573981718248479,
          0.5370225915240656,
          -4.866636093091202,
          -1.5821811177784588,
          -3.423735609183236,
          0.623222114229148,
          -0.8056433320292246,
          0.4031384082458276,
          -0.6588381774178734,
          0.40438132971903945,
          0.579107682893288,
          -5.325857075986456,
          4.749988650955758,
          0.7137470163308165,
          2.1386956904852528,
          -0.4693807480860251,
          -0.8993262837908389,
          0.852884895783449,
          4.71969492178551,
          2.143734041457121,
          3.3394440212280116,
          -1.0526268711478766,
          -5.826456234976514,
          -0.7680417324595983,
          0.8971632481093871,
          -3.427349917222101,
          1.5028466070135869,
          -1.617922043842101,
          -1.56826265379581,
          4.245907965366961,
          2.8293682528040107,
          -0.2553492566837444,
          1.2144551488761093,
          -0.917898122611417,
          -1.3279357535822314,
          -2.502663766398594,
          -4.3933125470163885,
          -0.9884078420169898,
          3.535847713333814,
          -1.2375774909538333,
          -0.6474747171866169,
          -0.36368394155914857,
          1.5123936262570812,
          0.6802092846292949,
          -1.1305833878465474,
          0.548052446990882,
          -0.3470245729779232,
          1.5921424547303982,
          -0.12523999723086432,
          6.513135131426008,
          0.3204176676237774,
          -4.940480452574601,
          -0.5998291295755245,
          3.835204243327977,
          -0.5589000073486634,
          -1.3403163589994815,
          1.5686517377166387,
          -0.19455398396873627
         ],
         "yaxis": "y"
        }
       ],
       "layout": {
        "coloraxis": {
         "colorbar": {
          "title": {
           "text": "release year"
          }
         },
         "colorscale": [
          [
           0,
           "#0d0887"
          ],
          [
           0.1111111111111111,
           "#46039f"
          ],
          [
           0.2222222222222222,
           "#7201a8"
          ],
          [
           0.3333333333333333,
           "#9c179e"
          ],
          [
           0.4444444444444444,
           "#bd3786"
          ],
          [
           0.5555555555555556,
           "#d8576b"
          ],
          [
           0.6666666666666666,
           "#ed7953"
          ],
          [
           0.7777777777777778,
           "#fb9f3a"
          ],
          [
           0.8888888888888888,
           "#fdca26"
          ],
          [
           1,
           "#f0f921"
          ]
         ]
        },
        "legend": {
         "tracegroupgap": 0
        },
        "margin": {
         "t": 60
        },
        "template": {
         "data": {
          "bar": [
           {
            "error_x": {
             "color": "#2a3f5f"
            },
            "error_y": {
             "color": "#2a3f5f"
            },
            "marker": {
             "line": {
              "color": "#E5ECF6",
              "width": 0.5
             }
            },
            "type": "bar"
           }
          ],
          "barpolar": [
           {
            "marker": {
             "line": {
              "color": "#E5ECF6",
              "width": 0.5
             }
            },
            "type": "barpolar"
           }
          ],
          "carpet": [
           {
            "aaxis": {
             "endlinecolor": "#2a3f5f",
             "gridcolor": "white",
             "linecolor": "white",
             "minorgridcolor": "white",
             "startlinecolor": "#2a3f5f"
            },
            "baxis": {
             "endlinecolor": "#2a3f5f",
             "gridcolor": "white",
             "linecolor": "white",
             "minorgridcolor": "white",
             "startlinecolor": "#2a3f5f"
            },
            "type": "carpet"
           }
          ],
          "choropleth": [
           {
            "colorbar": {
             "outlinewidth": 0,
             "ticks": ""
            },
            "type": "choropleth"
           }
          ],
          "contour": [
           {
            "colorbar": {
             "outlinewidth": 0,
             "ticks": ""
            },
            "colorscale": [
             [
              0,
              "#0d0887"
             ],
             [
              0.1111111111111111,
              "#46039f"
             ],
             [
              0.2222222222222222,
              "#7201a8"
             ],
             [
              0.3333333333333333,
              "#9c179e"
             ],
             [
              0.4444444444444444,
              "#bd3786"
             ],
             [
              0.5555555555555556,
              "#d8576b"
             ],
             [
              0.6666666666666666,
              "#ed7953"
             ],
             [
              0.7777777777777778,
              "#fb9f3a"
             ],
             [
              0.8888888888888888,
              "#fdca26"
             ],
             [
              1,
              "#f0f921"
             ]
            ],
            "type": "contour"
           }
          ],
          "contourcarpet": [
           {
            "colorbar": {
             "outlinewidth": 0,
             "ticks": ""
            },
            "type": "contourcarpet"
           }
          ],
          "heatmap": [
           {
            "colorbar": {
             "outlinewidth": 0,
             "ticks": ""
            },
            "colorscale": [
             [
              0,
              "#0d0887"
             ],
             [
              0.1111111111111111,
              "#46039f"
             ],
             [
              0.2222222222222222,
              "#7201a8"
             ],
             [
              0.3333333333333333,
              "#9c179e"
             ],
             [
              0.4444444444444444,
              "#bd3786"
             ],
             [
              0.5555555555555556,
              "#d8576b"
             ],
             [
              0.6666666666666666,
              "#ed7953"
             ],
             [
              0.7777777777777778,
              "#fb9f3a"
             ],
             [
              0.8888888888888888,
              "#fdca26"
             ],
             [
              1,
              "#f0f921"
             ]
            ],
            "type": "heatmap"
           }
          ],
          "heatmapgl": [
           {
            "colorbar": {
             "outlinewidth": 0,
             "ticks": ""
            },
            "colorscale": [
             [
              0,
              "#0d0887"
             ],
             [
              0.1111111111111111,
              "#46039f"
             ],
             [
              0.2222222222222222,
              "#7201a8"
             ],
             [
              0.3333333333333333,
              "#9c179e"
             ],
             [
              0.4444444444444444,
              "#bd3786"
             ],
             [
              0.5555555555555556,
              "#d8576b"
             ],
             [
              0.6666666666666666,
              "#ed7953"
             ],
             [
              0.7777777777777778,
              "#fb9f3a"
             ],
             [
              0.8888888888888888,
              "#fdca26"
             ],
             [
              1,
              "#f0f921"
             ]
            ],
            "type": "heatmapgl"
           }
          ],
          "histogram": [
           {
            "marker": {
             "colorbar": {
              "outlinewidth": 0,
              "ticks": ""
             }
            },
            "type": "histogram"
           }
          ],
          "histogram2d": [
           {
            "colorbar": {
             "outlinewidth": 0,
             "ticks": ""
            },
            "colorscale": [
             [
              0,
              "#0d0887"
             ],
             [
              0.1111111111111111,
              "#46039f"
             ],
             [
              0.2222222222222222,
              "#7201a8"
             ],
             [
              0.3333333333333333,
              "#9c179e"
             ],
             [
              0.4444444444444444,
              "#bd3786"
             ],
             [
              0.5555555555555556,
              "#d8576b"
             ],
             [
              0.6666666666666666,
              "#ed7953"
             ],
             [
              0.7777777777777778,
              "#fb9f3a"
             ],
             [
              0.8888888888888888,
              "#fdca26"
             ],
             [
              1,
              "#f0f921"
             ]
            ],
            "type": "histogram2d"
           }
          ],
          "histogram2dcontour": [
           {
            "colorbar": {
             "outlinewidth": 0,
             "ticks": ""
            },
            "colorscale": [
             [
              0,
              "#0d0887"
             ],
             [
              0.1111111111111111,
              "#46039f"
             ],
             [
              0.2222222222222222,
              "#7201a8"
             ],
             [
              0.3333333333333333,
              "#9c179e"
             ],
             [
              0.4444444444444444,
              "#bd3786"
             ],
             [
              0.5555555555555556,
              "#d8576b"
             ],
             [
              0.6666666666666666,
              "#ed7953"
             ],
             [
              0.7777777777777778,
              "#fb9f3a"
             ],
             [
              0.8888888888888888,
              "#fdca26"
             ],
             [
              1,
              "#f0f921"
             ]
            ],
            "type": "histogram2dcontour"
           }
          ],
          "mesh3d": [
           {
            "colorbar": {
             "outlinewidth": 0,
             "ticks": ""
            },
            "type": "mesh3d"
           }
          ],
          "parcoords": [
           {
            "line": {
             "colorbar": {
              "outlinewidth": 0,
              "ticks": ""
             }
            },
            "type": "parcoords"
           }
          ],
          "pie": [
           {
            "automargin": true,
            "type": "pie"
           }
          ],
          "scatter": [
           {
            "marker": {
             "colorbar": {
              "outlinewidth": 0,
              "ticks": ""
             }
            },
            "type": "scatter"
           }
          ],
          "scatter3d": [
           {
            "line": {
             "colorbar": {
              "outlinewidth": 0,
              "ticks": ""
             }
            },
            "marker": {
             "colorbar": {
              "outlinewidth": 0,
              "ticks": ""
             }
            },
            "type": "scatter3d"
           }
          ],
          "scattercarpet": [
           {
            "marker": {
             "colorbar": {
              "outlinewidth": 0,
              "ticks": ""
             }
            },
            "type": "scattercarpet"
           }
          ],
          "scattergeo": [
           {
            "marker": {
             "colorbar": {
              "outlinewidth": 0,
              "ticks": ""
             }
            },
            "type": "scattergeo"
           }
          ],
          "scattergl": [
           {
            "marker": {
             "colorbar": {
              "outlinewidth": 0,
              "ticks": ""
             }
            },
            "type": "scattergl"
           }
          ],
          "scattermapbox": [
           {
            "marker": {
             "colorbar": {
              "outlinewidth": 0,
              "ticks": ""
             }
            },
            "type": "scattermapbox"
           }
          ],
          "scatterpolar": [
           {
            "marker": {
             "colorbar": {
              "outlinewidth": 0,
              "ticks": ""
             }
            },
            "type": "scatterpolar"
           }
          ],
          "scatterpolargl": [
           {
            "marker": {
             "colorbar": {
              "outlinewidth": 0,
              "ticks": ""
             }
            },
            "type": "scatterpolargl"
           }
          ],
          "scatterternary": [
           {
            "marker": {
             "colorbar": {
              "outlinewidth": 0,
              "ticks": ""
             }
            },
            "type": "scatterternary"
           }
          ],
          "surface": [
           {
            "colorbar": {
             "outlinewidth": 0,
             "ticks": ""
            },
            "colorscale": [
             [
              0,
              "#0d0887"
             ],
             [
              0.1111111111111111,
              "#46039f"
             ],
             [
              0.2222222222222222,
              "#7201a8"
             ],
             [
              0.3333333333333333,
              "#9c179e"
             ],
             [
              0.4444444444444444,
              "#bd3786"
             ],
             [
              0.5555555555555556,
              "#d8576b"
             ],
             [
              0.6666666666666666,
              "#ed7953"
             ],
             [
              0.7777777777777778,
              "#fb9f3a"
             ],
             [
              0.8888888888888888,
              "#fdca26"
             ],
             [
              1,
              "#f0f921"
             ]
            ],
            "type": "surface"
           }
          ],
          "table": [
           {
            "cells": {
             "fill": {
              "color": "#EBF0F8"
             },
             "line": {
              "color": "white"
             }
            },
            "header": {
             "fill": {
              "color": "#C8D4E3"
             },
             "line": {
              "color": "white"
             }
            },
            "type": "table"
           }
          ]
         },
         "layout": {
          "annotationdefaults": {
           "arrowcolor": "#2a3f5f",
           "arrowhead": 0,
           "arrowwidth": 1
          },
          "autotypenumbers": "strict",
          "coloraxis": {
           "colorbar": {
            "outlinewidth": 0,
            "ticks": ""
           }
          },
          "colorscale": {
           "diverging": [
            [
             0,
             "#8e0152"
            ],
            [
             0.1,
             "#c51b7d"
            ],
            [
             0.2,
             "#de77ae"
            ],
            [
             0.3,
             "#f1b6da"
            ],
            [
             0.4,
             "#fde0ef"
            ],
            [
             0.5,
             "#f7f7f7"
            ],
            [
             0.6,
             "#e6f5d0"
            ],
            [
             0.7,
             "#b8e186"
            ],
            [
             0.8,
             "#7fbc41"
            ],
            [
             0.9,
             "#4d9221"
            ],
            [
             1,
             "#276419"
            ]
           ],
           "sequential": [
            [
             0,
             "#0d0887"
            ],
            [
             0.1111111111111111,
             "#46039f"
            ],
            [
             0.2222222222222222,
             "#7201a8"
            ],
            [
             0.3333333333333333,
             "#9c179e"
            ],
            [
             0.4444444444444444,
             "#bd3786"
            ],
            [
             0.5555555555555556,
             "#d8576b"
            ],
            [
             0.6666666666666666,
             "#ed7953"
            ],
            [
             0.7777777777777778,
             "#fb9f3a"
            ],
            [
             0.8888888888888888,
             "#fdca26"
            ],
            [
             1,
             "#f0f921"
            ]
           ],
           "sequentialminus": [
            [
             0,
             "#0d0887"
            ],
            [
             0.1111111111111111,
             "#46039f"
            ],
            [
             0.2222222222222222,
             "#7201a8"
            ],
            [
             0.3333333333333333,
             "#9c179e"
            ],
            [
             0.4444444444444444,
             "#bd3786"
            ],
            [
             0.5555555555555556,
             "#d8576b"
            ],
            [
             0.6666666666666666,
             "#ed7953"
            ],
            [
             0.7777777777777778,
             "#fb9f3a"
            ],
            [
             0.8888888888888888,
             "#fdca26"
            ],
            [
             1,
             "#f0f921"
            ]
           ]
          },
          "colorway": [
           "#636efa",
           "#EF553B",
           "#00cc96",
           "#ab63fa",
           "#FFA15A",
           "#19d3f3",
           "#FF6692",
           "#B6E880",
           "#FF97FF",
           "#FECB52"
          ],
          "font": {
           "color": "#2a3f5f"
          },
          "geo": {
           "bgcolor": "white",
           "lakecolor": "white",
           "landcolor": "#E5ECF6",
           "showlakes": true,
           "showland": true,
           "subunitcolor": "white"
          },
          "hoverlabel": {
           "align": "left"
          },
          "hovermode": "closest",
          "mapbox": {
           "style": "light"
          },
          "paper_bgcolor": "white",
          "plot_bgcolor": "#E5ECF6",
          "polar": {
           "angularaxis": {
            "gridcolor": "white",
            "linecolor": "white",
            "ticks": ""
           },
           "bgcolor": "#E5ECF6",
           "radialaxis": {
            "gridcolor": "white",
            "linecolor": "white",
            "ticks": ""
           }
          },
          "scene": {
           "xaxis": {
            "backgroundcolor": "#E5ECF6",
            "gridcolor": "white",
            "gridwidth": 2,
            "linecolor": "white",
            "showbackground": true,
            "ticks": "",
            "zerolinecolor": "white"
           },
           "yaxis": {
            "backgroundcolor": "#E5ECF6",
            "gridcolor": "white",
            "gridwidth": 2,
            "linecolor": "white",
            "showbackground": true,
            "ticks": "",
            "zerolinecolor": "white"
           },
           "zaxis": {
            "backgroundcolor": "#E5ECF6",
            "gridcolor": "white",
            "gridwidth": 2,
            "linecolor": "white",
            "showbackground": true,
            "ticks": "",
            "zerolinecolor": "white"
           }
          },
          "shapedefaults": {
           "line": {
            "color": "#2a3f5f"
           }
          },
          "ternary": {
           "aaxis": {
            "gridcolor": "white",
            "linecolor": "white",
            "ticks": ""
           },
           "baxis": {
            "gridcolor": "white",
            "linecolor": "white",
            "ticks": ""
           },
           "bgcolor": "#E5ECF6",
           "caxis": {
            "gridcolor": "white",
            "linecolor": "white",
            "ticks": ""
           }
          },
          "title": {
           "x": 0.05
          },
          "xaxis": {
           "automargin": true,
           "gridcolor": "white",
           "linecolor": "white",
           "ticks": "",
           "title": {
            "standoff": 15
           },
           "zerolinecolor": "white",
           "zerolinewidth": 2
          },
          "yaxis": {
           "automargin": true,
           "gridcolor": "white",
           "linecolor": "white",
           "ticks": "",
           "title": {
            "standoff": 15
           },
           "zerolinecolor": "white",
           "zerolinewidth": 2
          }
         }
        },
        "xaxis": {
         "anchor": "y",
         "domain": [
          0,
          1
         ],
         "title": {
          "text": "PC 1 (0.9)"
         }
        },
        "yaxis": {
         "anchor": "x",
         "domain": [
          0,
          1
         ],
         "title": {
          "text": "PC 2 (0.03)"
         }
        }
       }
      },
      "text/html": [
       "<div>                            <div id=\"fa2bccbf-b835-4e3a-888c-0974eeb5522f\" class=\"plotly-graph-div\" style=\"height:525px; width:100%;\"></div>            <script type=\"text/javascript\">                require([\"plotly\"], function(Plotly) {                    window.PLOTLYENV=window.PLOTLYENV || {};                                    if (document.getElementById(\"fa2bccbf-b835-4e3a-888c-0974eeb5522f\")) {                    Plotly.newPlot(                        \"fa2bccbf-b835-4e3a-888c-0974eeb5522f\",                        [{\"customdata\": [[\"\\u05d4\\u05d0\\u05dd \\u05d4\\u05d0\\u05dd \\u05d4\\u05d0\\u05dd-Gidi Gov\", 1997.0], [\"\\u05d4\\u05d2\\u05e0\\u05e0\\u05d9\\u05dd \\u05d4\\u05d9\\u05d5\\u05dd \\u05e2\\u05e6\\u05d5\\u05d1\\u05d9\\u05dd-Yehudit Ravitz\", 1993.0], [\"\\u05d4\\u05d5\\u05d0-Noa\", 1998.0], [\"\\u05d4\\u05d5\\u05d0 \\u05d4\\u05d5\\u05dc\\u05da \\u05de\\u05de\\u05da-Yehudit Ravitz\", 1987.0], [\"\\u05d4\\u05d5\\u05dc\\u05db\\u05ea \\u05de\\u05de\\u05da-Sharon Haziz\", 2012.0], [\"\\u05d4\\u05d5\\u05e8\\u05d4 \\u05de\\u05de\\u05d8\\u05e8\\u05d4-Shoshana Damari\", 2006.0], [\"\\u05d4\\u05d9\\u05d0 \\u05d4\\u05d5\\u05dc\\u05db\\u05ea \\u05d1\\u05d3\\u05e8\\u05db\\u05d9\\u05dd-Kaveret\", 1998.0], [\"\\u05d4\\u05d9\\u05d0 \\u05d9\\u05d5\\u05d3\\u05e2\\u05ea-Ninet Tayeb\", 2006.0], [\"\\u05d4\\u05d9\\u05d0 \\u05e8\\u05d5\\u05e7\\u05d3\\u05ea-Yardena Arazi\", 1998.0], [\"\\u05d4\\u05d9\\u05d0 \\u05e8\\u05d5\\u05e7\\u05d3\\u05ea-Yardena Arazi.1\", 2019.0], [\"\\u05d4\\u05d9\\u05d5 \\u05dc\\u05d9\\u05dc\\u05d5\\u05ea-Noa\", 2011.0], [\"\\u05d4\\u05db\\u05d9\\u05e0\\u05d5\\u05e8 \\u05d4\\u05e0\\u05d0\\u05de\\u05df-Yardena Arazi\", 1987.0], [\"\\u05d4\\u05db\\u05dc \\u05d6\\u05d4 \\u05dc\\u05d8\\u05d5\\u05d1\\u05d4-Dana International\", 2007.0], [\"\\u05d4\\u05db\\u05dc \\u05e1\\u05d2\\u05d5\\u05e8-Sarit Hadad\", 2012.0], [\"\\u05d4\\u05dc\\u05d1-Maya Buskila\", 2004.0], [\"\\u05d4\\u05dc\\u05d9\\u05dc\\u05d4-Hakol Over Habibi\", 1989.0], [\"\\u05d4\\u05dc\\u05dc\\u05d5\\u05d9\\u05d4-\\u05d7\\u05dc\\u05d1 \\u05d5\\u05d3\\u05d1\\u05e9\", 1995.0], [\"\\u05d4\\u05dd \\u05d1\\u05d6\\u05de\\u05e8 \\u05d4\\u05d6\\u05d4-Matti Caspi\", 1984.0], [\"\\u05d4\\u05de\\u05d2\\u05e4\\u05d9\\u05d9\\u05dd \\u05e9\\u05dc \\u05d1\\u05e8\\u05d5\\u05da-Kaveret\", 1973.0], [\"\\u05d4\\u05e0\\u05e1\\u05d9\\u05db\\u05d4 \\u05d5\\u05d4\\u05e8\\u05d5\\u05d7-Rita\", 1988.0], [\"\\u05d4\\u05e9\\u05d9\\u05e8 \\u05d4\\u05d6\\u05d4-Sharona Pick\", 2004.0], [\"\\u05d5\\u05d0\\u05dc\\u05e1 \\u05dc\\u05d4\\u05d2\\u05e0\\u05ea \\u05d4\\u05e6\\u05d5\\u05de\\u05d7-Lehakat HaNachal\", 2010.0], [\"\\u05d5\\u05d3\\u05d5\\u05d3 \\u05d9\\u05e4\\u05d4 \\u05e2\\u05d9\\u05e0\\u05d9\\u05d9\\u05dd-A-WA\", 2019.0], [\"\\u05d5\\u05d9\\u05d3\\u05d5\\u05d9-Yehudit Ravitz\", 1994.0], [\"\\u05d5\\u05e0\\u05e6\\u05d5\\u05d0\\u05dc\\u05d4-Green Onion\", 2003.0], [\"\\u05d6\\u05d4 \\u05d4\\u05db\\u05dc \\u05d1\\u05e9\\u05d1\\u05d9\\u05dc\\u05da-Danny Sanderson\", 1990.0], [\"\\u05d6\\u05d5\\u05d3\\u05d9\\u05d0\\u05e7-Yaron Hadad\", 1994.0], [\"\\u05d6\\u05df \\u05e0\\u05d3\\u05d9\\u05e8-Yehudit Ravitz\", 1998.0], [\"\\u05d6\\u05df \\u05e0\\u05d3\\u05d9\\u05e8-Korin Allal\", 1992.0], [\"\\u05d7\\u05d1\\u05e8\\u05d9\\u05dd \\u05d1\\u05db\\u05dc \\u05de\\u05d9\\u05e0\\u05d9 \\u05e6\\u05d1\\u05e2\\u05d9\\u05dd-Sarit Hadad\", 1999.0], [\"\\u05d7\\u05d5\\u05e4\\u05d9\\u05dd \\u05d4\\u05dd \\u05dc\\u05e4\\u05e2\\u05de\\u05d9\\u05dd-Chava Alberstein\", 1975.0], [\"\\u05d7\\u05d6\\u05e7\\u05d4 \\u05de\\u05d4\\u05e8\\u05d5\\u05d7-Gali Atari\", 1992.0], [\"\\u05d7\\u05d9\\u05d5\\u05db\\u05d9\\u05dd-Chava Alberstein\", 1968.0], [\"\\u05d7\\u05d9\\u05d9\\u05da \\u05d5\\u05d7\\u05d9\\u05d9-Gidi Gov\", 1997.0], [\"\\u05d7\\u05d9\\u05d9\\u05dc \\u05e9\\u05dc 100 \\u05e9\\u05e2\\u05e8\\u05d9\\u05dd-Sheygets\", 2001.0], [\"\\u05d7\\u05d9\\u05db\\u05d9\\u05ea\\u05d9 \\u05dc\\u05d5-Sarit Hadad\", 2015.0], [\"\\u05d7\\u05de\\u05d9\\u05de\\u05d5\\u05ea \\u05d7\\u05d5\\u05dc\\u05e4\\u05ea-Dana Berger\", 1998.0], [\"\\u05d8\\u05d9\\u05e7\\u05d9\\u05d8\\u05d0\\u05e1-Noa Kirel\", 2017.0], [\"\\u05d9\\u05d7\\u05d9\\u05dc\\u05d5\\u05d9 \\u05d5\\u05d9\\u05d7\\u05dc\\u05d9-Ofra Haza\", 1984.0], [\"Maria-Evadne Baker\", 1965.0], [\"Marija Magdalena-Doris Dragovi\\u0107\", 2014.0], [\"Matchmaker-John Williams\", 1971.0], [\"Material Girl-\\u05d4\\u05db\\u05d5\\u05db\\u05d1 \\u05d4\\u05d1\\u05d0\", 2019.0], [\"Mercy-Madame Monsieur\", 2018.0], [\"A Million Dreams-P!nk\", 2018.0], [\"A Million Voices-Polina Gagarina\", 2015.0], [\"Molitva - Serbian Version-Marija \\u0160erifovi\\u0107\", 2007.0], [\"Money Money-Joel Grey\", 1972.0], [\"Mood Ring (By Demand) - Pride Remix-Britney Spears\", 2020.0], [\"Move Your Body - Single Mix-Sia\", 2017.0], [\"Mr. Blue Sky-Electric Light Orchestra\", 1977.0], [\"Mucho Bien-MR.BLACK\", 2020.0], [\"Mudbira-A-WA\", 2019.0], [\"Murder On The Dancefloor-Sophie Ellis-Bextor\", 2002.0], [\"My Favorite Things-Julie Andrews\", 1964.0], [\"My Happy Ending-Avril Lavigne\", 2004.0], [\"My Heart Will Go On - Love Theme from \\\"Titanic\\\"-C\\u00e9line Dion\", 1997.0], [\"My Number One-Helena Paparizou\", 2005.0], [\"My Prerogative-Britney Spears\", 2004.0], [\"Neka Mi Ne Svane-Danijela Martinovic\", 2014.0], [\"Nel Blu Dipinto Di Blu-Domenico Modugno\", 2008.0], [\"Nemo-Nightwish\", 2005.0], [\"Ne partez pas sans moi (Grand prix de L'Eurovision 1988)-C\\u00e9line Dion\", 1994.0], [\"Vay Halime-Candan Er\\u00e7etin\", 2009.0], [\"Viens on s\\u2019aime-Slimane\", 2018.0], [\"Vogue-Madonna\", 2009.0], [\"Wannabe-Spice Girls\", 1996.0], [\"WAP (feat. Megan Thee Stallion)-Cardi B\", 2020.0], [\"We R Who We R-Kesha\", 2010.0], [\"What's Up?-4 Non Blondes\", 1992.0], [\"Whenever, Wherever-Shakira\", 2001.0], [\"When We're High-LP\", 2017.0], [\"When We Were Young-Adele\", 2015.0], [\"When You're Gone-Bryan Adams\", 1998.0], [\"Where Have You Been-Sarit Hadad\", 2012.0], [\"Who Knew-P!nk\", 2006.0], [\"A Whole New World-Lea Salonga\", 2004.0], [\"Wild Dances-Ruslana\", 2004.0], [\"Wind It Up-Gwen Stefani\", 2006.0], [\"Wings-Delta Goodrem\", 2016.0], [\"Woman in Love-Barbra Streisand\", 1980.0], [\"Womanizer - Acoustic-Lily Allen\", 2009.0], [\"Work Bitch-Britney Spears\", 2013.0], [\"Written in the Stars (feat. Eric Turner)-Tinie Tempah\", 2010.0], [\"Ya Watani-A-WA\", 2019.0], [\"Yonc\\u00e9 - Homecoming Live-Beyonc\\u00e9\", 2019.0], [\"(You Drive Me) Crazy-Britney Spears\", 1999.0], [\"You Oughta Know-Alanis Morissette\", 2020.0], [\"You Oughta Know - 2015 Remaster-Alanis Morissette\", 1995.0], [\"You've Got The Love-Florence + The Machine\", 2009.0], [\"\\u05d0\\u05d2\\u05d3\\u05ea \\u05d3\\u05e9\\u05d0-Gidi Gov\", 2019.0], [\"\\u05d0\\u05d2\\u05d3\\u05ea \\u05d4\\u05e9\\u05de\\u05e9 \\u05d5\\u05d4\\u05d9\\u05e8\\u05d7-Ethnix\", 1995.0], [\"\\u05d0\\u05d3\\u05d5\\u05e0\\u05d9-Roni Duani\", 2006.0], [\"\\u05d0\\u05d3\\u05d5\\u05df \\u05e9\\u05d5\\u05e7\\u05d5-Arik Einstein\", 1989.0], [\"\\u05d0\\u05d4\\u05d1\\u05d4 \\u05e7\\u05d8\\u05e0\\u05d4-Shiri Maimon\", 2005.0], [\"\\u05d0\\u05d5\\u05d4\\u05d1 \\u05dc\\u05d4\\u05d9\\u05d5\\u05ea \\u05d1\\u05d1\\u05d9\\u05ea-Arik Einstein\", 1993.0], [\"\\u05d0\\u05d5\\u05d4\\u05d1\\u05ea \\u05dc\\u05d0 \\u05d0\\u05d5\\u05d4\\u05d1\\u05ea-Arkadi Duchin\", 2001.0], [\"\\u05d0\\u05d5\\u05e8-Shoshana Damari\", 1988.0], [\"\\u05d0\\u05d5\\u05ea\\u05da-Ilana Avital\", 1977.0], [\"\\u05d0\\u05d7\\u05dc\\u05d4 \\u05e2\\u05d5\\u05dc\\u05dd-Gidi Gov\", 2003.0], [\"\\u05d0\\u05d9\\u05da \\u05e9\\u05d9\\u05e8 \\u05e0\\u05d5\\u05dc\\u05d3-Yehonatan Geffen\", 1978.0], [\"\\u05d0\\u05d9\\u05df \\u05dc\\u05d9 \\u05e8\\u05d2\\u05e2 \\u05d3\\u05dc-Rivka Michaeli\", 1981.0], [\"\\u05d0\\u05d9\\u05df \\u05e2\\u05d5\\u05d3 \\u05d9\\u05d5\\u05dd-Gidi Gov\", 1991.0], [\"\\u05d0\\u05d9 \\u05e9\\u05dd-Ilanit\", 1972.0], [\"\\u05d0\\u05d9\\u05ea\\u05d5 \\u05dc\\u05e0\\u05e6\\u05d7-Kerach Tesha\", 1997.0], [\"\\u05d0\\u05dd \\u05e0\\u05e0\\u05e2\\u05dc\\u05d5-Ofra Haza\", 1984.0], [\"\\u05d0\\u05e0\\u05d9 \\u05d0\\u05d5\\u05d4\\u05d1-Yehonatan Geffen\", 1978.0], [\"\\u05d0\\u05e0\\u05d9 \\u05d0\\u05e9\\u05ea\\u05d2\\u05e2-Nurit Galron\", 2005.0], [\"\\u05d0\\u05e0\\u05d9 \\u05d7\\u05d5\\u05dc\\u05dd \\u05e2\\u05dc \\u05e0\\u05e2\\u05de\\u05d9-Hedva Amrani\", 2020.0], [\"\\u05d0\\u05e0\\u05d9 \\u05d7\\u05d9\\u05d4 \\u05dc\\u05d9 \\u05de\\u05d9\\u05d5\\u05dd \\u05dc\\u05d9\\u05d5\\u05dd-Rita\", 1988.0], [\"\\u05d0\\u05e0\\u05d9 \\u05de\\u05e9\\u05dd-Yehudit Ravitz\", 1993.0], [\"\\u05d0\\u05e0\\u05d9 \\u05e9\\u05d8\\u05d4-Zehava Ben\", 2000.0], [\"\\u05d0\\u05e6\\u05dc \\u05d4\\u05d3\\u05d5\\u05d3\\u05d4 \\u05d5\\u05d4\\u05d3\\u05d5\\u05d3-Noa Kirel\", 2017.0], [\"\\u05d0\\u05e8\\u05e5 \\u05d8\\u05e8\\u05d5\\u05e4\\u05d9\\u05ea \\u05d9\\u05e4\\u05d4 / \\u05d1\\u05d5\\u05d0 \\u05dc\\u05e8\\u05d9\\u05d5 - Live-Yehudit Ravitz\", 2008.0], [\"\\u05d0\\u05ea \\u05d5\\u05d0\\u05e0\\u05d9-Shlomo Artzi\", 1975.0], [\"\\u05d0\\u05ea \\u05d7\\u05d9\\u05e8\\u05d5\\u05ea\\u05d9-Berry Sakharof\", 2020.0], [\"\\u05d0\\u05ea \\u05d7\\u05e8\\u05d5\\u05ea\\u05d9-Chava Alberstein\", 1975.0], [\"\\u05d0\\u05ea \\u05ea\\u05dc\\u05db\\u05d9 \\u05d1\\u05e9\\u05d3\\u05d4-Chava Alberstein\", 1975.0], [\"\\u05d1\\u05d0\\u05d4\\u05d1\\u05ea\\u05e0\\u05d5-Yehudit Ravitz\", 1993.0], [\"\\u05d1\\u05d2\\u05d9\\u05d3\\u05d4-Rita\", 1986.0], [\"\\u05d1\\u05d2\\u05dc\\u05dc \\u05d4\\u05dc\\u05d9\\u05dc\\u05d4-Chava Alberstein\", 2016.0], [\"\\u05d1\\u05d5\\u05d0-Rita\", 1988.0], [\"\\u05d1\\u05d5\\u05d0\\u05d9 \\u05db\\u05dc\\u05d4-Noa\", 1998.0], [\"\\u05d1\\u05d5\\u05e7\\u05e8 \\u05d8\\u05d5\\u05d1 \\u05e2\\u05d5\\u05dc\\u05dd-Avtipus\", 1995.0], [\"\\u05d1\\u05d7\\u05d5\\u05dd \\u05e9\\u05dc \\u05ea\\u05dc \\u05d0\\u05d1\\u05d9\\u05d1-Sarit Hadad\", 2004.0], [\"\\u05d1\\u05d9 \\u05d2\\u05d0\\u05e8\\u05d0\\u05e8 (\\u05d7\\u05e1\\u05e8 \\u05e9\\u05e7\\u05d8)-Rita\", 2011.0], [\"\\u05d1\\u05da \\u05dc\\u05d0 \\u05e0\\u05d5\\u05d2\\u05e2-Yehudit Ravitz\", 2000.0], [\"\\u05d1\\u05dc\\u05d9\\u05dc\\u05d5\\u05ea \\u05d4\\u05e7\\u05d9\\u05e5 \\u05d4\\u05d7\\u05de\\u05d9\\u05dd-Matti Caspi\", 1978.0], [\"\\u05d1\\u05dc\\u05e2\\u05d3\\u05d9\\u05d9\\u05da-Gidi Gov\", 1978.0], [\"\\u05d1\\u05df \\u05d0\\u05d3\\u05dd-Yardena Arazi\", 1998.0], [\"\\u05d2\\u05d1\\u05e8\\u05d9\\u05d0\\u05dc-Ofra Haza\", 1982.0], [\"\\u05d2\\u05d9\\u05d8\\u05e8\\u05d4 \\u05d5\\u05db\\u05d9\\u05e0\\u05d5\\u05e8-Arik Einstein\", 1999.0], [\"\\u05d2\\u05dc\\u05d1\\u05d9-Ofra Haza\", 1984.0], [\"\\u05d2'\\u05e1\\u05d9\\u05e7\\u05d4-Ethnix\", 1993.0], [\"\\u05d2\\u05e9\\u05dd \\u05d1\\u05e2\\u05d9\\u05ea\\u05d5-Ruthi Navon\", 1974.0], [\"\\u05d3\\u05d1\\u05e7\\u05d4 \\u05e8\\u05e4\\u05d9\\u05d7 - Bonus-Yehudit Ravitz\", 1981.0], [\"\\u05d3\\u05d5\\u05df \\u05e7\\u05d9\\u05d7\\u05d5\\u05d8\\u05d4-Dana International\", 1998.0], [\"\\u05d3\\u05d5\\u05df \\u05e7\\u05d9\\u05d7\\u05d5\\u05d8\\u05d4-Shiri Maimon\", 2002.0], [\"\\u05d3\\u05de\\u05e2\\u05d5\\u05ea \\u05e9\\u05dc \\u05de\\u05dc\\u05d0\\u05db\\u05d9\\u05dd-Yehudit Ravitz\", 1979.0], [\"Never Be The Same Again-Melanie C\", 1999.0], [\"Nobody's Wife-Anouk\", 1997.0], [\"No Roots-Alice Merton\", 2017.0], [\"no tears left to cry-Ariana Grande\", 2018.0], [\"Oh My God (feat. Lily Allen)-Mark Ronson\", 2007.0], [\"Ojos As\\u00ed-Shakira\", 1998.0], [\"One of Us-Cher\", 2018.0], [\"Oniro Mou-Yianna Terzi\", 2018.0], [\"Ooh Aah...Just a Little Bit - Motiv8 Radio Edit-Gina G\", 1996.0], [\"Oops!...I Did It Again-Britney Spears\", 2000.0], [\"Open Your Heart-Madonna\", 1986.0], [\"Ora Na Gyriseis-Malu\", 2017.0], [\"Over The Hills And Far Away-Nightwish\", 2001.0], [\"Paid My Dues-Anastacia\", 1999.0], [\"A Pal\\u00e9 - Gesaffelstein Remix-Gesaffelstein\", 2019.0], [\"Parle \\u00e0 ma main (feat. Yelle et Christelle)-Fatal Bazooka\", 2007.0], [\"Parle \\u00e0 ta t\\u00eate-Indila\", 2019.0], [\"Partition-Beyonc\\u00e9\", 2014.0], [\"Part of Your World - From \\\"The Little Mermaid\\\" / Soundtrack Version-Jodi Benson\", 1997.0], [\"Party In The U.S.A.-Miley Cyrus\", 2009.0], [\"Pas eu le temps-Patrick Bruel\", 2019.0], [\"Petra - Offer Nissim 08' Reconstruction-Dana International\", 2008.0], [\"Petra - Offer Nissim Reconstruction Mix-Dana International\", 2014.0], [\"The Phantom Of the Opera-Andrew Lloyd Webber\", 2004.0], [\"Pon de Replay-Rihanna\", 2005.0], [\"Poor Unfortunate Souls - From \\\"The Little Mermaid\\\" / Soundtrack Version-Pat Carroll\", 1997.0], [\"Qu\\u00e9 Hiciste-Jennifer Lopez\", 2012.0], [\"Que Nadie Sepa Mi Sufrir-Soledad\", 1997.0], [\"\\u00bfQui\\u00e9n te has cre\\u00eddo que soy?-Fangoria\", 2019.0], [\"Read U Wrote U (Ellis Miah Mix) [feat. The Cast of RuPaul's Drag Race All Stars, Season 2]-RuPaul\", 2016.0], [\"Reflection-Christina Aguilera\", 1998.0], [\"Reflection (2020) - From \\\"Mulan\\\"-Christina Aguilera\", 2020.0], [\"Replay-Tamta\", 2019.0], [\"Rich Girl-Gwen Stefani\", 2004.0], [\"Rolling in the Deep-Adele\", 2011.0], [\"Sa Leat-Arik Einstein\", 1974.0], [\"Satellite-Lena\", 2010.0], [\"Say You'll Be There-Spice Girls\", 1996.0], [\"Send My Love (To Your New Lover)-Adele\", 2016.0], [\"Send My Love (To Your New Lover)-Adele.1\", 2015.0], [\"Set Fire to the Rain-Adele\", 2011.0], [\"Shake It Out-Florence + The Machine\", 2011.0], [\"Shallow-Lady Gaga\", 2018.0], [\"Ship To Wreck-Florence + The Machine\", 2015.0], [\"Shufuni-Sarit Hadad\", 2019.0], [\"Since U Been Gone-Kelly Clarkson\", 2004.0], [\"Sissy That Walk-RuPaul\", 2014.0], [\"Sk8er Boi-Avril Lavigne\", 2002.0], [\"Smile-Lily Allen\", 2006.0], [\"So Emotional-Whitney Houston\", 1987.0], [\"Sokratis-Elpida\", 1998.0], [\"Soldi-Mahmood\", 2019.0], [\"Solo (feat. Demi Lovato)-Clean Bandit\", 2018.0], [\"Something to Sing About-Original Cast of Buffy The Vampire Slayer\", 2002.0], [\"Soon We'll Be Found-Sia\", 2008.0], [\"Sound of Silence-Dami Im\", 2016.0], [\"Sous le vent-Garou\", 2000.0], [\"Spice Up Your Life-Spice Girls\", 1997.0], [\"Stop-Spice Girls\", 1997.0], [\"Sto Theo Me Paei-Eleni Foureira\", 2017.0], [\"Superstar - Turkish Version-Sibel T\\u00fcz\\u00fcn\", 2006.0], [\"Sweet but Psycho-Ava Max\", 2018.0], [\"Tears (feat. Louisa Johnson)-Clean Bandit\", 2016.0], [\"Temperatura-Eleni Foureira\", 2020.0], [\"Think-Aretha Franklin\", 1968.0], [\"Ti Koitas-Eleni Foureira\", 2016.0], [\"Together-Sia\", 2020.0], [\"Torn-Natalie Imbruglia\", 2007.0], [\"Total Eclipse of the Heart-Bonnie Tyler\", 1999.0], [\"Tous Eipes Pos-Malu\", 2019.0], [\"Tren Del Cielo-Soledad\", 2001.0], [\"Tren Del Cielo-Soledad.1\", 2005.0], [\"Tu te reconnaitras-Anne-Marie David\", 1973.0], [\"Tu Veneno-Natalia Oreiro\", 1999.0], [\"Umbrella-Rihanna\", 2008.0], [\"Une belle histoire-Michel Fugain & Le Big Bazar\", 1972.0], [\"1000 Doves-Lady Gaga\", 2020.0], [\"911-Lady Gaga\", 2020.0], [\"Ainsi bas la vida-Indila\", 2014.0], [\"Alejandro-Lady Gaga\", 2009.0], [\"Alive-Sia\", 2016.0], [\"All of My Love - Radio edit-Destiny\", 2020.0], [\"Alone-C\\u00e9line Dion\", 2008.0], [\"Always Look On The Bright Side Of Life-Monty Python\", 1989.0], [\"Amies ennemies-N\\u00e2diya\", 2006.0], [\"Anaconda-Nicki Minaj\", 2014.0], [\"Around The World-Aqua\", 2009.0], [\"Baby Can I Hold You-Red Band\", 2014.0], [\"Baby (feat. MARINA & Luis Fonsi)-Clean Bandit\", 2018.0], [\"Bamakom Hachi Namooch Be'e Tel Aviv (At the Lowest Place in Tel Aviv)-Dana International\", 2008.0], [\"Bang Bang-Jessie J\", 2014.0], [\"Because of You-Kelly Clarkson\", 2012.0], [\"Beegharar - Offer Nissim Club Remix-Rita\", 2012.0], [\"Believe-Cher\", 1998.0], [\"Best Thing I Never Had-Beyonc\\u00e9\", 2011.0], [\"BLACK PARADE-Beyonc\\u00e9\", 2020.0], [\"Bootylicious-Destiny's Child\", 2001.0], [\"Born This Way-Lady Gaga\", 2011.0], [\"Born to Make You Happy-Britney Spears\", 1999.0], [\"Break Up Bye Bye - Frock Destroyers Version-The Cast of RuPaul's Drag Race UK\", 2019.0], [\"Broken-Shefita\", 2017.0], [\"Cabaret-Liza Minnelli\", 1972.0], [\"Call Me - Original Version-Anna Vissi\", 2007.0], [\"Cambio Dolor-Natalia Oreiro\", 1998.0], [\"\\u00c7a va \\u00e7a vient-Vitaa\", 2019.0], [\"Chameleon-Michela\", 2019.0], [\"Cheap Thrills-Sia\", 2016.0], [\"Chewing-Gum-Vendredi sur Mer\", 2019.0], [\"Cinderella - Yamim Tovim-Sexta\", 2016.0], [\"Climb Ev'ry Mountain-Peggy Wood\", 1964.0], [\"Colors of the Wind-Judy Kuhn\", 2012.0], [\"Come On Over (All I Want Is You)-Christina Aguilera\", 1999.0], [\"Crying for No Reason-Katy B\", 2014.0], [\"Dancing On My Own - Radio Edit-Robyn\", 2010.0], [\"Derni\\u00e8re danse-Indila\", 2014.0], [\"Dime-Beth\", 2003.0], [\"Diva - Original Hebrew Version-Dana International\", 1998.0], [\"Doctor Jones - Original Version-Aqua\", 1997.0], [\"Dog Days Are Over-Florence + The Machine\", 2009.0], [\"Don't Speak-No Doubt\", 1995.0], [\"Don't Start Now-Dua Lipa\", 2020.0], [\"Don't Start Now-Dua Lipa.1\", 2019.0], [\"Don't Turn Around-Ace of Base\", 1993.0], [\"Dynamite-Taio Cruz\", 2010.0], [\"Echo (You and I)-Anggun\", 2012.0], [\"Ein bisschen Frieden-Nicole\", 2009.0], [\"Eize Rikud-Hedva Amrani\", 2011.0], [\"Elastic Heart-Sia\", 2014.0], [\"Empire State of Mind (Part II) Broken Down-Alicia Keys\", 2009.0], [\"Eres T\\u00fa-Mocedades\", 1994.0], [\"Estoy Aqu\\u00ed-Shakira\", 1995.0], [\"Euphoria-Loreen\", 2012.0], [\"Ever Dream-Nightwish\", 2002.0], [\"Everytime We Touch - Radio Edit-Cascada\", 2011.0], [\"Every Way That I Can - Philippe Laurent from Galleon Radio Edit-Sertab Erener\", 2003.0], [\"Feel This Moment (feat. Christina Aguilera)-Pitbull\", 2012.0], [\"Flames-David Guetta\", 2018.0], [\"Forogj Vil\\u00e1g!-Nox\", 2005.0], [\"Free-Dana International\", 1999.0], [\"Fuego-Eleni Foureira\", 2018.0], [\"Genie In a Bottle-Christina Aguilera\", 1999.0], [\"Get Me Bodied-Beyonc\\u00e9\", 2006.0], [\"Gimme! Gimme! Gimme! (A Man After Midnight) - Offer Nissim Needs a Man Remix-Cher\", 2018.0], [\"GIRL LIKE ME-Black Eyed Peas\", 2020.0], [\"Give That-B. Ames\", 2019.0], [\"Going Under-Evanescence\", 2003.0], [\"Good as Hell-Lizzo\", 2016.0], [\"Good Night Europe-Offer Nissim\", 2017.0], [\"The Greatest (feat. Kendrick Lamar)-Sia\", 2016.0], [\"Gul l\\u2019Abi-Acid Arab\", 2016.0], [\"Habib galbi-A-WA\", 2015.0], [\"Hakol Beseder - Omri Smadar Remix-Yehudit Ravitz\", 2019.0], [\"Hana Mash Hu Al Yaman-A-WA\", 2019.0], [\"Hana Mash Hu Al Yaman-A-WA.1\", 2019.0], [\"Hard out Here-Lily Allen\", 2013.0], [\"Heaven Is a Place on Earth-Belinda Carlisle\", 2013.0], [\"Hey Mickey-Toni Basil\", 2020.0], [\"Hit the Road Jack-Ray Charles\", 2012.0], [\"Hot N Cold-Katy Perry\", 2008.0], [\"How Far I'll Go-Auli'i Cravalho\", 2016.0], [\"Hurt-Christina Aguilera\", 2006.0], [\"IDGAF-Dua Lipa\", 2017.0], [\"I'll Be Fine-Clairy Browne & The Bangin' Rackettes\", 2013.0], [\"I'm a Slave 4 U-Britney Spears\", 2001.0], [\"I'm Gonna Be (500 Miles)-The Proclaimers\", 1988.0], [\"I'm Outta Love-Anastacia\", 1999.0], [\"Independent Women, Pt. 1-Destiny's Child\", 2001.0], [\"Into the Unknown-Idina Menzel\", 2019.0], [\"Ironic-Alanis Morissette\", 1995.0], [\"Irreplaceable-Beyonc\\u00e9\", 2007.0], [\"It's My Life-No Doubt\", 2019.0], [\"I Wanna Dance with Somebody (Who Loves Me)-Whitney Houston\", 1987.0], [\"I WILL SURVIVE-Gloria Gaynor\", 2010.0], [\"(I Would) Die For You-Antique\", 2007.0], [\"Je suis l'enfant soleil-Anne-Marie David\", 2005.0], [\"Je T\\u2019aime-Lara Fabian\", 1997.0], [\"Ze Rak Sport-Dafna Dekel\", 2017.0], [\"\\u05d0\\u05d4\\u05d1\\u05d4 \\u05d4\\u05d9\\u05d0 \\u05e9\\u05d9\\u05e8 \\u05dc\\u05e9\\u05e0\\u05d9\\u05d9\\u05dd-Ilanit\", 2013.0], [\"\\u05e2\\u05d5\\u05d3 \\u05e0\\u05d2\\u05d9\\u05e2-Yardena Arazi\", 1984.0], [\"\\u05e2\\u05d5\\u05dc\\u05d4 \\u05e2\\u05d5\\u05dc\\u05d4-Izhar Cohan\", 1998.0], [\"\\u05e2\\u05d8\\u05d5\\u05e3 \\u05d1\\u05e8\\u05d7\\u05de\\u05d9\\u05dd-Rita\", 1988.0], [\"\\u05e2\\u05d8\\u05d5\\u05e8 \\u05de\\u05e6\\u05d7\\u05da \\u05d6\\u05d4\\u05d1 \\u05e9\\u05d7\\u05d5\\u05e8 - \\u05d0\\u05e8\\u05e5 \\u05d9\\u05e9\\u05e8\\u05d0\\u05dc \\u05d4\\u05d9\\u05e9\\u05e0\\u05d4 \\u05d5\\u05d4\\u05d8\\u05d5\\u05d1\\u05d4 \\u05d7\\u05dc\\u05e7 \\u05d2 - \\u05e8\\u05d9\\u05de\\u05d0\\u05e1\\u05d8\\u05e8\\u05d9\\u05e0\\u05d2-Arik Einstein\", 2018.0], [\"\\u05e2\\u05d9\\u05df \\u05d2\\u05d3\\u05d9-Yehudit Ravitz\", 1979.0], [\"\\u05e2\\u05dc \\u05d2\\u05d1\\u05e2\\u05d5\\u05ea \\u05e9\\u05d9\\u05da \\u05d0\\u05d1\\u05e8\\u05d9\\u05e7 - \\u05d0\\u05d3\\u05de\\u05d4 \\u05d0\\u05d3\\u05de\\u05ea\\u05d9-OFARIM\", 1972.0], [\"\\u05e2\\u05dc\\u05d9\\u05da \\u05d5\\u05e2\\u05dc\\u05d9\\u05d9-Sarit Hadad\", 2007.0], [\"\\u05e2\\u05e7\\u05e8\\u05d4 (\\u05d0\\u05d5\\u05e8\\u05d9)-Noa\", 2013.0], [\"\\u05e2\\u05e8\\u05d1 \\u05db\\u05d7\\u05d5\\u05dc \\u05e2\\u05de\\u05d5\\u05e7-Rita\", 1994.0], [\"\\u05e2\\u05e8\\u05d1 \\u05e9\\u05d7-Shoshana Damari\", 2010.0], [\"'\\u05e4\\u05d0\\u05d5\\u05e5-Noa Kirel\", 2019.0], [\"\\u05e4\\u05d2\\u05d9\\u05e9\\u05d4 \\u05dc\\u05d0\\u05d9\\u05df \\u05e7\\u05e5-Chava Alberstein\", 2016.0], [\"\\u05e4\\u05e0\\u05d9\\u05dd \\u05d0\\u05dc \\u05de\\u05d5\\u05dc \\u05e4\\u05e0\\u05d9\\u05dd-Gidi Gov\", 1995.0], [\"\\u05e4\\u05e8\\u05d7 \\u05d4\\u05dc\\u05d9\\u05dc\\u05da-Chava Alberstein\", 1975.0], [\"\\u05e6\\u05d0 \\u05de\\u05d6\\u05d4 - Live-Yehudit Ravitz\", 2008.0], [\"\\u05e7\\u05d5\\u05dc\\u05e0\\u05d5\\u05e2 (\\u05e2\\u05d5\\u05de\\u05e8 \\u05de\\u05d5\\u05e9\\u05e7\\u05d5\\u05d1\\u05d9\\u05e5)-Omer Moskovich\", 2020.0], [\"\\u05e7\\u05e8\\u05df \\u05d0\\u05d5\\u05e8-Noa\", 1998.0], [\"\\u05e8\\u05d5\\u05e2\\u05d4 \\u05d5\\u05e8\\u05d5\\u05e2\\u05d4-Shoshana Damari\", 2010.0], [\"\\u05e8\\u05d5\\u05e7\\u05d3\\u05ea-Ania Bukstein\", 2017.0], [\"\\u05e8\\u05d7\\u05d1\\u05ea \\u05d4\\u05e8\\u05d9\\u05e7\\u05d5\\u05d3\\u05d9\\u05dd-Yehudit Ravitz\", 1987.0], [\"\\u05e8\\u05d7\\u05de\\u05d9\\u05dd-Ofra Haza\", 2000.0], [\"\\u05e8\\u05e2\\u05d9\\u05d3\\u05ea \\u05d0\\u05d3\\u05de\\u05d4-Yehudit Ravitz\", 1990.0], [\"\\u05e9\\u05d1\\u05d9\\u05dc \\u05d4\\u05d1\\u05e8\\u05d9\\u05d7\\u05d4-Rita\", 1986.0], [\"\\u05e9\\u05d1\\u05ea\\u05d5\\u05ea \\u05d5\\u05d7\\u05d2\\u05d9\\u05dd-Yehudit Ravitz\", 1994.0], [\"\\u05e9\\u05d7\\u05de\\u05d8-Chava Alberstein\", 1990.0], [\"\\u05e9\\u05d8\\u05d7 \\u05d4\\u05d4\\u05e4\\u05e7\\u05e8-Gidi Gov\", 1983.0], [\"\\u05e9\\u05d9\\u05d1\\u05d5\\u05dc\\u05ea \\u05d1\\u05e9\\u05d3\\u05d4-Ran & Nama\", 1960.0], [\"\\u05e9\\u05d9\\u05e8 \\u05d4\\u05e4\\u05d9\\u05e4\\u05d9-Gitit Fisher\", 2019.0], [\"\\u05e9\\u05d9\\u05e8 \\u05d4\\u05e4\\u05e8\\u05d9\\u05d7\\u05d4 - 1985 Version-Ofra Haza\", 1986.0], [\"\\u05e9\\u05d9\\u05e8 \\u05dc\\u05d0\\u05e1\\u05e3-Keren Peles\", 2010.0], [\"\\u05e9\\u05d9\\u05e8 \\u05de\\u05e9\\u05de\\u05e8-Chava Alberstein\", 2016.0], [\"\\u05e9\\u05d9\\u05e8 \\u05e9\\u05dc \\u05d9\\u05d5\\u05dd \\u05d7\\u05d5\\u05dc\\u05d9\\u05df-Ilanit\", 2009.0], [\"\\u05e9\\u05e8\\u05d4 \\u05d1\\u05e8\\u05d7\\u05d5\\u05d1\\u05d5\\u05ea - \\u05d2\\u05e8\\u05e1\\u05ea \\u05d4\\u05d0\\u05d9\\u05e8\\u05d5\\u05d5\\u05d9\\u05d6\\u05d9\\u05d5\\u05df-Rita\", 2015.0], [\"\\u05e9\\u05ea\\u05d5 \\u05d4\\u05e2\\u05d3\\u05e8\\u05d9\\u05dd - \\u05de\\u05e2\\u05de\\u05e7 \\u05dc\\u05d2\\u05d1\\u05e2\\u05d4-OFARIM\", 1972.0], [\"\\u05ea\\u05d0\\u05de\\u05e8\\u05d5 \\u05dc\\u05d5-Nasrin Kadri\", 2018.0], [\"\\u05ea\\u05de\\u05d5\\u05e0\\u05d4-Yehudit Ravitz\", 1993.0], [\"\\u05ea\\u05e4\\u05d9\\u05dc\\u05d4 - 1985 Version-Ofra Haza\", 2000.0], [\"\\u05ea\\u05e4\\u05ea\\u05d7 \\u05d7\\u05dc\\u05d5\\u05df-Rita\", 1999.0], [\"\\u05ea\\u05e9\\u05d0\\u05d9\\u05e8\\u05d9 \\u05dc\\u05d9 \\u05de\\u05e7\\u05d5\\u05dd \\u05dc\\u05d7\\u05d1\\u05e7 \\u05d0\\u05d5\\u05ea\\u05da-Avtipus\", 1995.0], [\"\\u30e1\\u30ea\\u30c3\\u30b5-PornoGraffitti\", 1999.0], [\"\\u05d9\\u05dc\\u05d3\\u05d5\\u05ea \\u05e0\\u05e9\\u05db\\u05d7\\u05ea-Nurit Galron\", 1983.0], [\"\\u05d9\\u05dd \\u05e9\\u05dc \\u05d2\\u05e2\\u05d2\\u05d5\\u05e2-Yehudit Ravitz\", 2007.0], [\"\\u05d9\\u05e2\\u05dc\\u05d4 \\u05d5\\u05d9\\u05d1\\u05d5\\u05d0-Gidi Gov\", 1973.0], [\"\\u05d9\\u05e2\\u05e7\\u05d1-Laladin\", 1994.0], [\"\\u05d9\\u05e8\\u05d5\\u05e9\\u05dc\\u05d9\\u05dd \\u05e9\\u05dc \\u05d6\\u05d4\\u05d1-Ofra Haza\", 2000.0], [\"\\u05d9\\u05e9 \\u05d0\\u05d9 \\u05e9\\u05dd-Noa\", 2011.0], [\"\\u05d9\\u05e9 \\u05dc\\u05d9 \\u05d7\\u05d5\\u05dc\\u05e9\\u05d4 \\u05dc\\u05e8\\u05e7\\u05d3\\u05e0\\u05d9\\u05dd-Riki Gal\", 1993.0], [\"\\u05d9\\u05e9 \\u05dc\\u05d9 \\u05e6\\u05d9\\u05e4\\u05d5\\u05e8 \\u05e7\\u05d8\\u05e0\\u05d4 \\u05d1\\u05dc\\u05d1-Noa Kirel\", 2019.0], [\"\\u05d9\\u05e9\\u05e0\\u05df \\u05d1\\u05e0\\u05d5\\u05ea-Dana International\", 1998.0], [\"\\u05db\\u05d0\\u05df-Orna & Moshe Datz\", 1994.0], [\"\\u05db\\u05dc\\u05e0\\u05d9\\u05d5\\u05ea-Shoshana Damari\", 2010.0], [\"\\u05db\\u05de\\u05d4 \\u05e9\\u05d0\\u05e0\\u05d9 \\u05d9\\u05e4\\u05d4 - 1985-Tzipi Shavit\", 1985.0], [\"\\u05db\\u05de\\u05d5 \\u05d9\\u05dd-Yehonatan Geffen\", 1978.0], [\"\\u05db\\u05de\\u05d5 \\u05e1\\u05d9\\u05e0\\u05d3\\u05e8\\u05dc\\u05d4-Sarit Hadad\", 1999.0], [\"\\u05db\\u05e9\\u05d0\\u05e0\\u05d9 \\u05d0\\u05d9\\u05ea\\u05da \\u05d0\\u05e0\\u05d9 \\u05db\\u05de\\u05d5 \\u05d3\\u05d2-Teapacks\", 2003.0], [\"\\u05dc\\u05d0 \\u05d3\\u05d9\\u05d1\\u05e8\\u05e0\\u05d5 \\u05e2\\u05d5\\u05d3 \\u05e2\\u05dc \\u05d0\\u05d4\\u05d1\\u05d4-Gidi Gov\", 1995.0], [\"\\u05dc\\u05d0\\u05d5\\u05e8\\u05da \\u05d4\\u05d9\\u05dd-Ofra Haza\", 2000.0], [\"\\u05dc\\u05d3\\u05de\\u05e2\\u05d5\\u05ea \\u05d9\\u05e9 \\u05e4\\u05d4-Sarit Hadad\", 1999.0], [\"\\u05dc\\u05d5 \\u05d9\\u05d4\\u05d9-Chava Alberstein\", 1973.0], [\"\\u05dc\\u05d5\\u05e0\\u05d3\\u05d5\\u05df-Chava Alberstein\", 1989.0], [\"\\u05dc\\u05d9\\u05dc\\u05d4-Yehudit Ravitz\", 1979.0], [\"\\u05dc\\u05d9\\u05dc\\u05d4 \\u05d8\\u05d5\\u05d1 \\u05d0\\u05d9\\u05e8\\u05d5\\u05e4\\u05d4-Dana International\", 1998.0], [\"\\u05dc\\u05d9\\u05dc \\u05d7\\u05e0\\u05d9\\u05d4-Hanan Yovel\", 2006.0], [\"\\u05dc\\u05dc\\u05d3\\u05d9\\u05df-Laladin\", 1994.0], [\"\\u05dc\\u05de\\u05d4 \\u05d4\\u05dc\\u05db\\u05ea \\u05de\\u05de\\u05e0\\u05d5-Teapacks\", 2003.0], [\"\\u05dc\\u05de\\u05d4 \\u05dc\\u05d9\\u05d1\\u05da \\u05db\\u05de\\u05d5 \\u05e7\\u05e8\\u05d7-Gidi Gov\", 2003.0], [\"\\u05dc\\u05de\\u05d7\\u05e8\\u05ea-Yehudit Ravitz\", 1993.0], [\"\\u05dc\\u05de\\u05d9 \\u05e9\\u05d0\\u05d9\\u05e0\\u05d5 \\u05de\\u05d0\\u05de\\u05d9\\u05df-Yehudit Ravitz\", 1984.0], [\"\\u05dc\\u05e2\\u05d5\\u05dc\\u05dd \\u05d1\\u05e2\\u05e7\\u05d1\\u05d5\\u05ea \\u05d4\\u05e9\\u05de\\u05e9-\\u05e9\\u05e8\\u05d9\", 2019.0], [\"\\u05dc\\u05e7\\u05d7\\u05ea \\u05d0\\u05ea \\u05d9\\u05d3\\u05d9 \\u05d1\\u05d9\\u05d3\\u05da-Yehudit Ravitz\", 1979.0], [\"\\u05de\\u05d2\\u05d3\\u05dc\\u05d5\\u05e8-Shoshana Damari\", 2012.0], [\"\\u05de\\u05d2\\u05d3\\u05dc\\u05d5\\u05e8-Mika Karni\", 2004.0], [\"\\u05de\\u05d4 \\u05d0\\u05ea\\u05d4 \\u05e8\\u05d5\\u05e6\\u05d4-Ella Lee\", 2020.0], [\"\\u05de\\u05d5\\u05e1\\u05d9\\u05e7\\u05d4 \\u05e0\\u05e9\\u05d0\\u05e8\\u05ea-Yardena Arazi\", 1998.0], [\"\\u05de\\u05d7\\u05e8\\u05d5\\u05d6\\u05ea \\u05e9\\u05d9\\u05e8\\u05d9 \\u05db\\u05e4\\u05e8-Ofra Haza\", 1985.0], [\"\\u05de\\u05d7\\u05e8\\u05d5\\u05d6\\u05ea \\u05e9\\u05d9\\u05e8\\u05d9 \\u05e8\\u05d5\\u05e2\\u05d9\\u05dd: \\u05d0.\\u05e9\\u05d9\\u05e8 \\u05d4\\u05e9\\u05d5\\u05de\\u05e8, \\u05d1.\\u05e8\\u05d5\\u05e2\\u05d4 \\u05d5\\u05e8\\u05d5\\u05e2\\u05d4, \\u05d2.\\u05e2\\u05e8\\u05d1 \\u05e9\\u05d7, \\u05d3.\\u05e9\\u05d9\\u05e8 \\u05d4\\u05db\\u05d3, \\u05d4.\\u05d3\\u05d1\\u05e7\\u05d4 \\u05e8\\u05e4\\u05d9\\u05d7-Ofra Haza\", 1983.0], [\"\\u05de\\u05d9\\u05d3\\u05d9\\u05d3 \\u05dc\\u05d0\\u05d5\\u05d9\\u05d1-Gitit Fisher\", 2019.0], [\"?\\u05de\\u05d9 \\u05d4\\u05de\\u05e0\\u05d8\\u05d4? \\u05de\\u05d9 \\u05d4\\u05de\\u05e1\\u05d8\\u05d9\\u05e7? \\u05de\\u05d9 \\u05d4\\u05e9\\u05d5\\u05e7\\u05d5\\u05dc\\u05d3-Shokolad Menta Mastik\", 2005.0], [\"\\u05de\\u05d9\\u05d8\\u05e9\\u05dc-Mika Karni\", 1997.0], [\"\\u05de\\u05d9 \\u05d9\\u05d5\\u05d3\\u05e2 \\u05de\\u05d3\\u05d5\\u05e2 \\u05d5\\u05dc\\u05de\\u05d4 \\u05dc\\u05d5\\u05d1\\u05e9\\u05ea \\u05d4\\u05d6\\u05d1\\u05e8\\u05d4 \\u05e4\\u05d9\\u05d2`\\u05de\\u05d4-Mashina\", 1989.0], [\"\\u05de\\u05d9\\u05e9\\u05d4\\u05d5-Yehudit Ravitz\", 1979.0], [\"\\u05de\\u05dc\\u05db\\u05ea \\u05d4\\u05e9\\u05d5\\u05e9\\u05e0\\u05d9\\u05dd-Eden Ben Zaken\", 2015.0], [\"\\u05de\\u05e1\\u05e7\\u05e8\\u05d4 \\u05e9\\u05d7\\u05d5\\u05e8\\u05d4-Dikla\", 2016.0], [\"\\u05de\\u05e4\\u05d7\\u05d3 \\u05e2\\u05dc\\u05d9\\u05d9\\u05da-Miri Mesika\", 2018.0], [\"\\u05de\\u05e4\\u05d7\\u05d3 \\u05e2\\u05dc\\u05d9\\u05d9\\u05da - OFFER NISSIM REMIX-Miri Mesika\", 2018.0], [\"\\u05de\\u05e7\\u05d4\\u05dc\\u05d4 \\u05e2\\u05dc\\u05d9\\u05d6\\u05d4-Chava Alberstein\", 1967.0], [\"\\u05de\\u05e7\\u05d4\\u05dc\\u05d4 \\u05e2\\u05dc\\u05d9\\u05d6\\u05d4-Dana International\", 2020.0], [\"\\u05de\\u05e9\\u05d9\\u05e8\\u05d9 \\u05d0\\u05e8\\u05e5 \\u05d0\\u05d4\\u05d1\\u05ea\\u05d9-Chava Alberstein\", 1970.0], [\"\\u05de\\u05ea\\u05d9 \\u05dc\\u05d7\\u05d6\\u05d5\\u05e8-\\u05d0\\u05ea\\u05e0\\u05d9\\u05e7\\u05e1\", 2011.0], [\"\\u05e0\\u05d2\\u05d9\\u05e2\\u05d4 \\u05d0\\u05d7\\u05ea \\u05e8\\u05db\\u05d4-Nurit Galron\", 1984.0], [\"\\u05e0\\u05d5\\u05e1\\u05e2\\u05ea \\u05dc\\u05e4\\u05d8\\u05e8\\u05d4-Dana International\", 1998.0], [\"\\u05e0\\u05d7-Matti Caspi\", 1974.0], [\"\\u05e0\\u05d9\\u05e6\\u05e0\\u05d9\\u05dd \\u05e0\\u05e8\\u05d0\\u05d5 \\u05d1\\u05d0\\u05e8\\u05e5-HaGevatron\", 1994.0], [\"\\u05e0\\u05e2\\u05de\\u05d9\\u05d3 \\u05e4\\u05e0\\u05d9 \\u05d9\\u05ea\\u05d5\\u05de\\u05d9\\u05dd-Yehudit Ravitz\", 1993.0], [\"\\u05e0\\u05e9\\u05d9\\u05dd \\u05e8\\u05d5\\u05e7\\u05d3\\u05d5\\u05ea-Chava Alberstein\", 1975.0], [\"\\u05e1\\u05d9\\u05d2\\u05dc\\u05d9\\u05d5\\u05ea-David Broza\", 1983.0], [\"\\u05e1\\u05dc\\u05d9\\u05d7\\u05d5\\u05ea-Yehudit Ravitz\", 1979.0], [\"\\u05e1\\u05e2\\u05d9\\u05d3\\u05d4 \\u05e1\\u05d5\\u05dc\\u05d8\\u05e0\\u05d4-Dana International\", 1998.0]], \"hovertemplate\": \"0=%{x}<br>1=%{y}<br>index=%{customdata[0]}<br>release year=%{marker.color}<extra></extra>\", \"legendgroup\": \"\", \"marker\": {\"color\": [1997.0, 1993.0, 1998.0, 1987.0, 2012.0, 2006.0, 1998.0, 2006.0, 1998.0, 2019.0, 2011.0, 1987.0, 2007.0, 2012.0, 2004.0, 1989.0, 1995.0, 1984.0, 1973.0, 1988.0, 2004.0, 2010.0, 2019.0, 1994.0, 2003.0, 1990.0, 1994.0, 1998.0, 1992.0, 1999.0, 1975.0, 1992.0, 1968.0, 1997.0, 2001.0, 2015.0, 1998.0, 2017.0, 1984.0, 1965.0, 2014.0, 1971.0, 2019.0, 2018.0, 2018.0, 2015.0, 2007.0, 1972.0, 2020.0, 2017.0, 1977.0, 2020.0, 2019.0, 2002.0, 1964.0, 2004.0, 1997.0, 2005.0, 2004.0, 2014.0, 2008.0, 2005.0, 1994.0, 2009.0, 2018.0, 2009.0, 1996.0, 2020.0, 2010.0, 1992.0, 2001.0, 2017.0, 2015.0, 1998.0, 2012.0, 2006.0, 2004.0, 2004.0, 2006.0, 2016.0, 1980.0, 2009.0, 2013.0, 2010.0, 2019.0, 2019.0, 1999.0, 2020.0, 1995.0, 2009.0, 2019.0, 1995.0, 2006.0, 1989.0, 2005.0, 1993.0, 2001.0, 1988.0, 1977.0, 2003.0, 1978.0, 1981.0, 1991.0, 1972.0, 1997.0, 1984.0, 1978.0, 2005.0, 2020.0, 1988.0, 1993.0, 2000.0, 2017.0, 2008.0, 1975.0, 2020.0, 1975.0, 1975.0, 1993.0, 1986.0, 2016.0, 1988.0, 1998.0, 1995.0, 2004.0, 2011.0, 2000.0, 1978.0, 1978.0, 1998.0, 1982.0, 1999.0, 1984.0, 1993.0, 1974.0, 1981.0, 1998.0, 2002.0, 1979.0, 1999.0, 1997.0, 2017.0, 2018.0, 2007.0, 1998.0, 2018.0, 2018.0, 1996.0, 2000.0, 1986.0, 2017.0, 2001.0, 1999.0, 2019.0, 2007.0, 2019.0, 2014.0, 1997.0, 2009.0, 2019.0, 2008.0, 2014.0, 2004.0, 2005.0, 1997.0, 2012.0, 1997.0, 2019.0, 2016.0, 1998.0, 2020.0, 2019.0, 2004.0, 2011.0, 1974.0, 2010.0, 1996.0, 2016.0, 2015.0, 2011.0, 2011.0, 2018.0, 2015.0, 2019.0, 2004.0, 2014.0, 2002.0, 2006.0, 1987.0, 1998.0, 2019.0, 2018.0, 2002.0, 2008.0, 2016.0, 2000.0, 1997.0, 1997.0, 2017.0, 2006.0, 2018.0, 2016.0, 2020.0, 1968.0, 2016.0, 2020.0, 2007.0, 1999.0, 2019.0, 2001.0, 2005.0, 1973.0, 1999.0, 2008.0, 1972.0, 2020.0, 2020.0, 2014.0, 2009.0, 2016.0, 2020.0, 2008.0, 1989.0, 2006.0, 2014.0, 2009.0, 2014.0, 2018.0, 2008.0, 2014.0, 2012.0, 2012.0, 1998.0, 2011.0, 2020.0, 2001.0, 2011.0, 1999.0, 2019.0, 2017.0, 1972.0, 2007.0, 1998.0, 2019.0, 2019.0, 2016.0, 2019.0, 2016.0, 1964.0, 2012.0, 1999.0, 2014.0, 2010.0, 2014.0, 2003.0, 1998.0, 1997.0, 2009.0, 1995.0, 2020.0, 2019.0, 1993.0, 2010.0, 2012.0, 2009.0, 2011.0, 2014.0, 2009.0, 1994.0, 1995.0, 2012.0, 2002.0, 2011.0, 2003.0, 2012.0, 2018.0, 2005.0, 1999.0, 2018.0, 1999.0, 2006.0, 2018.0, 2020.0, 2019.0, 2003.0, 2016.0, 2017.0, 2016.0, 2016.0, 2015.0, 2019.0, 2019.0, 2019.0, 2013.0, 2013.0, 2020.0, 2012.0, 2008.0, 2016.0, 2006.0, 2017.0, 2013.0, 2001.0, 1988.0, 1999.0, 2001.0, 2019.0, 1995.0, 2007.0, 2019.0, 1987.0, 2010.0, 2007.0, 2005.0, 1997.0, 2017.0, 2013.0, 1984.0, 1998.0, 1988.0, 2018.0, 1979.0, 1972.0, 2007.0, 2013.0, 1994.0, 2010.0, 2019.0, 2016.0, 1995.0, 1975.0, 2008.0, 2020.0, 1998.0, 2010.0, 2017.0, 1987.0, 2000.0, 1990.0, 1986.0, 1994.0, 1990.0, 1983.0, 1960.0, 2019.0, 1986.0, 2010.0, 2016.0, 2009.0, 2015.0, 1972.0, 2018.0, 1993.0, 2000.0, 1999.0, 1995.0, 1999.0, 1983.0, 2007.0, 1973.0, 1994.0, 2000.0, 2011.0, 1993.0, 2019.0, 1998.0, 1994.0, 2010.0, 1985.0, 1978.0, 1999.0, 2003.0, 1995.0, 2000.0, 1999.0, 1973.0, 1989.0, 1979.0, 1998.0, 2006.0, 1994.0, 2003.0, 2003.0, 1993.0, 1984.0, 2019.0, 1979.0, 2012.0, 2004.0, 2020.0, 1998.0, 1985.0, 1983.0, 2019.0, 2005.0, 1997.0, 1989.0, 1979.0, 2015.0, 2016.0, 2018.0, 2018.0, 1967.0, 2020.0, 1970.0, 2011.0, 1984.0, 1998.0, 1974.0, 1994.0, 1993.0, 1975.0, 1983.0, 1979.0, 1998.0], \"coloraxis\": \"coloraxis\", \"symbol\": \"circle\"}, \"mode\": \"markers\", \"name\": \"\", \"orientation\": \"v\", \"showlegend\": false, \"type\": \"scatter\", \"x\": [5.270519912625445, 9.412215453298334, 4.545078373222674, 15.56011796163585, -9.683851080350852, -3.6316211703361745, 4.123631838968907, -3.64774134854942, 4.279940816717201, -16.881075857566437, -8.444616153782105, 15.363243005952926, -4.82539487692766, -9.727474662832545, -1.8206167788971288, 13.326790138919389, 7.366582808294828, 18.419593033907763, 29.164313850530288, 14.464227523881993, -1.7524733793431984, -7.627027157622246, -16.81068431559555, 8.548834685090158, -0.7342890098979227, 12.402377889028074, 8.429268280007921, 4.346867492320579, 10.327691810093315, 3.179775883761308, 27.458284367151993, 10.256388195466746, 34.22997456416634, 5.308060593628644, 1.227339412516577, -12.844798897216048, 4.206036363803989, -14.852412943750322, 18.296833835555294, 37.46871390082464, -11.722700649337995, 31.500060723485888, -16.786298133396045, -15.694496447556949, -15.677996498357272, -12.76924039489579, -4.592086270296035, 30.34504056664316, -17.786056286798456, -14.872375483501004, 25.351465852394295, -17.761193537811447, -16.774631410086297, 0.1663424360942755, 38.35309934964199, -1.9105160239100891, 5.50108602390385, -2.780468771355712, -1.8899772467957452, -11.62484959083744, -5.289551366967678, -2.7793221159755204, 8.320167337355961, -6.855900748234181, -15.74796232186249, -6.80954072849197, 6.17420168914636, -17.752993709212323, -7.826888244129039, 10.309434342493326, 1.1891068530936872, -14.800172439559894, -12.697738437303517, 4.200541523060672, -9.848154473560626, -3.8442719410260673, -1.3392781127079714, -1.8721031707422433, -3.7724513052451205, -13.853402523108063, 22.49485081981593, -6.653896185837383, -10.755868416256313, -7.860958247346729, -16.821504522849338, -16.56543501814021, 3.1443832080912864, -17.527032011157083, 7.237374200513953, -6.795142948822025, -16.25407224587749, 7.247963303989052, -3.72194940235804, 13.44375617407805, -2.7832994716487756, 9.38081856327571, 1.3021289319987317, 14.509502098561217, 25.156869049405124, -0.48073249371773247, 24.539296377267615, 21.31523465676784, 11.48412834368558, 30.615320877514804, 5.09379057293265, 18.26846610209373, 24.599931443707064, -2.521127025887751, -17.688316342276856, 14.427935181593757, 9.264002664018822, 2.1449917649343395, -14.76547304027944, -5.714000625217304, 27.183421043683335, -17.66942690144236, 27.335449958759703, 27.469367593642936, 9.495732160777242, 16.388924106154082, -13.436343446149252, 14.459049902515268, 4.502517240328379, 7.408061008154071, -1.7592477285413344, -8.782557479096461, 2.3582105757375813, 24.34134591584824, 24.37119404264802, 4.284143050310917, 20.1505619083568, 3.4747950597488186, 18.26732502260206, 9.296763352148592, 28.31897905765544, 21.278280582717468, 4.200151183403518, 0.32469130547847286, 23.68370748620637, 3.13893593158813, 5.213179850119643, -14.707933945133133, -15.791879287667468, -4.838202566653951, 4.155121703843126, -15.448300011147303, -15.70143435570738, 6.279820349524569, 2.1968295468939716, 16.257115184377056, -14.648911543233423, 1.1270922013360738, 3.1497840577443705, -16.690575717900877, -4.769094702021441, -16.804355175502934, -11.63043507906794, 5.644017591570579, -6.824104704308483, -16.738481300104937, -5.9418773682746355, -11.730376598946236, -1.5698465057180955, -2.7424132926570706, 5.69333508160962, -9.700291526353993, 5.253310637529694, -16.7726136823843, -13.714484469382615, 4.300135124292758, -17.593189721529477, -16.789280165942163, -1.9017839106938743, -8.789055483323702, 28.454276866762655, -7.820725976196804, 6.213157852189285, -13.701468223442788, -12.699024227334451, -8.810227845382705, -8.829174450151099, -15.650588253670296, -12.848652280934772, -16.81155252475767, -1.827071997387832, -11.823277595007202, 0.13579432751404824, -3.7518959176091013, 15.284951801253975, 4.346167436838559, -16.647531521344277, -15.799120596182746, 0.49783282952553704, -5.73583645771023, -13.777314045514066, 2.314433157006901, 5.146984616362878, 5.176699865456336, -14.834705935721793, -3.674269260007442, -15.782418090251095, -13.823059213822066, -17.820486934805334, 34.29866923952346, -13.872669239531035, -17.806563189442663, -4.860928627586142, 3.2955874718620137, -16.803445614999912, 1.2541737514563909, -2.852008069812188, 29.158934704108905, 3.04468751061218, -5.842060789808156, 30.23528228928169, -17.814052619386924, -17.821938466393014, -11.748685178383075, -6.787224448605516, -13.7580842715954, -17.76493547159814, -5.753546958251041, 13.418816522907113, -3.8135016412181484, -11.79582700016198, -6.851220411160132, -11.69682564733533, -15.748681367691793, -5.822321378217004, -11.836447021424773, -9.753458023142022, -9.789447441746336, 4.191823208425431, -8.786275840871683, -17.79944903548569, 1.0951601720736968, -8.828044219593695, 3.163787465253939, -16.82596800754383, -14.818914957133227, 30.48508514650685, -4.780027460672986, 4.24792344567947, -16.727340466855754, -16.778511301823674, -13.740104277379826, -16.725979497551542, -13.71075562771439, 38.43928662988793, -9.422283799058022, 3.15961754446196, -11.754731878956461, -7.794481335704439, -11.649453342705005, -0.7810536977351323, 4.1028380408412115, 5.194283026164223, -6.8130089255799815, 7.2789971486587985, -17.82531478104306, -16.828495584006127, 9.236541802834832, -7.857473867685907, -9.811994303651739, -6.673039735410438, -8.809836007548485, -11.798064391946008, -6.590472304839451, 8.365798172793218, 7.233730063561415, -9.764977845316896, 0.21389219593771955, -8.826955669126159, -0.8590846434932329, -9.862625695288282, -15.783551942146094, -2.775648777402763, 3.2751754967540947, -15.785175327749512, 3.215016702820297, -3.8024410192980582, -15.828737785707078, -17.71714441006155, -16.849246074176662, -0.8516260750446294, -13.826956888993205, -14.476524120091193, -13.795070470244124, -13.74171035088487, -12.824748501005482, -16.765273677339213, -16.77463161609194, -16.77463161609194, -10.777804898116942, -10.709353813411985, -17.787748834688802, -9.54374490862148, -5.848872686273728, -13.464728437316523, -3.5954493102009812, -14.751655732924378, -10.76732669626174, 1.1474580179817486, 14.191905127242132, 3.2189559619729025, 1.2018701573475348, -16.53624523184992, 7.295767361597982, -4.865692777303948, -16.788053697478528, 15.257131348010128, -7.70143323623095, -4.870140391712814, -2.7469744997509404, 5.365977899661778, -14.771314752150172, -10.63544958060025, 18.29023924015102, 4.287830958761265, 14.463117397458683, -15.359305927434626, 23.658613469351604, 30.457928234440665, -4.751889364233008, -10.365673990086389, 8.395733861194573, -7.512382880494621, -16.703934779860543, -13.443830221909124, 7.434806238903848, 27.48825739024312, -5.6063880047906824, -17.716823303335534, 4.544573255075832, -7.484377668994205, -14.760714308506717, 15.243545940108744, 2.288003484965888, 12.293800585113662, 16.500389674642946, 8.54369003314204, 12.288546706872108, 19.558673045019344, 42.16917976078877, -16.748437654959616, 16.33853238772614, -7.766107073098422, -13.624950841263605, -6.579190804587283, -12.660850671347479, 30.38499295755912, -15.660743601585505, 9.390555322293523, 2.2577589638521642, 3.292807372538826, 7.4176011482708875, 3.118679381850411, 19.55117456014099, -4.669207849027883, 29.209513398100118, 8.226181720966219, 2.3199667449516013, -8.39382411638504, 9.299632000858882, -16.709844675179394, 4.2084381290965265, 8.308321973788177, -7.482229430501988, 17.443147997778954, 24.583110218177247, 3.14879545879586, -0.8610821864444663, 7.438983428259768, 2.414810194818408, 3.3409225120494472, 29.397771758113826, 13.492290893011917, 23.663091189735013, 4.1368903681901195, -3.7048575014348355, 8.252292538477679, -0.7913989202401295, -0.6008319954190565, 9.3968260271935, 18.557378490045025, -16.549334515880265, 23.531125389316188, -9.616762312599722, -1.7281067943459127, -17.715299021238256, 4.22333948081068, 17.34611201266462, 19.33890340633933, -16.767972292958802, -2.621632500630887, 5.459936064434203, 13.294130905703454, 23.44523438367473, -12.823825529230936, -13.736878562218573, -15.809563065951947, -15.706569803284662, 35.259236049895776, -17.730499378340067, 32.226342410943914, -8.841042400100655, 18.485418621371164, 4.261568245571468, 28.18124771164513, 8.552158256175325, 9.396542403893916, 27.25073234967527, 19.36369940775784, 23.558114394865694, 4.269413366912751], \"xaxis\": \"x\", \"y\": [-0.49560742803163255, 1.5139740766671583, -2.233598542545109, -4.526329270771307, 2.180951912658407, -1.8845831309822911, -2.8772688138403413, 1.8451547588747785, 0.22368169522840892, -1.2055206055688135, -3.2879826516275727, -0.45719964313429073, -1.445162503117035, 1.0094859277373325, -1.1616683966327646, 0.15868496963390785, -1.0876298607791148, -0.4614842077672167, -1.644107568664773, 1.1850727548910454, -0.2230833697244181, -0.07704722272539523, 1.759517710378113, 5.945926959517751, -3.1195903573175365, 3.7198898260370794, 1.7620777537783836, -0.570647260376751, -0.8570804015509835, -1.6008855635047012, 4.953200143098848, 0.11442847711173842, -4.811680297991999, 1.8898879956260808, -3.1333301800748106, -0.8796934589213656, 1.1895175505282385, 1.711197405911539, 1.9697210750458396, 3.9386904424388334, 0.3330757142143241, 1.8300573369851938, -2.5817955474087446, 2.6358002882106524, -3.0107158462006995, 5.234188950348976, 4.949562637895221, 1.9964657282131653, 0.05286619327220956, -1.1331361925731585, -5.917602029235496, -0.002053325478342395, 2.6616837769261563, -0.27936821305048465, 0.3501821711807988, -5.073873355404258, 2.0909841421332347, 0.7932722197935076, 0.4553153582270269, -0.9368520428063989, 0.2175613577532607, -1.2082562732416489, -1.7835897641543605, 0.8614831349888773, 1.7879924398226947, -0.6940579061638521, 0.8497772692509098, -0.6165986993313297, 0.07959554139713013, -2.0237283075929353, 1.1379120647746213, 0.5125242453303187, -2.590419322256493, -0.5972167925752295, -1.3479103122808118, -1.8132015914384065, 1.1342671550451209, -4.328769584843091, 0.15236467487190794, 0.03276133134639722, -4.0170323579049, -1.381724309725086, -1.2844532873214485, 2.9698313585256004, 1.9750396791167786, 4.690892505900664, 1.2149900853299598, 2.8269316044629815, 1.0680399801641582, 1.5105783313563743, 5.12159586452233, -1.8732411730294398, -0.9397938292870641, 1.8477860370447345, 3.0222832335379377, -1.2039350584676565, -2.48477062320748, 0.06630380853091644, 0.07577901079770712, 4.136091076067088, 1.3418717416789065, -0.5536858673478542, 3.045072850601134, 3.7885402088540503, -3.1161979781814586, -5.129492477808618, -0.7998638042151787, 1.7500242998108195, -1.8673395207904566, 0.36349502345511964, -1.5141245582425906, -0.8395749482287701, 2.0524406037873515, -4.623054333785882, -2.053900082524821, 0.21582867310614623, 1.9052513942840381, 0.6144719702637348, 1.9685623156817742, 2.140195399375431, 1.7182762884420926, 0.29909001206728203, -5.487690221503523, -1.343318056108016, -1.4093155992397606, 1.0432710845291262, -2.558276784918889, -1.085162908349291, 3.9969468872157554, -1.0158930073047, -3.2990643970345466, 5.6732565173508815, 3.084872493457043, -1.7924047876968403, 3.2550502332940146, 1.7087963409725986, -0.5335140455996215, -0.6085331568027815, -2.161269722355279, -4.624887168346756, 1.9500966357849945, 0.7775322994185205, -0.1483616680512839, 2.8021321011654354, -1.1892438543056199, 4.49520438448755, -2.0196883385242477, -1.0212875442261373, 2.1374012318505837, -0.09066497768501237, 3.0435861225442093, -0.9032014924391624, 2.0884097199017817, 0.7748203253398509, -0.5580789502501234, -0.37931365487973207, -6.261667121166125, 3.1131147563921964, 2.3049086226337168, 0.1943754353808417, -2.585839963025326, -2.330402747993283, 0.385199056710195, 1.7147392392186807, 4.113108222494419, 0.11692187807492846, 3.644927111572844, -0.46793746303810013, 0.787751486416788, 2.5545904549085803, 3.1619649629260764, 2.1648902038785454, 1.6037557375126341, 1.3409441609457011, -3.450296123352761, 2.5191453430448973, 1.0162366586571046, -3.486700152992003, -3.5031254532196994, 0.838467746388429, 0.6663546358445779, 2.8665939461032064, -2.1395736219384682, -0.930976010533295, -0.8773966795221612, -0.5116379216875387, -2.827071627698068, 2.7403618182967815, -0.7398034952739672, -1.1526813704963919, 2.6915684219197167, 1.2869566593977402, 0.18040691954330781, -1.967892266219769, -1.0879267869566414, -1.6392590970429048, -0.2762994519291825, -0.5766857533965692, 0.6374990829008188, -0.3792973881579215, -0.4755292739899297, -0.8702468954476883, 2.5781977864019057, 1.3682613300823956, 2.1082541472070693, -4.74778839516218, 1.753713567004876, -1.4350465647778539, -4.588082410429235, 2.4420972513922927, 1.3205300990556246, 1.433751580242659, -4.415652966209533, -5.482334566228031, -4.168868128510647, -0.4016229169877441, 0.76503112425133, -0.5746386070698163, 1.75830963167098, 1.9517650788725518, 2.274711461504217, -4.421684992647599, 0.21211232074494651, 1.4903350120398942, -1.4813207225369625, -1.2835743078782318, -2.245854667847366, 0.6366763660143598, -0.6866562019885684, -2.5951202038314922, -1.5390492622165963, -1.755327749868869, -1.471730848478511, 1.8823736284628851, -0.3577898855503466, 1.4541873209592022, -1.0786904938534396, 3.230045579048402, -1.5812509496099707, 1.865561729350458, 1.365668637361763, -1.219377875926264, 2.169508563926265, 1.8226538174139186, 2.371957980439466, 3.1837844667428095, 0.9079326902268164, -1.064700613308863, 2.587972265875591, 2.7843989273935277, -0.15532681269050186, 1.0494891707347664, -0.2510521671028467, 0.9632471335573011, -0.7917816068356642, -1.4824743025153109, -1.1294487649377052, -2.9853728327875944, 4.474138265612085, -0.09509560136602266, -0.11044302921875389, 2.1607317879361183, -0.1835228521700087, -1.3370041728443918, 0.6969384866104873, -1.6791005460725688, -0.5525696471906535, 3.5709630212388093, 4.14294963020252, 0.0035143962949738044, -0.8639642635450389, -3.3549632001236716, -1.863600264263389, 2.4120076040763103, -1.4359686495155406, 2.879352471987345, -1.763609996814067, -2.8990821770544146, 1.8820192263893485, -4.98917935302083, 2.272620135601757, -2.917939381810267, -0.03235366625846458, -0.9079023343598871, -5.011531757794325, 3.10026527743722, -1.6396693966345928, -5.728111633954153, 1.5655249153104838, 2.1579852739531264, -0.4516371361842731, 1.3637798692014802, 1.3637798692014802, -0.3573597238703159, -0.5300844395811698, -3.0756485136048584, -2.787204300909459, -1.0845327409602068, 5.591476069383409, -1.6756782609731067, 2.5191211187086258, -5.576162260925634, 0.5979454844096271, -1.0530416765947332, -0.24975910744137725, 1.9747384719644288, -1.5520253713070253, 3.487299962162224, -4.446637907639918, -0.679416532502649, -0.7684041644268036, 0.4292603271542231, -0.5805124356995351, -2.29965510808749, 1.1910779579755408, -0.41863286226778057, 2.705553845296821, -1.0831441362019245, -0.33576274355133756, -0.40431991305052245, 2.0134159656684942, -1.5216884670272652, -0.1019674409112161, -0.5286902565403097, 4.196713367713346, 0.46216582574859927, -0.21000740925162117, -1.155141840429181, 2.0800189532656415, -2.495307275671058, 3.016679842826029, -2.581165052334905, -3.071404261611598, -0.11051622196339765, 9.172841754812529, -0.8335314694601088, -4.192858437947034, -4.878267033042535, 2.5542049822064117, 3.51051869211887, 0.5174640459164916, -0.16066258574623005, 3.471669081966988, -0.02344599641062379, -3.2635279446190353, 0.5719722919750045, -0.8805269076602975, 3.1262117138006555, 3.439140753811149, 3.453058302435933, -4.538747370008619, 2.9402137850813137, -2.5385663178057696, -0.9446192836070907, -2.1420224465839426, -1.362272523591796, -5.491090130893453, 0.5573981718248479, 0.5370225915240656, -4.866636093091202, -1.5821811177784588, -3.423735609183236, 0.623222114229148, -0.8056433320292246, 0.4031384082458276, -0.6588381774178734, 0.40438132971903945, 0.579107682893288, -5.325857075986456, 4.749988650955758, 0.7137470163308165, 2.1386956904852528, -0.4693807480860251, -0.8993262837908389, 0.852884895783449, 4.71969492178551, 2.143734041457121, 3.3394440212280116, -1.0526268711478766, -5.826456234976514, -0.7680417324595983, 0.8971632481093871, -3.427349917222101, 1.5028466070135869, -1.617922043842101, -1.56826265379581, 4.245907965366961, 2.8293682528040107, -0.2553492566837444, 1.2144551488761093, -0.917898122611417, -1.3279357535822314, -2.502663766398594, -4.3933125470163885, -0.9884078420169898, 3.535847713333814, -1.2375774909538333, -0.6474747171866169, -0.36368394155914857, 1.5123936262570812, 0.6802092846292949, -1.1305833878465474, 0.548052446990882, -0.3470245729779232, 1.5921424547303982, -0.12523999723086432, 6.513135131426008, 0.3204176676237774, -4.940480452574601, -0.5998291295755245, 3.835204243327977, -0.5589000073486634, -1.3403163589994815, 1.5686517377166387, -0.19455398396873627], \"yaxis\": \"y\"}],                        {\"coloraxis\": {\"colorbar\": {\"title\": {\"text\": \"release year\"}}, \"colorscale\": [[0.0, \"#0d0887\"], [0.1111111111111111, \"#46039f\"], [0.2222222222222222, \"#7201a8\"], [0.3333333333333333, \"#9c179e\"], [0.4444444444444444, \"#bd3786\"], [0.5555555555555556, \"#d8576b\"], [0.6666666666666666, \"#ed7953\"], [0.7777777777777778, \"#fb9f3a\"], [0.8888888888888888, \"#fdca26\"], [1.0, \"#f0f921\"]]}, \"legend\": {\"tracegroupgap\": 0}, \"margin\": {\"t\": 60}, \"template\": {\"data\": {\"bar\": [{\"error_x\": {\"color\": \"#2a3f5f\"}, \"error_y\": {\"color\": \"#2a3f5f\"}, \"marker\": {\"line\": {\"color\": \"#E5ECF6\", \"width\": 0.5}}, \"type\": \"bar\"}], \"barpolar\": [{\"marker\": {\"line\": {\"color\": \"#E5ECF6\", \"width\": 0.5}}, \"type\": \"barpolar\"}], \"carpet\": [{\"aaxis\": {\"endlinecolor\": \"#2a3f5f\", \"gridcolor\": \"white\", \"linecolor\": \"white\", \"minorgridcolor\": \"white\", \"startlinecolor\": \"#2a3f5f\"}, \"baxis\": {\"endlinecolor\": \"#2a3f5f\", \"gridcolor\": \"white\", \"linecolor\": \"white\", \"minorgridcolor\": \"white\", \"startlinecolor\": \"#2a3f5f\"}, \"type\": \"carpet\"}], \"choropleth\": [{\"colorbar\": {\"outlinewidth\": 0, \"ticks\": \"\"}, \"type\": \"choropleth\"}], \"contour\": [{\"colorbar\": {\"outlinewidth\": 0, \"ticks\": \"\"}, \"colorscale\": [[0.0, \"#0d0887\"], [0.1111111111111111, \"#46039f\"], [0.2222222222222222, \"#7201a8\"], [0.3333333333333333, \"#9c179e\"], [0.4444444444444444, \"#bd3786\"], [0.5555555555555556, \"#d8576b\"], [0.6666666666666666, \"#ed7953\"], [0.7777777777777778, \"#fb9f3a\"], [0.8888888888888888, \"#fdca26\"], [1.0, \"#f0f921\"]], \"type\": \"contour\"}], \"contourcarpet\": [{\"colorbar\": {\"outlinewidth\": 0, \"ticks\": \"\"}, \"type\": \"contourcarpet\"}], \"heatmap\": [{\"colorbar\": {\"outlinewidth\": 0, \"ticks\": \"\"}, \"colorscale\": [[0.0, \"#0d0887\"], [0.1111111111111111, \"#46039f\"], [0.2222222222222222, \"#7201a8\"], [0.3333333333333333, \"#9c179e\"], [0.4444444444444444, \"#bd3786\"], [0.5555555555555556, \"#d8576b\"], [0.6666666666666666, \"#ed7953\"], [0.7777777777777778, \"#fb9f3a\"], [0.8888888888888888, \"#fdca26\"], [1.0, \"#f0f921\"]], \"type\": \"heatmap\"}], \"heatmapgl\": [{\"colorbar\": {\"outlinewidth\": 0, \"ticks\": \"\"}, \"colorscale\": [[0.0, \"#0d0887\"], [0.1111111111111111, \"#46039f\"], [0.2222222222222222, \"#7201a8\"], [0.3333333333333333, \"#9c179e\"], [0.4444444444444444, \"#bd3786\"], [0.5555555555555556, \"#d8576b\"], [0.6666666666666666, \"#ed7953\"], [0.7777777777777778, \"#fb9f3a\"], [0.8888888888888888, \"#fdca26\"], [1.0, \"#f0f921\"]], \"type\": \"heatmapgl\"}], \"histogram\": [{\"marker\": {\"colorbar\": {\"outlinewidth\": 0, \"ticks\": \"\"}}, \"type\": \"histogram\"}], \"histogram2d\": [{\"colorbar\": {\"outlinewidth\": 0, \"ticks\": \"\"}, \"colorscale\": [[0.0, \"#0d0887\"], [0.1111111111111111, \"#46039f\"], [0.2222222222222222, \"#7201a8\"], [0.3333333333333333, \"#9c179e\"], [0.4444444444444444, \"#bd3786\"], [0.5555555555555556, \"#d8576b\"], [0.6666666666666666, \"#ed7953\"], [0.7777777777777778, \"#fb9f3a\"], [0.8888888888888888, \"#fdca26\"], [1.0, \"#f0f921\"]], \"type\": \"histogram2d\"}], \"histogram2dcontour\": [{\"colorbar\": {\"outlinewidth\": 0, \"ticks\": \"\"}, \"colorscale\": [[0.0, \"#0d0887\"], [0.1111111111111111, \"#46039f\"], [0.2222222222222222, \"#7201a8\"], [0.3333333333333333, \"#9c179e\"], [0.4444444444444444, \"#bd3786\"], [0.5555555555555556, \"#d8576b\"], [0.6666666666666666, \"#ed7953\"], [0.7777777777777778, \"#fb9f3a\"], [0.8888888888888888, \"#fdca26\"], [1.0, \"#f0f921\"]], \"type\": \"histogram2dcontour\"}], \"mesh3d\": [{\"colorbar\": {\"outlinewidth\": 0, \"ticks\": \"\"}, \"type\": \"mesh3d\"}], \"parcoords\": [{\"line\": {\"colorbar\": {\"outlinewidth\": 0, \"ticks\": \"\"}}, \"type\": \"parcoords\"}], \"pie\": [{\"automargin\": true, \"type\": \"pie\"}], \"scatter\": [{\"marker\": {\"colorbar\": {\"outlinewidth\": 0, \"ticks\": \"\"}}, \"type\": \"scatter\"}], \"scatter3d\": [{\"line\": {\"colorbar\": {\"outlinewidth\": 0, \"ticks\": \"\"}}, \"marker\": {\"colorbar\": {\"outlinewidth\": 0, \"ticks\": \"\"}}, \"type\": \"scatter3d\"}], \"scattercarpet\": [{\"marker\": {\"colorbar\": {\"outlinewidth\": 0, \"ticks\": \"\"}}, \"type\": \"scattercarpet\"}], \"scattergeo\": [{\"marker\": {\"colorbar\": {\"outlinewidth\": 0, \"ticks\": \"\"}}, \"type\": \"scattergeo\"}], \"scattergl\": [{\"marker\": {\"colorbar\": {\"outlinewidth\": 0, \"ticks\": \"\"}}, \"type\": \"scattergl\"}], \"scattermapbox\": [{\"marker\": {\"colorbar\": {\"outlinewidth\": 0, \"ticks\": \"\"}}, \"type\": \"scattermapbox\"}], \"scatterpolar\": [{\"marker\": {\"colorbar\": {\"outlinewidth\": 0, \"ticks\": \"\"}}, \"type\": \"scatterpolar\"}], \"scatterpolargl\": [{\"marker\": {\"colorbar\": {\"outlinewidth\": 0, \"ticks\": \"\"}}, \"type\": \"scatterpolargl\"}], \"scatterternary\": [{\"marker\": {\"colorbar\": {\"outlinewidth\": 0, \"ticks\": \"\"}}, \"type\": \"scatterternary\"}], \"surface\": [{\"colorbar\": {\"outlinewidth\": 0, \"ticks\": \"\"}, \"colorscale\": [[0.0, \"#0d0887\"], [0.1111111111111111, \"#46039f\"], [0.2222222222222222, \"#7201a8\"], [0.3333333333333333, \"#9c179e\"], [0.4444444444444444, \"#bd3786\"], [0.5555555555555556, \"#d8576b\"], [0.6666666666666666, \"#ed7953\"], [0.7777777777777778, \"#fb9f3a\"], [0.8888888888888888, \"#fdca26\"], [1.0, \"#f0f921\"]], \"type\": \"surface\"}], \"table\": [{\"cells\": {\"fill\": {\"color\": \"#EBF0F8\"}, \"line\": {\"color\": \"white\"}}, \"header\": {\"fill\": {\"color\": \"#C8D4E3\"}, \"line\": {\"color\": \"white\"}}, \"type\": \"table\"}]}, \"layout\": {\"annotationdefaults\": {\"arrowcolor\": \"#2a3f5f\", \"arrowhead\": 0, \"arrowwidth\": 1}, \"autotypenumbers\": \"strict\", \"coloraxis\": {\"colorbar\": {\"outlinewidth\": 0, \"ticks\": \"\"}}, \"colorscale\": {\"diverging\": [[0, \"#8e0152\"], [0.1, \"#c51b7d\"], [0.2, \"#de77ae\"], [0.3, \"#f1b6da\"], [0.4, \"#fde0ef\"], [0.5, \"#f7f7f7\"], [0.6, \"#e6f5d0\"], [0.7, \"#b8e186\"], [0.8, \"#7fbc41\"], [0.9, \"#4d9221\"], [1, \"#276419\"]], \"sequential\": [[0.0, \"#0d0887\"], [0.1111111111111111, \"#46039f\"], [0.2222222222222222, \"#7201a8\"], [0.3333333333333333, \"#9c179e\"], [0.4444444444444444, \"#bd3786\"], [0.5555555555555556, \"#d8576b\"], [0.6666666666666666, \"#ed7953\"], [0.7777777777777778, \"#fb9f3a\"], [0.8888888888888888, \"#fdca26\"], [1.0, \"#f0f921\"]], \"sequentialminus\": [[0.0, \"#0d0887\"], [0.1111111111111111, \"#46039f\"], [0.2222222222222222, \"#7201a8\"], [0.3333333333333333, \"#9c179e\"], [0.4444444444444444, \"#bd3786\"], [0.5555555555555556, \"#d8576b\"], [0.6666666666666666, \"#ed7953\"], [0.7777777777777778, \"#fb9f3a\"], [0.8888888888888888, \"#fdca26\"], [1.0, \"#f0f921\"]]}, \"colorway\": [\"#636efa\", \"#EF553B\", \"#00cc96\", \"#ab63fa\", \"#FFA15A\", \"#19d3f3\", \"#FF6692\", \"#B6E880\", \"#FF97FF\", \"#FECB52\"], \"font\": {\"color\": \"#2a3f5f\"}, \"geo\": {\"bgcolor\": \"white\", \"lakecolor\": \"white\", \"landcolor\": \"#E5ECF6\", \"showlakes\": true, \"showland\": true, \"subunitcolor\": \"white\"}, \"hoverlabel\": {\"align\": \"left\"}, \"hovermode\": \"closest\", \"mapbox\": {\"style\": \"light\"}, \"paper_bgcolor\": \"white\", \"plot_bgcolor\": \"#E5ECF6\", \"polar\": {\"angularaxis\": {\"gridcolor\": \"white\", \"linecolor\": \"white\", \"ticks\": \"\"}, \"bgcolor\": \"#E5ECF6\", \"radialaxis\": {\"gridcolor\": \"white\", \"linecolor\": \"white\", \"ticks\": \"\"}}, \"scene\": {\"xaxis\": {\"backgroundcolor\": \"#E5ECF6\", \"gridcolor\": \"white\", \"gridwidth\": 2, \"linecolor\": \"white\", \"showbackground\": true, \"ticks\": \"\", \"zerolinecolor\": \"white\"}, \"yaxis\": {\"backgroundcolor\": \"#E5ECF6\", \"gridcolor\": \"white\", \"gridwidth\": 2, \"linecolor\": \"white\", \"showbackground\": true, \"ticks\": \"\", \"zerolinecolor\": \"white\"}, \"zaxis\": {\"backgroundcolor\": \"#E5ECF6\", \"gridcolor\": \"white\", \"gridwidth\": 2, \"linecolor\": \"white\", \"showbackground\": true, \"ticks\": \"\", \"zerolinecolor\": \"white\"}}, \"shapedefaults\": {\"line\": {\"color\": \"#2a3f5f\"}}, \"ternary\": {\"aaxis\": {\"gridcolor\": \"white\", \"linecolor\": \"white\", \"ticks\": \"\"}, \"baxis\": {\"gridcolor\": \"white\", \"linecolor\": \"white\", \"ticks\": \"\"}, \"bgcolor\": \"#E5ECF6\", \"caxis\": {\"gridcolor\": \"white\", \"linecolor\": \"white\", \"ticks\": \"\"}}, \"title\": {\"x\": 0.05}, \"xaxis\": {\"automargin\": true, \"gridcolor\": \"white\", \"linecolor\": \"white\", \"ticks\": \"\", \"title\": {\"standoff\": 15}, \"zerolinecolor\": \"white\", \"zerolinewidth\": 2}, \"yaxis\": {\"automargin\": true, \"gridcolor\": \"white\", \"linecolor\": \"white\", \"ticks\": \"\", \"title\": {\"standoff\": 15}, \"zerolinecolor\": \"white\", \"zerolinewidth\": 2}}}, \"xaxis\": {\"anchor\": \"y\", \"domain\": [0.0, 1.0], \"title\": {\"text\": \"PC 1 (0.9)\"}}, \"yaxis\": {\"anchor\": \"x\", \"domain\": [0.0, 1.0], \"title\": {\"text\": \"PC 2 (0.03)\"}}},                        {\"responsive\": true}                    ).then(function(){\n",
       "                            \n",
       "var gd = document.getElementById('fa2bccbf-b835-4e3a-888c-0974eeb5522f');\n",
       "var x = new MutationObserver(function (mutations, observer) {{\n",
       "        var display = window.getComputedStyle(gd).display;\n",
       "        if (!display || display === 'none') {{\n",
       "            console.log([gd, 'removed!']);\n",
       "            Plotly.purge(gd);\n",
       "            observer.disconnect();\n",
       "        }}\n",
       "}});\n",
       "\n",
       "// Listen for the removal of the full notebook cells\n",
       "var notebookContainer = gd.closest('#notebook-container');\n",
       "if (notebookContainer) {{\n",
       "    x.observe(notebookContainer, {childList: true});\n",
       "}}\n",
       "\n",
       "// Listen for the clearing of the current output cell\n",
       "var outputEl = gd.closest('.output');\n",
       "if (outputEl) {{\n",
       "    x.observe(outputEl, {childList: true});\n",
       "}}\n",
       "\n",
       "                        })                };                });            </script>        </div>"
      ]
     },
     "metadata": {},
     "output_type": "display_data"
    }
   ],
   "source": [
    "# Doing PCA\n",
    "pca = PCA(n_components=2)\n",
    "pca.fit(dff)\n",
    "X = pca.transform(dff)\n",
    "# creating DF for the visualization\n",
    "rdf = pd.DataFrame(data=X, index=df.index).reset_index()\n",
    "rdf['release year'] = df['release year'].tolist()\n",
    "\n",
    "fig = px.scatter(rdf, x=0, y=1, hover_data=[\"index\",'release year' ],color='release year')\n",
    "fig.update_xaxes(title_text=f\"PC 1 ({round(pca.explained_variance_ratio_[0],2)})\")\n",
    "fig.update_yaxes(title_text=f\"PC 2 ({round(pca.explained_variance_ratio_[1],2)})\")\n",
    "fig.show()"
   ]
  },
  {
   "cell_type": "code",
   "execution_count": 32,
   "metadata": {},
   "outputs": [
    {
     "data": {
      "application/vnd.plotly.v1+json": {
       "config": {
        "plotlyServerURL": "https://plot.ly"
       },
       "data": [
        {
         "customdata": [
          [
           "האם האם האם-Gidi Gov",
           1997
          ],
          [
           "הגננים היום עצובים-Yehudit Ravitz",
           1993
          ],
          [
           "הוא-Noa",
           1998
          ],
          [
           "הוא הולך ממך-Yehudit Ravitz",
           1987
          ],
          [
           "הולכת ממך-Sharon Haziz",
           2012
          ],
          [
           "הורה ממטרה-Shoshana Damari",
           2006
          ],
          [
           "היא הולכת בדרכים-Kaveret",
           1998
          ],
          [
           "היא יודעת-Ninet Tayeb",
           2006
          ],
          [
           "היא רוקדת-Yardena Arazi",
           1998
          ],
          [
           "היא רוקדת-Yardena Arazi.1",
           2019
          ],
          [
           "היו לילות-Noa",
           2011
          ],
          [
           "הכינור הנאמן-Yardena Arazi",
           1987
          ],
          [
           "הכל זה לטובה-Dana International",
           2007
          ],
          [
           "הכל סגור-Sarit Hadad",
           2012
          ],
          [
           "הלב-Maya Buskila",
           2004
          ],
          [
           "הלילה-Hakol Over Habibi",
           1989
          ],
          [
           "הללויה-חלב ודבש",
           1995
          ],
          [
           "הם בזמר הזה-Matti Caspi",
           1984
          ],
          [
           "המגפיים של ברוך-Kaveret",
           1973
          ],
          [
           "הנסיכה והרוח-Rita",
           1988
          ],
          [
           "השיר הזה-Sharona Pick",
           2004
          ],
          [
           "ואלס להגנת הצומח-Lehakat HaNachal",
           2010
          ],
          [
           "ודוד יפה עיניים-A-WA",
           2019
          ],
          [
           "וידוי-Yehudit Ravitz",
           1994
          ],
          [
           "ונצואלה-Green Onion",
           2003
          ],
          [
           "זה הכל בשבילך-Danny Sanderson",
           1990
          ],
          [
           "זודיאק-Yaron Hadad",
           1994
          ],
          [
           "זן נדיר-Yehudit Ravitz",
           1998
          ],
          [
           "זן נדיר-Korin Allal",
           1992
          ],
          [
           "חברים בכל מיני צבעים-Sarit Hadad",
           1999
          ],
          [
           "חופים הם לפעמים-Chava Alberstein",
           1975
          ],
          [
           "חזקה מהרוח-Gali Atari",
           1992
          ],
          [
           "חיוכים-Chava Alberstein",
           1968
          ],
          [
           "חייך וחיי-Gidi Gov",
           1997
          ],
          [
           "חייל של 100 שערים-Sheygets",
           2001
          ],
          [
           "חיכיתי לו-Sarit Hadad",
           2015
          ],
          [
           "חמימות חולפת-Dana Berger",
           1998
          ],
          [
           "טיקיטאס-Noa Kirel",
           2017
          ],
          [
           "יחילוי ויחלי-Ofra Haza",
           1984
          ],
          [
           "Maria-Evadne Baker",
           1965
          ],
          [
           "Marija Magdalena-Doris Dragović",
           2014
          ],
          [
           "Matchmaker-John Williams",
           1971
          ],
          [
           "Material Girl-הכוכב הבא",
           2019
          ],
          [
           "Mercy-Madame Monsieur",
           2018
          ],
          [
           "A Million Dreams-P!nk",
           2018
          ],
          [
           "A Million Voices-Polina Gagarina",
           2015
          ],
          [
           "Molitva - Serbian Version-Marija Šerifović",
           2007
          ],
          [
           "Money Money-Joel Grey",
           1972
          ],
          [
           "Mood Ring (By Demand) - Pride Remix-Britney Spears",
           2020
          ],
          [
           "Move Your Body - Single Mix-Sia",
           2017
          ],
          [
           "Mr. Blue Sky-Electric Light Orchestra",
           1977
          ],
          [
           "Mucho Bien-MR.BLACK",
           2020
          ],
          [
           "Mudbira-A-WA",
           2019
          ],
          [
           "Murder On The Dancefloor-Sophie Ellis-Bextor",
           2002
          ],
          [
           "My Favorite Things-Julie Andrews",
           1964
          ],
          [
           "My Happy Ending-Avril Lavigne",
           2004
          ],
          [
           "My Heart Will Go On - Love Theme from \"Titanic\"-Céline Dion",
           1997
          ],
          [
           "My Number One-Helena Paparizou",
           2005
          ],
          [
           "My Prerogative-Britney Spears",
           2004
          ],
          [
           "Neka Mi Ne Svane-Danijela Martinovic",
           2014
          ],
          [
           "Nel Blu Dipinto Di Blu-Domenico Modugno",
           2008
          ],
          [
           "Nemo-Nightwish",
           2005
          ],
          [
           "Ne partez pas sans moi (Grand prix de L'Eurovision 1988)-Céline Dion",
           1994
          ],
          [
           "Vay Halime-Candan Erçetin",
           2009
          ],
          [
           "Viens on s’aime-Slimane",
           2018
          ],
          [
           "Vogue-Madonna",
           2009
          ],
          [
           "Wannabe-Spice Girls",
           1996
          ],
          [
           "WAP (feat. Megan Thee Stallion)-Cardi B",
           2020
          ],
          [
           "We R Who We R-Kesha",
           2010
          ],
          [
           "What's Up?-4 Non Blondes",
           1992
          ],
          [
           "Whenever, Wherever-Shakira",
           2001
          ],
          [
           "When We're High-LP",
           2017
          ],
          [
           "When We Were Young-Adele",
           2015
          ],
          [
           "When You're Gone-Bryan Adams",
           1998
          ],
          [
           "Where Have You Been-Sarit Hadad",
           2012
          ],
          [
           "Who Knew-P!nk",
           2006
          ],
          [
           "A Whole New World-Lea Salonga",
           2004
          ],
          [
           "Wild Dances-Ruslana",
           2004
          ],
          [
           "Wind It Up-Gwen Stefani",
           2006
          ],
          [
           "Wings-Delta Goodrem",
           2016
          ],
          [
           "Woman in Love-Barbra Streisand",
           1980
          ],
          [
           "Womanizer - Acoustic-Lily Allen",
           2009
          ],
          [
           "Work Bitch-Britney Spears",
           2013
          ],
          [
           "Written in the Stars (feat. Eric Turner)-Tinie Tempah",
           2010
          ],
          [
           "Ya Watani-A-WA",
           2019
          ],
          [
           "Yoncé - Homecoming Live-Beyoncé",
           2019
          ],
          [
           "(You Drive Me) Crazy-Britney Spears",
           1999
          ],
          [
           "You Oughta Know-Alanis Morissette",
           2020
          ],
          [
           "You Oughta Know - 2015 Remaster-Alanis Morissette",
           1995
          ],
          [
           "You've Got The Love-Florence + The Machine",
           2009
          ],
          [
           "אגדת דשא-Gidi Gov",
           2019
          ],
          [
           "אגדת השמש והירח-Ethnix",
           1995
          ],
          [
           "אדוני-Roni Duani",
           2006
          ],
          [
           "אדון שוקו-Arik Einstein",
           1989
          ],
          [
           "אהבה קטנה-Shiri Maimon",
           2005
          ],
          [
           "אוהב להיות בבית-Arik Einstein",
           1993
          ],
          [
           "אוהבת לא אוהבת-Arkadi Duchin",
           2001
          ],
          [
           "אור-Shoshana Damari",
           1988
          ],
          [
           "אותך-Ilana Avital",
           1977
          ],
          [
           "אחלה עולם-Gidi Gov",
           2003
          ],
          [
           "איך שיר נולד-Yehonatan Geffen",
           1978
          ],
          [
           "אין לי רגע דל-Rivka Michaeli",
           1981
          ],
          [
           "אין עוד יום-Gidi Gov",
           1991
          ],
          [
           "אי שם-Ilanit",
           1972
          ],
          [
           "איתו לנצח-Kerach Tesha",
           1997
          ],
          [
           "אם ננעלו-Ofra Haza",
           1984
          ],
          [
           "אני אוהב-Yehonatan Geffen",
           1978
          ],
          [
           "אני אשתגע-Nurit Galron",
           2005
          ],
          [
           "אני חולם על נעמי-Hedva Amrani",
           2020
          ],
          [
           "אני חיה לי מיום ליום-Rita",
           1988
          ],
          [
           "אני משם-Yehudit Ravitz",
           1993
          ],
          [
           "אני שטה-Zehava Ben",
           2000
          ],
          [
           "אצל הדודה והדוד-Noa Kirel",
           2017
          ],
          [
           "ארץ טרופית יפה / בוא לריו - Live-Yehudit Ravitz",
           2008
          ],
          [
           "את ואני-Shlomo Artzi",
           1975
          ],
          [
           "את חירותי-Berry Sakharof",
           2020
          ],
          [
           "את חרותי-Chava Alberstein",
           1975
          ],
          [
           "את תלכי בשדה-Chava Alberstein",
           1975
          ],
          [
           "באהבתנו-Yehudit Ravitz",
           1993
          ],
          [
           "בגידה-Rita",
           1986
          ],
          [
           "בגלל הלילה-Chava Alberstein",
           2016
          ],
          [
           "בוא-Rita",
           1988
          ],
          [
           "בואי כלה-Noa",
           1998
          ],
          [
           "בוקר טוב עולם-Avtipus",
           1995
          ],
          [
           "בחום של תל אביב-Sarit Hadad",
           2004
          ],
          [
           "בי גאראר (חסר שקט)-Rita",
           2011
          ],
          [
           "בך לא נוגע-Yehudit Ravitz",
           2000
          ],
          [
           "בלילות הקיץ החמים-Matti Caspi",
           1978
          ],
          [
           "בלעדייך-Gidi Gov",
           1978
          ],
          [
           "בן אדם-Yardena Arazi",
           1998
          ],
          [
           "גבריאל-Ofra Haza",
           1982
          ],
          [
           "גיטרה וכינור-Arik Einstein",
           1999
          ],
          [
           "גלבי-Ofra Haza",
           1984
          ],
          [
           "ג'סיקה-Ethnix",
           1993
          ],
          [
           "גשם בעיתו-Ruthi Navon",
           1974
          ],
          [
           "דבקה רפיח - Bonus-Yehudit Ravitz",
           1981
          ],
          [
           "דון קיחוטה-Dana International",
           1998
          ],
          [
           "דון קיחוטה-Shiri Maimon",
           2002
          ],
          [
           "דמעות של מלאכים-Yehudit Ravitz",
           1979
          ],
          [
           "Never Be The Same Again-Melanie C",
           1999
          ],
          [
           "Nobody's Wife-Anouk",
           1997
          ],
          [
           "No Roots-Alice Merton",
           2017
          ],
          [
           "no tears left to cry-Ariana Grande",
           2018
          ],
          [
           "Oh My God (feat. Lily Allen)-Mark Ronson",
           2007
          ],
          [
           "Ojos Así-Shakira",
           1998
          ],
          [
           "One of Us-Cher",
           2018
          ],
          [
           "Oniro Mou-Yianna Terzi",
           2018
          ],
          [
           "Ooh Aah...Just a Little Bit - Motiv8 Radio Edit-Gina G",
           1996
          ],
          [
           "Oops!...I Did It Again-Britney Spears",
           2000
          ],
          [
           "Open Your Heart-Madonna",
           1986
          ],
          [
           "Ora Na Gyriseis-Malu",
           2017
          ],
          [
           "Over The Hills And Far Away-Nightwish",
           2001
          ],
          [
           "Paid My Dues-Anastacia",
           1999
          ],
          [
           "A Palé - Gesaffelstein Remix-Gesaffelstein",
           2019
          ],
          [
           "Parle à ma main (feat. Yelle et Christelle)-Fatal Bazooka",
           2007
          ],
          [
           "Parle à ta tête-Indila",
           2019
          ],
          [
           "Partition-Beyoncé",
           2014
          ],
          [
           "Part of Your World - From \"The Little Mermaid\" / Soundtrack Version-Jodi Benson",
           1997
          ],
          [
           "Party In The U.S.A.-Miley Cyrus",
           2009
          ],
          [
           "Pas eu le temps-Patrick Bruel",
           2019
          ],
          [
           "Petra - Offer Nissim 08' Reconstruction-Dana International",
           2008
          ],
          [
           "Petra - Offer Nissim Reconstruction Mix-Dana International",
           2014
          ],
          [
           "The Phantom Of the Opera-Andrew Lloyd Webber",
           2004
          ],
          [
           "Pon de Replay-Rihanna",
           2005
          ],
          [
           "Poor Unfortunate Souls - From \"The Little Mermaid\" / Soundtrack Version-Pat Carroll",
           1997
          ],
          [
           "Qué Hiciste-Jennifer Lopez",
           2012
          ],
          [
           "Que Nadie Sepa Mi Sufrir-Soledad",
           1997
          ],
          [
           "¿Quién te has creído que soy?-Fangoria",
           2019
          ],
          [
           "Read U Wrote U (Ellis Miah Mix) [feat. The Cast of RuPaul's Drag Race All Stars, Season 2]-RuPaul",
           2016
          ],
          [
           "Reflection-Christina Aguilera",
           1998
          ],
          [
           "Reflection (2020) - From \"Mulan\"-Christina Aguilera",
           2020
          ],
          [
           "Replay-Tamta",
           2019
          ],
          [
           "Rich Girl-Gwen Stefani",
           2004
          ],
          [
           "Rolling in the Deep-Adele",
           2011
          ],
          [
           "Sa Leat-Arik Einstein",
           1974
          ],
          [
           "Satellite-Lena",
           2010
          ],
          [
           "Say You'll Be There-Spice Girls",
           1996
          ],
          [
           "Send My Love (To Your New Lover)-Adele",
           2016
          ],
          [
           "Send My Love (To Your New Lover)-Adele.1",
           2015
          ],
          [
           "Set Fire to the Rain-Adele",
           2011
          ],
          [
           "Shake It Out-Florence + The Machine",
           2011
          ],
          [
           "Shallow-Lady Gaga",
           2018
          ],
          [
           "Ship To Wreck-Florence + The Machine",
           2015
          ],
          [
           "Shufuni-Sarit Hadad",
           2019
          ],
          [
           "Since U Been Gone-Kelly Clarkson",
           2004
          ],
          [
           "Sissy That Walk-RuPaul",
           2014
          ],
          [
           "Sk8er Boi-Avril Lavigne",
           2002
          ],
          [
           "Smile-Lily Allen",
           2006
          ],
          [
           "So Emotional-Whitney Houston",
           1987
          ],
          [
           "Sokratis-Elpida",
           1998
          ],
          [
           "Soldi-Mahmood",
           2019
          ],
          [
           "Solo (feat. Demi Lovato)-Clean Bandit",
           2018
          ],
          [
           "Something to Sing About-Original Cast of Buffy The Vampire Slayer",
           2002
          ],
          [
           "Soon We'll Be Found-Sia",
           2008
          ],
          [
           "Sound of Silence-Dami Im",
           2016
          ],
          [
           "Sous le vent-Garou",
           2000
          ],
          [
           "Spice Up Your Life-Spice Girls",
           1997
          ],
          [
           "Stop-Spice Girls",
           1997
          ],
          [
           "Sto Theo Me Paei-Eleni Foureira",
           2017
          ],
          [
           "Superstar - Turkish Version-Sibel Tüzün",
           2006
          ],
          [
           "Sweet but Psycho-Ava Max",
           2018
          ],
          [
           "Tears (feat. Louisa Johnson)-Clean Bandit",
           2016
          ],
          [
           "Temperatura-Eleni Foureira",
           2020
          ],
          [
           "Think-Aretha Franklin",
           1968
          ],
          [
           "Ti Koitas-Eleni Foureira",
           2016
          ],
          [
           "Together-Sia",
           2020
          ],
          [
           "Torn-Natalie Imbruglia",
           2007
          ],
          [
           "Total Eclipse of the Heart-Bonnie Tyler",
           1999
          ],
          [
           "Tous Eipes Pos-Malu",
           2019
          ],
          [
           "Tren Del Cielo-Soledad",
           2001
          ],
          [
           "Tren Del Cielo-Soledad.1",
           2005
          ],
          [
           "Tu te reconnaitras-Anne-Marie David",
           1973
          ],
          [
           "Tu Veneno-Natalia Oreiro",
           1999
          ],
          [
           "Umbrella-Rihanna",
           2008
          ],
          [
           "Une belle histoire-Michel Fugain & Le Big Bazar",
           1972
          ],
          [
           "1000 Doves-Lady Gaga",
           2020
          ],
          [
           "911-Lady Gaga",
           2020
          ],
          [
           "Ainsi bas la vida-Indila",
           2014
          ],
          [
           "Alejandro-Lady Gaga",
           2009
          ],
          [
           "Alive-Sia",
           2016
          ],
          [
           "All of My Love - Radio edit-Destiny",
           2020
          ],
          [
           "Alone-Céline Dion",
           2008
          ],
          [
           "Always Look On The Bright Side Of Life-Monty Python",
           1989
          ],
          [
           "Amies ennemies-Nâdiya",
           2006
          ],
          [
           "Anaconda-Nicki Minaj",
           2014
          ],
          [
           "Around The World-Aqua",
           2009
          ],
          [
           "Baby Can I Hold You-Red Band",
           2014
          ],
          [
           "Baby (feat. MARINA & Luis Fonsi)-Clean Bandit",
           2018
          ],
          [
           "Bamakom Hachi Namooch Be'e Tel Aviv (At the Lowest Place in Tel Aviv)-Dana International",
           2008
          ],
          [
           "Bang Bang-Jessie J",
           2014
          ],
          [
           "Because of You-Kelly Clarkson",
           2012
          ],
          [
           "Beegharar - Offer Nissim Club Remix-Rita",
           2012
          ],
          [
           "Believe-Cher",
           1998
          ],
          [
           "Best Thing I Never Had-Beyoncé",
           2011
          ],
          [
           "BLACK PARADE-Beyoncé",
           2020
          ],
          [
           "Bootylicious-Destiny's Child",
           2001
          ],
          [
           "Born This Way-Lady Gaga",
           2011
          ],
          [
           "Born to Make You Happy-Britney Spears",
           1999
          ],
          [
           "Break Up Bye Bye - Frock Destroyers Version-The Cast of RuPaul's Drag Race UK",
           2019
          ],
          [
           "Broken-Shefita",
           2017
          ],
          [
           "Cabaret-Liza Minnelli",
           1972
          ],
          [
           "Call Me - Original Version-Anna Vissi",
           2007
          ],
          [
           "Cambio Dolor-Natalia Oreiro",
           1998
          ],
          [
           "Ça va ça vient-Vitaa",
           2019
          ],
          [
           "Chameleon-Michela",
           2019
          ],
          [
           "Cheap Thrills-Sia",
           2016
          ],
          [
           "Chewing-Gum-Vendredi sur Mer",
           2019
          ],
          [
           "Cinderella - Yamim Tovim-Sexta",
           2016
          ],
          [
           "Climb Ev'ry Mountain-Peggy Wood",
           1964
          ],
          [
           "Colors of the Wind-Judy Kuhn",
           2012
          ],
          [
           "Come On Over (All I Want Is You)-Christina Aguilera",
           1999
          ],
          [
           "Crying for No Reason-Katy B",
           2014
          ],
          [
           "Dancing On My Own - Radio Edit-Robyn",
           2010
          ],
          [
           "Dernière danse-Indila",
           2014
          ],
          [
           "Dime-Beth",
           2003
          ],
          [
           "Diva - Original Hebrew Version-Dana International",
           1998
          ],
          [
           "Doctor Jones - Original Version-Aqua",
           1997
          ],
          [
           "Dog Days Are Over-Florence + The Machine",
           2009
          ],
          [
           "Don't Speak-No Doubt",
           1995
          ],
          [
           "Don't Start Now-Dua Lipa",
           2020
          ],
          [
           "Don't Start Now-Dua Lipa.1",
           2019
          ],
          [
           "Don't Turn Around-Ace of Base",
           1993
          ],
          [
           "Dynamite-Taio Cruz",
           2010
          ],
          [
           "Echo (You and I)-Anggun",
           2012
          ],
          [
           "Ein bisschen Frieden-Nicole",
           2009
          ],
          [
           "Eize Rikud-Hedva Amrani",
           2011
          ],
          [
           "Elastic Heart-Sia",
           2014
          ],
          [
           "Empire State of Mind (Part II) Broken Down-Alicia Keys",
           2009
          ],
          [
           "Eres Tú-Mocedades",
           1994
          ],
          [
           "Estoy Aquí-Shakira",
           1995
          ],
          [
           "Euphoria-Loreen",
           2012
          ],
          [
           "Ever Dream-Nightwish",
           2002
          ],
          [
           "Everytime We Touch - Radio Edit-Cascada",
           2011
          ],
          [
           "Every Way That I Can - Philippe Laurent from Galleon Radio Edit-Sertab Erener",
           2003
          ],
          [
           "Feel This Moment (feat. Christina Aguilera)-Pitbull",
           2012
          ],
          [
           "Flames-David Guetta",
           2018
          ],
          [
           "Forogj Világ!-Nox",
           2005
          ],
          [
           "Free-Dana International",
           1999
          ],
          [
           "Fuego-Eleni Foureira",
           2018
          ],
          [
           "Genie In a Bottle-Christina Aguilera",
           1999
          ],
          [
           "Get Me Bodied-Beyoncé",
           2006
          ],
          [
           "Gimme! Gimme! Gimme! (A Man After Midnight) - Offer Nissim Needs a Man Remix-Cher",
           2018
          ],
          [
           "GIRL LIKE ME-Black Eyed Peas",
           2020
          ],
          [
           "Give That-B. Ames",
           2019
          ],
          [
           "Going Under-Evanescence",
           2003
          ],
          [
           "Good as Hell-Lizzo",
           2016
          ],
          [
           "Good Night Europe-Offer Nissim",
           2017
          ],
          [
           "The Greatest (feat. Kendrick Lamar)-Sia",
           2016
          ],
          [
           "Gul l’Abi-Acid Arab",
           2016
          ],
          [
           "Habib galbi-A-WA",
           2015
          ],
          [
           "Hakol Beseder - Omri Smadar Remix-Yehudit Ravitz",
           2019
          ],
          [
           "Hana Mash Hu Al Yaman-A-WA",
           2019
          ],
          [
           "Hana Mash Hu Al Yaman-A-WA.1",
           2019
          ],
          [
           "Hard out Here-Lily Allen",
           2013
          ],
          [
           "Heaven Is a Place on Earth-Belinda Carlisle",
           2013
          ],
          [
           "Hey Mickey-Toni Basil",
           2020
          ],
          [
           "Hit the Road Jack-Ray Charles",
           2012
          ],
          [
           "Hot N Cold-Katy Perry",
           2008
          ],
          [
           "How Far I'll Go-Auli'i Cravalho",
           2016
          ],
          [
           "Hurt-Christina Aguilera",
           2006
          ],
          [
           "IDGAF-Dua Lipa",
           2017
          ],
          [
           "I'll Be Fine-Clairy Browne & The Bangin' Rackettes",
           2013
          ],
          [
           "I'm a Slave 4 U-Britney Spears",
           2001
          ],
          [
           "I'm Gonna Be (500 Miles)-The Proclaimers",
           1988
          ],
          [
           "I'm Outta Love-Anastacia",
           1999
          ],
          [
           "Independent Women, Pt. 1-Destiny's Child",
           2001
          ],
          [
           "Into the Unknown-Idina Menzel",
           2019
          ],
          [
           "Ironic-Alanis Morissette",
           1995
          ],
          [
           "Irreplaceable-Beyoncé",
           2007
          ],
          [
           "It's My Life-No Doubt",
           2019
          ],
          [
           "I Wanna Dance with Somebody (Who Loves Me)-Whitney Houston",
           1987
          ],
          [
           "I WILL SURVIVE-Gloria Gaynor",
           2010
          ],
          [
           "(I Would) Die For You-Antique",
           2007
          ],
          [
           "Je suis l'enfant soleil-Anne-Marie David",
           2005
          ],
          [
           "Je T’aime-Lara Fabian",
           1997
          ],
          [
           "Ze Rak Sport-Dafna Dekel",
           2017
          ],
          [
           "אהבה היא שיר לשניים-Ilanit",
           2013
          ],
          [
           "עוד נגיע-Yardena Arazi",
           1984
          ],
          [
           "עולה עולה-Izhar Cohan",
           1998
          ],
          [
           "עטוף ברחמים-Rita",
           1988
          ],
          [
           "עטור מצחך זהב שחור - ארץ ישראל הישנה והטובה חלק ג - רימאסטרינג-Arik Einstein",
           2018
          ],
          [
           "עין גדי-Yehudit Ravitz",
           1979
          ],
          [
           "על גבעות שיך אבריק - אדמה אדמתי-OFARIM",
           1972
          ],
          [
           "עליך ועליי-Sarit Hadad",
           2007
          ],
          [
           "עקרה (אורי)-Noa",
           2013
          ],
          [
           "ערב כחול עמוק-Rita",
           1994
          ],
          [
           "ערב שח-Shoshana Damari",
           2010
          ],
          [
           "'פאוץ-Noa Kirel",
           2019
          ],
          [
           "פגישה לאין קץ-Chava Alberstein",
           2016
          ],
          [
           "פנים אל מול פנים-Gidi Gov",
           1995
          ],
          [
           "פרח הלילך-Chava Alberstein",
           1975
          ],
          [
           "צא מזה - Live-Yehudit Ravitz",
           2008
          ],
          [
           "קולנוע (עומר מושקוביץ)-Omer Moskovich",
           2020
          ],
          [
           "קרן אור-Noa",
           1998
          ],
          [
           "רועה ורועה-Shoshana Damari",
           2010
          ],
          [
           "רוקדת-Ania Bukstein",
           2017
          ],
          [
           "רחבת הריקודים-Yehudit Ravitz",
           1987
          ],
          [
           "רחמים-Ofra Haza",
           2000
          ],
          [
           "רעידת אדמה-Yehudit Ravitz",
           1990
          ],
          [
           "שביל הבריחה-Rita",
           1986
          ],
          [
           "שבתות וחגים-Yehudit Ravitz",
           1994
          ],
          [
           "שחמט-Chava Alberstein",
           1990
          ],
          [
           "שטח ההפקר-Gidi Gov",
           1983
          ],
          [
           "שיבולת בשדה-Ran & Nama",
           1960
          ],
          [
           "שיר הפיפי-Gitit Fisher",
           2019
          ],
          [
           "שיר הפריחה - 1985 Version-Ofra Haza",
           1986
          ],
          [
           "שיר לאסף-Keren Peles",
           2010
          ],
          [
           "שיר משמר-Chava Alberstein",
           2016
          ],
          [
           "שיר של יום חולין-Ilanit",
           2009
          ],
          [
           "שרה ברחובות - גרסת האירוויזיון-Rita",
           2015
          ],
          [
           "שתו העדרים - מעמק לגבעה-OFARIM",
           1972
          ],
          [
           "תאמרו לו-Nasrin Kadri",
           2018
          ],
          [
           "תמונה-Yehudit Ravitz",
           1993
          ],
          [
           "תפילה - 1985 Version-Ofra Haza",
           2000
          ],
          [
           "תפתח חלון-Rita",
           1999
          ],
          [
           "תשאירי לי מקום לחבק אותך-Avtipus",
           1995
          ],
          [
           "メリッサ-PornoGraffitti",
           1999
          ],
          [
           "ילדות נשכחת-Nurit Galron",
           1983
          ],
          [
           "ים של געגוע-Yehudit Ravitz",
           2007
          ],
          [
           "יעלה ויבוא-Gidi Gov",
           1973
          ],
          [
           "יעקב-Laladin",
           1994
          ],
          [
           "ירושלים של זהב-Ofra Haza",
           2000
          ],
          [
           "יש אי שם-Noa",
           2011
          ],
          [
           "יש לי חולשה לרקדנים-Riki Gal",
           1993
          ],
          [
           "יש לי ציפור קטנה בלב-Noa Kirel",
           2019
          ],
          [
           "ישנן בנות-Dana International",
           1998
          ],
          [
           "כאן-Orna & Moshe Datz",
           1994
          ],
          [
           "כלניות-Shoshana Damari",
           2010
          ],
          [
           "כמה שאני יפה - 1985-Tzipi Shavit",
           1985
          ],
          [
           "כמו ים-Yehonatan Geffen",
           1978
          ],
          [
           "כמו סינדרלה-Sarit Hadad",
           1999
          ],
          [
           "כשאני איתך אני כמו דג-Teapacks",
           2003
          ],
          [
           "לא דיברנו עוד על אהבה-Gidi Gov",
           1995
          ],
          [
           "לאורך הים-Ofra Haza",
           2000
          ],
          [
           "לדמעות יש פה-Sarit Hadad",
           1999
          ],
          [
           "לו יהי-Chava Alberstein",
           1973
          ],
          [
           "לונדון-Chava Alberstein",
           1989
          ],
          [
           "לילה-Yehudit Ravitz",
           1979
          ],
          [
           "לילה טוב אירופה-Dana International",
           1998
          ],
          [
           "ליל חניה-Hanan Yovel",
           2006
          ],
          [
           "ללדין-Laladin",
           1994
          ],
          [
           "למה הלכת ממנו-Teapacks",
           2003
          ],
          [
           "למה ליבך כמו קרח-Gidi Gov",
           2003
          ],
          [
           "למחרת-Yehudit Ravitz",
           1993
          ],
          [
           "למי שאינו מאמין-Yehudit Ravitz",
           1984
          ],
          [
           "לעולם בעקבות השמש-שרי",
           2019
          ],
          [
           "לקחת את ידי בידך-Yehudit Ravitz",
           1979
          ],
          [
           "מגדלור-Shoshana Damari",
           2012
          ],
          [
           "מגדלור-Mika Karni",
           2004
          ],
          [
           "מה אתה רוצה-Ella Lee",
           2020
          ],
          [
           "מוסיקה נשארת-Yardena Arazi",
           1998
          ],
          [
           "מחרוזת שירי כפר-Ofra Haza",
           1985
          ],
          [
           "מחרוזת שירי רועים: א.שיר השומר, ב.רועה ורועה, ג.ערב שח, ד.שיר הכד, ה.דבקה רפיח-Ofra Haza",
           1983
          ],
          [
           "מידיד לאויב-Gitit Fisher",
           2019
          ],
          [
           "?מי המנטה? מי המסטיק? מי השוקולד-Shokolad Menta Mastik",
           2005
          ],
          [
           "מיטשל-Mika Karni",
           1997
          ],
          [
           "מי יודע מדוע ולמה לובשת הזברה פיג`מה-Mashina",
           1989
          ],
          [
           "מישהו-Yehudit Ravitz",
           1979
          ],
          [
           "מלכת השושנים-Eden Ben Zaken",
           2015
          ],
          [
           "מסקרה שחורה-Dikla",
           2016
          ],
          [
           "מפחד עלייך-Miri Mesika",
           2018
          ],
          [
           "מפחד עלייך - OFFER NISSIM REMIX-Miri Mesika",
           2018
          ],
          [
           "מקהלה עליזה-Chava Alberstein",
           1967
          ],
          [
           "מקהלה עליזה-Dana International",
           2020
          ],
          [
           "משירי ארץ אהבתי-Chava Alberstein",
           1970
          ],
          [
           "מתי לחזור-אתניקס",
           2011
          ],
          [
           "נגיעה אחת רכה-Nurit Galron",
           1984
          ],
          [
           "נוסעת לפטרה-Dana International",
           1998
          ],
          [
           "נח-Matti Caspi",
           1974
          ],
          [
           "ניצנים נראו בארץ-HaGevatron",
           1994
          ],
          [
           "נעמיד פני יתומים-Yehudit Ravitz",
           1993
          ],
          [
           "נשים רוקדות-Chava Alberstein",
           1975
          ],
          [
           "סיגליות-David Broza",
           1983
          ],
          [
           "סליחות-Yehudit Ravitz",
           1979
          ],
          [
           "סעידה סולטנה-Dana International",
           1998
          ]
         ],
         "hovertemplate": "0=%{x}<br>1=%{y}<br>index=%{customdata[0]}<br>release year=%{marker.color}<extra></extra>",
         "legendgroup": "",
         "marker": {
          "color": [
           1997,
           1993,
           1998,
           1987,
           2012,
           2006,
           1998,
           2006,
           1998,
           2019,
           2011,
           1987,
           2007,
           2012,
           2004,
           1989,
           1995,
           1984,
           1973,
           1988,
           2004,
           2010,
           2019,
           1994,
           2003,
           1990,
           1994,
           1998,
           1992,
           1999,
           1975,
           1992,
           1968,
           1997,
           2001,
           2015,
           1998,
           2017,
           1984,
           1965,
           2014,
           1971,
           2019,
           2018,
           2018,
           2015,
           2007,
           1972,
           2020,
           2017,
           1977,
           2020,
           2019,
           2002,
           1964,
           2004,
           1997,
           2005,
           2004,
           2014,
           2008,
           2005,
           1994,
           2009,
           2018,
           2009,
           1996,
           2020,
           2010,
           1992,
           2001,
           2017,
           2015,
           1998,
           2012,
           2006,
           2004,
           2004,
           2006,
           2016,
           1980,
           2009,
           2013,
           2010,
           2019,
           2019,
           1999,
           2020,
           1995,
           2009,
           2019,
           1995,
           2006,
           1989,
           2005,
           1993,
           2001,
           1988,
           1977,
           2003,
           1978,
           1981,
           1991,
           1972,
           1997,
           1984,
           1978,
           2005,
           2020,
           1988,
           1993,
           2000,
           2017,
           2008,
           1975,
           2020,
           1975,
           1975,
           1993,
           1986,
           2016,
           1988,
           1998,
           1995,
           2004,
           2011,
           2000,
           1978,
           1978,
           1998,
           1982,
           1999,
           1984,
           1993,
           1974,
           1981,
           1998,
           2002,
           1979,
           1999,
           1997,
           2017,
           2018,
           2007,
           1998,
           2018,
           2018,
           1996,
           2000,
           1986,
           2017,
           2001,
           1999,
           2019,
           2007,
           2019,
           2014,
           1997,
           2009,
           2019,
           2008,
           2014,
           2004,
           2005,
           1997,
           2012,
           1997,
           2019,
           2016,
           1998,
           2020,
           2019,
           2004,
           2011,
           1974,
           2010,
           1996,
           2016,
           2015,
           2011,
           2011,
           2018,
           2015,
           2019,
           2004,
           2014,
           2002,
           2006,
           1987,
           1998,
           2019,
           2018,
           2002,
           2008,
           2016,
           2000,
           1997,
           1997,
           2017,
           2006,
           2018,
           2016,
           2020,
           1968,
           2016,
           2020,
           2007,
           1999,
           2019,
           2001,
           2005,
           1973,
           1999,
           2008,
           1972,
           2020,
           2020,
           2014,
           2009,
           2016,
           2020,
           2008,
           1989,
           2006,
           2014,
           2009,
           2014,
           2018,
           2008,
           2014,
           2012,
           2012,
           1998,
           2011,
           2020,
           2001,
           2011,
           1999,
           2019,
           2017,
           1972,
           2007,
           1998,
           2019,
           2019,
           2016,
           2019,
           2016,
           1964,
           2012,
           1999,
           2014,
           2010,
           2014,
           2003,
           1998,
           1997,
           2009,
           1995,
           2020,
           2019,
           1993,
           2010,
           2012,
           2009,
           2011,
           2014,
           2009,
           1994,
           1995,
           2012,
           2002,
           2011,
           2003,
           2012,
           2018,
           2005,
           1999,
           2018,
           1999,
           2006,
           2018,
           2020,
           2019,
           2003,
           2016,
           2017,
           2016,
           2016,
           2015,
           2019,
           2019,
           2019,
           2013,
           2013,
           2020,
           2012,
           2008,
           2016,
           2006,
           2017,
           2013,
           2001,
           1988,
           1999,
           2001,
           2019,
           1995,
           2007,
           2019,
           1987,
           2010,
           2007,
           2005,
           1997,
           2017,
           2013,
           1984,
           1998,
           1988,
           2018,
           1979,
           1972,
           2007,
           2013,
           1994,
           2010,
           2019,
           2016,
           1995,
           1975,
           2008,
           2020,
           1998,
           2010,
           2017,
           1987,
           2000,
           1990,
           1986,
           1994,
           1990,
           1983,
           1960,
           2019,
           1986,
           2010,
           2016,
           2009,
           2015,
           1972,
           2018,
           1993,
           2000,
           1999,
           1995,
           1999,
           1983,
           2007,
           1973,
           1994,
           2000,
           2011,
           1993,
           2019,
           1998,
           1994,
           2010,
           1985,
           1978,
           1999,
           2003,
           1995,
           2000,
           1999,
           1973,
           1989,
           1979,
           1998,
           2006,
           1994,
           2003,
           2003,
           1993,
           1984,
           2019,
           1979,
           2012,
           2004,
           2020,
           1998,
           1985,
           1983,
           2019,
           2005,
           1997,
           1989,
           1979,
           2015,
           2016,
           2018,
           2018,
           1967,
           2020,
           1970,
           2011,
           1984,
           1998,
           1974,
           1994,
           1993,
           1975,
           1983,
           1979,
           1998
          ],
          "coloraxis": "coloraxis",
          "symbol": "circle"
         },
         "mode": "markers",
         "name": "",
         "orientation": "v",
         "showlegend": false,
         "type": "scatter",
         "x": [
          9.983455657958984,
          20.130821228027344,
          11.50706958770752,
          28.259553909301758,
          -14.638582229614258,
          -4.0099968910217285,
          6.213223934173584,
          -5.991222858428955,
          10.151049613952637,
          -28.398571014404297,
          -13.11773681640625,
          28.6225528717041,
          -6.281491756439209,
          -14.931183815002441,
          -1.4033052921295166,
          25.558837890625,
          17.996049880981445,
          31.47406578063965,
          38.942474365234375,
          26.22356414794922,
          -1.0280431509017944,
          -11.60048770904541,
          -28.20004653930664,
          17.668867111206055,
          0.7027484774589539,
          23.25105857849121,
          20.182626724243164,
          10.705212593078613,
          20.866579055786133,
          8.062732696533203,
          38.17091751098633,
          21.48763084411621,
          40.48764419555664,
          12.366828918457031,
          2.764101028442383,
          -20.326311111450195,
          8.400479316711426,
          -27.07935905456543,
          29.406816482543945,
          42.22185134887695,
          -18.184965133666992,
          40.90608596801758,
          -32.51689147949219,
          -27.16005516052246,
          -26.96672248840332,
          -21.27462387084961,
          -8.611976623535156,
          40.201446533203125,
          -30.750165939331055,
          -26.96266746520996,
          36.04057693481445,
          -30.249296188354492,
          -24.323436737060547,
          1.2163805961608887,
          41.87662124633789,
          -0.4079340398311615,
          13.229514122009277,
          -1.449698805809021,
          -0.5100973844528198,
          -21.729412078857422,
          -11.637669563293457,
          -3.988774299621582,
          18.49542236328125,
          -11.986180305480957,
          -23.109542846679688,
          -13.513692855834961,
          14.217202186584473,
          -34.82114791870117,
          -11.184751510620117,
          19.662147521972656,
          4.782054424285889,
          -26.948856353759766,
          -23.50397300720215,
          9.320645332336426,
          -17.282670974731445,
          -5.2508158683776855,
          -3.1309943199157715,
          -0.631730854511261,
          -3.1010422706604004,
          -23.801673889160156,
          33.74423599243164,
          -10.800642967224121,
          -18.070270538330078,
          -10.327787399291992,
          -28.796133041381836,
          -31.661663055419922,
          7.22419548034668,
          -26.669496536254883,
          16.14569091796875,
          -11.794164657592773,
          -26.759681701660156,
          17.58917999267578,
          -4.389085292816162,
          25.611127853393555,
          -5.679210662841797,
          20.80718994140625,
          3.360438823699951,
          28.14889907836914,
          37.61991500854492,
          -2.5240843296051025,
          35.9356689453125,
          33.12393569946289,
          22.28147315979004,
          39.67563247680664,
          5.841681957244873,
          29.869638442993164,
          35.408748626708984,
          -2.785459041595459,
          -31.086320877075195,
          26.4484806060791,
          18.506513595581055,
          7.465093612670898,
          -26.018152236938477,
          -8.46186637878418,
          38.11914825439453,
          -29.55432891845703,
          38.80201721191406,
          37.52073669433594,
          20.33941650390625,
          27.781373977661133,
          -25.023286819458008,
          25.761028289794922,
          11.203731536865234,
          19.5113468170166,
          -3.249107599258423,
          -10.694130897521973,
          6.836071968078613,
          36.236454010009766,
          37.24225616455078,
          9.879161834716797,
          31.60685157775879,
          14.085663795471191,
          29.0977783203125,
          19.008848190307617,
          38.88982009887695,
          33.421470642089844,
          8.340115547180176,
          -0.555590808391571,
          34.504154205322266,
          4.762956619262695,
          13.02640438079834,
          -23.4278507232666,
          -28.464426040649414,
          -1.6867077350616455,
          8.595187187194824,
          -25.16192626953125,
          -28.754486083984375,
          10.755602836608887,
          5.7774739265441895,
          28.205533981323242,
          -23.184778213500977,
          6.860100269317627,
          7.832336902618408,
          -33.50751876831055,
          -3.4195308685302734,
          -34.40042495727539,
          -23.839069366455078,
          14.180638313293457,
          -11.27384090423584,
          -29.231399536132812,
          -13.953657150268555,
          -17.69409942626953,
          -2.520846128463745,
          -1.3978698253631592,
          14.303194046020508,
          -17.54494285583496,
          13.984426498413086,
          -29.362947463989258,
          -24.65751838684082,
          12.525816917419434,
          -25.933629989624023,
          -30.311792373657227,
          0.28545013070106506,
          -13.68632698059082,
          37.225337982177734,
          -11.279840469360352,
          12.680871963500977,
          -24.022422790527344,
          -23.761127471923828,
          -13.615938186645508,
          -13.34820556640625,
          -26.781831741333008,
          -20.485530853271484,
          -27.755521774291992,
          -1.3361070156097412,
          -19.467721939086914,
          0.7455495595932007,
          -5.838412761688232,
          27.434001922607422,
          9.495430946350098,
          -28.793249130249023,
          -28.03126335144043,
          -2.224539041519165,
          -6.2932939529418945,
          -23.536357879638672,
          7.31565523147583,
          10.357584953308105,
          11.586786270141602,
          -26.225337982177734,
          -3.3777034282684326,
          -23.116518020629883,
          -23.64431381225586,
          -31.285425186157227,
          41.06727981567383,
          -21.146150588989258,
          -31.161514282226562,
          -4.3567070960998535,
          8.034629821777344,
          -31.8038387298584,
          4.913501739501953,
          -3.639885902404785,
          38.876522064208984,
          4.861012935638428,
          -7.30142068862915,
          39.04128646850586,
          -30.38541030883789,
          -29.3496036529541,
          -19.112886428833008,
          -9.811736106872559,
          -21.82537078857422,
          -29.364240646362305,
          -7.878066539764404,
          26.25765609741211,
          -4.0920867919921875,
          -18.91379165649414,
          -9.691254615783691,
          -22.255348205566406,
          -27.564332962036133,
          -8.972667694091797,
          -20.060819625854492,
          -15.756896018981934,
          -16.936954498291016,
          7.993427276611328,
          -12.959922790527344,
          -32.60282516479492,
          4.01736307144165,
          -14.216316223144531,
          7.356673717498779,
          -31.563701629638672,
          -26.788005828857422,
          39.7497673034668,
          -6.549466609954834,
          11.565706253051758,
          -28.713159561157227,
          -30.02896499633789,
          -25.239683151245117,
          -31.73343276977539,
          -20.927637100219727,
          42.44644546508789,
          -13.285233497619629,
          6.1757731437683105,
          -20.150053024291992,
          -13.786750793457031,
          -19.44577407836914,
          -0.3228923976421356,
          6.943063259124756,
          11.066732406616211,
          -8.119771957397461,
          16.594579696655273,
          -31.648372650146484,
          -31.556333541870117,
          18.264854431152344,
          -12.326886177062988,
          -16.505014419555664,
          -11.039780616760254,
          -14.394187927246094,
          -20.24308967590332,
          -9.28101634979248,
          17.437997817993164,
          17.015207290649414,
          -15.636383056640625,
          1.378511667251587,
          -14.806943893432617,
          1.5277019739151,
          -17.824100494384766,
          -27.266353607177734,
          -2.9934723377227783,
          4.681326866149902,
          -28.086450576782227,
          4.329504013061523,
          -1.6511379480361938,
          -26.651153564453125,
          -33.736881256103516,
          -32.45036697387695,
          0.33730173110961914,
          -20.971019744873047,
          -27.73725128173828,
          -24.561906814575195,
          -26.1220703125,
          -22.043291091918945,
          -29.303728103637695,
          -29.783414840698242,
          -29.783369064331055,
          -17.7351131439209,
          -17.62355613708496,
          -32.43350601196289,
          -17.1070499420166,
          -6.986545085906982,
          -24.001558303833008,
          -4.7781596183776855,
          -26.15498924255371,
          -22.284563064575195,
          4.339902400970459,
          26.935585021972656,
          6.955379009246826,
          4.1112236976623535,
          -28.704174041748047,
          16.25605583190918,
          -8.510091781616211,
          -30.717256546020508,
          27.50494384765625,
          -12.29609489440918,
          -2.3563156127929688,
          -2.3190712928771973,
          12.282553672790527,
          -25.482568740844727,
          -14.189183235168457,
          30.564109802246094,
          11.543510437011719,
          26.506633758544922,
          -25.58738136291504,
          34.49247741699219,
          39.7051887512207,
          -5.149810791015625,
          -13.256585121154785,
          19.768362045288086,
          -11.454143524169922,
          -30.389484405517578,
          -24.677753448486328,
          17.212116241455078,
          37.979881286621094,
          -9.336288452148438,
          -33.96953582763672,
          12.038246154785156,
          -9.48867130279541,
          -26.742815017700195,
          28.730249404907227,
          3.9210522174835205,
          23.84764862060547,
          27.60682487487793,
          21.18232536315918,
          24.314165115356445,
          31.553586959838867,
          42.26165008544922,
          -30.50047492980957,
          29.353397369384766,
          -12.702780723571777,
          -22.54375648498535,
          -9.086990356445312,
          -22.29904556274414,
          39.01701354980469,
          -23.826766967773438,
          18.98053741455078,
          4.515685558319092,
          7.995815753936768,
          19.866811752319336,
          4.348762512207031,
          32.47528076171875,
          -5.397697925567627,
          38.51451873779297,
          18.122652053833008,
          6.488012790679932,
          -12.749253273010254,
          19.858436584472656,
          -29.964807510375977,
          6.105964183807373,
          18.271547317504883,
          -11.949702262878418,
          31.30604362487793,
          36.48576354980469,
          6.4893598556518555,
          1.1226551532745361,
          17.335681915283203,
          7.576192378997803,
          11.265673637390137,
          39.252410888671875,
          24.52808380126953,
          35.34638214111328,
          7.322145938873291,
          -7.239923000335693,
          16.794374465942383,
          0.416856974363327,
          5.271212577819824,
          20.57518768310547,
          32.13246536254883,
          -29.166414260864258,
          35.75761032104492,
          -13.982199668884277,
          -4.788236618041992,
          -30.67166519165039,
          10.31513500213623,
          29.812719345092773,
          30.73662757873535,
          -31.459150314331055,
          -3.8481760025024414,
          13.874504089355469,
          26.938770294189453,
          34.56562805175781,
          -22.37831687927246,
          -25.134334564208984,
          -28.433523178100586,
          -26.583057403564453,
          41.0522575378418,
          -34.31235885620117,
          40.33574676513672,
          -13.258691787719727,
          30.526905059814453,
          6.747424602508545,
          38.12684631347656,
          19.976579666137695,
          18.666301727294922,
          40.74072265625,
          30.859264373779297,
          35.120872497558594,
          9.1779203414917
         ],
         "xaxis": "x",
         "y": [
          5.8484344482421875,
          2.653334856033325,
          10.06494426727295,
          -1.5925586223602295,
          -4.999046325683594,
          2.6697330474853516,
          5.016173839569092,
          -2.2115371227264404,
          3.9408488273620605,
          -5.957851409912109,
          4.016455173492432,
          3.558917999267578,
          1.7862834930419922,
          -4.061568737030029,
          2.6911323070526123,
          2.85479474067688,
          7.173167705535889,
          2.186096429824829,
          -2.931713342666626,
          0.7518196702003479,
          0.5903871059417725,
          0.7483109831809998,
          -10.433440208435059,
          0.9094074368476868,
          3.7575669288635254,
          1.891661524772644,
          4.294209003448486,
          7.062725067138672,
          5.445765495300293,
          2.978797674179077,
          0.12152232974767685,
          5.004716396331787,
          -4.516517639160156,
          5.194395065307617,
          5.095386505126953,
          -7.639621734619141,
          1.3658394813537598,
          -9.232751846313477,
          1.7724686861038208,
          -1.9242030382156372,
          -4.2317047119140625,
          -1.0342618227005005,
          -4.49554443359375,
          -12.78399658203125,
          -1.6194958686828613,
          -12.707175254821777,
          -5.803394317626953,
          -1.1287657022476196,
          -8.289194107055664,
          -6.146390914916992,
          -3.7680864334106445,
          -7.3232855796813965,
          -11.468903541564941,
          1.0198166370391846,
          -3.034769058227539,
          4.7962799072265625,
          6.004711151123047,
          -0.20739635825157166,
          -0.31359273195266724,
          -3.3568968772888184,
          3.7732203006744385,
          3.473863363265991,
          7.438468933105469,
          -2.647512435913086,
          -11.490029335021973,
          0.29498863220214844,
          1.5646907091140747,
          -5.598760604858398,
          -1.586539387702942,
          6.280312538146973,
          0.3858422338962555,
          -7.805222034454346,
          -2.325969696044922,
          3.257411003112793,
          -1.789872169494629,
          1.8210949897766113,
          6.982748985290527,
          4.09702205657959,
          -1.2337300777435303,
          -5.825514316558838,
          -1.9919073581695557,
          1.3102535009384155,
          -2.606193780899048,
          -3.656633138656616,
          -9.928645133972168,
          -12.552666664123535,
          0.6494426131248474,
          -14.61551570892334,
          3.427555799484253,
          -3.5688416957855225,
          -15.819100379943848,
          6.325343132019043,
          1.1780478954315186,
          1.9331538677215576,
          -3.4590086936950684,
          6.018409729003906,
          5.215756416320801,
          3.9041354656219482,
          -2.239351272583008,
          8.544976234436035,
          -0.7161158323287964,
          0.6322702169418335,
          1.9959360361099243,
          -0.5464228987693787,
          4.5140180587768555,
          -0.7353062033653259,
          -1.5212013721466064,
          0.8229166865348816,
          -4.415457248687744,
          1.7310280799865723,
          5.609940052032471,
          5.64560604095459,
          -9.796759605407715,
          6.152404308319092,
          -3.03507661819458,
          -4.434243679046631,
          -1.1063543558120728,
          -1.2221370935440063,
          3.026874303817749,
          1.0960973501205444,
          -15.719058990478516,
          0.9678407311439514,
          10.291803359985352,
          7.658263683319092,
          3.740570068359375,
          -2.1014389991760254,
          8.478140830993652,
          -1.9359358549118042,
          0.8446548581123352,
          4.540351390838623,
          0.8886043429374695,
          4.391214847564697,
          0.9346653819084167,
          5.847274303436279,
          -0.24730539321899414,
          1.1223376989364624,
          4.130680561065674,
          6.495982646942139,
          -2.131681442260742,
          7.875265121459961,
          2.6101932525634766,
          -9.083099365234375,
          -7.306915283203125,
          -3.574357509613037,
          3.188004970550537,
          -14.474085807800293,
          -2.390326499938965,
          2.970564365386963,
          -0.2458891123533249,
          2.1612634658813477,
          -11.732758522033691,
          6.712578296661377,
          0.552498996257782,
          -8.355257034301758,
          -2.177037000656128,
          -5.2144036293029785,
          0.7889605164527893,
          6.178279876708984,
          -3.5124311447143555,
          -7.061524868011475,
          1.1657755374908447,
          0.08413901925086975,
          6.481668472290039,
          -2.005709409713745,
          6.667941570281982,
          -6.976316928863525,
          3.080004930496216,
          -4.489941596984863,
          -6.782431125640869,
          4.457205295562744,
          -13.520029067993164,
          -10.27721881866455,
          -1.133406162261963,
          -3.549781322479248,
          -3.593496084213257,
          -4.781269550323486,
          2.1152379512786865,
          -0.5880833864212036,
          -0.653785765171051,
          -4.194716930389404,
          -3.0563457012176514,
          -12.459195137023926,
          -7.123751163482666,
          -5.187071323394775,
          1.7011477947235107,
          -3.43638277053833,
          4.71442174911499,
          -2.7763211727142334,
          1.762594223022461,
          4.9526567459106445,
          -12.54043197631836,
          -8.932600021362305,
          7.060329437255859,
          3.7185873985290527,
          -4.321473598480225,
          8.217581748962402,
          0.2981656789779663,
          -1.1167479753494263,
          -7.917222499847412,
          0.3335801959037781,
          -8.100787162780762,
          -4.321077346801758,
          -10.869388580322266,
          -2.420600414276123,
          -10.893854141235352,
          -1.9873647689819336,
          -3.719792604446411,
          7.690808296203613,
          -2.3325042724609375,
          -0.398844450712204,
          -4.002871513366699,
          -2.0452797412872314,
          6.328793525695801,
          4.413120269775391,
          -3.7995269298553467,
          -8.082257270812988,
          -8.55353832244873,
          -3.571329355239868,
          -2.7653660774230957,
          -10.876498222351074,
          -10.92027473449707,
          3.032884120941162,
          2.5954201221466064,
          -3.374145746231079,
          -2.2045505046844482,
          -0.492548406124115,
          -2.321659803390503,
          -7.188525676727295,
          -1.0580785274505615,
          -2.0641064643859863,
          -1.7293208837509155,
          -0.24583768844604492,
          5.0016632080078125,
          -3.7108659744262695,
          -7.867893695831299,
          -1.7716751098632812,
          -1.0653643608093262,
          -0.6653950214385986,
          -5.948171615600586,
          -9.015811920166016,
          -1.3714089393615723,
          0.8566080927848816,
          1.929888367652893,
          -11.216341018676758,
          -10.326090812683105,
          -10.436802864074707,
          -8.807043075561523,
          -1.309951901435852,
          -2.6213057041168213,
          -7.541222095489502,
          1.6665515899658203,
          -8.411670684814453,
          -2.640350580215454,
          -4.427707672119141,
          1.3292980194091797,
          4.233750820159912,
          -0.8748827576637268,
          2.762742042541504,
          1.770957112312317,
          -7.314554691314697,
          -7.251967906951904,
          3.0911314487457275,
          -1.816273808479309,
          -2.8057730197906494,
          0.7630584239959717,
          0.09751605987548828,
          -6.934860706329346,
          -5.090861797332764,
          1.7629215717315674,
          4.044482707977295,
          -1.9947242736816406,
          5.846823215484619,
          -1.447739601135254,
          -1.026200532913208,
          -7.170815467834473,
          -11.229724884033203,
          2.4098784923553467,
          5.313559055328369,
          -9.383491516113281,
          6.965816020965576,
          -3.4395525455474854,
          -3.7879321575164795,
          -7.18080997467041,
          -6.321844577789307,
          4.948838233947754,
          -11.036184310913086,
          -0.9061835408210754,
          0.21342754364013672,
          -11.633143424987793,
          -9.110566139221191,
          -4.4716291427612305,
          -14.006603240966797,
          -14.006600379943848,
          -4.501089572906494,
          -3.3876864910125732,
          -2.8918161392211914,
          2.3881375789642334,
          0.6271308064460754,
          -13.606062889099121,
          4.696240425109863,
          -10.115445137023926,
          -0.3597163259983063,
          0.09945075958967209,
          3.9167563915252686,
          3.17916202545166,
          -1.5864036083221436,
          -1.3068299293518066,
          2.3234410285949707,
          3.8932745456695557,
          -6.688002586364746,
          2.3059182167053223,
          -0.5463975667953491,
          -0.2794169783592224,
          4.030377388000488,
          5.639164924621582,
          -6.510650157928467,
          -6.727222919464111,
          1.5906801223754883,
          -1.1126965284347534,
          1.0348291397094727,
          -15.636045455932617,
          -1.679332971572876,
          -2.639086961746216,
          3.180098533630371,
          -8.02046012878418,
          4.457655906677246,
          1.969029426574707,
          -5.898843765258789,
          -16.298477172851562,
          8.373927116394043,
          -0.5185245871543884,
          2.0046772956848145,
          -4.322500228881836,
          9.5169038772583,
          -6.967582702636719,
          -5.3897294998168945,
          -0.5791535973548889,
          6.762145042419434,
          2.5305304527282715,
          0.3667783737182617,
          3.355231523513794,
          3.626912832260132,
          -1.9277263879776,
          -3.7223222255706787,
          -1.9218889474868774,
          2.838651180267334,
          -0.8224404454231262,
          -13.966157913208008,
          -5.721096038818359,
          -13.112371444702148,
          -4.3206787109375,
          -9.52655029296875,
          6.644598007202148,
          3.65167236328125,
          7.176873207092285,
          7.515375137329102,
          7.655375957489014,
          -0.8361449837684631,
          3.9856479167938232,
          -4.3816680908203125,
          5.363955020904541,
          9.504389762878418,
          3.68491792678833,
          5.259699821472168,
          -7.3245978355407715,
          2.7738797664642334,
          4.508923053741455,
          2.4357426166534424,
          3.4395110607147217,
          0.29469746351242065,
          1.0065125226974487,
          -0.5842099189758301,
          7.932339191436768,
          8.846710205078125,
          5.872914791107178,
          0.24075841903686523,
          1.006022572517395,
          0.016559738665819168,
          4.319900035858154,
          6.0746588706970215,
          5.290863513946533,
          -0.008584264665842056,
          10.06119441986084,
          2.8056366443634033,
          -0.550544798374176,
          -1.709895133972168,
          0.6957963109016418,
          -6.433315753936768,
          -0.8709847331047058,
          -9.148472785949707,
          0.21111394464969635,
          0.2631446123123169,
          -0.08934319019317627,
          -1.1894562244415283,
          1.8098009824752808,
          4.995016574859619,
          3.309262990951538,
          -0.9012160897254944,
          -5.186844348907471,
          -8.832072257995605,
          -8.46627140045166,
          -4.258448600769043,
          -3.039961814880371,
          -6.052302837371826,
          -2.2096755504608154,
          -1.7123783826828003,
          -2.3341736793518066,
          2.6763105392456055,
          -3.9374520778656006,
          8.817221641540527,
          1.6525535583496094,
          0.21465811133384705,
          0.3436027765274048,
          -0.3866640329360962,
          2.434516668319702
         ],
         "yaxis": "y"
        }
       ],
       "layout": {
        "coloraxis": {
         "colorbar": {
          "title": {
           "text": "release year"
          }
         },
         "colorscale": [
          [
           0,
           "#0d0887"
          ],
          [
           0.1111111111111111,
           "#46039f"
          ],
          [
           0.2222222222222222,
           "#7201a8"
          ],
          [
           0.3333333333333333,
           "#9c179e"
          ],
          [
           0.4444444444444444,
           "#bd3786"
          ],
          [
           0.5555555555555556,
           "#d8576b"
          ],
          [
           0.6666666666666666,
           "#ed7953"
          ],
          [
           0.7777777777777778,
           "#fb9f3a"
          ],
          [
           0.8888888888888888,
           "#fdca26"
          ],
          [
           1,
           "#f0f921"
          ]
         ]
        },
        "legend": {
         "tracegroupgap": 0
        },
        "margin": {
         "t": 60
        },
        "template": {
         "data": {
          "bar": [
           {
            "error_x": {
             "color": "#2a3f5f"
            },
            "error_y": {
             "color": "#2a3f5f"
            },
            "marker": {
             "line": {
              "color": "#E5ECF6",
              "width": 0.5
             }
            },
            "type": "bar"
           }
          ],
          "barpolar": [
           {
            "marker": {
             "line": {
              "color": "#E5ECF6",
              "width": 0.5
             }
            },
            "type": "barpolar"
           }
          ],
          "carpet": [
           {
            "aaxis": {
             "endlinecolor": "#2a3f5f",
             "gridcolor": "white",
             "linecolor": "white",
             "minorgridcolor": "white",
             "startlinecolor": "#2a3f5f"
            },
            "baxis": {
             "endlinecolor": "#2a3f5f",
             "gridcolor": "white",
             "linecolor": "white",
             "minorgridcolor": "white",
             "startlinecolor": "#2a3f5f"
            },
            "type": "carpet"
           }
          ],
          "choropleth": [
           {
            "colorbar": {
             "outlinewidth": 0,
             "ticks": ""
            },
            "type": "choropleth"
           }
          ],
          "contour": [
           {
            "colorbar": {
             "outlinewidth": 0,
             "ticks": ""
            },
            "colorscale": [
             [
              0,
              "#0d0887"
             ],
             [
              0.1111111111111111,
              "#46039f"
             ],
             [
              0.2222222222222222,
              "#7201a8"
             ],
             [
              0.3333333333333333,
              "#9c179e"
             ],
             [
              0.4444444444444444,
              "#bd3786"
             ],
             [
              0.5555555555555556,
              "#d8576b"
             ],
             [
              0.6666666666666666,
              "#ed7953"
             ],
             [
              0.7777777777777778,
              "#fb9f3a"
             ],
             [
              0.8888888888888888,
              "#fdca26"
             ],
             [
              1,
              "#f0f921"
             ]
            ],
            "type": "contour"
           }
          ],
          "contourcarpet": [
           {
            "colorbar": {
             "outlinewidth": 0,
             "ticks": ""
            },
            "type": "contourcarpet"
           }
          ],
          "heatmap": [
           {
            "colorbar": {
             "outlinewidth": 0,
             "ticks": ""
            },
            "colorscale": [
             [
              0,
              "#0d0887"
             ],
             [
              0.1111111111111111,
              "#46039f"
             ],
             [
              0.2222222222222222,
              "#7201a8"
             ],
             [
              0.3333333333333333,
              "#9c179e"
             ],
             [
              0.4444444444444444,
              "#bd3786"
             ],
             [
              0.5555555555555556,
              "#d8576b"
             ],
             [
              0.6666666666666666,
              "#ed7953"
             ],
             [
              0.7777777777777778,
              "#fb9f3a"
             ],
             [
              0.8888888888888888,
              "#fdca26"
             ],
             [
              1,
              "#f0f921"
             ]
            ],
            "type": "heatmap"
           }
          ],
          "heatmapgl": [
           {
            "colorbar": {
             "outlinewidth": 0,
             "ticks": ""
            },
            "colorscale": [
             [
              0,
              "#0d0887"
             ],
             [
              0.1111111111111111,
              "#46039f"
             ],
             [
              0.2222222222222222,
              "#7201a8"
             ],
             [
              0.3333333333333333,
              "#9c179e"
             ],
             [
              0.4444444444444444,
              "#bd3786"
             ],
             [
              0.5555555555555556,
              "#d8576b"
             ],
             [
              0.6666666666666666,
              "#ed7953"
             ],
             [
              0.7777777777777778,
              "#fb9f3a"
             ],
             [
              0.8888888888888888,
              "#fdca26"
             ],
             [
              1,
              "#f0f921"
             ]
            ],
            "type": "heatmapgl"
           }
          ],
          "histogram": [
           {
            "marker": {
             "colorbar": {
              "outlinewidth": 0,
              "ticks": ""
             }
            },
            "type": "histogram"
           }
          ],
          "histogram2d": [
           {
            "colorbar": {
             "outlinewidth": 0,
             "ticks": ""
            },
            "colorscale": [
             [
              0,
              "#0d0887"
             ],
             [
              0.1111111111111111,
              "#46039f"
             ],
             [
              0.2222222222222222,
              "#7201a8"
             ],
             [
              0.3333333333333333,
              "#9c179e"
             ],
             [
              0.4444444444444444,
              "#bd3786"
             ],
             [
              0.5555555555555556,
              "#d8576b"
             ],
             [
              0.6666666666666666,
              "#ed7953"
             ],
             [
              0.7777777777777778,
              "#fb9f3a"
             ],
             [
              0.8888888888888888,
              "#fdca26"
             ],
             [
              1,
              "#f0f921"
             ]
            ],
            "type": "histogram2d"
           }
          ],
          "histogram2dcontour": [
           {
            "colorbar": {
             "outlinewidth": 0,
             "ticks": ""
            },
            "colorscale": [
             [
              0,
              "#0d0887"
             ],
             [
              0.1111111111111111,
              "#46039f"
             ],
             [
              0.2222222222222222,
              "#7201a8"
             ],
             [
              0.3333333333333333,
              "#9c179e"
             ],
             [
              0.4444444444444444,
              "#bd3786"
             ],
             [
              0.5555555555555556,
              "#d8576b"
             ],
             [
              0.6666666666666666,
              "#ed7953"
             ],
             [
              0.7777777777777778,
              "#fb9f3a"
             ],
             [
              0.8888888888888888,
              "#fdca26"
             ],
             [
              1,
              "#f0f921"
             ]
            ],
            "type": "histogram2dcontour"
           }
          ],
          "mesh3d": [
           {
            "colorbar": {
             "outlinewidth": 0,
             "ticks": ""
            },
            "type": "mesh3d"
           }
          ],
          "parcoords": [
           {
            "line": {
             "colorbar": {
              "outlinewidth": 0,
              "ticks": ""
             }
            },
            "type": "parcoords"
           }
          ],
          "pie": [
           {
            "automargin": true,
            "type": "pie"
           }
          ],
          "scatter": [
           {
            "marker": {
             "colorbar": {
              "outlinewidth": 0,
              "ticks": ""
             }
            },
            "type": "scatter"
           }
          ],
          "scatter3d": [
           {
            "line": {
             "colorbar": {
              "outlinewidth": 0,
              "ticks": ""
             }
            },
            "marker": {
             "colorbar": {
              "outlinewidth": 0,
              "ticks": ""
             }
            },
            "type": "scatter3d"
           }
          ],
          "scattercarpet": [
           {
            "marker": {
             "colorbar": {
              "outlinewidth": 0,
              "ticks": ""
             }
            },
            "type": "scattercarpet"
           }
          ],
          "scattergeo": [
           {
            "marker": {
             "colorbar": {
              "outlinewidth": 0,
              "ticks": ""
             }
            },
            "type": "scattergeo"
           }
          ],
          "scattergl": [
           {
            "marker": {
             "colorbar": {
              "outlinewidth": 0,
              "ticks": ""
             }
            },
            "type": "scattergl"
           }
          ],
          "scattermapbox": [
           {
            "marker": {
             "colorbar": {
              "outlinewidth": 0,
              "ticks": ""
             }
            },
            "type": "scattermapbox"
           }
          ],
          "scatterpolar": [
           {
            "marker": {
             "colorbar": {
              "outlinewidth": 0,
              "ticks": ""
             }
            },
            "type": "scatterpolar"
           }
          ],
          "scatterpolargl": [
           {
            "marker": {
             "colorbar": {
              "outlinewidth": 0,
              "ticks": ""
             }
            },
            "type": "scatterpolargl"
           }
          ],
          "scatterternary": [
           {
            "marker": {
             "colorbar": {
              "outlinewidth": 0,
              "ticks": ""
             }
            },
            "type": "scatterternary"
           }
          ],
          "surface": [
           {
            "colorbar": {
             "outlinewidth": 0,
             "ticks": ""
            },
            "colorscale": [
             [
              0,
              "#0d0887"
             ],
             [
              0.1111111111111111,
              "#46039f"
             ],
             [
              0.2222222222222222,
              "#7201a8"
             ],
             [
              0.3333333333333333,
              "#9c179e"
             ],
             [
              0.4444444444444444,
              "#bd3786"
             ],
             [
              0.5555555555555556,
              "#d8576b"
             ],
             [
              0.6666666666666666,
              "#ed7953"
             ],
             [
              0.7777777777777778,
              "#fb9f3a"
             ],
             [
              0.8888888888888888,
              "#fdca26"
             ],
             [
              1,
              "#f0f921"
             ]
            ],
            "type": "surface"
           }
          ],
          "table": [
           {
            "cells": {
             "fill": {
              "color": "#EBF0F8"
             },
             "line": {
              "color": "white"
             }
            },
            "header": {
             "fill": {
              "color": "#C8D4E3"
             },
             "line": {
              "color": "white"
             }
            },
            "type": "table"
           }
          ]
         },
         "layout": {
          "annotationdefaults": {
           "arrowcolor": "#2a3f5f",
           "arrowhead": 0,
           "arrowwidth": 1
          },
          "autotypenumbers": "strict",
          "coloraxis": {
           "colorbar": {
            "outlinewidth": 0,
            "ticks": ""
           }
          },
          "colorscale": {
           "diverging": [
            [
             0,
             "#8e0152"
            ],
            [
             0.1,
             "#c51b7d"
            ],
            [
             0.2,
             "#de77ae"
            ],
            [
             0.3,
             "#f1b6da"
            ],
            [
             0.4,
             "#fde0ef"
            ],
            [
             0.5,
             "#f7f7f7"
            ],
            [
             0.6,
             "#e6f5d0"
            ],
            [
             0.7,
             "#b8e186"
            ],
            [
             0.8,
             "#7fbc41"
            ],
            [
             0.9,
             "#4d9221"
            ],
            [
             1,
             "#276419"
            ]
           ],
           "sequential": [
            [
             0,
             "#0d0887"
            ],
            [
             0.1111111111111111,
             "#46039f"
            ],
            [
             0.2222222222222222,
             "#7201a8"
            ],
            [
             0.3333333333333333,
             "#9c179e"
            ],
            [
             0.4444444444444444,
             "#bd3786"
            ],
            [
             0.5555555555555556,
             "#d8576b"
            ],
            [
             0.6666666666666666,
             "#ed7953"
            ],
            [
             0.7777777777777778,
             "#fb9f3a"
            ],
            [
             0.8888888888888888,
             "#fdca26"
            ],
            [
             1,
             "#f0f921"
            ]
           ],
           "sequentialminus": [
            [
             0,
             "#0d0887"
            ],
            [
             0.1111111111111111,
             "#46039f"
            ],
            [
             0.2222222222222222,
             "#7201a8"
            ],
            [
             0.3333333333333333,
             "#9c179e"
            ],
            [
             0.4444444444444444,
             "#bd3786"
            ],
            [
             0.5555555555555556,
             "#d8576b"
            ],
            [
             0.6666666666666666,
             "#ed7953"
            ],
            [
             0.7777777777777778,
             "#fb9f3a"
            ],
            [
             0.8888888888888888,
             "#fdca26"
            ],
            [
             1,
             "#f0f921"
            ]
           ]
          },
          "colorway": [
           "#636efa",
           "#EF553B",
           "#00cc96",
           "#ab63fa",
           "#FFA15A",
           "#19d3f3",
           "#FF6692",
           "#B6E880",
           "#FF97FF",
           "#FECB52"
          ],
          "font": {
           "color": "#2a3f5f"
          },
          "geo": {
           "bgcolor": "white",
           "lakecolor": "white",
           "landcolor": "#E5ECF6",
           "showlakes": true,
           "showland": true,
           "subunitcolor": "white"
          },
          "hoverlabel": {
           "align": "left"
          },
          "hovermode": "closest",
          "mapbox": {
           "style": "light"
          },
          "paper_bgcolor": "white",
          "plot_bgcolor": "#E5ECF6",
          "polar": {
           "angularaxis": {
            "gridcolor": "white",
            "linecolor": "white",
            "ticks": ""
           },
           "bgcolor": "#E5ECF6",
           "radialaxis": {
            "gridcolor": "white",
            "linecolor": "white",
            "ticks": ""
           }
          },
          "scene": {
           "xaxis": {
            "backgroundcolor": "#E5ECF6",
            "gridcolor": "white",
            "gridwidth": 2,
            "linecolor": "white",
            "showbackground": true,
            "ticks": "",
            "zerolinecolor": "white"
           },
           "yaxis": {
            "backgroundcolor": "#E5ECF6",
            "gridcolor": "white",
            "gridwidth": 2,
            "linecolor": "white",
            "showbackground": true,
            "ticks": "",
            "zerolinecolor": "white"
           },
           "zaxis": {
            "backgroundcolor": "#E5ECF6",
            "gridcolor": "white",
            "gridwidth": 2,
            "linecolor": "white",
            "showbackground": true,
            "ticks": "",
            "zerolinecolor": "white"
           }
          },
          "shapedefaults": {
           "line": {
            "color": "#2a3f5f"
           }
          },
          "ternary": {
           "aaxis": {
            "gridcolor": "white",
            "linecolor": "white",
            "ticks": ""
           },
           "baxis": {
            "gridcolor": "white",
            "linecolor": "white",
            "ticks": ""
           },
           "bgcolor": "#E5ECF6",
           "caxis": {
            "gridcolor": "white",
            "linecolor": "white",
            "ticks": ""
           }
          },
          "title": {
           "x": 0.05
          },
          "xaxis": {
           "automargin": true,
           "gridcolor": "white",
           "linecolor": "white",
           "ticks": "",
           "title": {
            "standoff": 15
           },
           "zerolinecolor": "white",
           "zerolinewidth": 2
          },
          "yaxis": {
           "automargin": true,
           "gridcolor": "white",
           "linecolor": "white",
           "ticks": "",
           "title": {
            "standoff": 15
           },
           "zerolinecolor": "white",
           "zerolinewidth": 2
          }
         }
        },
        "xaxis": {
         "anchor": "y",
         "domain": [
          0,
          1
         ],
         "title": {
          "text": "0"
         }
        },
        "yaxis": {
         "anchor": "x",
         "domain": [
          0,
          1
         ],
         "title": {
          "text": "1"
         }
        }
       }
      },
      "text/html": [
       "<div>                            <div id=\"61e8331f-cd71-4125-81a9-0bfd214a0fcd\" class=\"plotly-graph-div\" style=\"height:525px; width:100%;\"></div>            <script type=\"text/javascript\">                require([\"plotly\"], function(Plotly) {                    window.PLOTLYENV=window.PLOTLYENV || {};                                    if (document.getElementById(\"61e8331f-cd71-4125-81a9-0bfd214a0fcd\")) {                    Plotly.newPlot(                        \"61e8331f-cd71-4125-81a9-0bfd214a0fcd\",                        [{\"customdata\": [[\"\\u05d4\\u05d0\\u05dd \\u05d4\\u05d0\\u05dd \\u05d4\\u05d0\\u05dd-Gidi Gov\", 1997.0], [\"\\u05d4\\u05d2\\u05e0\\u05e0\\u05d9\\u05dd \\u05d4\\u05d9\\u05d5\\u05dd \\u05e2\\u05e6\\u05d5\\u05d1\\u05d9\\u05dd-Yehudit Ravitz\", 1993.0], [\"\\u05d4\\u05d5\\u05d0-Noa\", 1998.0], [\"\\u05d4\\u05d5\\u05d0 \\u05d4\\u05d5\\u05dc\\u05da \\u05de\\u05de\\u05da-Yehudit Ravitz\", 1987.0], [\"\\u05d4\\u05d5\\u05dc\\u05db\\u05ea \\u05de\\u05de\\u05da-Sharon Haziz\", 2012.0], [\"\\u05d4\\u05d5\\u05e8\\u05d4 \\u05de\\u05de\\u05d8\\u05e8\\u05d4-Shoshana Damari\", 2006.0], [\"\\u05d4\\u05d9\\u05d0 \\u05d4\\u05d5\\u05dc\\u05db\\u05ea \\u05d1\\u05d3\\u05e8\\u05db\\u05d9\\u05dd-Kaveret\", 1998.0], [\"\\u05d4\\u05d9\\u05d0 \\u05d9\\u05d5\\u05d3\\u05e2\\u05ea-Ninet Tayeb\", 2006.0], [\"\\u05d4\\u05d9\\u05d0 \\u05e8\\u05d5\\u05e7\\u05d3\\u05ea-Yardena Arazi\", 1998.0], [\"\\u05d4\\u05d9\\u05d0 \\u05e8\\u05d5\\u05e7\\u05d3\\u05ea-Yardena Arazi.1\", 2019.0], [\"\\u05d4\\u05d9\\u05d5 \\u05dc\\u05d9\\u05dc\\u05d5\\u05ea-Noa\", 2011.0], [\"\\u05d4\\u05db\\u05d9\\u05e0\\u05d5\\u05e8 \\u05d4\\u05e0\\u05d0\\u05de\\u05df-Yardena Arazi\", 1987.0], [\"\\u05d4\\u05db\\u05dc \\u05d6\\u05d4 \\u05dc\\u05d8\\u05d5\\u05d1\\u05d4-Dana International\", 2007.0], [\"\\u05d4\\u05db\\u05dc \\u05e1\\u05d2\\u05d5\\u05e8-Sarit Hadad\", 2012.0], [\"\\u05d4\\u05dc\\u05d1-Maya Buskila\", 2004.0], [\"\\u05d4\\u05dc\\u05d9\\u05dc\\u05d4-Hakol Over Habibi\", 1989.0], [\"\\u05d4\\u05dc\\u05dc\\u05d5\\u05d9\\u05d4-\\u05d7\\u05dc\\u05d1 \\u05d5\\u05d3\\u05d1\\u05e9\", 1995.0], [\"\\u05d4\\u05dd \\u05d1\\u05d6\\u05de\\u05e8 \\u05d4\\u05d6\\u05d4-Matti Caspi\", 1984.0], [\"\\u05d4\\u05de\\u05d2\\u05e4\\u05d9\\u05d9\\u05dd \\u05e9\\u05dc \\u05d1\\u05e8\\u05d5\\u05da-Kaveret\", 1973.0], [\"\\u05d4\\u05e0\\u05e1\\u05d9\\u05db\\u05d4 \\u05d5\\u05d4\\u05e8\\u05d5\\u05d7-Rita\", 1988.0], [\"\\u05d4\\u05e9\\u05d9\\u05e8 \\u05d4\\u05d6\\u05d4-Sharona Pick\", 2004.0], [\"\\u05d5\\u05d0\\u05dc\\u05e1 \\u05dc\\u05d4\\u05d2\\u05e0\\u05ea \\u05d4\\u05e6\\u05d5\\u05de\\u05d7-Lehakat HaNachal\", 2010.0], [\"\\u05d5\\u05d3\\u05d5\\u05d3 \\u05d9\\u05e4\\u05d4 \\u05e2\\u05d9\\u05e0\\u05d9\\u05d9\\u05dd-A-WA\", 2019.0], [\"\\u05d5\\u05d9\\u05d3\\u05d5\\u05d9-Yehudit Ravitz\", 1994.0], [\"\\u05d5\\u05e0\\u05e6\\u05d5\\u05d0\\u05dc\\u05d4-Green Onion\", 2003.0], [\"\\u05d6\\u05d4 \\u05d4\\u05db\\u05dc \\u05d1\\u05e9\\u05d1\\u05d9\\u05dc\\u05da-Danny Sanderson\", 1990.0], [\"\\u05d6\\u05d5\\u05d3\\u05d9\\u05d0\\u05e7-Yaron Hadad\", 1994.0], [\"\\u05d6\\u05df \\u05e0\\u05d3\\u05d9\\u05e8-Yehudit Ravitz\", 1998.0], [\"\\u05d6\\u05df \\u05e0\\u05d3\\u05d9\\u05e8-Korin Allal\", 1992.0], [\"\\u05d7\\u05d1\\u05e8\\u05d9\\u05dd \\u05d1\\u05db\\u05dc \\u05de\\u05d9\\u05e0\\u05d9 \\u05e6\\u05d1\\u05e2\\u05d9\\u05dd-Sarit Hadad\", 1999.0], [\"\\u05d7\\u05d5\\u05e4\\u05d9\\u05dd \\u05d4\\u05dd \\u05dc\\u05e4\\u05e2\\u05de\\u05d9\\u05dd-Chava Alberstein\", 1975.0], [\"\\u05d7\\u05d6\\u05e7\\u05d4 \\u05de\\u05d4\\u05e8\\u05d5\\u05d7-Gali Atari\", 1992.0], [\"\\u05d7\\u05d9\\u05d5\\u05db\\u05d9\\u05dd-Chava Alberstein\", 1968.0], [\"\\u05d7\\u05d9\\u05d9\\u05da \\u05d5\\u05d7\\u05d9\\u05d9-Gidi Gov\", 1997.0], [\"\\u05d7\\u05d9\\u05d9\\u05dc \\u05e9\\u05dc 100 \\u05e9\\u05e2\\u05e8\\u05d9\\u05dd-Sheygets\", 2001.0], [\"\\u05d7\\u05d9\\u05db\\u05d9\\u05ea\\u05d9 \\u05dc\\u05d5-Sarit Hadad\", 2015.0], [\"\\u05d7\\u05de\\u05d9\\u05de\\u05d5\\u05ea \\u05d7\\u05d5\\u05dc\\u05e4\\u05ea-Dana Berger\", 1998.0], [\"\\u05d8\\u05d9\\u05e7\\u05d9\\u05d8\\u05d0\\u05e1-Noa Kirel\", 2017.0], [\"\\u05d9\\u05d7\\u05d9\\u05dc\\u05d5\\u05d9 \\u05d5\\u05d9\\u05d7\\u05dc\\u05d9-Ofra Haza\", 1984.0], [\"Maria-Evadne Baker\", 1965.0], [\"Marija Magdalena-Doris Dragovi\\u0107\", 2014.0], [\"Matchmaker-John Williams\", 1971.0], [\"Material Girl-\\u05d4\\u05db\\u05d5\\u05db\\u05d1 \\u05d4\\u05d1\\u05d0\", 2019.0], [\"Mercy-Madame Monsieur\", 2018.0], [\"A Million Dreams-P!nk\", 2018.0], [\"A Million Voices-Polina Gagarina\", 2015.0], [\"Molitva - Serbian Version-Marija \\u0160erifovi\\u0107\", 2007.0], [\"Money Money-Joel Grey\", 1972.0], [\"Mood Ring (By Demand) - Pride Remix-Britney Spears\", 2020.0], [\"Move Your Body - Single Mix-Sia\", 2017.0], [\"Mr. Blue Sky-Electric Light Orchestra\", 1977.0], [\"Mucho Bien-MR.BLACK\", 2020.0], [\"Mudbira-A-WA\", 2019.0], [\"Murder On The Dancefloor-Sophie Ellis-Bextor\", 2002.0], [\"My Favorite Things-Julie Andrews\", 1964.0], [\"My Happy Ending-Avril Lavigne\", 2004.0], [\"My Heart Will Go On - Love Theme from \\\"Titanic\\\"-C\\u00e9line Dion\", 1997.0], [\"My Number One-Helena Paparizou\", 2005.0], [\"My Prerogative-Britney Spears\", 2004.0], [\"Neka Mi Ne Svane-Danijela Martinovic\", 2014.0], [\"Nel Blu Dipinto Di Blu-Domenico Modugno\", 2008.0], [\"Nemo-Nightwish\", 2005.0], [\"Ne partez pas sans moi (Grand prix de L'Eurovision 1988)-C\\u00e9line Dion\", 1994.0], [\"Vay Halime-Candan Er\\u00e7etin\", 2009.0], [\"Viens on s\\u2019aime-Slimane\", 2018.0], [\"Vogue-Madonna\", 2009.0], [\"Wannabe-Spice Girls\", 1996.0], [\"WAP (feat. Megan Thee Stallion)-Cardi B\", 2020.0], [\"We R Who We R-Kesha\", 2010.0], [\"What's Up?-4 Non Blondes\", 1992.0], [\"Whenever, Wherever-Shakira\", 2001.0], [\"When We're High-LP\", 2017.0], [\"When We Were Young-Adele\", 2015.0], [\"When You're Gone-Bryan Adams\", 1998.0], [\"Where Have You Been-Sarit Hadad\", 2012.0], [\"Who Knew-P!nk\", 2006.0], [\"A Whole New World-Lea Salonga\", 2004.0], [\"Wild Dances-Ruslana\", 2004.0], [\"Wind It Up-Gwen Stefani\", 2006.0], [\"Wings-Delta Goodrem\", 2016.0], [\"Woman in Love-Barbra Streisand\", 1980.0], [\"Womanizer - Acoustic-Lily Allen\", 2009.0], [\"Work Bitch-Britney Spears\", 2013.0], [\"Written in the Stars (feat. Eric Turner)-Tinie Tempah\", 2010.0], [\"Ya Watani-A-WA\", 2019.0], [\"Yonc\\u00e9 - Homecoming Live-Beyonc\\u00e9\", 2019.0], [\"(You Drive Me) Crazy-Britney Spears\", 1999.0], [\"You Oughta Know-Alanis Morissette\", 2020.0], [\"You Oughta Know - 2015 Remaster-Alanis Morissette\", 1995.0], [\"You've Got The Love-Florence + The Machine\", 2009.0], [\"\\u05d0\\u05d2\\u05d3\\u05ea \\u05d3\\u05e9\\u05d0-Gidi Gov\", 2019.0], [\"\\u05d0\\u05d2\\u05d3\\u05ea \\u05d4\\u05e9\\u05de\\u05e9 \\u05d5\\u05d4\\u05d9\\u05e8\\u05d7-Ethnix\", 1995.0], [\"\\u05d0\\u05d3\\u05d5\\u05e0\\u05d9-Roni Duani\", 2006.0], [\"\\u05d0\\u05d3\\u05d5\\u05df \\u05e9\\u05d5\\u05e7\\u05d5-Arik Einstein\", 1989.0], [\"\\u05d0\\u05d4\\u05d1\\u05d4 \\u05e7\\u05d8\\u05e0\\u05d4-Shiri Maimon\", 2005.0], [\"\\u05d0\\u05d5\\u05d4\\u05d1 \\u05dc\\u05d4\\u05d9\\u05d5\\u05ea \\u05d1\\u05d1\\u05d9\\u05ea-Arik Einstein\", 1993.0], [\"\\u05d0\\u05d5\\u05d4\\u05d1\\u05ea \\u05dc\\u05d0 \\u05d0\\u05d5\\u05d4\\u05d1\\u05ea-Arkadi Duchin\", 2001.0], [\"\\u05d0\\u05d5\\u05e8-Shoshana Damari\", 1988.0], [\"\\u05d0\\u05d5\\u05ea\\u05da-Ilana Avital\", 1977.0], [\"\\u05d0\\u05d7\\u05dc\\u05d4 \\u05e2\\u05d5\\u05dc\\u05dd-Gidi Gov\", 2003.0], [\"\\u05d0\\u05d9\\u05da \\u05e9\\u05d9\\u05e8 \\u05e0\\u05d5\\u05dc\\u05d3-Yehonatan Geffen\", 1978.0], [\"\\u05d0\\u05d9\\u05df \\u05dc\\u05d9 \\u05e8\\u05d2\\u05e2 \\u05d3\\u05dc-Rivka Michaeli\", 1981.0], [\"\\u05d0\\u05d9\\u05df \\u05e2\\u05d5\\u05d3 \\u05d9\\u05d5\\u05dd-Gidi Gov\", 1991.0], [\"\\u05d0\\u05d9 \\u05e9\\u05dd-Ilanit\", 1972.0], [\"\\u05d0\\u05d9\\u05ea\\u05d5 \\u05dc\\u05e0\\u05e6\\u05d7-Kerach Tesha\", 1997.0], [\"\\u05d0\\u05dd \\u05e0\\u05e0\\u05e2\\u05dc\\u05d5-Ofra Haza\", 1984.0], [\"\\u05d0\\u05e0\\u05d9 \\u05d0\\u05d5\\u05d4\\u05d1-Yehonatan Geffen\", 1978.0], [\"\\u05d0\\u05e0\\u05d9 \\u05d0\\u05e9\\u05ea\\u05d2\\u05e2-Nurit Galron\", 2005.0], [\"\\u05d0\\u05e0\\u05d9 \\u05d7\\u05d5\\u05dc\\u05dd \\u05e2\\u05dc \\u05e0\\u05e2\\u05de\\u05d9-Hedva Amrani\", 2020.0], [\"\\u05d0\\u05e0\\u05d9 \\u05d7\\u05d9\\u05d4 \\u05dc\\u05d9 \\u05de\\u05d9\\u05d5\\u05dd \\u05dc\\u05d9\\u05d5\\u05dd-Rita\", 1988.0], [\"\\u05d0\\u05e0\\u05d9 \\u05de\\u05e9\\u05dd-Yehudit Ravitz\", 1993.0], [\"\\u05d0\\u05e0\\u05d9 \\u05e9\\u05d8\\u05d4-Zehava Ben\", 2000.0], [\"\\u05d0\\u05e6\\u05dc \\u05d4\\u05d3\\u05d5\\u05d3\\u05d4 \\u05d5\\u05d4\\u05d3\\u05d5\\u05d3-Noa Kirel\", 2017.0], [\"\\u05d0\\u05e8\\u05e5 \\u05d8\\u05e8\\u05d5\\u05e4\\u05d9\\u05ea \\u05d9\\u05e4\\u05d4 / \\u05d1\\u05d5\\u05d0 \\u05dc\\u05e8\\u05d9\\u05d5 - Live-Yehudit Ravitz\", 2008.0], [\"\\u05d0\\u05ea \\u05d5\\u05d0\\u05e0\\u05d9-Shlomo Artzi\", 1975.0], [\"\\u05d0\\u05ea \\u05d7\\u05d9\\u05e8\\u05d5\\u05ea\\u05d9-Berry Sakharof\", 2020.0], [\"\\u05d0\\u05ea \\u05d7\\u05e8\\u05d5\\u05ea\\u05d9-Chava Alberstein\", 1975.0], [\"\\u05d0\\u05ea \\u05ea\\u05dc\\u05db\\u05d9 \\u05d1\\u05e9\\u05d3\\u05d4-Chava Alberstein\", 1975.0], [\"\\u05d1\\u05d0\\u05d4\\u05d1\\u05ea\\u05e0\\u05d5-Yehudit Ravitz\", 1993.0], [\"\\u05d1\\u05d2\\u05d9\\u05d3\\u05d4-Rita\", 1986.0], [\"\\u05d1\\u05d2\\u05dc\\u05dc \\u05d4\\u05dc\\u05d9\\u05dc\\u05d4-Chava Alberstein\", 2016.0], [\"\\u05d1\\u05d5\\u05d0-Rita\", 1988.0], [\"\\u05d1\\u05d5\\u05d0\\u05d9 \\u05db\\u05dc\\u05d4-Noa\", 1998.0], [\"\\u05d1\\u05d5\\u05e7\\u05e8 \\u05d8\\u05d5\\u05d1 \\u05e2\\u05d5\\u05dc\\u05dd-Avtipus\", 1995.0], [\"\\u05d1\\u05d7\\u05d5\\u05dd \\u05e9\\u05dc \\u05ea\\u05dc \\u05d0\\u05d1\\u05d9\\u05d1-Sarit Hadad\", 2004.0], [\"\\u05d1\\u05d9 \\u05d2\\u05d0\\u05e8\\u05d0\\u05e8 (\\u05d7\\u05e1\\u05e8 \\u05e9\\u05e7\\u05d8)-Rita\", 2011.0], [\"\\u05d1\\u05da \\u05dc\\u05d0 \\u05e0\\u05d5\\u05d2\\u05e2-Yehudit Ravitz\", 2000.0], [\"\\u05d1\\u05dc\\u05d9\\u05dc\\u05d5\\u05ea \\u05d4\\u05e7\\u05d9\\u05e5 \\u05d4\\u05d7\\u05de\\u05d9\\u05dd-Matti Caspi\", 1978.0], [\"\\u05d1\\u05dc\\u05e2\\u05d3\\u05d9\\u05d9\\u05da-Gidi Gov\", 1978.0], [\"\\u05d1\\u05df \\u05d0\\u05d3\\u05dd-Yardena Arazi\", 1998.0], [\"\\u05d2\\u05d1\\u05e8\\u05d9\\u05d0\\u05dc-Ofra Haza\", 1982.0], [\"\\u05d2\\u05d9\\u05d8\\u05e8\\u05d4 \\u05d5\\u05db\\u05d9\\u05e0\\u05d5\\u05e8-Arik Einstein\", 1999.0], [\"\\u05d2\\u05dc\\u05d1\\u05d9-Ofra Haza\", 1984.0], [\"\\u05d2'\\u05e1\\u05d9\\u05e7\\u05d4-Ethnix\", 1993.0], [\"\\u05d2\\u05e9\\u05dd \\u05d1\\u05e2\\u05d9\\u05ea\\u05d5-Ruthi Navon\", 1974.0], [\"\\u05d3\\u05d1\\u05e7\\u05d4 \\u05e8\\u05e4\\u05d9\\u05d7 - Bonus-Yehudit Ravitz\", 1981.0], [\"\\u05d3\\u05d5\\u05df \\u05e7\\u05d9\\u05d7\\u05d5\\u05d8\\u05d4-Dana International\", 1998.0], [\"\\u05d3\\u05d5\\u05df \\u05e7\\u05d9\\u05d7\\u05d5\\u05d8\\u05d4-Shiri Maimon\", 2002.0], [\"\\u05d3\\u05de\\u05e2\\u05d5\\u05ea \\u05e9\\u05dc \\u05de\\u05dc\\u05d0\\u05db\\u05d9\\u05dd-Yehudit Ravitz\", 1979.0], [\"Never Be The Same Again-Melanie C\", 1999.0], [\"Nobody's Wife-Anouk\", 1997.0], [\"No Roots-Alice Merton\", 2017.0], [\"no tears left to cry-Ariana Grande\", 2018.0], [\"Oh My God (feat. Lily Allen)-Mark Ronson\", 2007.0], [\"Ojos As\\u00ed-Shakira\", 1998.0], [\"One of Us-Cher\", 2018.0], [\"Oniro Mou-Yianna Terzi\", 2018.0], [\"Ooh Aah...Just a Little Bit - Motiv8 Radio Edit-Gina G\", 1996.0], [\"Oops!...I Did It Again-Britney Spears\", 2000.0], [\"Open Your Heart-Madonna\", 1986.0], [\"Ora Na Gyriseis-Malu\", 2017.0], [\"Over The Hills And Far Away-Nightwish\", 2001.0], [\"Paid My Dues-Anastacia\", 1999.0], [\"A Pal\\u00e9 - Gesaffelstein Remix-Gesaffelstein\", 2019.0], [\"Parle \\u00e0 ma main (feat. Yelle et Christelle)-Fatal Bazooka\", 2007.0], [\"Parle \\u00e0 ta t\\u00eate-Indila\", 2019.0], [\"Partition-Beyonc\\u00e9\", 2014.0], [\"Part of Your World - From \\\"The Little Mermaid\\\" / Soundtrack Version-Jodi Benson\", 1997.0], [\"Party In The U.S.A.-Miley Cyrus\", 2009.0], [\"Pas eu le temps-Patrick Bruel\", 2019.0], [\"Petra - Offer Nissim 08' Reconstruction-Dana International\", 2008.0], [\"Petra - Offer Nissim Reconstruction Mix-Dana International\", 2014.0], [\"The Phantom Of the Opera-Andrew Lloyd Webber\", 2004.0], [\"Pon de Replay-Rihanna\", 2005.0], [\"Poor Unfortunate Souls - From \\\"The Little Mermaid\\\" / Soundtrack Version-Pat Carroll\", 1997.0], [\"Qu\\u00e9 Hiciste-Jennifer Lopez\", 2012.0], [\"Que Nadie Sepa Mi Sufrir-Soledad\", 1997.0], [\"\\u00bfQui\\u00e9n te has cre\\u00eddo que soy?-Fangoria\", 2019.0], [\"Read U Wrote U (Ellis Miah Mix) [feat. The Cast of RuPaul's Drag Race All Stars, Season 2]-RuPaul\", 2016.0], [\"Reflection-Christina Aguilera\", 1998.0], [\"Reflection (2020) - From \\\"Mulan\\\"-Christina Aguilera\", 2020.0], [\"Replay-Tamta\", 2019.0], [\"Rich Girl-Gwen Stefani\", 2004.0], [\"Rolling in the Deep-Adele\", 2011.0], [\"Sa Leat-Arik Einstein\", 1974.0], [\"Satellite-Lena\", 2010.0], [\"Say You'll Be There-Spice Girls\", 1996.0], [\"Send My Love (To Your New Lover)-Adele\", 2016.0], [\"Send My Love (To Your New Lover)-Adele.1\", 2015.0], [\"Set Fire to the Rain-Adele\", 2011.0], [\"Shake It Out-Florence + The Machine\", 2011.0], [\"Shallow-Lady Gaga\", 2018.0], [\"Ship To Wreck-Florence + The Machine\", 2015.0], [\"Shufuni-Sarit Hadad\", 2019.0], [\"Since U Been Gone-Kelly Clarkson\", 2004.0], [\"Sissy That Walk-RuPaul\", 2014.0], [\"Sk8er Boi-Avril Lavigne\", 2002.0], [\"Smile-Lily Allen\", 2006.0], [\"So Emotional-Whitney Houston\", 1987.0], [\"Sokratis-Elpida\", 1998.0], [\"Soldi-Mahmood\", 2019.0], [\"Solo (feat. Demi Lovato)-Clean Bandit\", 2018.0], [\"Something to Sing About-Original Cast of Buffy The Vampire Slayer\", 2002.0], [\"Soon We'll Be Found-Sia\", 2008.0], [\"Sound of Silence-Dami Im\", 2016.0], [\"Sous le vent-Garou\", 2000.0], [\"Spice Up Your Life-Spice Girls\", 1997.0], [\"Stop-Spice Girls\", 1997.0], [\"Sto Theo Me Paei-Eleni Foureira\", 2017.0], [\"Superstar - Turkish Version-Sibel T\\u00fcz\\u00fcn\", 2006.0], [\"Sweet but Psycho-Ava Max\", 2018.0], [\"Tears (feat. Louisa Johnson)-Clean Bandit\", 2016.0], [\"Temperatura-Eleni Foureira\", 2020.0], [\"Think-Aretha Franklin\", 1968.0], [\"Ti Koitas-Eleni Foureira\", 2016.0], [\"Together-Sia\", 2020.0], [\"Torn-Natalie Imbruglia\", 2007.0], [\"Total Eclipse of the Heart-Bonnie Tyler\", 1999.0], [\"Tous Eipes Pos-Malu\", 2019.0], [\"Tren Del Cielo-Soledad\", 2001.0], [\"Tren Del Cielo-Soledad.1\", 2005.0], [\"Tu te reconnaitras-Anne-Marie David\", 1973.0], [\"Tu Veneno-Natalia Oreiro\", 1999.0], [\"Umbrella-Rihanna\", 2008.0], [\"Une belle histoire-Michel Fugain & Le Big Bazar\", 1972.0], [\"1000 Doves-Lady Gaga\", 2020.0], [\"911-Lady Gaga\", 2020.0], [\"Ainsi bas la vida-Indila\", 2014.0], [\"Alejandro-Lady Gaga\", 2009.0], [\"Alive-Sia\", 2016.0], [\"All of My Love - Radio edit-Destiny\", 2020.0], [\"Alone-C\\u00e9line Dion\", 2008.0], [\"Always Look On The Bright Side Of Life-Monty Python\", 1989.0], [\"Amies ennemies-N\\u00e2diya\", 2006.0], [\"Anaconda-Nicki Minaj\", 2014.0], [\"Around The World-Aqua\", 2009.0], [\"Baby Can I Hold You-Red Band\", 2014.0], [\"Baby (feat. MARINA & Luis Fonsi)-Clean Bandit\", 2018.0], [\"Bamakom Hachi Namooch Be'e Tel Aviv (At the Lowest Place in Tel Aviv)-Dana International\", 2008.0], [\"Bang Bang-Jessie J\", 2014.0], [\"Because of You-Kelly Clarkson\", 2012.0], [\"Beegharar - Offer Nissim Club Remix-Rita\", 2012.0], [\"Believe-Cher\", 1998.0], [\"Best Thing I Never Had-Beyonc\\u00e9\", 2011.0], [\"BLACK PARADE-Beyonc\\u00e9\", 2020.0], [\"Bootylicious-Destiny's Child\", 2001.0], [\"Born This Way-Lady Gaga\", 2011.0], [\"Born to Make You Happy-Britney Spears\", 1999.0], [\"Break Up Bye Bye - Frock Destroyers Version-The Cast of RuPaul's Drag Race UK\", 2019.0], [\"Broken-Shefita\", 2017.0], [\"Cabaret-Liza Minnelli\", 1972.0], [\"Call Me - Original Version-Anna Vissi\", 2007.0], [\"Cambio Dolor-Natalia Oreiro\", 1998.0], [\"\\u00c7a va \\u00e7a vient-Vitaa\", 2019.0], [\"Chameleon-Michela\", 2019.0], [\"Cheap Thrills-Sia\", 2016.0], [\"Chewing-Gum-Vendredi sur Mer\", 2019.0], [\"Cinderella - Yamim Tovim-Sexta\", 2016.0], [\"Climb Ev'ry Mountain-Peggy Wood\", 1964.0], [\"Colors of the Wind-Judy Kuhn\", 2012.0], [\"Come On Over (All I Want Is You)-Christina Aguilera\", 1999.0], [\"Crying for No Reason-Katy B\", 2014.0], [\"Dancing On My Own - Radio Edit-Robyn\", 2010.0], [\"Derni\\u00e8re danse-Indila\", 2014.0], [\"Dime-Beth\", 2003.0], [\"Diva - Original Hebrew Version-Dana International\", 1998.0], [\"Doctor Jones - Original Version-Aqua\", 1997.0], [\"Dog Days Are Over-Florence + The Machine\", 2009.0], [\"Don't Speak-No Doubt\", 1995.0], [\"Don't Start Now-Dua Lipa\", 2020.0], [\"Don't Start Now-Dua Lipa.1\", 2019.0], [\"Don't Turn Around-Ace of Base\", 1993.0], [\"Dynamite-Taio Cruz\", 2010.0], [\"Echo (You and I)-Anggun\", 2012.0], [\"Ein bisschen Frieden-Nicole\", 2009.0], [\"Eize Rikud-Hedva Amrani\", 2011.0], [\"Elastic Heart-Sia\", 2014.0], [\"Empire State of Mind (Part II) Broken Down-Alicia Keys\", 2009.0], [\"Eres T\\u00fa-Mocedades\", 1994.0], [\"Estoy Aqu\\u00ed-Shakira\", 1995.0], [\"Euphoria-Loreen\", 2012.0], [\"Ever Dream-Nightwish\", 2002.0], [\"Everytime We Touch - Radio Edit-Cascada\", 2011.0], [\"Every Way That I Can - Philippe Laurent from Galleon Radio Edit-Sertab Erener\", 2003.0], [\"Feel This Moment (feat. Christina Aguilera)-Pitbull\", 2012.0], [\"Flames-David Guetta\", 2018.0], [\"Forogj Vil\\u00e1g!-Nox\", 2005.0], [\"Free-Dana International\", 1999.0], [\"Fuego-Eleni Foureira\", 2018.0], [\"Genie In a Bottle-Christina Aguilera\", 1999.0], [\"Get Me Bodied-Beyonc\\u00e9\", 2006.0], [\"Gimme! Gimme! Gimme! (A Man After Midnight) - Offer Nissim Needs a Man Remix-Cher\", 2018.0], [\"GIRL LIKE ME-Black Eyed Peas\", 2020.0], [\"Give That-B. Ames\", 2019.0], [\"Going Under-Evanescence\", 2003.0], [\"Good as Hell-Lizzo\", 2016.0], [\"Good Night Europe-Offer Nissim\", 2017.0], [\"The Greatest (feat. Kendrick Lamar)-Sia\", 2016.0], [\"Gul l\\u2019Abi-Acid Arab\", 2016.0], [\"Habib galbi-A-WA\", 2015.0], [\"Hakol Beseder - Omri Smadar Remix-Yehudit Ravitz\", 2019.0], [\"Hana Mash Hu Al Yaman-A-WA\", 2019.0], [\"Hana Mash Hu Al Yaman-A-WA.1\", 2019.0], [\"Hard out Here-Lily Allen\", 2013.0], [\"Heaven Is a Place on Earth-Belinda Carlisle\", 2013.0], [\"Hey Mickey-Toni Basil\", 2020.0], [\"Hit the Road Jack-Ray Charles\", 2012.0], [\"Hot N Cold-Katy Perry\", 2008.0], [\"How Far I'll Go-Auli'i Cravalho\", 2016.0], [\"Hurt-Christina Aguilera\", 2006.0], [\"IDGAF-Dua Lipa\", 2017.0], [\"I'll Be Fine-Clairy Browne & The Bangin' Rackettes\", 2013.0], [\"I'm a Slave 4 U-Britney Spears\", 2001.0], [\"I'm Gonna Be (500 Miles)-The Proclaimers\", 1988.0], [\"I'm Outta Love-Anastacia\", 1999.0], [\"Independent Women, Pt. 1-Destiny's Child\", 2001.0], [\"Into the Unknown-Idina Menzel\", 2019.0], [\"Ironic-Alanis Morissette\", 1995.0], [\"Irreplaceable-Beyonc\\u00e9\", 2007.0], [\"It's My Life-No Doubt\", 2019.0], [\"I Wanna Dance with Somebody (Who Loves Me)-Whitney Houston\", 1987.0], [\"I WILL SURVIVE-Gloria Gaynor\", 2010.0], [\"(I Would) Die For You-Antique\", 2007.0], [\"Je suis l'enfant soleil-Anne-Marie David\", 2005.0], [\"Je T\\u2019aime-Lara Fabian\", 1997.0], [\"Ze Rak Sport-Dafna Dekel\", 2017.0], [\"\\u05d0\\u05d4\\u05d1\\u05d4 \\u05d4\\u05d9\\u05d0 \\u05e9\\u05d9\\u05e8 \\u05dc\\u05e9\\u05e0\\u05d9\\u05d9\\u05dd-Ilanit\", 2013.0], [\"\\u05e2\\u05d5\\u05d3 \\u05e0\\u05d2\\u05d9\\u05e2-Yardena Arazi\", 1984.0], [\"\\u05e2\\u05d5\\u05dc\\u05d4 \\u05e2\\u05d5\\u05dc\\u05d4-Izhar Cohan\", 1998.0], [\"\\u05e2\\u05d8\\u05d5\\u05e3 \\u05d1\\u05e8\\u05d7\\u05de\\u05d9\\u05dd-Rita\", 1988.0], [\"\\u05e2\\u05d8\\u05d5\\u05e8 \\u05de\\u05e6\\u05d7\\u05da \\u05d6\\u05d4\\u05d1 \\u05e9\\u05d7\\u05d5\\u05e8 - \\u05d0\\u05e8\\u05e5 \\u05d9\\u05e9\\u05e8\\u05d0\\u05dc \\u05d4\\u05d9\\u05e9\\u05e0\\u05d4 \\u05d5\\u05d4\\u05d8\\u05d5\\u05d1\\u05d4 \\u05d7\\u05dc\\u05e7 \\u05d2 - \\u05e8\\u05d9\\u05de\\u05d0\\u05e1\\u05d8\\u05e8\\u05d9\\u05e0\\u05d2-Arik Einstein\", 2018.0], [\"\\u05e2\\u05d9\\u05df \\u05d2\\u05d3\\u05d9-Yehudit Ravitz\", 1979.0], [\"\\u05e2\\u05dc \\u05d2\\u05d1\\u05e2\\u05d5\\u05ea \\u05e9\\u05d9\\u05da \\u05d0\\u05d1\\u05e8\\u05d9\\u05e7 - \\u05d0\\u05d3\\u05de\\u05d4 \\u05d0\\u05d3\\u05de\\u05ea\\u05d9-OFARIM\", 1972.0], [\"\\u05e2\\u05dc\\u05d9\\u05da \\u05d5\\u05e2\\u05dc\\u05d9\\u05d9-Sarit Hadad\", 2007.0], [\"\\u05e2\\u05e7\\u05e8\\u05d4 (\\u05d0\\u05d5\\u05e8\\u05d9)-Noa\", 2013.0], [\"\\u05e2\\u05e8\\u05d1 \\u05db\\u05d7\\u05d5\\u05dc \\u05e2\\u05de\\u05d5\\u05e7-Rita\", 1994.0], [\"\\u05e2\\u05e8\\u05d1 \\u05e9\\u05d7-Shoshana Damari\", 2010.0], [\"'\\u05e4\\u05d0\\u05d5\\u05e5-Noa Kirel\", 2019.0], [\"\\u05e4\\u05d2\\u05d9\\u05e9\\u05d4 \\u05dc\\u05d0\\u05d9\\u05df \\u05e7\\u05e5-Chava Alberstein\", 2016.0], [\"\\u05e4\\u05e0\\u05d9\\u05dd \\u05d0\\u05dc \\u05de\\u05d5\\u05dc \\u05e4\\u05e0\\u05d9\\u05dd-Gidi Gov\", 1995.0], [\"\\u05e4\\u05e8\\u05d7 \\u05d4\\u05dc\\u05d9\\u05dc\\u05da-Chava Alberstein\", 1975.0], [\"\\u05e6\\u05d0 \\u05de\\u05d6\\u05d4 - Live-Yehudit Ravitz\", 2008.0], [\"\\u05e7\\u05d5\\u05dc\\u05e0\\u05d5\\u05e2 (\\u05e2\\u05d5\\u05de\\u05e8 \\u05de\\u05d5\\u05e9\\u05e7\\u05d5\\u05d1\\u05d9\\u05e5)-Omer Moskovich\", 2020.0], [\"\\u05e7\\u05e8\\u05df \\u05d0\\u05d5\\u05e8-Noa\", 1998.0], [\"\\u05e8\\u05d5\\u05e2\\u05d4 \\u05d5\\u05e8\\u05d5\\u05e2\\u05d4-Shoshana Damari\", 2010.0], [\"\\u05e8\\u05d5\\u05e7\\u05d3\\u05ea-Ania Bukstein\", 2017.0], [\"\\u05e8\\u05d7\\u05d1\\u05ea \\u05d4\\u05e8\\u05d9\\u05e7\\u05d5\\u05d3\\u05d9\\u05dd-Yehudit Ravitz\", 1987.0], [\"\\u05e8\\u05d7\\u05de\\u05d9\\u05dd-Ofra Haza\", 2000.0], [\"\\u05e8\\u05e2\\u05d9\\u05d3\\u05ea \\u05d0\\u05d3\\u05de\\u05d4-Yehudit Ravitz\", 1990.0], [\"\\u05e9\\u05d1\\u05d9\\u05dc \\u05d4\\u05d1\\u05e8\\u05d9\\u05d7\\u05d4-Rita\", 1986.0], [\"\\u05e9\\u05d1\\u05ea\\u05d5\\u05ea \\u05d5\\u05d7\\u05d2\\u05d9\\u05dd-Yehudit Ravitz\", 1994.0], [\"\\u05e9\\u05d7\\u05de\\u05d8-Chava Alberstein\", 1990.0], [\"\\u05e9\\u05d8\\u05d7 \\u05d4\\u05d4\\u05e4\\u05e7\\u05e8-Gidi Gov\", 1983.0], [\"\\u05e9\\u05d9\\u05d1\\u05d5\\u05dc\\u05ea \\u05d1\\u05e9\\u05d3\\u05d4-Ran & Nama\", 1960.0], [\"\\u05e9\\u05d9\\u05e8 \\u05d4\\u05e4\\u05d9\\u05e4\\u05d9-Gitit Fisher\", 2019.0], [\"\\u05e9\\u05d9\\u05e8 \\u05d4\\u05e4\\u05e8\\u05d9\\u05d7\\u05d4 - 1985 Version-Ofra Haza\", 1986.0], [\"\\u05e9\\u05d9\\u05e8 \\u05dc\\u05d0\\u05e1\\u05e3-Keren Peles\", 2010.0], [\"\\u05e9\\u05d9\\u05e8 \\u05de\\u05e9\\u05de\\u05e8-Chava Alberstein\", 2016.0], [\"\\u05e9\\u05d9\\u05e8 \\u05e9\\u05dc \\u05d9\\u05d5\\u05dd \\u05d7\\u05d5\\u05dc\\u05d9\\u05df-Ilanit\", 2009.0], [\"\\u05e9\\u05e8\\u05d4 \\u05d1\\u05e8\\u05d7\\u05d5\\u05d1\\u05d5\\u05ea - \\u05d2\\u05e8\\u05e1\\u05ea \\u05d4\\u05d0\\u05d9\\u05e8\\u05d5\\u05d5\\u05d9\\u05d6\\u05d9\\u05d5\\u05df-Rita\", 2015.0], [\"\\u05e9\\u05ea\\u05d5 \\u05d4\\u05e2\\u05d3\\u05e8\\u05d9\\u05dd - \\u05de\\u05e2\\u05de\\u05e7 \\u05dc\\u05d2\\u05d1\\u05e2\\u05d4-OFARIM\", 1972.0], [\"\\u05ea\\u05d0\\u05de\\u05e8\\u05d5 \\u05dc\\u05d5-Nasrin Kadri\", 2018.0], [\"\\u05ea\\u05de\\u05d5\\u05e0\\u05d4-Yehudit Ravitz\", 1993.0], [\"\\u05ea\\u05e4\\u05d9\\u05dc\\u05d4 - 1985 Version-Ofra Haza\", 2000.0], [\"\\u05ea\\u05e4\\u05ea\\u05d7 \\u05d7\\u05dc\\u05d5\\u05df-Rita\", 1999.0], [\"\\u05ea\\u05e9\\u05d0\\u05d9\\u05e8\\u05d9 \\u05dc\\u05d9 \\u05de\\u05e7\\u05d5\\u05dd \\u05dc\\u05d7\\u05d1\\u05e7 \\u05d0\\u05d5\\u05ea\\u05da-Avtipus\", 1995.0], [\"\\u30e1\\u30ea\\u30c3\\u30b5-PornoGraffitti\", 1999.0], [\"\\u05d9\\u05dc\\u05d3\\u05d5\\u05ea \\u05e0\\u05e9\\u05db\\u05d7\\u05ea-Nurit Galron\", 1983.0], [\"\\u05d9\\u05dd \\u05e9\\u05dc \\u05d2\\u05e2\\u05d2\\u05d5\\u05e2-Yehudit Ravitz\", 2007.0], [\"\\u05d9\\u05e2\\u05dc\\u05d4 \\u05d5\\u05d9\\u05d1\\u05d5\\u05d0-Gidi Gov\", 1973.0], [\"\\u05d9\\u05e2\\u05e7\\u05d1-Laladin\", 1994.0], [\"\\u05d9\\u05e8\\u05d5\\u05e9\\u05dc\\u05d9\\u05dd \\u05e9\\u05dc \\u05d6\\u05d4\\u05d1-Ofra Haza\", 2000.0], [\"\\u05d9\\u05e9 \\u05d0\\u05d9 \\u05e9\\u05dd-Noa\", 2011.0], [\"\\u05d9\\u05e9 \\u05dc\\u05d9 \\u05d7\\u05d5\\u05dc\\u05e9\\u05d4 \\u05dc\\u05e8\\u05e7\\u05d3\\u05e0\\u05d9\\u05dd-Riki Gal\", 1993.0], [\"\\u05d9\\u05e9 \\u05dc\\u05d9 \\u05e6\\u05d9\\u05e4\\u05d5\\u05e8 \\u05e7\\u05d8\\u05e0\\u05d4 \\u05d1\\u05dc\\u05d1-Noa Kirel\", 2019.0], [\"\\u05d9\\u05e9\\u05e0\\u05df \\u05d1\\u05e0\\u05d5\\u05ea-Dana International\", 1998.0], [\"\\u05db\\u05d0\\u05df-Orna & Moshe Datz\", 1994.0], [\"\\u05db\\u05dc\\u05e0\\u05d9\\u05d5\\u05ea-Shoshana Damari\", 2010.0], [\"\\u05db\\u05de\\u05d4 \\u05e9\\u05d0\\u05e0\\u05d9 \\u05d9\\u05e4\\u05d4 - 1985-Tzipi Shavit\", 1985.0], [\"\\u05db\\u05de\\u05d5 \\u05d9\\u05dd-Yehonatan Geffen\", 1978.0], [\"\\u05db\\u05de\\u05d5 \\u05e1\\u05d9\\u05e0\\u05d3\\u05e8\\u05dc\\u05d4-Sarit Hadad\", 1999.0], [\"\\u05db\\u05e9\\u05d0\\u05e0\\u05d9 \\u05d0\\u05d9\\u05ea\\u05da \\u05d0\\u05e0\\u05d9 \\u05db\\u05de\\u05d5 \\u05d3\\u05d2-Teapacks\", 2003.0], [\"\\u05dc\\u05d0 \\u05d3\\u05d9\\u05d1\\u05e8\\u05e0\\u05d5 \\u05e2\\u05d5\\u05d3 \\u05e2\\u05dc \\u05d0\\u05d4\\u05d1\\u05d4-Gidi Gov\", 1995.0], [\"\\u05dc\\u05d0\\u05d5\\u05e8\\u05da \\u05d4\\u05d9\\u05dd-Ofra Haza\", 2000.0], [\"\\u05dc\\u05d3\\u05de\\u05e2\\u05d5\\u05ea \\u05d9\\u05e9 \\u05e4\\u05d4-Sarit Hadad\", 1999.0], [\"\\u05dc\\u05d5 \\u05d9\\u05d4\\u05d9-Chava Alberstein\", 1973.0], [\"\\u05dc\\u05d5\\u05e0\\u05d3\\u05d5\\u05df-Chava Alberstein\", 1989.0], [\"\\u05dc\\u05d9\\u05dc\\u05d4-Yehudit Ravitz\", 1979.0], [\"\\u05dc\\u05d9\\u05dc\\u05d4 \\u05d8\\u05d5\\u05d1 \\u05d0\\u05d9\\u05e8\\u05d5\\u05e4\\u05d4-Dana International\", 1998.0], [\"\\u05dc\\u05d9\\u05dc \\u05d7\\u05e0\\u05d9\\u05d4-Hanan Yovel\", 2006.0], [\"\\u05dc\\u05dc\\u05d3\\u05d9\\u05df-Laladin\", 1994.0], [\"\\u05dc\\u05de\\u05d4 \\u05d4\\u05dc\\u05db\\u05ea \\u05de\\u05de\\u05e0\\u05d5-Teapacks\", 2003.0], [\"\\u05dc\\u05de\\u05d4 \\u05dc\\u05d9\\u05d1\\u05da \\u05db\\u05de\\u05d5 \\u05e7\\u05e8\\u05d7-Gidi Gov\", 2003.0], [\"\\u05dc\\u05de\\u05d7\\u05e8\\u05ea-Yehudit Ravitz\", 1993.0], [\"\\u05dc\\u05de\\u05d9 \\u05e9\\u05d0\\u05d9\\u05e0\\u05d5 \\u05de\\u05d0\\u05de\\u05d9\\u05df-Yehudit Ravitz\", 1984.0], [\"\\u05dc\\u05e2\\u05d5\\u05dc\\u05dd \\u05d1\\u05e2\\u05e7\\u05d1\\u05d5\\u05ea \\u05d4\\u05e9\\u05de\\u05e9-\\u05e9\\u05e8\\u05d9\", 2019.0], [\"\\u05dc\\u05e7\\u05d7\\u05ea \\u05d0\\u05ea \\u05d9\\u05d3\\u05d9 \\u05d1\\u05d9\\u05d3\\u05da-Yehudit Ravitz\", 1979.0], [\"\\u05de\\u05d2\\u05d3\\u05dc\\u05d5\\u05e8-Shoshana Damari\", 2012.0], [\"\\u05de\\u05d2\\u05d3\\u05dc\\u05d5\\u05e8-Mika Karni\", 2004.0], [\"\\u05de\\u05d4 \\u05d0\\u05ea\\u05d4 \\u05e8\\u05d5\\u05e6\\u05d4-Ella Lee\", 2020.0], [\"\\u05de\\u05d5\\u05e1\\u05d9\\u05e7\\u05d4 \\u05e0\\u05e9\\u05d0\\u05e8\\u05ea-Yardena Arazi\", 1998.0], [\"\\u05de\\u05d7\\u05e8\\u05d5\\u05d6\\u05ea \\u05e9\\u05d9\\u05e8\\u05d9 \\u05db\\u05e4\\u05e8-Ofra Haza\", 1985.0], [\"\\u05de\\u05d7\\u05e8\\u05d5\\u05d6\\u05ea \\u05e9\\u05d9\\u05e8\\u05d9 \\u05e8\\u05d5\\u05e2\\u05d9\\u05dd: \\u05d0.\\u05e9\\u05d9\\u05e8 \\u05d4\\u05e9\\u05d5\\u05de\\u05e8, \\u05d1.\\u05e8\\u05d5\\u05e2\\u05d4 \\u05d5\\u05e8\\u05d5\\u05e2\\u05d4, \\u05d2.\\u05e2\\u05e8\\u05d1 \\u05e9\\u05d7, \\u05d3.\\u05e9\\u05d9\\u05e8 \\u05d4\\u05db\\u05d3, \\u05d4.\\u05d3\\u05d1\\u05e7\\u05d4 \\u05e8\\u05e4\\u05d9\\u05d7-Ofra Haza\", 1983.0], [\"\\u05de\\u05d9\\u05d3\\u05d9\\u05d3 \\u05dc\\u05d0\\u05d5\\u05d9\\u05d1-Gitit Fisher\", 2019.0], [\"?\\u05de\\u05d9 \\u05d4\\u05de\\u05e0\\u05d8\\u05d4? \\u05de\\u05d9 \\u05d4\\u05de\\u05e1\\u05d8\\u05d9\\u05e7? \\u05de\\u05d9 \\u05d4\\u05e9\\u05d5\\u05e7\\u05d5\\u05dc\\u05d3-Shokolad Menta Mastik\", 2005.0], [\"\\u05de\\u05d9\\u05d8\\u05e9\\u05dc-Mika Karni\", 1997.0], [\"\\u05de\\u05d9 \\u05d9\\u05d5\\u05d3\\u05e2 \\u05de\\u05d3\\u05d5\\u05e2 \\u05d5\\u05dc\\u05de\\u05d4 \\u05dc\\u05d5\\u05d1\\u05e9\\u05ea \\u05d4\\u05d6\\u05d1\\u05e8\\u05d4 \\u05e4\\u05d9\\u05d2`\\u05de\\u05d4-Mashina\", 1989.0], [\"\\u05de\\u05d9\\u05e9\\u05d4\\u05d5-Yehudit Ravitz\", 1979.0], [\"\\u05de\\u05dc\\u05db\\u05ea \\u05d4\\u05e9\\u05d5\\u05e9\\u05e0\\u05d9\\u05dd-Eden Ben Zaken\", 2015.0], [\"\\u05de\\u05e1\\u05e7\\u05e8\\u05d4 \\u05e9\\u05d7\\u05d5\\u05e8\\u05d4-Dikla\", 2016.0], [\"\\u05de\\u05e4\\u05d7\\u05d3 \\u05e2\\u05dc\\u05d9\\u05d9\\u05da-Miri Mesika\", 2018.0], [\"\\u05de\\u05e4\\u05d7\\u05d3 \\u05e2\\u05dc\\u05d9\\u05d9\\u05da - OFFER NISSIM REMIX-Miri Mesika\", 2018.0], [\"\\u05de\\u05e7\\u05d4\\u05dc\\u05d4 \\u05e2\\u05dc\\u05d9\\u05d6\\u05d4-Chava Alberstein\", 1967.0], [\"\\u05de\\u05e7\\u05d4\\u05dc\\u05d4 \\u05e2\\u05dc\\u05d9\\u05d6\\u05d4-Dana International\", 2020.0], [\"\\u05de\\u05e9\\u05d9\\u05e8\\u05d9 \\u05d0\\u05e8\\u05e5 \\u05d0\\u05d4\\u05d1\\u05ea\\u05d9-Chava Alberstein\", 1970.0], [\"\\u05de\\u05ea\\u05d9 \\u05dc\\u05d7\\u05d6\\u05d5\\u05e8-\\u05d0\\u05ea\\u05e0\\u05d9\\u05e7\\u05e1\", 2011.0], [\"\\u05e0\\u05d2\\u05d9\\u05e2\\u05d4 \\u05d0\\u05d7\\u05ea \\u05e8\\u05db\\u05d4-Nurit Galron\", 1984.0], [\"\\u05e0\\u05d5\\u05e1\\u05e2\\u05ea \\u05dc\\u05e4\\u05d8\\u05e8\\u05d4-Dana International\", 1998.0], [\"\\u05e0\\u05d7-Matti Caspi\", 1974.0], [\"\\u05e0\\u05d9\\u05e6\\u05e0\\u05d9\\u05dd \\u05e0\\u05e8\\u05d0\\u05d5 \\u05d1\\u05d0\\u05e8\\u05e5-HaGevatron\", 1994.0], [\"\\u05e0\\u05e2\\u05de\\u05d9\\u05d3 \\u05e4\\u05e0\\u05d9 \\u05d9\\u05ea\\u05d5\\u05de\\u05d9\\u05dd-Yehudit Ravitz\", 1993.0], [\"\\u05e0\\u05e9\\u05d9\\u05dd \\u05e8\\u05d5\\u05e7\\u05d3\\u05d5\\u05ea-Chava Alberstein\", 1975.0], [\"\\u05e1\\u05d9\\u05d2\\u05dc\\u05d9\\u05d5\\u05ea-David Broza\", 1983.0], [\"\\u05e1\\u05dc\\u05d9\\u05d7\\u05d5\\u05ea-Yehudit Ravitz\", 1979.0], [\"\\u05e1\\u05e2\\u05d9\\u05d3\\u05d4 \\u05e1\\u05d5\\u05dc\\u05d8\\u05e0\\u05d4-Dana International\", 1998.0]], \"hovertemplate\": \"0=%{x}<br>1=%{y}<br>index=%{customdata[0]}<br>release year=%{marker.color}<extra></extra>\", \"legendgroup\": \"\", \"marker\": {\"color\": [1997.0, 1993.0, 1998.0, 1987.0, 2012.0, 2006.0, 1998.0, 2006.0, 1998.0, 2019.0, 2011.0, 1987.0, 2007.0, 2012.0, 2004.0, 1989.0, 1995.0, 1984.0, 1973.0, 1988.0, 2004.0, 2010.0, 2019.0, 1994.0, 2003.0, 1990.0, 1994.0, 1998.0, 1992.0, 1999.0, 1975.0, 1992.0, 1968.0, 1997.0, 2001.0, 2015.0, 1998.0, 2017.0, 1984.0, 1965.0, 2014.0, 1971.0, 2019.0, 2018.0, 2018.0, 2015.0, 2007.0, 1972.0, 2020.0, 2017.0, 1977.0, 2020.0, 2019.0, 2002.0, 1964.0, 2004.0, 1997.0, 2005.0, 2004.0, 2014.0, 2008.0, 2005.0, 1994.0, 2009.0, 2018.0, 2009.0, 1996.0, 2020.0, 2010.0, 1992.0, 2001.0, 2017.0, 2015.0, 1998.0, 2012.0, 2006.0, 2004.0, 2004.0, 2006.0, 2016.0, 1980.0, 2009.0, 2013.0, 2010.0, 2019.0, 2019.0, 1999.0, 2020.0, 1995.0, 2009.0, 2019.0, 1995.0, 2006.0, 1989.0, 2005.0, 1993.0, 2001.0, 1988.0, 1977.0, 2003.0, 1978.0, 1981.0, 1991.0, 1972.0, 1997.0, 1984.0, 1978.0, 2005.0, 2020.0, 1988.0, 1993.0, 2000.0, 2017.0, 2008.0, 1975.0, 2020.0, 1975.0, 1975.0, 1993.0, 1986.0, 2016.0, 1988.0, 1998.0, 1995.0, 2004.0, 2011.0, 2000.0, 1978.0, 1978.0, 1998.0, 1982.0, 1999.0, 1984.0, 1993.0, 1974.0, 1981.0, 1998.0, 2002.0, 1979.0, 1999.0, 1997.0, 2017.0, 2018.0, 2007.0, 1998.0, 2018.0, 2018.0, 1996.0, 2000.0, 1986.0, 2017.0, 2001.0, 1999.0, 2019.0, 2007.0, 2019.0, 2014.0, 1997.0, 2009.0, 2019.0, 2008.0, 2014.0, 2004.0, 2005.0, 1997.0, 2012.0, 1997.0, 2019.0, 2016.0, 1998.0, 2020.0, 2019.0, 2004.0, 2011.0, 1974.0, 2010.0, 1996.0, 2016.0, 2015.0, 2011.0, 2011.0, 2018.0, 2015.0, 2019.0, 2004.0, 2014.0, 2002.0, 2006.0, 1987.0, 1998.0, 2019.0, 2018.0, 2002.0, 2008.0, 2016.0, 2000.0, 1997.0, 1997.0, 2017.0, 2006.0, 2018.0, 2016.0, 2020.0, 1968.0, 2016.0, 2020.0, 2007.0, 1999.0, 2019.0, 2001.0, 2005.0, 1973.0, 1999.0, 2008.0, 1972.0, 2020.0, 2020.0, 2014.0, 2009.0, 2016.0, 2020.0, 2008.0, 1989.0, 2006.0, 2014.0, 2009.0, 2014.0, 2018.0, 2008.0, 2014.0, 2012.0, 2012.0, 1998.0, 2011.0, 2020.0, 2001.0, 2011.0, 1999.0, 2019.0, 2017.0, 1972.0, 2007.0, 1998.0, 2019.0, 2019.0, 2016.0, 2019.0, 2016.0, 1964.0, 2012.0, 1999.0, 2014.0, 2010.0, 2014.0, 2003.0, 1998.0, 1997.0, 2009.0, 1995.0, 2020.0, 2019.0, 1993.0, 2010.0, 2012.0, 2009.0, 2011.0, 2014.0, 2009.0, 1994.0, 1995.0, 2012.0, 2002.0, 2011.0, 2003.0, 2012.0, 2018.0, 2005.0, 1999.0, 2018.0, 1999.0, 2006.0, 2018.0, 2020.0, 2019.0, 2003.0, 2016.0, 2017.0, 2016.0, 2016.0, 2015.0, 2019.0, 2019.0, 2019.0, 2013.0, 2013.0, 2020.0, 2012.0, 2008.0, 2016.0, 2006.0, 2017.0, 2013.0, 2001.0, 1988.0, 1999.0, 2001.0, 2019.0, 1995.0, 2007.0, 2019.0, 1987.0, 2010.0, 2007.0, 2005.0, 1997.0, 2017.0, 2013.0, 1984.0, 1998.0, 1988.0, 2018.0, 1979.0, 1972.0, 2007.0, 2013.0, 1994.0, 2010.0, 2019.0, 2016.0, 1995.0, 1975.0, 2008.0, 2020.0, 1998.0, 2010.0, 2017.0, 1987.0, 2000.0, 1990.0, 1986.0, 1994.0, 1990.0, 1983.0, 1960.0, 2019.0, 1986.0, 2010.0, 2016.0, 2009.0, 2015.0, 1972.0, 2018.0, 1993.0, 2000.0, 1999.0, 1995.0, 1999.0, 1983.0, 2007.0, 1973.0, 1994.0, 2000.0, 2011.0, 1993.0, 2019.0, 1998.0, 1994.0, 2010.0, 1985.0, 1978.0, 1999.0, 2003.0, 1995.0, 2000.0, 1999.0, 1973.0, 1989.0, 1979.0, 1998.0, 2006.0, 1994.0, 2003.0, 2003.0, 1993.0, 1984.0, 2019.0, 1979.0, 2012.0, 2004.0, 2020.0, 1998.0, 1985.0, 1983.0, 2019.0, 2005.0, 1997.0, 1989.0, 1979.0, 2015.0, 2016.0, 2018.0, 2018.0, 1967.0, 2020.0, 1970.0, 2011.0, 1984.0, 1998.0, 1974.0, 1994.0, 1993.0, 1975.0, 1983.0, 1979.0, 1998.0], \"coloraxis\": \"coloraxis\", \"symbol\": \"circle\"}, \"mode\": \"markers\", \"name\": \"\", \"orientation\": \"v\", \"showlegend\": false, \"type\": \"scatter\", \"x\": [9.983455657958984, 20.130821228027344, 11.50706958770752, 28.259553909301758, -14.638582229614258, -4.0099968910217285, 6.213223934173584, -5.991222858428955, 10.151049613952637, -28.398571014404297, -13.11773681640625, 28.6225528717041, -6.281491756439209, -14.931183815002441, -1.4033052921295166, 25.558837890625, 17.996049880981445, 31.47406578063965, 38.942474365234375, 26.22356414794922, -1.0280431509017944, -11.60048770904541, -28.20004653930664, 17.668867111206055, 0.7027484774589539, 23.25105857849121, 20.182626724243164, 10.705212593078613, 20.866579055786133, 8.062732696533203, 38.17091751098633, 21.48763084411621, 40.48764419555664, 12.366828918457031, 2.764101028442383, -20.326311111450195, 8.400479316711426, -27.07935905456543, 29.406816482543945, 42.22185134887695, -18.184965133666992, 40.90608596801758, -32.51689147949219, -27.16005516052246, -26.96672248840332, -21.27462387084961, -8.611976623535156, 40.201446533203125, -30.750165939331055, -26.96266746520996, 36.04057693481445, -30.249296188354492, -24.323436737060547, 1.2163805961608887, 41.87662124633789, -0.4079340398311615, 13.229514122009277, -1.449698805809021, -0.5100973844528198, -21.729412078857422, -11.637669563293457, -3.988774299621582, 18.49542236328125, -11.986180305480957, -23.109542846679688, -13.513692855834961, 14.217202186584473, -34.82114791870117, -11.184751510620117, 19.662147521972656, 4.782054424285889, -26.948856353759766, -23.50397300720215, 9.320645332336426, -17.282670974731445, -5.2508158683776855, -3.1309943199157715, -0.631730854511261, -3.1010422706604004, -23.801673889160156, 33.74423599243164, -10.800642967224121, -18.070270538330078, -10.327787399291992, -28.796133041381836, -31.661663055419922, 7.22419548034668, -26.669496536254883, 16.14569091796875, -11.794164657592773, -26.759681701660156, 17.58917999267578, -4.389085292816162, 25.611127853393555, -5.679210662841797, 20.80718994140625, 3.360438823699951, 28.14889907836914, 37.61991500854492, -2.5240843296051025, 35.9356689453125, 33.12393569946289, 22.28147315979004, 39.67563247680664, 5.841681957244873, 29.869638442993164, 35.408748626708984, -2.785459041595459, -31.086320877075195, 26.4484806060791, 18.506513595581055, 7.465093612670898, -26.018152236938477, -8.46186637878418, 38.11914825439453, -29.55432891845703, 38.80201721191406, 37.52073669433594, 20.33941650390625, 27.781373977661133, -25.023286819458008, 25.761028289794922, 11.203731536865234, 19.5113468170166, -3.249107599258423, -10.694130897521973, 6.836071968078613, 36.236454010009766, 37.24225616455078, 9.879161834716797, 31.60685157775879, 14.085663795471191, 29.0977783203125, 19.008848190307617, 38.88982009887695, 33.421470642089844, 8.340115547180176, -0.555590808391571, 34.504154205322266, 4.762956619262695, 13.02640438079834, -23.4278507232666, -28.464426040649414, -1.6867077350616455, 8.595187187194824, -25.16192626953125, -28.754486083984375, 10.755602836608887, 5.7774739265441895, 28.205533981323242, -23.184778213500977, 6.860100269317627, 7.832336902618408, -33.50751876831055, -3.4195308685302734, -34.40042495727539, -23.839069366455078, 14.180638313293457, -11.27384090423584, -29.231399536132812, -13.953657150268555, -17.69409942626953, -2.520846128463745, -1.3978698253631592, 14.303194046020508, -17.54494285583496, 13.984426498413086, -29.362947463989258, -24.65751838684082, 12.525816917419434, -25.933629989624023, -30.311792373657227, 0.28545013070106506, -13.68632698059082, 37.225337982177734, -11.279840469360352, 12.680871963500977, -24.022422790527344, -23.761127471923828, -13.615938186645508, -13.34820556640625, -26.781831741333008, -20.485530853271484, -27.755521774291992, -1.3361070156097412, -19.467721939086914, 0.7455495595932007, -5.838412761688232, 27.434001922607422, 9.495430946350098, -28.793249130249023, -28.03126335144043, -2.224539041519165, -6.2932939529418945, -23.536357879638672, 7.31565523147583, 10.357584953308105, 11.586786270141602, -26.225337982177734, -3.3777034282684326, -23.116518020629883, -23.64431381225586, -31.285425186157227, 41.06727981567383, -21.146150588989258, -31.161514282226562, -4.3567070960998535, 8.034629821777344, -31.8038387298584, 4.913501739501953, -3.639885902404785, 38.876522064208984, 4.861012935638428, -7.30142068862915, 39.04128646850586, -30.38541030883789, -29.3496036529541, -19.112886428833008, -9.811736106872559, -21.82537078857422, -29.364240646362305, -7.878066539764404, 26.25765609741211, -4.0920867919921875, -18.91379165649414, -9.691254615783691, -22.255348205566406, -27.564332962036133, -8.972667694091797, -20.060819625854492, -15.756896018981934, -16.936954498291016, 7.993427276611328, -12.959922790527344, -32.60282516479492, 4.01736307144165, -14.216316223144531, 7.356673717498779, -31.563701629638672, -26.788005828857422, 39.7497673034668, -6.549466609954834, 11.565706253051758, -28.713159561157227, -30.02896499633789, -25.239683151245117, -31.73343276977539, -20.927637100219727, 42.44644546508789, -13.285233497619629, 6.1757731437683105, -20.150053024291992, -13.786750793457031, -19.44577407836914, -0.3228923976421356, 6.943063259124756, 11.066732406616211, -8.119771957397461, 16.594579696655273, -31.648372650146484, -31.556333541870117, 18.264854431152344, -12.326886177062988, -16.505014419555664, -11.039780616760254, -14.394187927246094, -20.24308967590332, -9.28101634979248, 17.437997817993164, 17.015207290649414, -15.636383056640625, 1.378511667251587, -14.806943893432617, 1.5277019739151, -17.824100494384766, -27.266353607177734, -2.9934723377227783, 4.681326866149902, -28.086450576782227, 4.329504013061523, -1.6511379480361938, -26.651153564453125, -33.736881256103516, -32.45036697387695, 0.33730173110961914, -20.971019744873047, -27.73725128173828, -24.561906814575195, -26.1220703125, -22.043291091918945, -29.303728103637695, -29.783414840698242, -29.783369064331055, -17.7351131439209, -17.62355613708496, -32.43350601196289, -17.1070499420166, -6.986545085906982, -24.001558303833008, -4.7781596183776855, -26.15498924255371, -22.284563064575195, 4.339902400970459, 26.935585021972656, 6.955379009246826, 4.1112236976623535, -28.704174041748047, 16.25605583190918, -8.510091781616211, -30.717256546020508, 27.50494384765625, -12.29609489440918, -2.3563156127929688, -2.3190712928771973, 12.282553672790527, -25.482568740844727, -14.189183235168457, 30.564109802246094, 11.543510437011719, 26.506633758544922, -25.58738136291504, 34.49247741699219, 39.7051887512207, -5.149810791015625, -13.256585121154785, 19.768362045288086, -11.454143524169922, -30.389484405517578, -24.677753448486328, 17.212116241455078, 37.979881286621094, -9.336288452148438, -33.96953582763672, 12.038246154785156, -9.48867130279541, -26.742815017700195, 28.730249404907227, 3.9210522174835205, 23.84764862060547, 27.60682487487793, 21.18232536315918, 24.314165115356445, 31.553586959838867, 42.26165008544922, -30.50047492980957, 29.353397369384766, -12.702780723571777, -22.54375648498535, -9.086990356445312, -22.29904556274414, 39.01701354980469, -23.826766967773438, 18.98053741455078, 4.515685558319092, 7.995815753936768, 19.866811752319336, 4.348762512207031, 32.47528076171875, -5.397697925567627, 38.51451873779297, 18.122652053833008, 6.488012790679932, -12.749253273010254, 19.858436584472656, -29.964807510375977, 6.105964183807373, 18.271547317504883, -11.949702262878418, 31.30604362487793, 36.48576354980469, 6.4893598556518555, 1.1226551532745361, 17.335681915283203, 7.576192378997803, 11.265673637390137, 39.252410888671875, 24.52808380126953, 35.34638214111328, 7.322145938873291, -7.239923000335693, 16.794374465942383, 0.416856974363327, 5.271212577819824, 20.57518768310547, 32.13246536254883, -29.166414260864258, 35.75761032104492, -13.982199668884277, -4.788236618041992, -30.67166519165039, 10.31513500213623, 29.812719345092773, 30.73662757873535, -31.459150314331055, -3.8481760025024414, 13.874504089355469, 26.938770294189453, 34.56562805175781, -22.37831687927246, -25.134334564208984, -28.433523178100586, -26.583057403564453, 41.0522575378418, -34.31235885620117, 40.33574676513672, -13.258691787719727, 30.526905059814453, 6.747424602508545, 38.12684631347656, 19.976579666137695, 18.666301727294922, 40.74072265625, 30.859264373779297, 35.120872497558594, 9.1779203414917], \"xaxis\": \"x\", \"y\": [5.8484344482421875, 2.653334856033325, 10.06494426727295, -1.5925586223602295, -4.999046325683594, 2.6697330474853516, 5.016173839569092, -2.2115371227264404, 3.9408488273620605, -5.957851409912109, 4.016455173492432, 3.558917999267578, 1.7862834930419922, -4.061568737030029, 2.6911323070526123, 2.85479474067688, 7.173167705535889, 2.186096429824829, -2.931713342666626, 0.7518196702003479, 0.5903871059417725, 0.7483109831809998, -10.433440208435059, 0.9094074368476868, 3.7575669288635254, 1.891661524772644, 4.294209003448486, 7.062725067138672, 5.445765495300293, 2.978797674179077, 0.12152232974767685, 5.004716396331787, -4.516517639160156, 5.194395065307617, 5.095386505126953, -7.639621734619141, 1.3658394813537598, -9.232751846313477, 1.7724686861038208, -1.9242030382156372, -4.2317047119140625, -1.0342618227005005, -4.49554443359375, -12.78399658203125, -1.6194958686828613, -12.707175254821777, -5.803394317626953, -1.1287657022476196, -8.289194107055664, -6.146390914916992, -3.7680864334106445, -7.3232855796813965, -11.468903541564941, 1.0198166370391846, -3.034769058227539, 4.7962799072265625, 6.004711151123047, -0.20739635825157166, -0.31359273195266724, -3.3568968772888184, 3.7732203006744385, 3.473863363265991, 7.438468933105469, -2.647512435913086, -11.490029335021973, 0.29498863220214844, 1.5646907091140747, -5.598760604858398, -1.586539387702942, 6.280312538146973, 0.3858422338962555, -7.805222034454346, -2.325969696044922, 3.257411003112793, -1.789872169494629, 1.8210949897766113, 6.982748985290527, 4.09702205657959, -1.2337300777435303, -5.825514316558838, -1.9919073581695557, 1.3102535009384155, -2.606193780899048, -3.656633138656616, -9.928645133972168, -12.552666664123535, 0.6494426131248474, -14.61551570892334, 3.427555799484253, -3.5688416957855225, -15.819100379943848, 6.325343132019043, 1.1780478954315186, 1.9331538677215576, -3.4590086936950684, 6.018409729003906, 5.215756416320801, 3.9041354656219482, -2.239351272583008, 8.544976234436035, -0.7161158323287964, 0.6322702169418335, 1.9959360361099243, -0.5464228987693787, 4.5140180587768555, -0.7353062033653259, -1.5212013721466064, 0.8229166865348816, -4.415457248687744, 1.7310280799865723, 5.609940052032471, 5.64560604095459, -9.796759605407715, 6.152404308319092, -3.03507661819458, -4.434243679046631, -1.1063543558120728, -1.2221370935440063, 3.026874303817749, 1.0960973501205444, -15.719058990478516, 0.9678407311439514, 10.291803359985352, 7.658263683319092, 3.740570068359375, -2.1014389991760254, 8.478140830993652, -1.9359358549118042, 0.8446548581123352, 4.540351390838623, 0.8886043429374695, 4.391214847564697, 0.9346653819084167, 5.847274303436279, -0.24730539321899414, 1.1223376989364624, 4.130680561065674, 6.495982646942139, -2.131681442260742, 7.875265121459961, 2.6101932525634766, -9.083099365234375, -7.306915283203125, -3.574357509613037, 3.188004970550537, -14.474085807800293, -2.390326499938965, 2.970564365386963, -0.2458891123533249, 2.1612634658813477, -11.732758522033691, 6.712578296661377, 0.552498996257782, -8.355257034301758, -2.177037000656128, -5.2144036293029785, 0.7889605164527893, 6.178279876708984, -3.5124311447143555, -7.061524868011475, 1.1657755374908447, 0.08413901925086975, 6.481668472290039, -2.005709409713745, 6.667941570281982, -6.976316928863525, 3.080004930496216, -4.489941596984863, -6.782431125640869, 4.457205295562744, -13.520029067993164, -10.27721881866455, -1.133406162261963, -3.549781322479248, -3.593496084213257, -4.781269550323486, 2.1152379512786865, -0.5880833864212036, -0.653785765171051, -4.194716930389404, -3.0563457012176514, -12.459195137023926, -7.123751163482666, -5.187071323394775, 1.7011477947235107, -3.43638277053833, 4.71442174911499, -2.7763211727142334, 1.762594223022461, 4.9526567459106445, -12.54043197631836, -8.932600021362305, 7.060329437255859, 3.7185873985290527, -4.321473598480225, 8.217581748962402, 0.2981656789779663, -1.1167479753494263, -7.917222499847412, 0.3335801959037781, -8.100787162780762, -4.321077346801758, -10.869388580322266, -2.420600414276123, -10.893854141235352, -1.9873647689819336, -3.719792604446411, 7.690808296203613, -2.3325042724609375, -0.398844450712204, -4.002871513366699, -2.0452797412872314, 6.328793525695801, 4.413120269775391, -3.7995269298553467, -8.082257270812988, -8.55353832244873, -3.571329355239868, -2.7653660774230957, -10.876498222351074, -10.92027473449707, 3.032884120941162, 2.5954201221466064, -3.374145746231079, -2.2045505046844482, -0.492548406124115, -2.321659803390503, -7.188525676727295, -1.0580785274505615, -2.0641064643859863, -1.7293208837509155, -0.24583768844604492, 5.0016632080078125, -3.7108659744262695, -7.867893695831299, -1.7716751098632812, -1.0653643608093262, -0.6653950214385986, -5.948171615600586, -9.015811920166016, -1.3714089393615723, 0.8566080927848816, 1.929888367652893, -11.216341018676758, -10.326090812683105, -10.436802864074707, -8.807043075561523, -1.309951901435852, -2.6213057041168213, -7.541222095489502, 1.6665515899658203, -8.411670684814453, -2.640350580215454, -4.427707672119141, 1.3292980194091797, 4.233750820159912, -0.8748827576637268, 2.762742042541504, 1.770957112312317, -7.314554691314697, -7.251967906951904, 3.0911314487457275, -1.816273808479309, -2.8057730197906494, 0.7630584239959717, 0.09751605987548828, -6.934860706329346, -5.090861797332764, 1.7629215717315674, 4.044482707977295, -1.9947242736816406, 5.846823215484619, -1.447739601135254, -1.026200532913208, -7.170815467834473, -11.229724884033203, 2.4098784923553467, 5.313559055328369, -9.383491516113281, 6.965816020965576, -3.4395525455474854, -3.7879321575164795, -7.18080997467041, -6.321844577789307, 4.948838233947754, -11.036184310913086, -0.9061835408210754, 0.21342754364013672, -11.633143424987793, -9.110566139221191, -4.4716291427612305, -14.006603240966797, -14.006600379943848, -4.501089572906494, -3.3876864910125732, -2.8918161392211914, 2.3881375789642334, 0.6271308064460754, -13.606062889099121, 4.696240425109863, -10.115445137023926, -0.3597163259983063, 0.09945075958967209, 3.9167563915252686, 3.17916202545166, -1.5864036083221436, -1.3068299293518066, 2.3234410285949707, 3.8932745456695557, -6.688002586364746, 2.3059182167053223, -0.5463975667953491, -0.2794169783592224, 4.030377388000488, 5.639164924621582, -6.510650157928467, -6.727222919464111, 1.5906801223754883, -1.1126965284347534, 1.0348291397094727, -15.636045455932617, -1.679332971572876, -2.639086961746216, 3.180098533630371, -8.02046012878418, 4.457655906677246, 1.969029426574707, -5.898843765258789, -16.298477172851562, 8.373927116394043, -0.5185245871543884, 2.0046772956848145, -4.322500228881836, 9.5169038772583, -6.967582702636719, -5.3897294998168945, -0.5791535973548889, 6.762145042419434, 2.5305304527282715, 0.3667783737182617, 3.355231523513794, 3.626912832260132, -1.9277263879776, -3.7223222255706787, -1.9218889474868774, 2.838651180267334, -0.8224404454231262, -13.966157913208008, -5.721096038818359, -13.112371444702148, -4.3206787109375, -9.52655029296875, 6.644598007202148, 3.65167236328125, 7.176873207092285, 7.515375137329102, 7.655375957489014, -0.8361449837684631, 3.9856479167938232, -4.3816680908203125, 5.363955020904541, 9.504389762878418, 3.68491792678833, 5.259699821472168, -7.3245978355407715, 2.7738797664642334, 4.508923053741455, 2.4357426166534424, 3.4395110607147217, 0.29469746351242065, 1.0065125226974487, -0.5842099189758301, 7.932339191436768, 8.846710205078125, 5.872914791107178, 0.24075841903686523, 1.006022572517395, 0.016559738665819168, 4.319900035858154, 6.0746588706970215, 5.290863513946533, -0.008584264665842056, 10.06119441986084, 2.8056366443634033, -0.550544798374176, -1.709895133972168, 0.6957963109016418, -6.433315753936768, -0.8709847331047058, -9.148472785949707, 0.21111394464969635, 0.2631446123123169, -0.08934319019317627, -1.1894562244415283, 1.8098009824752808, 4.995016574859619, 3.309262990951538, -0.9012160897254944, -5.186844348907471, -8.832072257995605, -8.46627140045166, -4.258448600769043, -3.039961814880371, -6.052302837371826, -2.2096755504608154, -1.7123783826828003, -2.3341736793518066, 2.6763105392456055, -3.9374520778656006, 8.817221641540527, 1.6525535583496094, 0.21465811133384705, 0.3436027765274048, -0.3866640329360962, 2.434516668319702], \"yaxis\": \"y\"}],                        {\"coloraxis\": {\"colorbar\": {\"title\": {\"text\": \"release year\"}}, \"colorscale\": [[0.0, \"#0d0887\"], [0.1111111111111111, \"#46039f\"], [0.2222222222222222, \"#7201a8\"], [0.3333333333333333, \"#9c179e\"], [0.4444444444444444, \"#bd3786\"], [0.5555555555555556, \"#d8576b\"], [0.6666666666666666, \"#ed7953\"], [0.7777777777777778, \"#fb9f3a\"], [0.8888888888888888, \"#fdca26\"], [1.0, \"#f0f921\"]]}, \"legend\": {\"tracegroupgap\": 0}, \"margin\": {\"t\": 60}, \"template\": {\"data\": {\"bar\": [{\"error_x\": {\"color\": \"#2a3f5f\"}, \"error_y\": {\"color\": \"#2a3f5f\"}, \"marker\": {\"line\": {\"color\": \"#E5ECF6\", \"width\": 0.5}}, \"type\": \"bar\"}], \"barpolar\": [{\"marker\": {\"line\": {\"color\": \"#E5ECF6\", \"width\": 0.5}}, \"type\": \"barpolar\"}], \"carpet\": [{\"aaxis\": {\"endlinecolor\": \"#2a3f5f\", \"gridcolor\": \"white\", \"linecolor\": \"white\", \"minorgridcolor\": \"white\", \"startlinecolor\": \"#2a3f5f\"}, \"baxis\": {\"endlinecolor\": \"#2a3f5f\", \"gridcolor\": \"white\", \"linecolor\": \"white\", \"minorgridcolor\": \"white\", \"startlinecolor\": \"#2a3f5f\"}, \"type\": \"carpet\"}], \"choropleth\": [{\"colorbar\": {\"outlinewidth\": 0, \"ticks\": \"\"}, \"type\": \"choropleth\"}], \"contour\": [{\"colorbar\": {\"outlinewidth\": 0, \"ticks\": \"\"}, \"colorscale\": [[0.0, \"#0d0887\"], [0.1111111111111111, \"#46039f\"], [0.2222222222222222, \"#7201a8\"], [0.3333333333333333, \"#9c179e\"], [0.4444444444444444, \"#bd3786\"], [0.5555555555555556, \"#d8576b\"], [0.6666666666666666, \"#ed7953\"], [0.7777777777777778, \"#fb9f3a\"], [0.8888888888888888, \"#fdca26\"], [1.0, \"#f0f921\"]], \"type\": \"contour\"}], \"contourcarpet\": [{\"colorbar\": {\"outlinewidth\": 0, \"ticks\": \"\"}, \"type\": \"contourcarpet\"}], \"heatmap\": [{\"colorbar\": {\"outlinewidth\": 0, \"ticks\": \"\"}, \"colorscale\": [[0.0, \"#0d0887\"], [0.1111111111111111, \"#46039f\"], [0.2222222222222222, \"#7201a8\"], [0.3333333333333333, \"#9c179e\"], [0.4444444444444444, \"#bd3786\"], [0.5555555555555556, \"#d8576b\"], [0.6666666666666666, \"#ed7953\"], [0.7777777777777778, \"#fb9f3a\"], [0.8888888888888888, \"#fdca26\"], [1.0, \"#f0f921\"]], \"type\": \"heatmap\"}], \"heatmapgl\": [{\"colorbar\": {\"outlinewidth\": 0, \"ticks\": \"\"}, \"colorscale\": [[0.0, \"#0d0887\"], [0.1111111111111111, \"#46039f\"], [0.2222222222222222, \"#7201a8\"], [0.3333333333333333, \"#9c179e\"], [0.4444444444444444, \"#bd3786\"], [0.5555555555555556, \"#d8576b\"], [0.6666666666666666, \"#ed7953\"], [0.7777777777777778, \"#fb9f3a\"], [0.8888888888888888, \"#fdca26\"], [1.0, \"#f0f921\"]], \"type\": \"heatmapgl\"}], \"histogram\": [{\"marker\": {\"colorbar\": {\"outlinewidth\": 0, \"ticks\": \"\"}}, \"type\": \"histogram\"}], \"histogram2d\": [{\"colorbar\": {\"outlinewidth\": 0, \"ticks\": \"\"}, \"colorscale\": [[0.0, \"#0d0887\"], [0.1111111111111111, \"#46039f\"], [0.2222222222222222, \"#7201a8\"], [0.3333333333333333, \"#9c179e\"], [0.4444444444444444, \"#bd3786\"], [0.5555555555555556, \"#d8576b\"], [0.6666666666666666, \"#ed7953\"], [0.7777777777777778, \"#fb9f3a\"], [0.8888888888888888, \"#fdca26\"], [1.0, \"#f0f921\"]], \"type\": \"histogram2d\"}], \"histogram2dcontour\": [{\"colorbar\": {\"outlinewidth\": 0, \"ticks\": \"\"}, \"colorscale\": [[0.0, \"#0d0887\"], [0.1111111111111111, \"#46039f\"], [0.2222222222222222, \"#7201a8\"], [0.3333333333333333, \"#9c179e\"], [0.4444444444444444, \"#bd3786\"], [0.5555555555555556, \"#d8576b\"], [0.6666666666666666, \"#ed7953\"], [0.7777777777777778, \"#fb9f3a\"], [0.8888888888888888, \"#fdca26\"], [1.0, \"#f0f921\"]], \"type\": \"histogram2dcontour\"}], \"mesh3d\": [{\"colorbar\": {\"outlinewidth\": 0, \"ticks\": \"\"}, \"type\": \"mesh3d\"}], \"parcoords\": [{\"line\": {\"colorbar\": {\"outlinewidth\": 0, \"ticks\": \"\"}}, \"type\": \"parcoords\"}], \"pie\": [{\"automargin\": true, \"type\": \"pie\"}], \"scatter\": [{\"marker\": {\"colorbar\": {\"outlinewidth\": 0, \"ticks\": \"\"}}, \"type\": \"scatter\"}], \"scatter3d\": [{\"line\": {\"colorbar\": {\"outlinewidth\": 0, \"ticks\": \"\"}}, \"marker\": {\"colorbar\": {\"outlinewidth\": 0, \"ticks\": \"\"}}, \"type\": \"scatter3d\"}], \"scattercarpet\": [{\"marker\": {\"colorbar\": {\"outlinewidth\": 0, \"ticks\": \"\"}}, \"type\": \"scattercarpet\"}], \"scattergeo\": [{\"marker\": {\"colorbar\": {\"outlinewidth\": 0, \"ticks\": \"\"}}, \"type\": \"scattergeo\"}], \"scattergl\": [{\"marker\": {\"colorbar\": {\"outlinewidth\": 0, \"ticks\": \"\"}}, \"type\": \"scattergl\"}], \"scattermapbox\": [{\"marker\": {\"colorbar\": {\"outlinewidth\": 0, \"ticks\": \"\"}}, \"type\": \"scattermapbox\"}], \"scatterpolar\": [{\"marker\": {\"colorbar\": {\"outlinewidth\": 0, \"ticks\": \"\"}}, \"type\": \"scatterpolar\"}], \"scatterpolargl\": [{\"marker\": {\"colorbar\": {\"outlinewidth\": 0, \"ticks\": \"\"}}, \"type\": \"scatterpolargl\"}], \"scatterternary\": [{\"marker\": {\"colorbar\": {\"outlinewidth\": 0, \"ticks\": \"\"}}, \"type\": \"scatterternary\"}], \"surface\": [{\"colorbar\": {\"outlinewidth\": 0, \"ticks\": \"\"}, \"colorscale\": [[0.0, \"#0d0887\"], [0.1111111111111111, \"#46039f\"], [0.2222222222222222, \"#7201a8\"], [0.3333333333333333, \"#9c179e\"], [0.4444444444444444, \"#bd3786\"], [0.5555555555555556, \"#d8576b\"], [0.6666666666666666, \"#ed7953\"], [0.7777777777777778, \"#fb9f3a\"], [0.8888888888888888, \"#fdca26\"], [1.0, \"#f0f921\"]], \"type\": \"surface\"}], \"table\": [{\"cells\": {\"fill\": {\"color\": \"#EBF0F8\"}, \"line\": {\"color\": \"white\"}}, \"header\": {\"fill\": {\"color\": \"#C8D4E3\"}, \"line\": {\"color\": \"white\"}}, \"type\": \"table\"}]}, \"layout\": {\"annotationdefaults\": {\"arrowcolor\": \"#2a3f5f\", \"arrowhead\": 0, \"arrowwidth\": 1}, \"autotypenumbers\": \"strict\", \"coloraxis\": {\"colorbar\": {\"outlinewidth\": 0, \"ticks\": \"\"}}, \"colorscale\": {\"diverging\": [[0, \"#8e0152\"], [0.1, \"#c51b7d\"], [0.2, \"#de77ae\"], [0.3, \"#f1b6da\"], [0.4, \"#fde0ef\"], [0.5, \"#f7f7f7\"], [0.6, \"#e6f5d0\"], [0.7, \"#b8e186\"], [0.8, \"#7fbc41\"], [0.9, \"#4d9221\"], [1, \"#276419\"]], \"sequential\": [[0.0, \"#0d0887\"], [0.1111111111111111, \"#46039f\"], [0.2222222222222222, \"#7201a8\"], [0.3333333333333333, \"#9c179e\"], [0.4444444444444444, \"#bd3786\"], [0.5555555555555556, \"#d8576b\"], [0.6666666666666666, \"#ed7953\"], [0.7777777777777778, \"#fb9f3a\"], [0.8888888888888888, \"#fdca26\"], [1.0, \"#f0f921\"]], \"sequentialminus\": [[0.0, \"#0d0887\"], [0.1111111111111111, \"#46039f\"], [0.2222222222222222, \"#7201a8\"], [0.3333333333333333, \"#9c179e\"], [0.4444444444444444, \"#bd3786\"], [0.5555555555555556, \"#d8576b\"], [0.6666666666666666, \"#ed7953\"], [0.7777777777777778, \"#fb9f3a\"], [0.8888888888888888, \"#fdca26\"], [1.0, \"#f0f921\"]]}, \"colorway\": [\"#636efa\", \"#EF553B\", \"#00cc96\", \"#ab63fa\", \"#FFA15A\", \"#19d3f3\", \"#FF6692\", \"#B6E880\", \"#FF97FF\", \"#FECB52\"], \"font\": {\"color\": \"#2a3f5f\"}, \"geo\": {\"bgcolor\": \"white\", \"lakecolor\": \"white\", \"landcolor\": \"#E5ECF6\", \"showlakes\": true, \"showland\": true, \"subunitcolor\": \"white\"}, \"hoverlabel\": {\"align\": \"left\"}, \"hovermode\": \"closest\", \"mapbox\": {\"style\": \"light\"}, \"paper_bgcolor\": \"white\", \"plot_bgcolor\": \"#E5ECF6\", \"polar\": {\"angularaxis\": {\"gridcolor\": \"white\", \"linecolor\": \"white\", \"ticks\": \"\"}, \"bgcolor\": \"#E5ECF6\", \"radialaxis\": {\"gridcolor\": \"white\", \"linecolor\": \"white\", \"ticks\": \"\"}}, \"scene\": {\"xaxis\": {\"backgroundcolor\": \"#E5ECF6\", \"gridcolor\": \"white\", \"gridwidth\": 2, \"linecolor\": \"white\", \"showbackground\": true, \"ticks\": \"\", \"zerolinecolor\": \"white\"}, \"yaxis\": {\"backgroundcolor\": \"#E5ECF6\", \"gridcolor\": \"white\", \"gridwidth\": 2, \"linecolor\": \"white\", \"showbackground\": true, \"ticks\": \"\", \"zerolinecolor\": \"white\"}, \"zaxis\": {\"backgroundcolor\": \"#E5ECF6\", \"gridcolor\": \"white\", \"gridwidth\": 2, \"linecolor\": \"white\", \"showbackground\": true, \"ticks\": \"\", \"zerolinecolor\": \"white\"}}, \"shapedefaults\": {\"line\": {\"color\": \"#2a3f5f\"}}, \"ternary\": {\"aaxis\": {\"gridcolor\": \"white\", \"linecolor\": \"white\", \"ticks\": \"\"}, \"baxis\": {\"gridcolor\": \"white\", \"linecolor\": \"white\", \"ticks\": \"\"}, \"bgcolor\": \"#E5ECF6\", \"caxis\": {\"gridcolor\": \"white\", \"linecolor\": \"white\", \"ticks\": \"\"}}, \"title\": {\"x\": 0.05}, \"xaxis\": {\"automargin\": true, \"gridcolor\": \"white\", \"linecolor\": \"white\", \"ticks\": \"\", \"title\": {\"standoff\": 15}, \"zerolinecolor\": \"white\", \"zerolinewidth\": 2}, \"yaxis\": {\"automargin\": true, \"gridcolor\": \"white\", \"linecolor\": \"white\", \"ticks\": \"\", \"title\": {\"standoff\": 15}, \"zerolinecolor\": \"white\", \"zerolinewidth\": 2}}}, \"xaxis\": {\"anchor\": \"y\", \"domain\": [0.0, 1.0], \"title\": {\"text\": \"0\"}}, \"yaxis\": {\"anchor\": \"x\", \"domain\": [0.0, 1.0], \"title\": {\"text\": \"1\"}}},                        {\"responsive\": true}                    ).then(function(){\n",
       "                            \n",
       "var gd = document.getElementById('61e8331f-cd71-4125-81a9-0bfd214a0fcd');\n",
       "var x = new MutationObserver(function (mutations, observer) {{\n",
       "        var display = window.getComputedStyle(gd).display;\n",
       "        if (!display || display === 'none') {{\n",
       "            console.log([gd, 'removed!']);\n",
       "            Plotly.purge(gd);\n",
       "            observer.disconnect();\n",
       "        }}\n",
       "}});\n",
       "\n",
       "// Listen for the removal of the full notebook cells\n",
       "var notebookContainer = gd.closest('#notebook-container');\n",
       "if (notebookContainer) {{\n",
       "    x.observe(notebookContainer, {childList: true});\n",
       "}}\n",
       "\n",
       "// Listen for the clearing of the current output cell\n",
       "var outputEl = gd.closest('.output');\n",
       "if (outputEl) {{\n",
       "    x.observe(outputEl, {childList: true});\n",
       "}}\n",
       "\n",
       "                        })                };                });            </script>        </div>"
      ]
     },
     "metadata": {},
     "output_type": "display_data"
    }
   ],
   "source": [
    "#T-SNE analysis\n",
    "X_embedded = TSNE(n_components=2).fit_transform(dff)\n",
    "rdf = pd.DataFrame(data=X_embedded, index=df.index).reset_index()\n",
    "rdf['release year'] = df['release year'].tolist()\n",
    "fig = px.scatter(rdf, x=0, y=1, hover_data=[\"index\", \"release year\"], color=\"release year\",)\n",
    "\n",
    "fig.show()"
   ]
  },
  {
   "cell_type": "code",
   "execution_count": 33,
   "metadata": {},
   "outputs": [],
   "source": [
    "# Now lets do it all again w/o the year\n",
    "dff =  dff.drop(['release year'], axis=1)"
   ]
  },
  {
   "cell_type": "code",
   "execution_count": 35,
   "metadata": {},
   "outputs": [
    {
     "data": {
      "application/vnd.plotly.v1+json": {
       "config": {
        "plotlyServerURL": "https://plot.ly"
       },
       "data": [
        {
         "customdata": [
          [
           "האם האם האם-Gidi Gov",
           1997
          ],
          [
           "הגננים היום עצובים-Yehudit Ravitz",
           1993
          ],
          [
           "הוא-Noa",
           1998
          ],
          [
           "הוא הולך ממך-Yehudit Ravitz",
           1987
          ],
          [
           "הולכת ממך-Sharon Haziz",
           2012
          ],
          [
           "הורה ממטרה-Shoshana Damari",
           2006
          ],
          [
           "היא הולכת בדרכים-Kaveret",
           1998
          ],
          [
           "היא יודעת-Ninet Tayeb",
           2006
          ],
          [
           "היא רוקדת-Yardena Arazi",
           1998
          ],
          [
           "היא רוקדת-Yardena Arazi.1",
           2019
          ],
          [
           "היו לילות-Noa",
           2011
          ],
          [
           "הכינור הנאמן-Yardena Arazi",
           1987
          ],
          [
           "הכל זה לטובה-Dana International",
           2007
          ],
          [
           "הכל סגור-Sarit Hadad",
           2012
          ],
          [
           "הלב-Maya Buskila",
           2004
          ],
          [
           "הלילה-Hakol Over Habibi",
           1989
          ],
          [
           "הללויה-חלב ודבש",
           1995
          ],
          [
           "הם בזמר הזה-Matti Caspi",
           1984
          ],
          [
           "המגפיים של ברוך-Kaveret",
           1973
          ],
          [
           "הנסיכה והרוח-Rita",
           1988
          ],
          [
           "השיר הזה-Sharona Pick",
           2004
          ],
          [
           "ואלס להגנת הצומח-Lehakat HaNachal",
           2010
          ],
          [
           "ודוד יפה עיניים-A-WA",
           2019
          ],
          [
           "וידוי-Yehudit Ravitz",
           1994
          ],
          [
           "ונצואלה-Green Onion",
           2003
          ],
          [
           "זה הכל בשבילך-Danny Sanderson",
           1990
          ],
          [
           "זודיאק-Yaron Hadad",
           1994
          ],
          [
           "זן נדיר-Yehudit Ravitz",
           1998
          ],
          [
           "זן נדיר-Korin Allal",
           1992
          ],
          [
           "חברים בכל מיני צבעים-Sarit Hadad",
           1999
          ],
          [
           "חופים הם לפעמים-Chava Alberstein",
           1975
          ],
          [
           "חזקה מהרוח-Gali Atari",
           1992
          ],
          [
           "חיוכים-Chava Alberstein",
           1968
          ],
          [
           "חייך וחיי-Gidi Gov",
           1997
          ],
          [
           "חייל של 100 שערים-Sheygets",
           2001
          ],
          [
           "חיכיתי לו-Sarit Hadad",
           2015
          ],
          [
           "חמימות חולפת-Dana Berger",
           1998
          ],
          [
           "טיקיטאס-Noa Kirel",
           2017
          ],
          [
           "יחילוי ויחלי-Ofra Haza",
           1984
          ],
          [
           "Maria-Evadne Baker",
           1965
          ],
          [
           "Marija Magdalena-Doris Dragović",
           2014
          ],
          [
           "Matchmaker-John Williams",
           1971
          ],
          [
           "Material Girl-הכוכב הבא",
           2019
          ],
          [
           "Mercy-Madame Monsieur",
           2018
          ],
          [
           "A Million Dreams-P!nk",
           2018
          ],
          [
           "A Million Voices-Polina Gagarina",
           2015
          ],
          [
           "Molitva - Serbian Version-Marija Šerifović",
           2007
          ],
          [
           "Money Money-Joel Grey",
           1972
          ],
          [
           "Mood Ring (By Demand) - Pride Remix-Britney Spears",
           2020
          ],
          [
           "Move Your Body - Single Mix-Sia",
           2017
          ],
          [
           "Mr. Blue Sky-Electric Light Orchestra",
           1977
          ],
          [
           "Mucho Bien-MR.BLACK",
           2020
          ],
          [
           "Mudbira-A-WA",
           2019
          ],
          [
           "Murder On The Dancefloor-Sophie Ellis-Bextor",
           2002
          ],
          [
           "My Favorite Things-Julie Andrews",
           1964
          ],
          [
           "My Happy Ending-Avril Lavigne",
           2004
          ],
          [
           "My Heart Will Go On - Love Theme from \"Titanic\"-Céline Dion",
           1997
          ],
          [
           "My Number One-Helena Paparizou",
           2005
          ],
          [
           "My Prerogative-Britney Spears",
           2004
          ],
          [
           "Neka Mi Ne Svane-Danijela Martinovic",
           2014
          ],
          [
           "Nel Blu Dipinto Di Blu-Domenico Modugno",
           2008
          ],
          [
           "Nemo-Nightwish",
           2005
          ],
          [
           "Ne partez pas sans moi (Grand prix de L'Eurovision 1988)-Céline Dion",
           1994
          ],
          [
           "Vay Halime-Candan Erçetin",
           2009
          ],
          [
           "Viens on s’aime-Slimane",
           2018
          ],
          [
           "Vogue-Madonna",
           2009
          ],
          [
           "Wannabe-Spice Girls",
           1996
          ],
          [
           "WAP (feat. Megan Thee Stallion)-Cardi B",
           2020
          ],
          [
           "We R Who We R-Kesha",
           2010
          ],
          [
           "What's Up?-4 Non Blondes",
           1992
          ],
          [
           "Whenever, Wherever-Shakira",
           2001
          ],
          [
           "When We're High-LP",
           2017
          ],
          [
           "When We Were Young-Adele",
           2015
          ],
          [
           "When You're Gone-Bryan Adams",
           1998
          ],
          [
           "Where Have You Been-Sarit Hadad",
           2012
          ],
          [
           "Who Knew-P!nk",
           2006
          ],
          [
           "A Whole New World-Lea Salonga",
           2004
          ],
          [
           "Wild Dances-Ruslana",
           2004
          ],
          [
           "Wind It Up-Gwen Stefani",
           2006
          ],
          [
           "Wings-Delta Goodrem",
           2016
          ],
          [
           "Woman in Love-Barbra Streisand",
           1980
          ],
          [
           "Womanizer - Acoustic-Lily Allen",
           2009
          ],
          [
           "Work Bitch-Britney Spears",
           2013
          ],
          [
           "Written in the Stars (feat. Eric Turner)-Tinie Tempah",
           2010
          ],
          [
           "Ya Watani-A-WA",
           2019
          ],
          [
           "Yoncé - Homecoming Live-Beyoncé",
           2019
          ],
          [
           "(You Drive Me) Crazy-Britney Spears",
           1999
          ],
          [
           "You Oughta Know-Alanis Morissette",
           2020
          ],
          [
           "You Oughta Know - 2015 Remaster-Alanis Morissette",
           1995
          ],
          [
           "You've Got The Love-Florence + The Machine",
           2009
          ],
          [
           "אגדת דשא-Gidi Gov",
           2019
          ],
          [
           "אגדת השמש והירח-Ethnix",
           1995
          ],
          [
           "אדוני-Roni Duani",
           2006
          ],
          [
           "אדון שוקו-Arik Einstein",
           1989
          ],
          [
           "אהבה קטנה-Shiri Maimon",
           2005
          ],
          [
           "אוהב להיות בבית-Arik Einstein",
           1993
          ],
          [
           "אוהבת לא אוהבת-Arkadi Duchin",
           2001
          ],
          [
           "אור-Shoshana Damari",
           1988
          ],
          [
           "אותך-Ilana Avital",
           1977
          ],
          [
           "אחלה עולם-Gidi Gov",
           2003
          ],
          [
           "איך שיר נולד-Yehonatan Geffen",
           1978
          ],
          [
           "אין לי רגע דל-Rivka Michaeli",
           1981
          ],
          [
           "אין עוד יום-Gidi Gov",
           1991
          ],
          [
           "אי שם-Ilanit",
           1972
          ],
          [
           "איתו לנצח-Kerach Tesha",
           1997
          ],
          [
           "אם ננעלו-Ofra Haza",
           1984
          ],
          [
           "אני אוהב-Yehonatan Geffen",
           1978
          ],
          [
           "אני אשתגע-Nurit Galron",
           2005
          ],
          [
           "אני חולם על נעמי-Hedva Amrani",
           2020
          ],
          [
           "אני חיה לי מיום ליום-Rita",
           1988
          ],
          [
           "אני משם-Yehudit Ravitz",
           1993
          ],
          [
           "אני שטה-Zehava Ben",
           2000
          ],
          [
           "אצל הדודה והדוד-Noa Kirel",
           2017
          ],
          [
           "ארץ טרופית יפה / בוא לריו - Live-Yehudit Ravitz",
           2008
          ],
          [
           "את ואני-Shlomo Artzi",
           1975
          ],
          [
           "את חירותי-Berry Sakharof",
           2020
          ],
          [
           "את חרותי-Chava Alberstein",
           1975
          ],
          [
           "את תלכי בשדה-Chava Alberstein",
           1975
          ],
          [
           "באהבתנו-Yehudit Ravitz",
           1993
          ],
          [
           "בגידה-Rita",
           1986
          ],
          [
           "בגלל הלילה-Chava Alberstein",
           2016
          ],
          [
           "בוא-Rita",
           1988
          ],
          [
           "בואי כלה-Noa",
           1998
          ],
          [
           "בוקר טוב עולם-Avtipus",
           1995
          ],
          [
           "בחום של תל אביב-Sarit Hadad",
           2004
          ],
          [
           "בי גאראר (חסר שקט)-Rita",
           2011
          ],
          [
           "בך לא נוגע-Yehudit Ravitz",
           2000
          ],
          [
           "בלילות הקיץ החמים-Matti Caspi",
           1978
          ],
          [
           "בלעדייך-Gidi Gov",
           1978
          ],
          [
           "בן אדם-Yardena Arazi",
           1998
          ],
          [
           "גבריאל-Ofra Haza",
           1982
          ],
          [
           "גיטרה וכינור-Arik Einstein",
           1999
          ],
          [
           "גלבי-Ofra Haza",
           1984
          ],
          [
           "ג'סיקה-Ethnix",
           1993
          ],
          [
           "גשם בעיתו-Ruthi Navon",
           1974
          ],
          [
           "דבקה רפיח - Bonus-Yehudit Ravitz",
           1981
          ],
          [
           "דון קיחוטה-Dana International",
           1998
          ],
          [
           "דון קיחוטה-Shiri Maimon",
           2002
          ],
          [
           "דמעות של מלאכים-Yehudit Ravitz",
           1979
          ],
          [
           "Never Be The Same Again-Melanie C",
           1999
          ],
          [
           "Nobody's Wife-Anouk",
           1997
          ],
          [
           "No Roots-Alice Merton",
           2017
          ],
          [
           "no tears left to cry-Ariana Grande",
           2018
          ],
          [
           "Oh My God (feat. Lily Allen)-Mark Ronson",
           2007
          ],
          [
           "Ojos Así-Shakira",
           1998
          ],
          [
           "One of Us-Cher",
           2018
          ],
          [
           "Oniro Mou-Yianna Terzi",
           2018
          ],
          [
           "Ooh Aah...Just a Little Bit - Motiv8 Radio Edit-Gina G",
           1996
          ],
          [
           "Oops!...I Did It Again-Britney Spears",
           2000
          ],
          [
           "Open Your Heart-Madonna",
           1986
          ],
          [
           "Ora Na Gyriseis-Malu",
           2017
          ],
          [
           "Over The Hills And Far Away-Nightwish",
           2001
          ],
          [
           "Paid My Dues-Anastacia",
           1999
          ],
          [
           "A Palé - Gesaffelstein Remix-Gesaffelstein",
           2019
          ],
          [
           "Parle à ma main (feat. Yelle et Christelle)-Fatal Bazooka",
           2007
          ],
          [
           "Parle à ta tête-Indila",
           2019
          ],
          [
           "Partition-Beyoncé",
           2014
          ],
          [
           "Part of Your World - From \"The Little Mermaid\" / Soundtrack Version-Jodi Benson",
           1997
          ],
          [
           "Party In The U.S.A.-Miley Cyrus",
           2009
          ],
          [
           "Pas eu le temps-Patrick Bruel",
           2019
          ],
          [
           "Petra - Offer Nissim 08' Reconstruction-Dana International",
           2008
          ],
          [
           "Petra - Offer Nissim Reconstruction Mix-Dana International",
           2014
          ],
          [
           "The Phantom Of the Opera-Andrew Lloyd Webber",
           2004
          ],
          [
           "Pon de Replay-Rihanna",
           2005
          ],
          [
           "Poor Unfortunate Souls - From \"The Little Mermaid\" / Soundtrack Version-Pat Carroll",
           1997
          ],
          [
           "Qué Hiciste-Jennifer Lopez",
           2012
          ],
          [
           "Que Nadie Sepa Mi Sufrir-Soledad",
           1997
          ],
          [
           "¿Quién te has creído que soy?-Fangoria",
           2019
          ],
          [
           "Read U Wrote U (Ellis Miah Mix) [feat. The Cast of RuPaul's Drag Race All Stars, Season 2]-RuPaul",
           2016
          ],
          [
           "Reflection-Christina Aguilera",
           1998
          ],
          [
           "Reflection (2020) - From \"Mulan\"-Christina Aguilera",
           2020
          ],
          [
           "Replay-Tamta",
           2019
          ],
          [
           "Rich Girl-Gwen Stefani",
           2004
          ],
          [
           "Rolling in the Deep-Adele",
           2011
          ],
          [
           "Sa Leat-Arik Einstein",
           1974
          ],
          [
           "Satellite-Lena",
           2010
          ],
          [
           "Say You'll Be There-Spice Girls",
           1996
          ],
          [
           "Send My Love (To Your New Lover)-Adele",
           2016
          ],
          [
           "Send My Love (To Your New Lover)-Adele.1",
           2015
          ],
          [
           "Set Fire to the Rain-Adele",
           2011
          ],
          [
           "Shake It Out-Florence + The Machine",
           2011
          ],
          [
           "Shallow-Lady Gaga",
           2018
          ],
          [
           "Ship To Wreck-Florence + The Machine",
           2015
          ],
          [
           "Shufuni-Sarit Hadad",
           2019
          ],
          [
           "Since U Been Gone-Kelly Clarkson",
           2004
          ],
          [
           "Sissy That Walk-RuPaul",
           2014
          ],
          [
           "Sk8er Boi-Avril Lavigne",
           2002
          ],
          [
           "Smile-Lily Allen",
           2006
          ],
          [
           "So Emotional-Whitney Houston",
           1987
          ],
          [
           "Sokratis-Elpida",
           1998
          ],
          [
           "Soldi-Mahmood",
           2019
          ],
          [
           "Solo (feat. Demi Lovato)-Clean Bandit",
           2018
          ],
          [
           "Something to Sing About-Original Cast of Buffy The Vampire Slayer",
           2002
          ],
          [
           "Soon We'll Be Found-Sia",
           2008
          ],
          [
           "Sound of Silence-Dami Im",
           2016
          ],
          [
           "Sous le vent-Garou",
           2000
          ],
          [
           "Spice Up Your Life-Spice Girls",
           1997
          ],
          [
           "Stop-Spice Girls",
           1997
          ],
          [
           "Sto Theo Me Paei-Eleni Foureira",
           2017
          ],
          [
           "Superstar - Turkish Version-Sibel Tüzün",
           2006
          ],
          [
           "Sweet but Psycho-Ava Max",
           2018
          ],
          [
           "Tears (feat. Louisa Johnson)-Clean Bandit",
           2016
          ],
          [
           "Temperatura-Eleni Foureira",
           2020
          ],
          [
           "Think-Aretha Franklin",
           1968
          ],
          [
           "Ti Koitas-Eleni Foureira",
           2016
          ],
          [
           "Together-Sia",
           2020
          ],
          [
           "Torn-Natalie Imbruglia",
           2007
          ],
          [
           "Total Eclipse of the Heart-Bonnie Tyler",
           1999
          ],
          [
           "Tous Eipes Pos-Malu",
           2019
          ],
          [
           "Tren Del Cielo-Soledad",
           2001
          ],
          [
           "Tren Del Cielo-Soledad.1",
           2005
          ],
          [
           "Tu te reconnaitras-Anne-Marie David",
           1973
          ],
          [
           "Tu Veneno-Natalia Oreiro",
           1999
          ],
          [
           "Umbrella-Rihanna",
           2008
          ],
          [
           "Une belle histoire-Michel Fugain & Le Big Bazar",
           1972
          ],
          [
           "1000 Doves-Lady Gaga",
           2020
          ],
          [
           "911-Lady Gaga",
           2020
          ],
          [
           "Ainsi bas la vida-Indila",
           2014
          ],
          [
           "Alejandro-Lady Gaga",
           2009
          ],
          [
           "Alive-Sia",
           2016
          ],
          [
           "All of My Love - Radio edit-Destiny",
           2020
          ],
          [
           "Alone-Céline Dion",
           2008
          ],
          [
           "Always Look On The Bright Side Of Life-Monty Python",
           1989
          ],
          [
           "Amies ennemies-Nâdiya",
           2006
          ],
          [
           "Anaconda-Nicki Minaj",
           2014
          ],
          [
           "Around The World-Aqua",
           2009
          ],
          [
           "Baby Can I Hold You-Red Band",
           2014
          ],
          [
           "Baby (feat. MARINA & Luis Fonsi)-Clean Bandit",
           2018
          ],
          [
           "Bamakom Hachi Namooch Be'e Tel Aviv (At the Lowest Place in Tel Aviv)-Dana International",
           2008
          ],
          [
           "Bang Bang-Jessie J",
           2014
          ],
          [
           "Because of You-Kelly Clarkson",
           2012
          ],
          [
           "Beegharar - Offer Nissim Club Remix-Rita",
           2012
          ],
          [
           "Believe-Cher",
           1998
          ],
          [
           "Best Thing I Never Had-Beyoncé",
           2011
          ],
          [
           "BLACK PARADE-Beyoncé",
           2020
          ],
          [
           "Bootylicious-Destiny's Child",
           2001
          ],
          [
           "Born This Way-Lady Gaga",
           2011
          ],
          [
           "Born to Make You Happy-Britney Spears",
           1999
          ],
          [
           "Break Up Bye Bye - Frock Destroyers Version-The Cast of RuPaul's Drag Race UK",
           2019
          ],
          [
           "Broken-Shefita",
           2017
          ],
          [
           "Cabaret-Liza Minnelli",
           1972
          ],
          [
           "Call Me - Original Version-Anna Vissi",
           2007
          ],
          [
           "Cambio Dolor-Natalia Oreiro",
           1998
          ],
          [
           "Ça va ça vient-Vitaa",
           2019
          ],
          [
           "Chameleon-Michela",
           2019
          ],
          [
           "Cheap Thrills-Sia",
           2016
          ],
          [
           "Chewing-Gum-Vendredi sur Mer",
           2019
          ],
          [
           "Cinderella - Yamim Tovim-Sexta",
           2016
          ],
          [
           "Climb Ev'ry Mountain-Peggy Wood",
           1964
          ],
          [
           "Colors of the Wind-Judy Kuhn",
           2012
          ],
          [
           "Come On Over (All I Want Is You)-Christina Aguilera",
           1999
          ],
          [
           "Crying for No Reason-Katy B",
           2014
          ],
          [
           "Dancing On My Own - Radio Edit-Robyn",
           2010
          ],
          [
           "Dernière danse-Indila",
           2014
          ],
          [
           "Dime-Beth",
           2003
          ],
          [
           "Diva - Original Hebrew Version-Dana International",
           1998
          ],
          [
           "Doctor Jones - Original Version-Aqua",
           1997
          ],
          [
           "Dog Days Are Over-Florence + The Machine",
           2009
          ],
          [
           "Don't Speak-No Doubt",
           1995
          ],
          [
           "Don't Start Now-Dua Lipa",
           2020
          ],
          [
           "Don't Start Now-Dua Lipa.1",
           2019
          ],
          [
           "Don't Turn Around-Ace of Base",
           1993
          ],
          [
           "Dynamite-Taio Cruz",
           2010
          ],
          [
           "Echo (You and I)-Anggun",
           2012
          ],
          [
           "Ein bisschen Frieden-Nicole",
           2009
          ],
          [
           "Eize Rikud-Hedva Amrani",
           2011
          ],
          [
           "Elastic Heart-Sia",
           2014
          ],
          [
           "Empire State of Mind (Part II) Broken Down-Alicia Keys",
           2009
          ],
          [
           "Eres Tú-Mocedades",
           1994
          ],
          [
           "Estoy Aquí-Shakira",
           1995
          ],
          [
           "Euphoria-Loreen",
           2012
          ],
          [
           "Ever Dream-Nightwish",
           2002
          ],
          [
           "Everytime We Touch - Radio Edit-Cascada",
           2011
          ],
          [
           "Every Way That I Can - Philippe Laurent from Galleon Radio Edit-Sertab Erener",
           2003
          ],
          [
           "Feel This Moment (feat. Christina Aguilera)-Pitbull",
           2012
          ],
          [
           "Flames-David Guetta",
           2018
          ],
          [
           "Forogj Világ!-Nox",
           2005
          ],
          [
           "Free-Dana International",
           1999
          ],
          [
           "Fuego-Eleni Foureira",
           2018
          ],
          [
           "Genie In a Bottle-Christina Aguilera",
           1999
          ],
          [
           "Get Me Bodied-Beyoncé",
           2006
          ],
          [
           "Gimme! Gimme! Gimme! (A Man After Midnight) - Offer Nissim Needs a Man Remix-Cher",
           2018
          ],
          [
           "GIRL LIKE ME-Black Eyed Peas",
           2020
          ],
          [
           "Give That-B. Ames",
           2019
          ],
          [
           "Going Under-Evanescence",
           2003
          ],
          [
           "Good as Hell-Lizzo",
           2016
          ],
          [
           "Good Night Europe-Offer Nissim",
           2017
          ],
          [
           "The Greatest (feat. Kendrick Lamar)-Sia",
           2016
          ],
          [
           "Gul l’Abi-Acid Arab",
           2016
          ],
          [
           "Habib galbi-A-WA",
           2015
          ],
          [
           "Hakol Beseder - Omri Smadar Remix-Yehudit Ravitz",
           2019
          ],
          [
           "Hana Mash Hu Al Yaman-A-WA",
           2019
          ],
          [
           "Hana Mash Hu Al Yaman-A-WA.1",
           2019
          ],
          [
           "Hard out Here-Lily Allen",
           2013
          ],
          [
           "Heaven Is a Place on Earth-Belinda Carlisle",
           2013
          ],
          [
           "Hey Mickey-Toni Basil",
           2020
          ],
          [
           "Hit the Road Jack-Ray Charles",
           2012
          ],
          [
           "Hot N Cold-Katy Perry",
           2008
          ],
          [
           "How Far I'll Go-Auli'i Cravalho",
           2016
          ],
          [
           "Hurt-Christina Aguilera",
           2006
          ],
          [
           "IDGAF-Dua Lipa",
           2017
          ],
          [
           "I'll Be Fine-Clairy Browne & The Bangin' Rackettes",
           2013
          ],
          [
           "I'm a Slave 4 U-Britney Spears",
           2001
          ],
          [
           "I'm Gonna Be (500 Miles)-The Proclaimers",
           1988
          ],
          [
           "I'm Outta Love-Anastacia",
           1999
          ],
          [
           "Independent Women, Pt. 1-Destiny's Child",
           2001
          ],
          [
           "Into the Unknown-Idina Menzel",
           2019
          ],
          [
           "Ironic-Alanis Morissette",
           1995
          ],
          [
           "Irreplaceable-Beyoncé",
           2007
          ],
          [
           "It's My Life-No Doubt",
           2019
          ],
          [
           "I Wanna Dance with Somebody (Who Loves Me)-Whitney Houston",
           1987
          ],
          [
           "I WILL SURVIVE-Gloria Gaynor",
           2010
          ],
          [
           "(I Would) Die For You-Antique",
           2007
          ],
          [
           "Je suis l'enfant soleil-Anne-Marie David",
           2005
          ],
          [
           "Je T’aime-Lara Fabian",
           1997
          ],
          [
           "Ze Rak Sport-Dafna Dekel",
           2017
          ],
          [
           "אהבה היא שיר לשניים-Ilanit",
           2013
          ],
          [
           "עוד נגיע-Yardena Arazi",
           1984
          ],
          [
           "עולה עולה-Izhar Cohan",
           1998
          ],
          [
           "עטוף ברחמים-Rita",
           1988
          ],
          [
           "עטור מצחך זהב שחור - ארץ ישראל הישנה והטובה חלק ג - רימאסטרינג-Arik Einstein",
           2018
          ],
          [
           "עין גדי-Yehudit Ravitz",
           1979
          ],
          [
           "על גבעות שיך אבריק - אדמה אדמתי-OFARIM",
           1972
          ],
          [
           "עליך ועליי-Sarit Hadad",
           2007
          ],
          [
           "עקרה (אורי)-Noa",
           2013
          ],
          [
           "ערב כחול עמוק-Rita",
           1994
          ],
          [
           "ערב שח-Shoshana Damari",
           2010
          ],
          [
           "'פאוץ-Noa Kirel",
           2019
          ],
          [
           "פגישה לאין קץ-Chava Alberstein",
           2016
          ],
          [
           "פנים אל מול פנים-Gidi Gov",
           1995
          ],
          [
           "פרח הלילך-Chava Alberstein",
           1975
          ],
          [
           "צא מזה - Live-Yehudit Ravitz",
           2008
          ],
          [
           "קולנוע (עומר מושקוביץ)-Omer Moskovich",
           2020
          ],
          [
           "קרן אור-Noa",
           1998
          ],
          [
           "רועה ורועה-Shoshana Damari",
           2010
          ],
          [
           "רוקדת-Ania Bukstein",
           2017
          ],
          [
           "רחבת הריקודים-Yehudit Ravitz",
           1987
          ],
          [
           "רחמים-Ofra Haza",
           2000
          ],
          [
           "רעידת אדמה-Yehudit Ravitz",
           1990
          ],
          [
           "שביל הבריחה-Rita",
           1986
          ],
          [
           "שבתות וחגים-Yehudit Ravitz",
           1994
          ],
          [
           "שחמט-Chava Alberstein",
           1990
          ],
          [
           "שטח ההפקר-Gidi Gov",
           1983
          ],
          [
           "שיבולת בשדה-Ran & Nama",
           1960
          ],
          [
           "שיר הפיפי-Gitit Fisher",
           2019
          ],
          [
           "שיר הפריחה - 1985 Version-Ofra Haza",
           1986
          ],
          [
           "שיר לאסף-Keren Peles",
           2010
          ],
          [
           "שיר משמר-Chava Alberstein",
           2016
          ],
          [
           "שיר של יום חולין-Ilanit",
           2009
          ],
          [
           "שרה ברחובות - גרסת האירוויזיון-Rita",
           2015
          ],
          [
           "שתו העדרים - מעמק לגבעה-OFARIM",
           1972
          ],
          [
           "תאמרו לו-Nasrin Kadri",
           2018
          ],
          [
           "תמונה-Yehudit Ravitz",
           1993
          ],
          [
           "תפילה - 1985 Version-Ofra Haza",
           2000
          ],
          [
           "תפתח חלון-Rita",
           1999
          ],
          [
           "תשאירי לי מקום לחבק אותך-Avtipus",
           1995
          ],
          [
           "メリッサ-PornoGraffitti",
           1999
          ],
          [
           "ילדות נשכחת-Nurit Galron",
           1983
          ],
          [
           "ים של געגוע-Yehudit Ravitz",
           2007
          ],
          [
           "יעלה ויבוא-Gidi Gov",
           1973
          ],
          [
           "יעקב-Laladin",
           1994
          ],
          [
           "ירושלים של זהב-Ofra Haza",
           2000
          ],
          [
           "יש אי שם-Noa",
           2011
          ],
          [
           "יש לי חולשה לרקדנים-Riki Gal",
           1993
          ],
          [
           "יש לי ציפור קטנה בלב-Noa Kirel",
           2019
          ],
          [
           "ישנן בנות-Dana International",
           1998
          ],
          [
           "כאן-Orna & Moshe Datz",
           1994
          ],
          [
           "כלניות-Shoshana Damari",
           2010
          ],
          [
           "כמה שאני יפה - 1985-Tzipi Shavit",
           1985
          ],
          [
           "כמו ים-Yehonatan Geffen",
           1978
          ],
          [
           "כמו סינדרלה-Sarit Hadad",
           1999
          ],
          [
           "כשאני איתך אני כמו דג-Teapacks",
           2003
          ],
          [
           "לא דיברנו עוד על אהבה-Gidi Gov",
           1995
          ],
          [
           "לאורך הים-Ofra Haza",
           2000
          ],
          [
           "לדמעות יש פה-Sarit Hadad",
           1999
          ],
          [
           "לו יהי-Chava Alberstein",
           1973
          ],
          [
           "לונדון-Chava Alberstein",
           1989
          ],
          [
           "לילה-Yehudit Ravitz",
           1979
          ],
          [
           "לילה טוב אירופה-Dana International",
           1998
          ],
          [
           "ליל חניה-Hanan Yovel",
           2006
          ],
          [
           "ללדין-Laladin",
           1994
          ],
          [
           "למה הלכת ממנו-Teapacks",
           2003
          ],
          [
           "למה ליבך כמו קרח-Gidi Gov",
           2003
          ],
          [
           "למחרת-Yehudit Ravitz",
           1993
          ],
          [
           "למי שאינו מאמין-Yehudit Ravitz",
           1984
          ],
          [
           "לעולם בעקבות השמש-שרי",
           2019
          ],
          [
           "לקחת את ידי בידך-Yehudit Ravitz",
           1979
          ],
          [
           "מגדלור-Shoshana Damari",
           2012
          ],
          [
           "מגדלור-Mika Karni",
           2004
          ],
          [
           "מה אתה רוצה-Ella Lee",
           2020
          ],
          [
           "מוסיקה נשארת-Yardena Arazi",
           1998
          ],
          [
           "מחרוזת שירי כפר-Ofra Haza",
           1985
          ],
          [
           "מחרוזת שירי רועים: א.שיר השומר, ב.רועה ורועה, ג.ערב שח, ד.שיר הכד, ה.דבקה רפיח-Ofra Haza",
           1983
          ],
          [
           "מידיד לאויב-Gitit Fisher",
           2019
          ],
          [
           "?מי המנטה? מי המסטיק? מי השוקולד-Shokolad Menta Mastik",
           2005
          ],
          [
           "מיטשל-Mika Karni",
           1997
          ],
          [
           "מי יודע מדוע ולמה לובשת הזברה פיג`מה-Mashina",
           1989
          ],
          [
           "מישהו-Yehudit Ravitz",
           1979
          ],
          [
           "מלכת השושנים-Eden Ben Zaken",
           2015
          ],
          [
           "מסקרה שחורה-Dikla",
           2016
          ],
          [
           "מפחד עלייך-Miri Mesika",
           2018
          ],
          [
           "מפחד עלייך - OFFER NISSIM REMIX-Miri Mesika",
           2018
          ],
          [
           "מקהלה עליזה-Chava Alberstein",
           1967
          ],
          [
           "מקהלה עליזה-Dana International",
           2020
          ],
          [
           "משירי ארץ אהבתי-Chava Alberstein",
           1970
          ],
          [
           "מתי לחזור-אתניקס",
           2011
          ],
          [
           "נגיעה אחת רכה-Nurit Galron",
           1984
          ],
          [
           "נוסעת לפטרה-Dana International",
           1998
          ],
          [
           "נח-Matti Caspi",
           1974
          ],
          [
           "ניצנים נראו בארץ-HaGevatron",
           1994
          ],
          [
           "נעמיד פני יתומים-Yehudit Ravitz",
           1993
          ],
          [
           "נשים רוקדות-Chava Alberstein",
           1975
          ],
          [
           "סיגליות-David Broza",
           1983
          ],
          [
           "סליחות-Yehudit Ravitz",
           1979
          ],
          [
           "סעידה סולטנה-Dana International",
           1998
          ]
         ],
         "hovertemplate": "0=%{x}<br>1=%{y}<br>index=%{customdata[0]}<br>release year=%{marker.color}<extra></extra>",
         "legendgroup": "",
         "marker": {
          "color": [
           1997,
           1993,
           1998,
           1987,
           2012,
           2006,
           1998,
           2006,
           1998,
           2019,
           2011,
           1987,
           2007,
           2012,
           2004,
           1989,
           1995,
           1984,
           1973,
           1988,
           2004,
           2010,
           2019,
           1994,
           2003,
           1990,
           1994,
           1998,
           1992,
           1999,
           1975,
           1992,
           1968,
           1997,
           2001,
           2015,
           1998,
           2017,
           1984,
           1965,
           2014,
           1971,
           2019,
           2018,
           2018,
           2015,
           2007,
           1972,
           2020,
           2017,
           1977,
           2020,
           2019,
           2002,
           1964,
           2004,
           1997,
           2005,
           2004,
           2014,
           2008,
           2005,
           1994,
           2009,
           2018,
           2009,
           1996,
           2020,
           2010,
           1992,
           2001,
           2017,
           2015,
           1998,
           2012,
           2006,
           2004,
           2004,
           2006,
           2016,
           1980,
           2009,
           2013,
           2010,
           2019,
           2019,
           1999,
           2020,
           1995,
           2009,
           2019,
           1995,
           2006,
           1989,
           2005,
           1993,
           2001,
           1988,
           1977,
           2003,
           1978,
           1981,
           1991,
           1972,
           1997,
           1984,
           1978,
           2005,
           2020,
           1988,
           1993,
           2000,
           2017,
           2008,
           1975,
           2020,
           1975,
           1975,
           1993,
           1986,
           2016,
           1988,
           1998,
           1995,
           2004,
           2011,
           2000,
           1978,
           1978,
           1998,
           1982,
           1999,
           1984,
           1993,
           1974,
           1981,
           1998,
           2002,
           1979,
           1999,
           1997,
           2017,
           2018,
           2007,
           1998,
           2018,
           2018,
           1996,
           2000,
           1986,
           2017,
           2001,
           1999,
           2019,
           2007,
           2019,
           2014,
           1997,
           2009,
           2019,
           2008,
           2014,
           2004,
           2005,
           1997,
           2012,
           1997,
           2019,
           2016,
           1998,
           2020,
           2019,
           2004,
           2011,
           1974,
           2010,
           1996,
           2016,
           2015,
           2011,
           2011,
           2018,
           2015,
           2019,
           2004,
           2014,
           2002,
           2006,
           1987,
           1998,
           2019,
           2018,
           2002,
           2008,
           2016,
           2000,
           1997,
           1997,
           2017,
           2006,
           2018,
           2016,
           2020,
           1968,
           2016,
           2020,
           2007,
           1999,
           2019,
           2001,
           2005,
           1973,
           1999,
           2008,
           1972,
           2020,
           2020,
           2014,
           2009,
           2016,
           2020,
           2008,
           1989,
           2006,
           2014,
           2009,
           2014,
           2018,
           2008,
           2014,
           2012,
           2012,
           1998,
           2011,
           2020,
           2001,
           2011,
           1999,
           2019,
           2017,
           1972,
           2007,
           1998,
           2019,
           2019,
           2016,
           2019,
           2016,
           1964,
           2012,
           1999,
           2014,
           2010,
           2014,
           2003,
           1998,
           1997,
           2009,
           1995,
           2020,
           2019,
           1993,
           2010,
           2012,
           2009,
           2011,
           2014,
           2009,
           1994,
           1995,
           2012,
           2002,
           2011,
           2003,
           2012,
           2018,
           2005,
           1999,
           2018,
           1999,
           2006,
           2018,
           2020,
           2019,
           2003,
           2016,
           2017,
           2016,
           2016,
           2015,
           2019,
           2019,
           2019,
           2013,
           2013,
           2020,
           2012,
           2008,
           2016,
           2006,
           2017,
           2013,
           2001,
           1988,
           1999,
           2001,
           2019,
           1995,
           2007,
           2019,
           1987,
           2010,
           2007,
           2005,
           1997,
           2017,
           2013,
           1984,
           1998,
           1988,
           2018,
           1979,
           1972,
           2007,
           2013,
           1994,
           2010,
           2019,
           2016,
           1995,
           1975,
           2008,
           2020,
           1998,
           2010,
           2017,
           1987,
           2000,
           1990,
           1986,
           1994,
           1990,
           1983,
           1960,
           2019,
           1986,
           2010,
           2016,
           2009,
           2015,
           1972,
           2018,
           1993,
           2000,
           1999,
           1995,
           1999,
           1983,
           2007,
           1973,
           1994,
           2000,
           2011,
           1993,
           2019,
           1998,
           1994,
           2010,
           1985,
           1978,
           1999,
           2003,
           1995,
           2000,
           1999,
           1973,
           1989,
           1979,
           1998,
           2006,
           1994,
           2003,
           2003,
           1993,
           1984,
           2019,
           1979,
           2012,
           2004,
           2020,
           1998,
           1985,
           1983,
           2019,
           2005,
           1997,
           1989,
           1979,
           2015,
           2016,
           2018,
           2018,
           1967,
           2020,
           1970,
           2011,
           1984,
           1998,
           1974,
           1994,
           1993,
           1975,
           1983,
           1979,
           1998
          ],
          "coloraxis": "coloraxis",
          "symbol": "circle"
         },
         "mode": "markers",
         "name": "",
         "orientation": "v",
         "showlegend": false,
         "type": "scatter",
         "x": [
          -0.3946709259543587,
          1.8803747694258217,
          -1.5816626781930065,
          -3.5324857666509395,
          1.936024000616759,
          -1.8241993085522719,
          -2.9741537130699567,
          1.8159309356909452,
          0.2397846539068167,
          -1.7510802632083262,
          -2.8613061745686417,
          -0.11982683693907369,
          -1.6556295593673187,
          0.7050280633561078,
          -1.357775828162494,
          0.4410073449257986,
          -0.7975422340081916,
          0.018909518196155002,
          -1.2773707940472918,
          1.7330863103939893,
          -0.3685804786197538,
          -0.13742221997512394,
          1.243801722304334,
          6.348256008665241,
          -3.14231390317282,
          4.054310437211641,
          2.0348727870113072,
          -0.3405568034268977,
          -0.5535750554898368,
          -1.7418571753033014,
          5.583686763742508,
          0.204800365585083,
          -4.130614241043677,
          1.9951102285278146,
          -3.1588833400932446,
          -1.335879531202328,
          1.0800510925395879,
          1.093005926606915,
          2.224272734568143,
          4.815073362556783,
          0.016132428251378686,
          2.732669971760275,
          -2.9505318247580767,
          2.311371396941635,
          -3.111089805361727,
          4.733420248412986,
          4.897058538226848,
          2.5644532020634223,
          -0.4406245761743503,
          -1.6394766708552295,
          -5.091522268566215,
          -0.4366670598640204,
          2.091666450617753,
          -0.5044223326431349,
          1.1956487122012571,
          -5.288489913964188,
          2.5430150599516947,
          0.5300054455302824,
          0.08575273279829149,
          -0.9944929696476518,
          0.7980194234244391,
          -1.3101807253688649,
          -1.5192548672584492,
          0.43002332512671043,
          1.360260594045931,
          -0.9271624020140411,
          0.6965719447253349,
          -0.976272386915991,
          -0.2885525604084042,
          -1.699407875212156,
          0.8995347617458126,
          0.048459324181789006,
          -2.6882428416970585,
          -0.6856118555570586,
          -1.6944997559936823,
          -2.046633266643887,
          1.687735582737964,
          -4.527779285314528,
          -0.10603031432148281,
          -0.4767996984177352,
          -3.079354443854672,
          -1.40549300593175,
          -1.568272131437933,
          2.4532844322615612,
          1.3843914260427812,
          4.424792101454838,
          0.9229254364621097,
          2.7112280730121703,
          1.095966058419578,
          1.1817987119192626,
          5.403076322810249,
          -1.718194654458736,
          -1.0575959982829435,
          2.2584829718035544,
          2.7513062380604403,
          -0.8837967641979099,
          -2.4228835136984004,
          0.6494261785502786,
          0.3495169645778875,
          4.420147773503127,
          2.1619231346038306,
          -0.13363100965686636,
          3.5270581799787952,
          4.7656757383956325,
          -3.304189054232587,
          -4.62368399943993,
          0.1710999074985978,
          1.8635241703218752,
          -2.154047896747813,
          0.812130179856751,
          -1.3754173045313054,
          -1.0153197120257054,
          1.5746486635919474,
          -4.559864399402633,
          -1.672218010516925,
          -0.06918137560393887,
          2.453304688463305,
          1.4433987572021365,
          2.432145338293557,
          2.5333497207335895,
          1.8596185243930392,
          0.8615595306667145,
          -4.807071353516427,
          -0.9640381621670091,
          -1.4838439785105446,
          0.7012447185958935,
          -2.3082703533916504,
          -0.5471614405511271,
          4.474101150716303,
          -0.9623225876637492,
          -3.0373459992189256,
          5.857355247663588,
          3.310960959937338,
          -1.5908075330072702,
          3.7575622991699293,
          1.9625565950419988,
          -0.5799929488540606,
          -0.49033934683482516,
          -0.9584923638384861,
          -4.62662901621136,
          1.8517961665621572,
          0.4195341950916408,
          -0.5676718824171331,
          2.4081391840984887,
          -1.3181442441860476,
          4.5116449372592164,
          -2.222454543837643,
          -0.9628979459119867,
          1.9067508951790288,
          0.12235279277968546,
          2.727173458499357,
          -1.0748119186944025,
          1.813009345947026,
          0.4941327337045905,
          -0.7941910222526003,
          -0.859835285867987,
          -6.059207758610998,
          3.707283933753902,
          1.9120543261403649,
          -0.18949609994836894,
          -2.926481520189928,
          -2.4242224330220434,
          0.579226094334436,
          1.5658875410720066,
          4.78210088062994,
          -0.06284168277164894,
          3.5399593782942005,
          -0.9008136313730097,
          0.5082330115867854,
          2.622396944074237,
          2.9369779315841096,
          1.6269688718306667,
          1.173398433611338,
          0.9943249274805505,
          -2.5083299597971958,
          2.040568555172625,
          0.9502219649067234,
          -3.625905467415433,
          -3.6197851994037222,
          0.48131824266963724,
          0.31270387836880364,
          2.5854515790141956,
          -2.5621938617405577,
          -1.3716011634759537,
          -1.0666599564248216,
          -0.9148669538930143,
          -2.9951931163503858,
          2.488700115379722,
          -0.45161840684413546,
          -0.9995044753320249,
          2.404103551336434,
          0.7932489362790135,
          0.5640985488545888,
          -2.0358794751015403,
          -1.4343116219870173,
          -1.4707473690630641,
          -0.44093073793441234,
          -0.70828737777641,
          0.11052010845916145,
          -0.4375882143062992,
          -0.9213712190747946,
          -1.2804616715908508,
          1.9119888033613477,
          1.9322465811624288,
          1.5052677042152243,
          -5.069313696331623,
          1.341330157190232,
          -1.2603566282963512,
          -4.933870580309289,
          2.280212462957456,
          0.9376999666453151,
          1.7195497281586494,
          -4.67803060590309,
          -5.618560493716171,
          -3.561381678690842,
          -0.8954914899652204,
          0.2124382849474571,
          -0.8422753170222455,
          1.4688918567634361,
          1.5525830236211664,
          1.7385530733893542,
          -4.417531171723779,
          0.6427848127419558,
          1.186315453147502,
          -1.7975954575882231,
          -1.6630412949696647,
          -2.35419085128399,
          0.24670931745437027,
          -0.9575316679299878,
          -2.990012023163629,
          -1.7066933802065951,
          -1.9419594065955523,
          -1.5042037723972275,
          1.5500852192348775,
          -0.7731596156847335,
          1.1004849129896592,
          -1.3908607082335027,
          2.961452859011081,
          -2.1061023179940177,
          1.3290133519734442,
          2.2170842003748645,
          -1.410605716536841,
          2.053659708258551,
          1.3947895482636379,
          1.8005231451922878,
          2.7373698771907597,
          0.4963829232484461,
          -1.3718702949866068,
          3.528714796195932,
          3.0069162279270563,
          -0.3621434492305684,
          0.735543939321664,
          -0.49843826072759584,
          0.8279347949521186,
          -0.9176891468442423,
          -1.6905145767659195,
          -1.1762356792969568,
          -3.1597723535850237,
          4.445124913193736,
          -0.6647222881086094,
          -0.6649221332507114,
          2.1555479000245237,
          -0.6148670020533672,
          -1.6876223127372025,
          0.5705931190717741,
          -1.959401186862179,
          -0.9083514826116611,
          3.5559368049928004,
          4.285698680957027,
          0.019577050142833674,
          -1.07260327334972,
          -3.3268648271563457,
          -2.1899205111043814,
          2.0302566440970065,
          -1.8222305983408986,
          2.357657414151711,
          -1.8944853800856118,
          -2.808753835200815,
          1.3931160852523914,
          -4.932662606286411,
          1.947720692949482,
          -3.286730357862489,
          -0.36119833911067045,
          -1.4296481909389125,
          -5.092605868505947,
          2.5209244897409357,
          -1.4316125207591197,
          -5.9606896743793945,
          1.2473498272906063,
          1.6129527373402563,
          -0.9093127671813365,
          0.9137289276512114,
          0.9137289276512114,
          -0.7472159484402369,
          -0.7581965986361251,
          -3.5188686005584846,
          -2.6978617853771376,
          -1.443249991919563,
          5.578374847425716,
          -1.4597957323383972,
          2.0822505511912284,
          -5.707665233086767,
          0.30005101249870864,
          -0.9431286651644615,
          -0.3137580759724485,
          1.7514206892563888,
          -1.5254104741849805,
          3.542001762262829,
          -4.634160204045324,
          -1.153542977634872,
          -0.5379689526513918,
          0.25757285447402856,
          -0.9576916344021107,
          -2.3295591890625253,
          1.4182149617223592,
          -0.8297782916513075,
          2.5425853107254657,
          -0.7334193760655691,
          -0.27590415558657894,
          0.1660599909157621,
          2.2316556385882738,
          -0.3953240929456018,
          0.679134612891992,
          -0.6736033169705955,
          4.4553138982872245,
          0.7475565247312241,
          -0.07402077754486137,
          -1.4807009194398741,
          2.1878421552721843,
          -1.9775074981444125,
          3.7820868785270334,
          -2.4715567718962705,
          -3.3319159199321695,
          0.46763376961528064,
          9.107925689577375,
          -1.1536154446432954,
          -3.8090583168530596,
          -4.7237339048691815,
          2.710080951995211,
          4.024979132873477,
          1.1132083945459248,
          0.1152337148801061,
          4.189071845030589,
          0.5178613915474386,
          -3.5802792123880356,
          0.8793456665920849,
          -1.1155213192130096,
          2.9051271319681478,
          3.436152015225949,
          3.1835523922078437,
          -3.6931452983234623,
          2.5603887874850964,
          -2.1323036982715493,
          -1.006315488723507,
          -1.989078311504993,
          -0.9940981921088685,
          -5.543734852070523,
          1.393658353182952,
          0.5602324347778318,
          -4.356345101344374,
          -1.5341954369194604,
          -3.1310522614887133,
          0.9801583770487992,
          -0.6226528084520859,
          0.05180976589091608,
          -0.7641290292823298,
          0.5114106169992308,
          0.7972210512894432,
          -4.632343098439004,
          5.486695502928021,
          0.45383126431391574,
          1.7446891787345804,
          -0.032444877865248654,
          -0.5468627054705674,
          0.9985078430951263,
          5.3178495986053465,
          2.7009396342705116,
          4.329570478460123,
          -1.188159707789342,
          -5.698591741958082,
          -0.6869100139713981,
          0.6570256418807855,
          -3.1449891856476615,
          1.8413205670314983,
          -0.7600188887870689,
          -1.6166321096659253,
          4.926583707180059,
          2.7161688564520245,
          -0.3524290751297429,
          0.780380163642752,
          -0.9935610493756258,
          -0.8475480461350082,
          -1.9344615654432182,
          -4.678756194809636,
          -0.9531924954677162,
          3.8079349643949563,
          -0.9886556720520371,
          0.11148813264053724,
          -0.8254284254649014,
          1.143568863607701,
          0.17784293805310655,
          -1.3223389055955108,
          1.104804994384117,
          -0.7486160288465833,
          2.0649666848410053,
          -0.5675788123920866,
          7.032206593239824,
          0.32181268642125116,
          -4.47843849574462,
          -0.06839836327828161,
          4.077967137285489,
          -0.07370825284675792,
          -0.80125307114709,
          2.4131169595376725,
          -0.17600023575048998
         ],
         "xaxis": "x",
         "y": [
          0.31885016055719073,
          1.939194851573442,
          5.342512957524543,
          7.108253234297806,
          -0.9424169908092671,
          0.8105368648591158,
          -1.1004754613686023,
          0.17208615323455984,
          -0.5876912492186768,
          -1.9906990047758495,
          5.129541646842767,
          0.30235326914246774,
          -0.8154859617607184,
          -1.5148278911456652,
          -1.3279458778429318,
          0.5207863696819209,
          1.4652105496870296,
          0.9904313022299094,
          -0.8432165924776883,
          2.76112443663217,
          -1.1588635877603501,
          0.2661191272415168,
          -1.9645114969903232,
          1.9497204943211472,
          -0.2753680817286584,
          1.1147555710041601,
          0.7489539629355718,
          1.6156366320831728,
          1.3293505156518026,
          -1.796381045842238,
          1.2760292701270273,
          -0.8244158540401025,
          1.3323195885619852,
          0.3488565832043942,
          -0.39159059818792374,
          -2.013386878021753,
          -1.4762342276478844,
          -3.4019594246319413,
          -0.5194707962144354,
          2.0774239260670746,
          -1.3834456780359177,
          3.2726205913087534,
          -0.7063019310992779,
          -0.5456612052201993,
          1.7405284276888826,
          -2.604362384076967,
          -0.017840009949324175,
          0.44688343958617105,
          -1.8333510773033852,
          -2.0560279593411233,
          4.1700871569678855,
          -1.2736437157299012,
          -2.8797190364813914,
          -1.9440435387362285,
          2.0666148994343714,
          -1.1987459378490144,
          3.32294729363616,
          -2.1602060722836627,
          -2.9002658604300064,
          1.1013971013214767,
          5.46904541553411,
          -0.18086699182313642,
          1.1858235028785855,
          -2.78994265694226,
          -1.5198054435875772,
          -0.6831854584750142,
          -2.3400140815812605,
          -0.47163227383056044,
          -2.0597328204337226,
          1.661638335927146,
          -2.417735855148391,
          -1.9482256102723612,
          1.3244331132520133,
          -1.409106989583734,
          -1.278866242468875,
          -1.2644352752308836,
          4.68314333438972,
          -1.2959485499630605,
          -2.0213288560089144,
          -2.3900320655929783,
          5.230337350653473,
          0.6168213467774153,
          -1.023440559994322,
          -3.422040390128971,
          -2.8038046174353792,
          -0.5681270303312884,
          -3.2020337735404327,
          1.3021224042770172,
          -0.6628190640916046,
          -1.9365338256846316,
          4.273699274380511,
          0.683228822776642,
          -0.6712152719191526,
          1.3479629807509677,
          -1.9500421958229393,
          1.2851521863735071,
          0.2143245869617007,
          2.5866867123068373,
          -0.8935866601198554,
          2.550338797185846,
          3.3510199145205166,
          0.4615786044191869,
          2.577794183983963,
          3.738278868478587,
          -2.3546480465700066,
          2.3340188643470587,
          4.628717315104257,
          0.6715543126896335,
          -0.1478302334165177,
          1.621043087419643,
          -0.11633585380621872,
          -1.6161304148415834,
          -2.272744113184114,
          1.8740462217438565,
          -0.40112251031070517,
          -0.04109996947927638,
          0.9152962595550951,
          3.3846390682258103,
          2.535062147788551,
          0.976663165663329,
          2.8821859754271872,
          2.893349178690504,
          5.752150763272383,
          2.230696654829105,
          -0.24846237727630993,
          -1.7518352197971951,
          1.999827770794135,
          1.0400569406492945,
          0.6274751317772671,
          -0.28477414560548225,
          -0.2535282819867015,
          0.7782884592394554,
          -0.5486631935352185,
          0.351891725499875,
          0.45775986176404276,
          -1.169100831260789,
          -0.8225977573458435,
          1.210306084844256,
          7.098573220210057,
          0.10714921949434722,
          -1.5737623866124755,
          -1.3230781767838387,
          -1.2670506118882834,
          -2.7361636986708486,
          -1.5808693950393375,
          2.127507453391105,
          0.6191187143906428,
          -0.6065060345026944,
          -2.493264105151226,
          -0.5349797048374562,
          -0.982429896666086,
          -1.104363472868342,
          -2.9141295987682105,
          -0.050166895390160414,
          -1.5998310950545094,
          -1.8310635392555332,
          4.070407402153757,
          4.021006434517131,
          -2.420878570371308,
          -0.9808386595345002,
          -1.359652952161683,
          1.5262540950722845,
          1.8451741433475197,
          -0.8463091875350364,
          4.760196708789747,
          -0.1284907276862996,
          -1.8272824670811096,
          -1.3819979122912691,
          -0.4014716491103203,
          0.2076721164823025,
          0.47631971685880836,
          -2.4202498099612164,
          -3.4514705446535503,
          -1.7324257794517315,
          4.372186951619847,
          -3.3771374961043206,
          -1.4777813353510345,
          0.8235425242993779,
          0.8815976951816495,
          -1.7316618750708979,
          -1.549805401439074,
          -0.3187548991130308,
          -1.6831068856084122,
          -1.2040416424175604,
          -1.177848770931134,
          -1.7322497587567762,
          -1.2469195756644298,
          -1.7545384246037077,
          0.40746625696354055,
          0.46138867162489494,
          -0.2122576602905944,
          -2.033326739986634,
          3.3302164715965494,
          0.4934512342018733,
          -0.9900166217817117,
          1.4058263885860103,
          -2.127789486545729,
          -1.9520043351911667,
          -2.489472850872005,
          -0.27450777758464645,
          -1.7527499640322717,
          -1.4076220877620271,
          -3.54631198913801,
          -0.24172200544290917,
          -3.1557268616508654,
          0.10613935431067216,
          -2.836410231518883,
          1.4724764392388048,
          -0.4582800541714964,
          -1.82405036294833,
          -3.090373483694328,
          -1.5424790453533295,
          -2.5699111014460017,
          0.14123017219598666,
          1.23743963144651,
          -1.6328657683325165,
          -2.2331373361585136,
          -0.598302829805685,
          -1.387943678365314,
          -1.4494771621775524,
          -2.3472847617195387,
          1.2975176967479158,
          1.6467149132964156,
          -2.0780201165000562,
          -0.9200609831977373,
          -2.3583234823069783,
          0.8797557655046385,
          -1.1643835389167634,
          -1.3168974774518956,
          -1.759805483497958,
          0.22743693840003681,
          0.34092876368535985,
          -0.667564431172548,
          -1.5072578000504566,
          -0.7216871872145844,
          -3.14466506407638,
          -1.2094503141289112,
          -2.769662501746101,
          -2.3474927207214886,
          -2.6074332629338164,
          2.9231280099963297,
          -0.9483385252296649,
          -1.8400259659595504,
          -1.4934176003076072,
          -2.921625596520868,
          -2.1476867420803933,
          -1.4255429597136116,
          -1.0672028622086784,
          2.8441632430039907,
          3.074779532007763,
          -2.359572055296275,
          -0.9346378521630478,
          -0.7381457159601579,
          0.5011458267788634,
          -0.970738119310872,
          -2.2577966966277327,
          -1.0926750521474407,
          -0.18607045589638077,
          -1.369157593794486,
          -2.5608538115486215,
          -2.561713756205722,
          -1.4313091103779738,
          -2.6976605046418016,
          -1.6911271267426633,
          -0.3801596658834099,
          -0.9426966634333611,
          -1.296422713863446,
          0.7501745573262004,
          -0.1185238498725762,
          -0.8868865935763269,
          -0.14079812191830116,
          0.6894694236183291,
          -1.5418688527795181,
          -3.3197102743153026,
          -1.6994173965367407,
          -2.3767395912665963,
          -0.7098292109119251,
          0.2868963123293004,
          -2.022557577869724,
          0.1535866612631359,
          -2.4490676548793218,
          -0.4392473453898698,
          -0.3081519340477558,
          -2.0013681728303174,
          -0.1913832156921968,
          -3.1642843577049944,
          3.9746674798285686,
          0.15152594978233327,
          -0.6481239454670242,
          -3.0935662855710184,
          -1.7735737415321298,
          -1.4049578704049068,
          -1.4049578704049068,
          -2.1847558522066444,
          -0.5820735149996983,
          -1.4628415165281026,
          1.5907638883236248,
          -2.3576719970312343,
          1.4937603212845012,
          2.619619916045386,
          -1.805191026392376,
          0.6483457977718962,
          -2.9158069145793797,
          -1.03577414293109,
          -0.956482236582177,
          -2.2405075603228566,
          2.5486155029423414,
          -0.5372850494498099,
          -0.565768212940589,
          -1.874861487398151,
          -0.12336075373152187,
          -0.5119772684745508,
          -2.577052688941814,
          0.35431351070083034,
          1.3744016155041063,
          -1.5827866863273927,
          -0.00464117079948277,
          0.3905546089849861,
          -0.13620210828858326,
          2.8843555900541586,
          3.745150146174095,
          6.378116440044532,
          1.9835441342221058,
          -0.48954460839645175,
          3.4558997619526566,
          1.0871738237268613,
          1.8317872737138698,
          -0.680843368054855,
          2.5020269228254404,
          3.799681458859532,
          2.6409427205116094,
          1.6147016806273111,
          0.3291294439219617,
          4.6990640528179295,
          0.028955212985515698,
          -0.5072095274472779,
          1.6870508844693681,
          1.0652146626553256,
          -0.3860947024490014,
          1.771571620268075,
          4.024152406798223,
          0.9473306791897018,
          3.2472234560945226,
          -1.4145797516577912,
          -0.45473476269391394,
          0.06221994717598287,
          -0.9265271221909815,
          -0.07456315871645133,
          0.8266053595663799,
          -0.6767106450519039,
          3.0488617420730697,
          -1.5499669843385562,
          2.194771174496837,
          -1.1870609397903369,
          1.1224023814322364,
          1.9992187545634121,
          -0.4512064066616787,
          4.578633506352838,
          1.2275035713101246,
          0.2957529361657995,
          -0.8167914103861252,
          2.914028895841935,
          4.113768298274617,
          0.21006779735981468,
          -0.8062076233103137,
          -1.7544400781547074,
          -0.5568605401301713,
          2.8323157845856666,
          3.2800049365276007,
          2.221290709676175,
          -2.848442346337123,
          -3.498509391234219,
          2.873970384224863,
          3.116209139040126,
          0.9310154695652941,
          0.9684104714592368,
          2.9925861034889816,
          5.065149692667107,
          -1.5336700783462347,
          2.0305802789226464,
          -0.5314291908079337,
          -2.2037122935802405,
          2.8102188319899493,
          1.6890254890670624,
          4.782727503453034,
          1.640698996559464,
          2.187887966593271,
          0.3222525504795141,
          -0.7151578711385249,
          -1.570875273916106,
          -1.4879557780006736,
          1.945610083242453,
          2.5852257885202357,
          -0.0021558410091705744,
          0.20677153716547902,
          1.3952754663516482,
          0.16233519340302968,
          3.417875892704741,
          -2.276353246636351,
          -1.3610362276691186,
          -2.138548791292495,
          0.9817441759939769,
          -0.2770614563691952,
          -1.2186503454912465,
          -0.27962549775881634,
          -2.7335031608896743,
          1.8398144058321526,
          -0.6482320491881033,
          0.14593457326120368,
          2.7710578454732273,
          0.7384613735258755,
          0.5725151867776714,
          2.0966952450845877,
          3.8418981680704176,
          -0.5325342362816443
         ],
         "yaxis": "y"
        }
       ],
       "layout": {
        "coloraxis": {
         "colorbar": {
          "title": {
           "text": "release year"
          }
         },
         "colorscale": [
          [
           0,
           "#0d0887"
          ],
          [
           0.1111111111111111,
           "#46039f"
          ],
          [
           0.2222222222222222,
           "#7201a8"
          ],
          [
           0.3333333333333333,
           "#9c179e"
          ],
          [
           0.4444444444444444,
           "#bd3786"
          ],
          [
           0.5555555555555556,
           "#d8576b"
          ],
          [
           0.6666666666666666,
           "#ed7953"
          ],
          [
           0.7777777777777778,
           "#fb9f3a"
          ],
          [
           0.8888888888888888,
           "#fdca26"
          ],
          [
           1,
           "#f0f921"
          ]
         ]
        },
        "legend": {
         "tracegroupgap": 0
        },
        "margin": {
         "t": 60
        },
        "template": {
         "data": {
          "bar": [
           {
            "error_x": {
             "color": "#2a3f5f"
            },
            "error_y": {
             "color": "#2a3f5f"
            },
            "marker": {
             "line": {
              "color": "#E5ECF6",
              "width": 0.5
             }
            },
            "type": "bar"
           }
          ],
          "barpolar": [
           {
            "marker": {
             "line": {
              "color": "#E5ECF6",
              "width": 0.5
             }
            },
            "type": "barpolar"
           }
          ],
          "carpet": [
           {
            "aaxis": {
             "endlinecolor": "#2a3f5f",
             "gridcolor": "white",
             "linecolor": "white",
             "minorgridcolor": "white",
             "startlinecolor": "#2a3f5f"
            },
            "baxis": {
             "endlinecolor": "#2a3f5f",
             "gridcolor": "white",
             "linecolor": "white",
             "minorgridcolor": "white",
             "startlinecolor": "#2a3f5f"
            },
            "type": "carpet"
           }
          ],
          "choropleth": [
           {
            "colorbar": {
             "outlinewidth": 0,
             "ticks": ""
            },
            "type": "choropleth"
           }
          ],
          "contour": [
           {
            "colorbar": {
             "outlinewidth": 0,
             "ticks": ""
            },
            "colorscale": [
             [
              0,
              "#0d0887"
             ],
             [
              0.1111111111111111,
              "#46039f"
             ],
             [
              0.2222222222222222,
              "#7201a8"
             ],
             [
              0.3333333333333333,
              "#9c179e"
             ],
             [
              0.4444444444444444,
              "#bd3786"
             ],
             [
              0.5555555555555556,
              "#d8576b"
             ],
             [
              0.6666666666666666,
              "#ed7953"
             ],
             [
              0.7777777777777778,
              "#fb9f3a"
             ],
             [
              0.8888888888888888,
              "#fdca26"
             ],
             [
              1,
              "#f0f921"
             ]
            ],
            "type": "contour"
           }
          ],
          "contourcarpet": [
           {
            "colorbar": {
             "outlinewidth": 0,
             "ticks": ""
            },
            "type": "contourcarpet"
           }
          ],
          "heatmap": [
           {
            "colorbar": {
             "outlinewidth": 0,
             "ticks": ""
            },
            "colorscale": [
             [
              0,
              "#0d0887"
             ],
             [
              0.1111111111111111,
              "#46039f"
             ],
             [
              0.2222222222222222,
              "#7201a8"
             ],
             [
              0.3333333333333333,
              "#9c179e"
             ],
             [
              0.4444444444444444,
              "#bd3786"
             ],
             [
              0.5555555555555556,
              "#d8576b"
             ],
             [
              0.6666666666666666,
              "#ed7953"
             ],
             [
              0.7777777777777778,
              "#fb9f3a"
             ],
             [
              0.8888888888888888,
              "#fdca26"
             ],
             [
              1,
              "#f0f921"
             ]
            ],
            "type": "heatmap"
           }
          ],
          "heatmapgl": [
           {
            "colorbar": {
             "outlinewidth": 0,
             "ticks": ""
            },
            "colorscale": [
             [
              0,
              "#0d0887"
             ],
             [
              0.1111111111111111,
              "#46039f"
             ],
             [
              0.2222222222222222,
              "#7201a8"
             ],
             [
              0.3333333333333333,
              "#9c179e"
             ],
             [
              0.4444444444444444,
              "#bd3786"
             ],
             [
              0.5555555555555556,
              "#d8576b"
             ],
             [
              0.6666666666666666,
              "#ed7953"
             ],
             [
              0.7777777777777778,
              "#fb9f3a"
             ],
             [
              0.8888888888888888,
              "#fdca26"
             ],
             [
              1,
              "#f0f921"
             ]
            ],
            "type": "heatmapgl"
           }
          ],
          "histogram": [
           {
            "marker": {
             "colorbar": {
              "outlinewidth": 0,
              "ticks": ""
             }
            },
            "type": "histogram"
           }
          ],
          "histogram2d": [
           {
            "colorbar": {
             "outlinewidth": 0,
             "ticks": ""
            },
            "colorscale": [
             [
              0,
              "#0d0887"
             ],
             [
              0.1111111111111111,
              "#46039f"
             ],
             [
              0.2222222222222222,
              "#7201a8"
             ],
             [
              0.3333333333333333,
              "#9c179e"
             ],
             [
              0.4444444444444444,
              "#bd3786"
             ],
             [
              0.5555555555555556,
              "#d8576b"
             ],
             [
              0.6666666666666666,
              "#ed7953"
             ],
             [
              0.7777777777777778,
              "#fb9f3a"
             ],
             [
              0.8888888888888888,
              "#fdca26"
             ],
             [
              1,
              "#f0f921"
             ]
            ],
            "type": "histogram2d"
           }
          ],
          "histogram2dcontour": [
           {
            "colorbar": {
             "outlinewidth": 0,
             "ticks": ""
            },
            "colorscale": [
             [
              0,
              "#0d0887"
             ],
             [
              0.1111111111111111,
              "#46039f"
             ],
             [
              0.2222222222222222,
              "#7201a8"
             ],
             [
              0.3333333333333333,
              "#9c179e"
             ],
             [
              0.4444444444444444,
              "#bd3786"
             ],
             [
              0.5555555555555556,
              "#d8576b"
             ],
             [
              0.6666666666666666,
              "#ed7953"
             ],
             [
              0.7777777777777778,
              "#fb9f3a"
             ],
             [
              0.8888888888888888,
              "#fdca26"
             ],
             [
              1,
              "#f0f921"
             ]
            ],
            "type": "histogram2dcontour"
           }
          ],
          "mesh3d": [
           {
            "colorbar": {
             "outlinewidth": 0,
             "ticks": ""
            },
            "type": "mesh3d"
           }
          ],
          "parcoords": [
           {
            "line": {
             "colorbar": {
              "outlinewidth": 0,
              "ticks": ""
             }
            },
            "type": "parcoords"
           }
          ],
          "pie": [
           {
            "automargin": true,
            "type": "pie"
           }
          ],
          "scatter": [
           {
            "marker": {
             "colorbar": {
              "outlinewidth": 0,
              "ticks": ""
             }
            },
            "type": "scatter"
           }
          ],
          "scatter3d": [
           {
            "line": {
             "colorbar": {
              "outlinewidth": 0,
              "ticks": ""
             }
            },
            "marker": {
             "colorbar": {
              "outlinewidth": 0,
              "ticks": ""
             }
            },
            "type": "scatter3d"
           }
          ],
          "scattercarpet": [
           {
            "marker": {
             "colorbar": {
              "outlinewidth": 0,
              "ticks": ""
             }
            },
            "type": "scattercarpet"
           }
          ],
          "scattergeo": [
           {
            "marker": {
             "colorbar": {
              "outlinewidth": 0,
              "ticks": ""
             }
            },
            "type": "scattergeo"
           }
          ],
          "scattergl": [
           {
            "marker": {
             "colorbar": {
              "outlinewidth": 0,
              "ticks": ""
             }
            },
            "type": "scattergl"
           }
          ],
          "scattermapbox": [
           {
            "marker": {
             "colorbar": {
              "outlinewidth": 0,
              "ticks": ""
             }
            },
            "type": "scattermapbox"
           }
          ],
          "scatterpolar": [
           {
            "marker": {
             "colorbar": {
              "outlinewidth": 0,
              "ticks": ""
             }
            },
            "type": "scatterpolar"
           }
          ],
          "scatterpolargl": [
           {
            "marker": {
             "colorbar": {
              "outlinewidth": 0,
              "ticks": ""
             }
            },
            "type": "scatterpolargl"
           }
          ],
          "scatterternary": [
           {
            "marker": {
             "colorbar": {
              "outlinewidth": 0,
              "ticks": ""
             }
            },
            "type": "scatterternary"
           }
          ],
          "surface": [
           {
            "colorbar": {
             "outlinewidth": 0,
             "ticks": ""
            },
            "colorscale": [
             [
              0,
              "#0d0887"
             ],
             [
              0.1111111111111111,
              "#46039f"
             ],
             [
              0.2222222222222222,
              "#7201a8"
             ],
             [
              0.3333333333333333,
              "#9c179e"
             ],
             [
              0.4444444444444444,
              "#bd3786"
             ],
             [
              0.5555555555555556,
              "#d8576b"
             ],
             [
              0.6666666666666666,
              "#ed7953"
             ],
             [
              0.7777777777777778,
              "#fb9f3a"
             ],
             [
              0.8888888888888888,
              "#fdca26"
             ],
             [
              1,
              "#f0f921"
             ]
            ],
            "type": "surface"
           }
          ],
          "table": [
           {
            "cells": {
             "fill": {
              "color": "#EBF0F8"
             },
             "line": {
              "color": "white"
             }
            },
            "header": {
             "fill": {
              "color": "#C8D4E3"
             },
             "line": {
              "color": "white"
             }
            },
            "type": "table"
           }
          ]
         },
         "layout": {
          "annotationdefaults": {
           "arrowcolor": "#2a3f5f",
           "arrowhead": 0,
           "arrowwidth": 1
          },
          "autotypenumbers": "strict",
          "coloraxis": {
           "colorbar": {
            "outlinewidth": 0,
            "ticks": ""
           }
          },
          "colorscale": {
           "diverging": [
            [
             0,
             "#8e0152"
            ],
            [
             0.1,
             "#c51b7d"
            ],
            [
             0.2,
             "#de77ae"
            ],
            [
             0.3,
             "#f1b6da"
            ],
            [
             0.4,
             "#fde0ef"
            ],
            [
             0.5,
             "#f7f7f7"
            ],
            [
             0.6,
             "#e6f5d0"
            ],
            [
             0.7,
             "#b8e186"
            ],
            [
             0.8,
             "#7fbc41"
            ],
            [
             0.9,
             "#4d9221"
            ],
            [
             1,
             "#276419"
            ]
           ],
           "sequential": [
            [
             0,
             "#0d0887"
            ],
            [
             0.1111111111111111,
             "#46039f"
            ],
            [
             0.2222222222222222,
             "#7201a8"
            ],
            [
             0.3333333333333333,
             "#9c179e"
            ],
            [
             0.4444444444444444,
             "#bd3786"
            ],
            [
             0.5555555555555556,
             "#d8576b"
            ],
            [
             0.6666666666666666,
             "#ed7953"
            ],
            [
             0.7777777777777778,
             "#fb9f3a"
            ],
            [
             0.8888888888888888,
             "#fdca26"
            ],
            [
             1,
             "#f0f921"
            ]
           ],
           "sequentialminus": [
            [
             0,
             "#0d0887"
            ],
            [
             0.1111111111111111,
             "#46039f"
            ],
            [
             0.2222222222222222,
             "#7201a8"
            ],
            [
             0.3333333333333333,
             "#9c179e"
            ],
            [
             0.4444444444444444,
             "#bd3786"
            ],
            [
             0.5555555555555556,
             "#d8576b"
            ],
            [
             0.6666666666666666,
             "#ed7953"
            ],
            [
             0.7777777777777778,
             "#fb9f3a"
            ],
            [
             0.8888888888888888,
             "#fdca26"
            ],
            [
             1,
             "#f0f921"
            ]
           ]
          },
          "colorway": [
           "#636efa",
           "#EF553B",
           "#00cc96",
           "#ab63fa",
           "#FFA15A",
           "#19d3f3",
           "#FF6692",
           "#B6E880",
           "#FF97FF",
           "#FECB52"
          ],
          "font": {
           "color": "#2a3f5f"
          },
          "geo": {
           "bgcolor": "white",
           "lakecolor": "white",
           "landcolor": "#E5ECF6",
           "showlakes": true,
           "showland": true,
           "subunitcolor": "white"
          },
          "hoverlabel": {
           "align": "left"
          },
          "hovermode": "closest",
          "mapbox": {
           "style": "light"
          },
          "paper_bgcolor": "white",
          "plot_bgcolor": "#E5ECF6",
          "polar": {
           "angularaxis": {
            "gridcolor": "white",
            "linecolor": "white",
            "ticks": ""
           },
           "bgcolor": "#E5ECF6",
           "radialaxis": {
            "gridcolor": "white",
            "linecolor": "white",
            "ticks": ""
           }
          },
          "scene": {
           "xaxis": {
            "backgroundcolor": "#E5ECF6",
            "gridcolor": "white",
            "gridwidth": 2,
            "linecolor": "white",
            "showbackground": true,
            "ticks": "",
            "zerolinecolor": "white"
           },
           "yaxis": {
            "backgroundcolor": "#E5ECF6",
            "gridcolor": "white",
            "gridwidth": 2,
            "linecolor": "white",
            "showbackground": true,
            "ticks": "",
            "zerolinecolor": "white"
           },
           "zaxis": {
            "backgroundcolor": "#E5ECF6",
            "gridcolor": "white",
            "gridwidth": 2,
            "linecolor": "white",
            "showbackground": true,
            "ticks": "",
            "zerolinecolor": "white"
           }
          },
          "shapedefaults": {
           "line": {
            "color": "#2a3f5f"
           }
          },
          "ternary": {
           "aaxis": {
            "gridcolor": "white",
            "linecolor": "white",
            "ticks": ""
           },
           "baxis": {
            "gridcolor": "white",
            "linecolor": "white",
            "ticks": ""
           },
           "bgcolor": "#E5ECF6",
           "caxis": {
            "gridcolor": "white",
            "linecolor": "white",
            "ticks": ""
           }
          },
          "title": {
           "x": 0.05
          },
          "xaxis": {
           "automargin": true,
           "gridcolor": "white",
           "linecolor": "white",
           "ticks": "",
           "title": {
            "standoff": 15
           },
           "zerolinecolor": "white",
           "zerolinewidth": 2
          },
          "yaxis": {
           "automargin": true,
           "gridcolor": "white",
           "linecolor": "white",
           "ticks": "",
           "title": {
            "standoff": 15
           },
           "zerolinecolor": "white",
           "zerolinewidth": 2
          }
         }
        },
        "xaxis": {
         "anchor": "y",
         "domain": [
          0,
          1
         ],
         "title": {
          "text": "PC 1 (0.27)"
         }
        },
        "yaxis": {
         "anchor": "x",
         "domain": [
          0,
          1
         ],
         "title": {
          "text": "PC 2 (0.19)"
         }
        }
       }
      },
      "text/html": [
       "<div>                            <div id=\"d38f242d-5ae3-4d34-bbc8-1f383e7f7e13\" class=\"plotly-graph-div\" style=\"height:525px; width:100%;\"></div>            <script type=\"text/javascript\">                require([\"plotly\"], function(Plotly) {                    window.PLOTLYENV=window.PLOTLYENV || {};                                    if (document.getElementById(\"d38f242d-5ae3-4d34-bbc8-1f383e7f7e13\")) {                    Plotly.newPlot(                        \"d38f242d-5ae3-4d34-bbc8-1f383e7f7e13\",                        [{\"customdata\": [[\"\\u05d4\\u05d0\\u05dd \\u05d4\\u05d0\\u05dd \\u05d4\\u05d0\\u05dd-Gidi Gov\", 1997.0], [\"\\u05d4\\u05d2\\u05e0\\u05e0\\u05d9\\u05dd \\u05d4\\u05d9\\u05d5\\u05dd \\u05e2\\u05e6\\u05d5\\u05d1\\u05d9\\u05dd-Yehudit Ravitz\", 1993.0], [\"\\u05d4\\u05d5\\u05d0-Noa\", 1998.0], [\"\\u05d4\\u05d5\\u05d0 \\u05d4\\u05d5\\u05dc\\u05da \\u05de\\u05de\\u05da-Yehudit Ravitz\", 1987.0], [\"\\u05d4\\u05d5\\u05dc\\u05db\\u05ea \\u05de\\u05de\\u05da-Sharon Haziz\", 2012.0], [\"\\u05d4\\u05d5\\u05e8\\u05d4 \\u05de\\u05de\\u05d8\\u05e8\\u05d4-Shoshana Damari\", 2006.0], [\"\\u05d4\\u05d9\\u05d0 \\u05d4\\u05d5\\u05dc\\u05db\\u05ea \\u05d1\\u05d3\\u05e8\\u05db\\u05d9\\u05dd-Kaveret\", 1998.0], [\"\\u05d4\\u05d9\\u05d0 \\u05d9\\u05d5\\u05d3\\u05e2\\u05ea-Ninet Tayeb\", 2006.0], [\"\\u05d4\\u05d9\\u05d0 \\u05e8\\u05d5\\u05e7\\u05d3\\u05ea-Yardena Arazi\", 1998.0], [\"\\u05d4\\u05d9\\u05d0 \\u05e8\\u05d5\\u05e7\\u05d3\\u05ea-Yardena Arazi.1\", 2019.0], [\"\\u05d4\\u05d9\\u05d5 \\u05dc\\u05d9\\u05dc\\u05d5\\u05ea-Noa\", 2011.0], [\"\\u05d4\\u05db\\u05d9\\u05e0\\u05d5\\u05e8 \\u05d4\\u05e0\\u05d0\\u05de\\u05df-Yardena Arazi\", 1987.0], [\"\\u05d4\\u05db\\u05dc \\u05d6\\u05d4 \\u05dc\\u05d8\\u05d5\\u05d1\\u05d4-Dana International\", 2007.0], [\"\\u05d4\\u05db\\u05dc \\u05e1\\u05d2\\u05d5\\u05e8-Sarit Hadad\", 2012.0], [\"\\u05d4\\u05dc\\u05d1-Maya Buskila\", 2004.0], [\"\\u05d4\\u05dc\\u05d9\\u05dc\\u05d4-Hakol Over Habibi\", 1989.0], [\"\\u05d4\\u05dc\\u05dc\\u05d5\\u05d9\\u05d4-\\u05d7\\u05dc\\u05d1 \\u05d5\\u05d3\\u05d1\\u05e9\", 1995.0], [\"\\u05d4\\u05dd \\u05d1\\u05d6\\u05de\\u05e8 \\u05d4\\u05d6\\u05d4-Matti Caspi\", 1984.0], [\"\\u05d4\\u05de\\u05d2\\u05e4\\u05d9\\u05d9\\u05dd \\u05e9\\u05dc \\u05d1\\u05e8\\u05d5\\u05da-Kaveret\", 1973.0], [\"\\u05d4\\u05e0\\u05e1\\u05d9\\u05db\\u05d4 \\u05d5\\u05d4\\u05e8\\u05d5\\u05d7-Rita\", 1988.0], [\"\\u05d4\\u05e9\\u05d9\\u05e8 \\u05d4\\u05d6\\u05d4-Sharona Pick\", 2004.0], [\"\\u05d5\\u05d0\\u05dc\\u05e1 \\u05dc\\u05d4\\u05d2\\u05e0\\u05ea \\u05d4\\u05e6\\u05d5\\u05de\\u05d7-Lehakat HaNachal\", 2010.0], [\"\\u05d5\\u05d3\\u05d5\\u05d3 \\u05d9\\u05e4\\u05d4 \\u05e2\\u05d9\\u05e0\\u05d9\\u05d9\\u05dd-A-WA\", 2019.0], [\"\\u05d5\\u05d9\\u05d3\\u05d5\\u05d9-Yehudit Ravitz\", 1994.0], [\"\\u05d5\\u05e0\\u05e6\\u05d5\\u05d0\\u05dc\\u05d4-Green Onion\", 2003.0], [\"\\u05d6\\u05d4 \\u05d4\\u05db\\u05dc \\u05d1\\u05e9\\u05d1\\u05d9\\u05dc\\u05da-Danny Sanderson\", 1990.0], [\"\\u05d6\\u05d5\\u05d3\\u05d9\\u05d0\\u05e7-Yaron Hadad\", 1994.0], [\"\\u05d6\\u05df \\u05e0\\u05d3\\u05d9\\u05e8-Yehudit Ravitz\", 1998.0], [\"\\u05d6\\u05df \\u05e0\\u05d3\\u05d9\\u05e8-Korin Allal\", 1992.0], [\"\\u05d7\\u05d1\\u05e8\\u05d9\\u05dd \\u05d1\\u05db\\u05dc \\u05de\\u05d9\\u05e0\\u05d9 \\u05e6\\u05d1\\u05e2\\u05d9\\u05dd-Sarit Hadad\", 1999.0], [\"\\u05d7\\u05d5\\u05e4\\u05d9\\u05dd \\u05d4\\u05dd \\u05dc\\u05e4\\u05e2\\u05de\\u05d9\\u05dd-Chava Alberstein\", 1975.0], [\"\\u05d7\\u05d6\\u05e7\\u05d4 \\u05de\\u05d4\\u05e8\\u05d5\\u05d7-Gali Atari\", 1992.0], [\"\\u05d7\\u05d9\\u05d5\\u05db\\u05d9\\u05dd-Chava Alberstein\", 1968.0], [\"\\u05d7\\u05d9\\u05d9\\u05da \\u05d5\\u05d7\\u05d9\\u05d9-Gidi Gov\", 1997.0], [\"\\u05d7\\u05d9\\u05d9\\u05dc \\u05e9\\u05dc 100 \\u05e9\\u05e2\\u05e8\\u05d9\\u05dd-Sheygets\", 2001.0], [\"\\u05d7\\u05d9\\u05db\\u05d9\\u05ea\\u05d9 \\u05dc\\u05d5-Sarit Hadad\", 2015.0], [\"\\u05d7\\u05de\\u05d9\\u05de\\u05d5\\u05ea \\u05d7\\u05d5\\u05dc\\u05e4\\u05ea-Dana Berger\", 1998.0], [\"\\u05d8\\u05d9\\u05e7\\u05d9\\u05d8\\u05d0\\u05e1-Noa Kirel\", 2017.0], [\"\\u05d9\\u05d7\\u05d9\\u05dc\\u05d5\\u05d9 \\u05d5\\u05d9\\u05d7\\u05dc\\u05d9-Ofra Haza\", 1984.0], [\"Maria-Evadne Baker\", 1965.0], [\"Marija Magdalena-Doris Dragovi\\u0107\", 2014.0], [\"Matchmaker-John Williams\", 1971.0], [\"Material Girl-\\u05d4\\u05db\\u05d5\\u05db\\u05d1 \\u05d4\\u05d1\\u05d0\", 2019.0], [\"Mercy-Madame Monsieur\", 2018.0], [\"A Million Dreams-P!nk\", 2018.0], [\"A Million Voices-Polina Gagarina\", 2015.0], [\"Molitva - Serbian Version-Marija \\u0160erifovi\\u0107\", 2007.0], [\"Money Money-Joel Grey\", 1972.0], [\"Mood Ring (By Demand) - Pride Remix-Britney Spears\", 2020.0], [\"Move Your Body - Single Mix-Sia\", 2017.0], [\"Mr. Blue Sky-Electric Light Orchestra\", 1977.0], [\"Mucho Bien-MR.BLACK\", 2020.0], [\"Mudbira-A-WA\", 2019.0], [\"Murder On The Dancefloor-Sophie Ellis-Bextor\", 2002.0], [\"My Favorite Things-Julie Andrews\", 1964.0], [\"My Happy Ending-Avril Lavigne\", 2004.0], [\"My Heart Will Go On - Love Theme from \\\"Titanic\\\"-C\\u00e9line Dion\", 1997.0], [\"My Number One-Helena Paparizou\", 2005.0], [\"My Prerogative-Britney Spears\", 2004.0], [\"Neka Mi Ne Svane-Danijela Martinovic\", 2014.0], [\"Nel Blu Dipinto Di Blu-Domenico Modugno\", 2008.0], [\"Nemo-Nightwish\", 2005.0], [\"Ne partez pas sans moi (Grand prix de L'Eurovision 1988)-C\\u00e9line Dion\", 1994.0], [\"Vay Halime-Candan Er\\u00e7etin\", 2009.0], [\"Viens on s\\u2019aime-Slimane\", 2018.0], [\"Vogue-Madonna\", 2009.0], [\"Wannabe-Spice Girls\", 1996.0], [\"WAP (feat. Megan Thee Stallion)-Cardi B\", 2020.0], [\"We R Who We R-Kesha\", 2010.0], [\"What's Up?-4 Non Blondes\", 1992.0], [\"Whenever, Wherever-Shakira\", 2001.0], [\"When We're High-LP\", 2017.0], [\"When We Were Young-Adele\", 2015.0], [\"When You're Gone-Bryan Adams\", 1998.0], [\"Where Have You Been-Sarit Hadad\", 2012.0], [\"Who Knew-P!nk\", 2006.0], [\"A Whole New World-Lea Salonga\", 2004.0], [\"Wild Dances-Ruslana\", 2004.0], [\"Wind It Up-Gwen Stefani\", 2006.0], [\"Wings-Delta Goodrem\", 2016.0], [\"Woman in Love-Barbra Streisand\", 1980.0], [\"Womanizer - Acoustic-Lily Allen\", 2009.0], [\"Work Bitch-Britney Spears\", 2013.0], [\"Written in the Stars (feat. Eric Turner)-Tinie Tempah\", 2010.0], [\"Ya Watani-A-WA\", 2019.0], [\"Yonc\\u00e9 - Homecoming Live-Beyonc\\u00e9\", 2019.0], [\"(You Drive Me) Crazy-Britney Spears\", 1999.0], [\"You Oughta Know-Alanis Morissette\", 2020.0], [\"You Oughta Know - 2015 Remaster-Alanis Morissette\", 1995.0], [\"You've Got The Love-Florence + The Machine\", 2009.0], [\"\\u05d0\\u05d2\\u05d3\\u05ea \\u05d3\\u05e9\\u05d0-Gidi Gov\", 2019.0], [\"\\u05d0\\u05d2\\u05d3\\u05ea \\u05d4\\u05e9\\u05de\\u05e9 \\u05d5\\u05d4\\u05d9\\u05e8\\u05d7-Ethnix\", 1995.0], [\"\\u05d0\\u05d3\\u05d5\\u05e0\\u05d9-Roni Duani\", 2006.0], [\"\\u05d0\\u05d3\\u05d5\\u05df \\u05e9\\u05d5\\u05e7\\u05d5-Arik Einstein\", 1989.0], [\"\\u05d0\\u05d4\\u05d1\\u05d4 \\u05e7\\u05d8\\u05e0\\u05d4-Shiri Maimon\", 2005.0], [\"\\u05d0\\u05d5\\u05d4\\u05d1 \\u05dc\\u05d4\\u05d9\\u05d5\\u05ea \\u05d1\\u05d1\\u05d9\\u05ea-Arik Einstein\", 1993.0], [\"\\u05d0\\u05d5\\u05d4\\u05d1\\u05ea \\u05dc\\u05d0 \\u05d0\\u05d5\\u05d4\\u05d1\\u05ea-Arkadi Duchin\", 2001.0], [\"\\u05d0\\u05d5\\u05e8-Shoshana Damari\", 1988.0], [\"\\u05d0\\u05d5\\u05ea\\u05da-Ilana Avital\", 1977.0], [\"\\u05d0\\u05d7\\u05dc\\u05d4 \\u05e2\\u05d5\\u05dc\\u05dd-Gidi Gov\", 2003.0], [\"\\u05d0\\u05d9\\u05da \\u05e9\\u05d9\\u05e8 \\u05e0\\u05d5\\u05dc\\u05d3-Yehonatan Geffen\", 1978.0], [\"\\u05d0\\u05d9\\u05df \\u05dc\\u05d9 \\u05e8\\u05d2\\u05e2 \\u05d3\\u05dc-Rivka Michaeli\", 1981.0], [\"\\u05d0\\u05d9\\u05df \\u05e2\\u05d5\\u05d3 \\u05d9\\u05d5\\u05dd-Gidi Gov\", 1991.0], [\"\\u05d0\\u05d9 \\u05e9\\u05dd-Ilanit\", 1972.0], [\"\\u05d0\\u05d9\\u05ea\\u05d5 \\u05dc\\u05e0\\u05e6\\u05d7-Kerach Tesha\", 1997.0], [\"\\u05d0\\u05dd \\u05e0\\u05e0\\u05e2\\u05dc\\u05d5-Ofra Haza\", 1984.0], [\"\\u05d0\\u05e0\\u05d9 \\u05d0\\u05d5\\u05d4\\u05d1-Yehonatan Geffen\", 1978.0], [\"\\u05d0\\u05e0\\u05d9 \\u05d0\\u05e9\\u05ea\\u05d2\\u05e2-Nurit Galron\", 2005.0], [\"\\u05d0\\u05e0\\u05d9 \\u05d7\\u05d5\\u05dc\\u05dd \\u05e2\\u05dc \\u05e0\\u05e2\\u05de\\u05d9-Hedva Amrani\", 2020.0], [\"\\u05d0\\u05e0\\u05d9 \\u05d7\\u05d9\\u05d4 \\u05dc\\u05d9 \\u05de\\u05d9\\u05d5\\u05dd \\u05dc\\u05d9\\u05d5\\u05dd-Rita\", 1988.0], [\"\\u05d0\\u05e0\\u05d9 \\u05de\\u05e9\\u05dd-Yehudit Ravitz\", 1993.0], [\"\\u05d0\\u05e0\\u05d9 \\u05e9\\u05d8\\u05d4-Zehava Ben\", 2000.0], [\"\\u05d0\\u05e6\\u05dc \\u05d4\\u05d3\\u05d5\\u05d3\\u05d4 \\u05d5\\u05d4\\u05d3\\u05d5\\u05d3-Noa Kirel\", 2017.0], [\"\\u05d0\\u05e8\\u05e5 \\u05d8\\u05e8\\u05d5\\u05e4\\u05d9\\u05ea \\u05d9\\u05e4\\u05d4 / \\u05d1\\u05d5\\u05d0 \\u05dc\\u05e8\\u05d9\\u05d5 - Live-Yehudit Ravitz\", 2008.0], [\"\\u05d0\\u05ea \\u05d5\\u05d0\\u05e0\\u05d9-Shlomo Artzi\", 1975.0], [\"\\u05d0\\u05ea \\u05d7\\u05d9\\u05e8\\u05d5\\u05ea\\u05d9-Berry Sakharof\", 2020.0], [\"\\u05d0\\u05ea \\u05d7\\u05e8\\u05d5\\u05ea\\u05d9-Chava Alberstein\", 1975.0], [\"\\u05d0\\u05ea \\u05ea\\u05dc\\u05db\\u05d9 \\u05d1\\u05e9\\u05d3\\u05d4-Chava Alberstein\", 1975.0], [\"\\u05d1\\u05d0\\u05d4\\u05d1\\u05ea\\u05e0\\u05d5-Yehudit Ravitz\", 1993.0], [\"\\u05d1\\u05d2\\u05d9\\u05d3\\u05d4-Rita\", 1986.0], [\"\\u05d1\\u05d2\\u05dc\\u05dc \\u05d4\\u05dc\\u05d9\\u05dc\\u05d4-Chava Alberstein\", 2016.0], [\"\\u05d1\\u05d5\\u05d0-Rita\", 1988.0], [\"\\u05d1\\u05d5\\u05d0\\u05d9 \\u05db\\u05dc\\u05d4-Noa\", 1998.0], [\"\\u05d1\\u05d5\\u05e7\\u05e8 \\u05d8\\u05d5\\u05d1 \\u05e2\\u05d5\\u05dc\\u05dd-Avtipus\", 1995.0], [\"\\u05d1\\u05d7\\u05d5\\u05dd \\u05e9\\u05dc \\u05ea\\u05dc \\u05d0\\u05d1\\u05d9\\u05d1-Sarit Hadad\", 2004.0], [\"\\u05d1\\u05d9 \\u05d2\\u05d0\\u05e8\\u05d0\\u05e8 (\\u05d7\\u05e1\\u05e8 \\u05e9\\u05e7\\u05d8)-Rita\", 2011.0], [\"\\u05d1\\u05da \\u05dc\\u05d0 \\u05e0\\u05d5\\u05d2\\u05e2-Yehudit Ravitz\", 2000.0], [\"\\u05d1\\u05dc\\u05d9\\u05dc\\u05d5\\u05ea \\u05d4\\u05e7\\u05d9\\u05e5 \\u05d4\\u05d7\\u05de\\u05d9\\u05dd-Matti Caspi\", 1978.0], [\"\\u05d1\\u05dc\\u05e2\\u05d3\\u05d9\\u05d9\\u05da-Gidi Gov\", 1978.0], [\"\\u05d1\\u05df \\u05d0\\u05d3\\u05dd-Yardena Arazi\", 1998.0], [\"\\u05d2\\u05d1\\u05e8\\u05d9\\u05d0\\u05dc-Ofra Haza\", 1982.0], [\"\\u05d2\\u05d9\\u05d8\\u05e8\\u05d4 \\u05d5\\u05db\\u05d9\\u05e0\\u05d5\\u05e8-Arik Einstein\", 1999.0], [\"\\u05d2\\u05dc\\u05d1\\u05d9-Ofra Haza\", 1984.0], [\"\\u05d2'\\u05e1\\u05d9\\u05e7\\u05d4-Ethnix\", 1993.0], [\"\\u05d2\\u05e9\\u05dd \\u05d1\\u05e2\\u05d9\\u05ea\\u05d5-Ruthi Navon\", 1974.0], [\"\\u05d3\\u05d1\\u05e7\\u05d4 \\u05e8\\u05e4\\u05d9\\u05d7 - Bonus-Yehudit Ravitz\", 1981.0], [\"\\u05d3\\u05d5\\u05df \\u05e7\\u05d9\\u05d7\\u05d5\\u05d8\\u05d4-Dana International\", 1998.0], [\"\\u05d3\\u05d5\\u05df \\u05e7\\u05d9\\u05d7\\u05d5\\u05d8\\u05d4-Shiri Maimon\", 2002.0], [\"\\u05d3\\u05de\\u05e2\\u05d5\\u05ea \\u05e9\\u05dc \\u05de\\u05dc\\u05d0\\u05db\\u05d9\\u05dd-Yehudit Ravitz\", 1979.0], [\"Never Be The Same Again-Melanie C\", 1999.0], [\"Nobody's Wife-Anouk\", 1997.0], [\"No Roots-Alice Merton\", 2017.0], [\"no tears left to cry-Ariana Grande\", 2018.0], [\"Oh My God (feat. Lily Allen)-Mark Ronson\", 2007.0], [\"Ojos As\\u00ed-Shakira\", 1998.0], [\"One of Us-Cher\", 2018.0], [\"Oniro Mou-Yianna Terzi\", 2018.0], [\"Ooh Aah...Just a Little Bit - Motiv8 Radio Edit-Gina G\", 1996.0], [\"Oops!...I Did It Again-Britney Spears\", 2000.0], [\"Open Your Heart-Madonna\", 1986.0], [\"Ora Na Gyriseis-Malu\", 2017.0], [\"Over The Hills And Far Away-Nightwish\", 2001.0], [\"Paid My Dues-Anastacia\", 1999.0], [\"A Pal\\u00e9 - Gesaffelstein Remix-Gesaffelstein\", 2019.0], [\"Parle \\u00e0 ma main (feat. Yelle et Christelle)-Fatal Bazooka\", 2007.0], [\"Parle \\u00e0 ta t\\u00eate-Indila\", 2019.0], [\"Partition-Beyonc\\u00e9\", 2014.0], [\"Part of Your World - From \\\"The Little Mermaid\\\" / Soundtrack Version-Jodi Benson\", 1997.0], [\"Party In The U.S.A.-Miley Cyrus\", 2009.0], [\"Pas eu le temps-Patrick Bruel\", 2019.0], [\"Petra - Offer Nissim 08' Reconstruction-Dana International\", 2008.0], [\"Petra - Offer Nissim Reconstruction Mix-Dana International\", 2014.0], [\"The Phantom Of the Opera-Andrew Lloyd Webber\", 2004.0], [\"Pon de Replay-Rihanna\", 2005.0], [\"Poor Unfortunate Souls - From \\\"The Little Mermaid\\\" / Soundtrack Version-Pat Carroll\", 1997.0], [\"Qu\\u00e9 Hiciste-Jennifer Lopez\", 2012.0], [\"Que Nadie Sepa Mi Sufrir-Soledad\", 1997.0], [\"\\u00bfQui\\u00e9n te has cre\\u00eddo que soy?-Fangoria\", 2019.0], [\"Read U Wrote U (Ellis Miah Mix) [feat. The Cast of RuPaul's Drag Race All Stars, Season 2]-RuPaul\", 2016.0], [\"Reflection-Christina Aguilera\", 1998.0], [\"Reflection (2020) - From \\\"Mulan\\\"-Christina Aguilera\", 2020.0], [\"Replay-Tamta\", 2019.0], [\"Rich Girl-Gwen Stefani\", 2004.0], [\"Rolling in the Deep-Adele\", 2011.0], [\"Sa Leat-Arik Einstein\", 1974.0], [\"Satellite-Lena\", 2010.0], [\"Say You'll Be There-Spice Girls\", 1996.0], [\"Send My Love (To Your New Lover)-Adele\", 2016.0], [\"Send My Love (To Your New Lover)-Adele.1\", 2015.0], [\"Set Fire to the Rain-Adele\", 2011.0], [\"Shake It Out-Florence + The Machine\", 2011.0], [\"Shallow-Lady Gaga\", 2018.0], [\"Ship To Wreck-Florence + The Machine\", 2015.0], [\"Shufuni-Sarit Hadad\", 2019.0], [\"Since U Been Gone-Kelly Clarkson\", 2004.0], [\"Sissy That Walk-RuPaul\", 2014.0], [\"Sk8er Boi-Avril Lavigne\", 2002.0], [\"Smile-Lily Allen\", 2006.0], [\"So Emotional-Whitney Houston\", 1987.0], [\"Sokratis-Elpida\", 1998.0], [\"Soldi-Mahmood\", 2019.0], [\"Solo (feat. Demi Lovato)-Clean Bandit\", 2018.0], [\"Something to Sing About-Original Cast of Buffy The Vampire Slayer\", 2002.0], [\"Soon We'll Be Found-Sia\", 2008.0], [\"Sound of Silence-Dami Im\", 2016.0], [\"Sous le vent-Garou\", 2000.0], [\"Spice Up Your Life-Spice Girls\", 1997.0], [\"Stop-Spice Girls\", 1997.0], [\"Sto Theo Me Paei-Eleni Foureira\", 2017.0], [\"Superstar - Turkish Version-Sibel T\\u00fcz\\u00fcn\", 2006.0], [\"Sweet but Psycho-Ava Max\", 2018.0], [\"Tears (feat. Louisa Johnson)-Clean Bandit\", 2016.0], [\"Temperatura-Eleni Foureira\", 2020.0], [\"Think-Aretha Franklin\", 1968.0], [\"Ti Koitas-Eleni Foureira\", 2016.0], [\"Together-Sia\", 2020.0], [\"Torn-Natalie Imbruglia\", 2007.0], [\"Total Eclipse of the Heart-Bonnie Tyler\", 1999.0], [\"Tous Eipes Pos-Malu\", 2019.0], [\"Tren Del Cielo-Soledad\", 2001.0], [\"Tren Del Cielo-Soledad.1\", 2005.0], [\"Tu te reconnaitras-Anne-Marie David\", 1973.0], [\"Tu Veneno-Natalia Oreiro\", 1999.0], [\"Umbrella-Rihanna\", 2008.0], [\"Une belle histoire-Michel Fugain & Le Big Bazar\", 1972.0], [\"1000 Doves-Lady Gaga\", 2020.0], [\"911-Lady Gaga\", 2020.0], [\"Ainsi bas la vida-Indila\", 2014.0], [\"Alejandro-Lady Gaga\", 2009.0], [\"Alive-Sia\", 2016.0], [\"All of My Love - Radio edit-Destiny\", 2020.0], [\"Alone-C\\u00e9line Dion\", 2008.0], [\"Always Look On The Bright Side Of Life-Monty Python\", 1989.0], [\"Amies ennemies-N\\u00e2diya\", 2006.0], [\"Anaconda-Nicki Minaj\", 2014.0], [\"Around The World-Aqua\", 2009.0], [\"Baby Can I Hold You-Red Band\", 2014.0], [\"Baby (feat. MARINA & Luis Fonsi)-Clean Bandit\", 2018.0], [\"Bamakom Hachi Namooch Be'e Tel Aviv (At the Lowest Place in Tel Aviv)-Dana International\", 2008.0], [\"Bang Bang-Jessie J\", 2014.0], [\"Because of You-Kelly Clarkson\", 2012.0], [\"Beegharar - Offer Nissim Club Remix-Rita\", 2012.0], [\"Believe-Cher\", 1998.0], [\"Best Thing I Never Had-Beyonc\\u00e9\", 2011.0], [\"BLACK PARADE-Beyonc\\u00e9\", 2020.0], [\"Bootylicious-Destiny's Child\", 2001.0], [\"Born This Way-Lady Gaga\", 2011.0], [\"Born to Make You Happy-Britney Spears\", 1999.0], [\"Break Up Bye Bye - Frock Destroyers Version-The Cast of RuPaul's Drag Race UK\", 2019.0], [\"Broken-Shefita\", 2017.0], [\"Cabaret-Liza Minnelli\", 1972.0], [\"Call Me - Original Version-Anna Vissi\", 2007.0], [\"Cambio Dolor-Natalia Oreiro\", 1998.0], [\"\\u00c7a va \\u00e7a vient-Vitaa\", 2019.0], [\"Chameleon-Michela\", 2019.0], [\"Cheap Thrills-Sia\", 2016.0], [\"Chewing-Gum-Vendredi sur Mer\", 2019.0], [\"Cinderella - Yamim Tovim-Sexta\", 2016.0], [\"Climb Ev'ry Mountain-Peggy Wood\", 1964.0], [\"Colors of the Wind-Judy Kuhn\", 2012.0], [\"Come On Over (All I Want Is You)-Christina Aguilera\", 1999.0], [\"Crying for No Reason-Katy B\", 2014.0], [\"Dancing On My Own - Radio Edit-Robyn\", 2010.0], [\"Derni\\u00e8re danse-Indila\", 2014.0], [\"Dime-Beth\", 2003.0], [\"Diva - Original Hebrew Version-Dana International\", 1998.0], [\"Doctor Jones - Original Version-Aqua\", 1997.0], [\"Dog Days Are Over-Florence + The Machine\", 2009.0], [\"Don't Speak-No Doubt\", 1995.0], [\"Don't Start Now-Dua Lipa\", 2020.0], [\"Don't Start Now-Dua Lipa.1\", 2019.0], [\"Don't Turn Around-Ace of Base\", 1993.0], [\"Dynamite-Taio Cruz\", 2010.0], [\"Echo (You and I)-Anggun\", 2012.0], [\"Ein bisschen Frieden-Nicole\", 2009.0], [\"Eize Rikud-Hedva Amrani\", 2011.0], [\"Elastic Heart-Sia\", 2014.0], [\"Empire State of Mind (Part II) Broken Down-Alicia Keys\", 2009.0], [\"Eres T\\u00fa-Mocedades\", 1994.0], [\"Estoy Aqu\\u00ed-Shakira\", 1995.0], [\"Euphoria-Loreen\", 2012.0], [\"Ever Dream-Nightwish\", 2002.0], [\"Everytime We Touch - Radio Edit-Cascada\", 2011.0], [\"Every Way That I Can - Philippe Laurent from Galleon Radio Edit-Sertab Erener\", 2003.0], [\"Feel This Moment (feat. Christina Aguilera)-Pitbull\", 2012.0], [\"Flames-David Guetta\", 2018.0], [\"Forogj Vil\\u00e1g!-Nox\", 2005.0], [\"Free-Dana International\", 1999.0], [\"Fuego-Eleni Foureira\", 2018.0], [\"Genie In a Bottle-Christina Aguilera\", 1999.0], [\"Get Me Bodied-Beyonc\\u00e9\", 2006.0], [\"Gimme! Gimme! Gimme! (A Man After Midnight) - Offer Nissim Needs a Man Remix-Cher\", 2018.0], [\"GIRL LIKE ME-Black Eyed Peas\", 2020.0], [\"Give That-B. Ames\", 2019.0], [\"Going Under-Evanescence\", 2003.0], [\"Good as Hell-Lizzo\", 2016.0], [\"Good Night Europe-Offer Nissim\", 2017.0], [\"The Greatest (feat. Kendrick Lamar)-Sia\", 2016.0], [\"Gul l\\u2019Abi-Acid Arab\", 2016.0], [\"Habib galbi-A-WA\", 2015.0], [\"Hakol Beseder - Omri Smadar Remix-Yehudit Ravitz\", 2019.0], [\"Hana Mash Hu Al Yaman-A-WA\", 2019.0], [\"Hana Mash Hu Al Yaman-A-WA.1\", 2019.0], [\"Hard out Here-Lily Allen\", 2013.0], [\"Heaven Is a Place on Earth-Belinda Carlisle\", 2013.0], [\"Hey Mickey-Toni Basil\", 2020.0], [\"Hit the Road Jack-Ray Charles\", 2012.0], [\"Hot N Cold-Katy Perry\", 2008.0], [\"How Far I'll Go-Auli'i Cravalho\", 2016.0], [\"Hurt-Christina Aguilera\", 2006.0], [\"IDGAF-Dua Lipa\", 2017.0], [\"I'll Be Fine-Clairy Browne & The Bangin' Rackettes\", 2013.0], [\"I'm a Slave 4 U-Britney Spears\", 2001.0], [\"I'm Gonna Be (500 Miles)-The Proclaimers\", 1988.0], [\"I'm Outta Love-Anastacia\", 1999.0], [\"Independent Women, Pt. 1-Destiny's Child\", 2001.0], [\"Into the Unknown-Idina Menzel\", 2019.0], [\"Ironic-Alanis Morissette\", 1995.0], [\"Irreplaceable-Beyonc\\u00e9\", 2007.0], [\"It's My Life-No Doubt\", 2019.0], [\"I Wanna Dance with Somebody (Who Loves Me)-Whitney Houston\", 1987.0], [\"I WILL SURVIVE-Gloria Gaynor\", 2010.0], [\"(I Would) Die For You-Antique\", 2007.0], [\"Je suis l'enfant soleil-Anne-Marie David\", 2005.0], [\"Je T\\u2019aime-Lara Fabian\", 1997.0], [\"Ze Rak Sport-Dafna Dekel\", 2017.0], [\"\\u05d0\\u05d4\\u05d1\\u05d4 \\u05d4\\u05d9\\u05d0 \\u05e9\\u05d9\\u05e8 \\u05dc\\u05e9\\u05e0\\u05d9\\u05d9\\u05dd-Ilanit\", 2013.0], [\"\\u05e2\\u05d5\\u05d3 \\u05e0\\u05d2\\u05d9\\u05e2-Yardena Arazi\", 1984.0], [\"\\u05e2\\u05d5\\u05dc\\u05d4 \\u05e2\\u05d5\\u05dc\\u05d4-Izhar Cohan\", 1998.0], [\"\\u05e2\\u05d8\\u05d5\\u05e3 \\u05d1\\u05e8\\u05d7\\u05de\\u05d9\\u05dd-Rita\", 1988.0], [\"\\u05e2\\u05d8\\u05d5\\u05e8 \\u05de\\u05e6\\u05d7\\u05da \\u05d6\\u05d4\\u05d1 \\u05e9\\u05d7\\u05d5\\u05e8 - \\u05d0\\u05e8\\u05e5 \\u05d9\\u05e9\\u05e8\\u05d0\\u05dc \\u05d4\\u05d9\\u05e9\\u05e0\\u05d4 \\u05d5\\u05d4\\u05d8\\u05d5\\u05d1\\u05d4 \\u05d7\\u05dc\\u05e7 \\u05d2 - \\u05e8\\u05d9\\u05de\\u05d0\\u05e1\\u05d8\\u05e8\\u05d9\\u05e0\\u05d2-Arik Einstein\", 2018.0], [\"\\u05e2\\u05d9\\u05df \\u05d2\\u05d3\\u05d9-Yehudit Ravitz\", 1979.0], [\"\\u05e2\\u05dc \\u05d2\\u05d1\\u05e2\\u05d5\\u05ea \\u05e9\\u05d9\\u05da \\u05d0\\u05d1\\u05e8\\u05d9\\u05e7 - \\u05d0\\u05d3\\u05de\\u05d4 \\u05d0\\u05d3\\u05de\\u05ea\\u05d9-OFARIM\", 1972.0], [\"\\u05e2\\u05dc\\u05d9\\u05da \\u05d5\\u05e2\\u05dc\\u05d9\\u05d9-Sarit Hadad\", 2007.0], [\"\\u05e2\\u05e7\\u05e8\\u05d4 (\\u05d0\\u05d5\\u05e8\\u05d9)-Noa\", 2013.0], [\"\\u05e2\\u05e8\\u05d1 \\u05db\\u05d7\\u05d5\\u05dc \\u05e2\\u05de\\u05d5\\u05e7-Rita\", 1994.0], [\"\\u05e2\\u05e8\\u05d1 \\u05e9\\u05d7-Shoshana Damari\", 2010.0], [\"'\\u05e4\\u05d0\\u05d5\\u05e5-Noa Kirel\", 2019.0], [\"\\u05e4\\u05d2\\u05d9\\u05e9\\u05d4 \\u05dc\\u05d0\\u05d9\\u05df \\u05e7\\u05e5-Chava Alberstein\", 2016.0], [\"\\u05e4\\u05e0\\u05d9\\u05dd \\u05d0\\u05dc \\u05de\\u05d5\\u05dc \\u05e4\\u05e0\\u05d9\\u05dd-Gidi Gov\", 1995.0], [\"\\u05e4\\u05e8\\u05d7 \\u05d4\\u05dc\\u05d9\\u05dc\\u05da-Chava Alberstein\", 1975.0], [\"\\u05e6\\u05d0 \\u05de\\u05d6\\u05d4 - Live-Yehudit Ravitz\", 2008.0], [\"\\u05e7\\u05d5\\u05dc\\u05e0\\u05d5\\u05e2 (\\u05e2\\u05d5\\u05de\\u05e8 \\u05de\\u05d5\\u05e9\\u05e7\\u05d5\\u05d1\\u05d9\\u05e5)-Omer Moskovich\", 2020.0], [\"\\u05e7\\u05e8\\u05df \\u05d0\\u05d5\\u05e8-Noa\", 1998.0], [\"\\u05e8\\u05d5\\u05e2\\u05d4 \\u05d5\\u05e8\\u05d5\\u05e2\\u05d4-Shoshana Damari\", 2010.0], [\"\\u05e8\\u05d5\\u05e7\\u05d3\\u05ea-Ania Bukstein\", 2017.0], [\"\\u05e8\\u05d7\\u05d1\\u05ea \\u05d4\\u05e8\\u05d9\\u05e7\\u05d5\\u05d3\\u05d9\\u05dd-Yehudit Ravitz\", 1987.0], [\"\\u05e8\\u05d7\\u05de\\u05d9\\u05dd-Ofra Haza\", 2000.0], [\"\\u05e8\\u05e2\\u05d9\\u05d3\\u05ea \\u05d0\\u05d3\\u05de\\u05d4-Yehudit Ravitz\", 1990.0], [\"\\u05e9\\u05d1\\u05d9\\u05dc \\u05d4\\u05d1\\u05e8\\u05d9\\u05d7\\u05d4-Rita\", 1986.0], [\"\\u05e9\\u05d1\\u05ea\\u05d5\\u05ea \\u05d5\\u05d7\\u05d2\\u05d9\\u05dd-Yehudit Ravitz\", 1994.0], [\"\\u05e9\\u05d7\\u05de\\u05d8-Chava Alberstein\", 1990.0], [\"\\u05e9\\u05d8\\u05d7 \\u05d4\\u05d4\\u05e4\\u05e7\\u05e8-Gidi Gov\", 1983.0], [\"\\u05e9\\u05d9\\u05d1\\u05d5\\u05dc\\u05ea \\u05d1\\u05e9\\u05d3\\u05d4-Ran & Nama\", 1960.0], [\"\\u05e9\\u05d9\\u05e8 \\u05d4\\u05e4\\u05d9\\u05e4\\u05d9-Gitit Fisher\", 2019.0], [\"\\u05e9\\u05d9\\u05e8 \\u05d4\\u05e4\\u05e8\\u05d9\\u05d7\\u05d4 - 1985 Version-Ofra Haza\", 1986.0], [\"\\u05e9\\u05d9\\u05e8 \\u05dc\\u05d0\\u05e1\\u05e3-Keren Peles\", 2010.0], [\"\\u05e9\\u05d9\\u05e8 \\u05de\\u05e9\\u05de\\u05e8-Chava Alberstein\", 2016.0], [\"\\u05e9\\u05d9\\u05e8 \\u05e9\\u05dc \\u05d9\\u05d5\\u05dd \\u05d7\\u05d5\\u05dc\\u05d9\\u05df-Ilanit\", 2009.0], [\"\\u05e9\\u05e8\\u05d4 \\u05d1\\u05e8\\u05d7\\u05d5\\u05d1\\u05d5\\u05ea - \\u05d2\\u05e8\\u05e1\\u05ea \\u05d4\\u05d0\\u05d9\\u05e8\\u05d5\\u05d5\\u05d9\\u05d6\\u05d9\\u05d5\\u05df-Rita\", 2015.0], [\"\\u05e9\\u05ea\\u05d5 \\u05d4\\u05e2\\u05d3\\u05e8\\u05d9\\u05dd - \\u05de\\u05e2\\u05de\\u05e7 \\u05dc\\u05d2\\u05d1\\u05e2\\u05d4-OFARIM\", 1972.0], [\"\\u05ea\\u05d0\\u05de\\u05e8\\u05d5 \\u05dc\\u05d5-Nasrin Kadri\", 2018.0], [\"\\u05ea\\u05de\\u05d5\\u05e0\\u05d4-Yehudit Ravitz\", 1993.0], [\"\\u05ea\\u05e4\\u05d9\\u05dc\\u05d4 - 1985 Version-Ofra Haza\", 2000.0], [\"\\u05ea\\u05e4\\u05ea\\u05d7 \\u05d7\\u05dc\\u05d5\\u05df-Rita\", 1999.0], [\"\\u05ea\\u05e9\\u05d0\\u05d9\\u05e8\\u05d9 \\u05dc\\u05d9 \\u05de\\u05e7\\u05d5\\u05dd \\u05dc\\u05d7\\u05d1\\u05e7 \\u05d0\\u05d5\\u05ea\\u05da-Avtipus\", 1995.0], [\"\\u30e1\\u30ea\\u30c3\\u30b5-PornoGraffitti\", 1999.0], [\"\\u05d9\\u05dc\\u05d3\\u05d5\\u05ea \\u05e0\\u05e9\\u05db\\u05d7\\u05ea-Nurit Galron\", 1983.0], [\"\\u05d9\\u05dd \\u05e9\\u05dc \\u05d2\\u05e2\\u05d2\\u05d5\\u05e2-Yehudit Ravitz\", 2007.0], [\"\\u05d9\\u05e2\\u05dc\\u05d4 \\u05d5\\u05d9\\u05d1\\u05d5\\u05d0-Gidi Gov\", 1973.0], [\"\\u05d9\\u05e2\\u05e7\\u05d1-Laladin\", 1994.0], [\"\\u05d9\\u05e8\\u05d5\\u05e9\\u05dc\\u05d9\\u05dd \\u05e9\\u05dc \\u05d6\\u05d4\\u05d1-Ofra Haza\", 2000.0], [\"\\u05d9\\u05e9 \\u05d0\\u05d9 \\u05e9\\u05dd-Noa\", 2011.0], [\"\\u05d9\\u05e9 \\u05dc\\u05d9 \\u05d7\\u05d5\\u05dc\\u05e9\\u05d4 \\u05dc\\u05e8\\u05e7\\u05d3\\u05e0\\u05d9\\u05dd-Riki Gal\", 1993.0], [\"\\u05d9\\u05e9 \\u05dc\\u05d9 \\u05e6\\u05d9\\u05e4\\u05d5\\u05e8 \\u05e7\\u05d8\\u05e0\\u05d4 \\u05d1\\u05dc\\u05d1-Noa Kirel\", 2019.0], [\"\\u05d9\\u05e9\\u05e0\\u05df \\u05d1\\u05e0\\u05d5\\u05ea-Dana International\", 1998.0], [\"\\u05db\\u05d0\\u05df-Orna & Moshe Datz\", 1994.0], [\"\\u05db\\u05dc\\u05e0\\u05d9\\u05d5\\u05ea-Shoshana Damari\", 2010.0], [\"\\u05db\\u05de\\u05d4 \\u05e9\\u05d0\\u05e0\\u05d9 \\u05d9\\u05e4\\u05d4 - 1985-Tzipi Shavit\", 1985.0], [\"\\u05db\\u05de\\u05d5 \\u05d9\\u05dd-Yehonatan Geffen\", 1978.0], [\"\\u05db\\u05de\\u05d5 \\u05e1\\u05d9\\u05e0\\u05d3\\u05e8\\u05dc\\u05d4-Sarit Hadad\", 1999.0], [\"\\u05db\\u05e9\\u05d0\\u05e0\\u05d9 \\u05d0\\u05d9\\u05ea\\u05da \\u05d0\\u05e0\\u05d9 \\u05db\\u05de\\u05d5 \\u05d3\\u05d2-Teapacks\", 2003.0], [\"\\u05dc\\u05d0 \\u05d3\\u05d9\\u05d1\\u05e8\\u05e0\\u05d5 \\u05e2\\u05d5\\u05d3 \\u05e2\\u05dc \\u05d0\\u05d4\\u05d1\\u05d4-Gidi Gov\", 1995.0], [\"\\u05dc\\u05d0\\u05d5\\u05e8\\u05da \\u05d4\\u05d9\\u05dd-Ofra Haza\", 2000.0], [\"\\u05dc\\u05d3\\u05de\\u05e2\\u05d5\\u05ea \\u05d9\\u05e9 \\u05e4\\u05d4-Sarit Hadad\", 1999.0], [\"\\u05dc\\u05d5 \\u05d9\\u05d4\\u05d9-Chava Alberstein\", 1973.0], [\"\\u05dc\\u05d5\\u05e0\\u05d3\\u05d5\\u05df-Chava Alberstein\", 1989.0], [\"\\u05dc\\u05d9\\u05dc\\u05d4-Yehudit Ravitz\", 1979.0], [\"\\u05dc\\u05d9\\u05dc\\u05d4 \\u05d8\\u05d5\\u05d1 \\u05d0\\u05d9\\u05e8\\u05d5\\u05e4\\u05d4-Dana International\", 1998.0], [\"\\u05dc\\u05d9\\u05dc \\u05d7\\u05e0\\u05d9\\u05d4-Hanan Yovel\", 2006.0], [\"\\u05dc\\u05dc\\u05d3\\u05d9\\u05df-Laladin\", 1994.0], [\"\\u05dc\\u05de\\u05d4 \\u05d4\\u05dc\\u05db\\u05ea \\u05de\\u05de\\u05e0\\u05d5-Teapacks\", 2003.0], [\"\\u05dc\\u05de\\u05d4 \\u05dc\\u05d9\\u05d1\\u05da \\u05db\\u05de\\u05d5 \\u05e7\\u05e8\\u05d7-Gidi Gov\", 2003.0], [\"\\u05dc\\u05de\\u05d7\\u05e8\\u05ea-Yehudit Ravitz\", 1993.0], [\"\\u05dc\\u05de\\u05d9 \\u05e9\\u05d0\\u05d9\\u05e0\\u05d5 \\u05de\\u05d0\\u05de\\u05d9\\u05df-Yehudit Ravitz\", 1984.0], [\"\\u05dc\\u05e2\\u05d5\\u05dc\\u05dd \\u05d1\\u05e2\\u05e7\\u05d1\\u05d5\\u05ea \\u05d4\\u05e9\\u05de\\u05e9-\\u05e9\\u05e8\\u05d9\", 2019.0], [\"\\u05dc\\u05e7\\u05d7\\u05ea \\u05d0\\u05ea \\u05d9\\u05d3\\u05d9 \\u05d1\\u05d9\\u05d3\\u05da-Yehudit Ravitz\", 1979.0], [\"\\u05de\\u05d2\\u05d3\\u05dc\\u05d5\\u05e8-Shoshana Damari\", 2012.0], [\"\\u05de\\u05d2\\u05d3\\u05dc\\u05d5\\u05e8-Mika Karni\", 2004.0], [\"\\u05de\\u05d4 \\u05d0\\u05ea\\u05d4 \\u05e8\\u05d5\\u05e6\\u05d4-Ella Lee\", 2020.0], [\"\\u05de\\u05d5\\u05e1\\u05d9\\u05e7\\u05d4 \\u05e0\\u05e9\\u05d0\\u05e8\\u05ea-Yardena Arazi\", 1998.0], [\"\\u05de\\u05d7\\u05e8\\u05d5\\u05d6\\u05ea \\u05e9\\u05d9\\u05e8\\u05d9 \\u05db\\u05e4\\u05e8-Ofra Haza\", 1985.0], [\"\\u05de\\u05d7\\u05e8\\u05d5\\u05d6\\u05ea \\u05e9\\u05d9\\u05e8\\u05d9 \\u05e8\\u05d5\\u05e2\\u05d9\\u05dd: \\u05d0.\\u05e9\\u05d9\\u05e8 \\u05d4\\u05e9\\u05d5\\u05de\\u05e8, \\u05d1.\\u05e8\\u05d5\\u05e2\\u05d4 \\u05d5\\u05e8\\u05d5\\u05e2\\u05d4, \\u05d2.\\u05e2\\u05e8\\u05d1 \\u05e9\\u05d7, \\u05d3.\\u05e9\\u05d9\\u05e8 \\u05d4\\u05db\\u05d3, \\u05d4.\\u05d3\\u05d1\\u05e7\\u05d4 \\u05e8\\u05e4\\u05d9\\u05d7-Ofra Haza\", 1983.0], [\"\\u05de\\u05d9\\u05d3\\u05d9\\u05d3 \\u05dc\\u05d0\\u05d5\\u05d9\\u05d1-Gitit Fisher\", 2019.0], [\"?\\u05de\\u05d9 \\u05d4\\u05de\\u05e0\\u05d8\\u05d4? \\u05de\\u05d9 \\u05d4\\u05de\\u05e1\\u05d8\\u05d9\\u05e7? \\u05de\\u05d9 \\u05d4\\u05e9\\u05d5\\u05e7\\u05d5\\u05dc\\u05d3-Shokolad Menta Mastik\", 2005.0], [\"\\u05de\\u05d9\\u05d8\\u05e9\\u05dc-Mika Karni\", 1997.0], [\"\\u05de\\u05d9 \\u05d9\\u05d5\\u05d3\\u05e2 \\u05de\\u05d3\\u05d5\\u05e2 \\u05d5\\u05dc\\u05de\\u05d4 \\u05dc\\u05d5\\u05d1\\u05e9\\u05ea \\u05d4\\u05d6\\u05d1\\u05e8\\u05d4 \\u05e4\\u05d9\\u05d2`\\u05de\\u05d4-Mashina\", 1989.0], [\"\\u05de\\u05d9\\u05e9\\u05d4\\u05d5-Yehudit Ravitz\", 1979.0], [\"\\u05de\\u05dc\\u05db\\u05ea \\u05d4\\u05e9\\u05d5\\u05e9\\u05e0\\u05d9\\u05dd-Eden Ben Zaken\", 2015.0], [\"\\u05de\\u05e1\\u05e7\\u05e8\\u05d4 \\u05e9\\u05d7\\u05d5\\u05e8\\u05d4-Dikla\", 2016.0], [\"\\u05de\\u05e4\\u05d7\\u05d3 \\u05e2\\u05dc\\u05d9\\u05d9\\u05da-Miri Mesika\", 2018.0], [\"\\u05de\\u05e4\\u05d7\\u05d3 \\u05e2\\u05dc\\u05d9\\u05d9\\u05da - OFFER NISSIM REMIX-Miri Mesika\", 2018.0], [\"\\u05de\\u05e7\\u05d4\\u05dc\\u05d4 \\u05e2\\u05dc\\u05d9\\u05d6\\u05d4-Chava Alberstein\", 1967.0], [\"\\u05de\\u05e7\\u05d4\\u05dc\\u05d4 \\u05e2\\u05dc\\u05d9\\u05d6\\u05d4-Dana International\", 2020.0], [\"\\u05de\\u05e9\\u05d9\\u05e8\\u05d9 \\u05d0\\u05e8\\u05e5 \\u05d0\\u05d4\\u05d1\\u05ea\\u05d9-Chava Alberstein\", 1970.0], [\"\\u05de\\u05ea\\u05d9 \\u05dc\\u05d7\\u05d6\\u05d5\\u05e8-\\u05d0\\u05ea\\u05e0\\u05d9\\u05e7\\u05e1\", 2011.0], [\"\\u05e0\\u05d2\\u05d9\\u05e2\\u05d4 \\u05d0\\u05d7\\u05ea \\u05e8\\u05db\\u05d4-Nurit Galron\", 1984.0], [\"\\u05e0\\u05d5\\u05e1\\u05e2\\u05ea \\u05dc\\u05e4\\u05d8\\u05e8\\u05d4-Dana International\", 1998.0], [\"\\u05e0\\u05d7-Matti Caspi\", 1974.0], [\"\\u05e0\\u05d9\\u05e6\\u05e0\\u05d9\\u05dd \\u05e0\\u05e8\\u05d0\\u05d5 \\u05d1\\u05d0\\u05e8\\u05e5-HaGevatron\", 1994.0], [\"\\u05e0\\u05e2\\u05de\\u05d9\\u05d3 \\u05e4\\u05e0\\u05d9 \\u05d9\\u05ea\\u05d5\\u05de\\u05d9\\u05dd-Yehudit Ravitz\", 1993.0], [\"\\u05e0\\u05e9\\u05d9\\u05dd \\u05e8\\u05d5\\u05e7\\u05d3\\u05d5\\u05ea-Chava Alberstein\", 1975.0], [\"\\u05e1\\u05d9\\u05d2\\u05dc\\u05d9\\u05d5\\u05ea-David Broza\", 1983.0], [\"\\u05e1\\u05dc\\u05d9\\u05d7\\u05d5\\u05ea-Yehudit Ravitz\", 1979.0], [\"\\u05e1\\u05e2\\u05d9\\u05d3\\u05d4 \\u05e1\\u05d5\\u05dc\\u05d8\\u05e0\\u05d4-Dana International\", 1998.0]], \"hovertemplate\": \"0=%{x}<br>1=%{y}<br>index=%{customdata[0]}<br>release year=%{marker.color}<extra></extra>\", \"legendgroup\": \"\", \"marker\": {\"color\": [1997.0, 1993.0, 1998.0, 1987.0, 2012.0, 2006.0, 1998.0, 2006.0, 1998.0, 2019.0, 2011.0, 1987.0, 2007.0, 2012.0, 2004.0, 1989.0, 1995.0, 1984.0, 1973.0, 1988.0, 2004.0, 2010.0, 2019.0, 1994.0, 2003.0, 1990.0, 1994.0, 1998.0, 1992.0, 1999.0, 1975.0, 1992.0, 1968.0, 1997.0, 2001.0, 2015.0, 1998.0, 2017.0, 1984.0, 1965.0, 2014.0, 1971.0, 2019.0, 2018.0, 2018.0, 2015.0, 2007.0, 1972.0, 2020.0, 2017.0, 1977.0, 2020.0, 2019.0, 2002.0, 1964.0, 2004.0, 1997.0, 2005.0, 2004.0, 2014.0, 2008.0, 2005.0, 1994.0, 2009.0, 2018.0, 2009.0, 1996.0, 2020.0, 2010.0, 1992.0, 2001.0, 2017.0, 2015.0, 1998.0, 2012.0, 2006.0, 2004.0, 2004.0, 2006.0, 2016.0, 1980.0, 2009.0, 2013.0, 2010.0, 2019.0, 2019.0, 1999.0, 2020.0, 1995.0, 2009.0, 2019.0, 1995.0, 2006.0, 1989.0, 2005.0, 1993.0, 2001.0, 1988.0, 1977.0, 2003.0, 1978.0, 1981.0, 1991.0, 1972.0, 1997.0, 1984.0, 1978.0, 2005.0, 2020.0, 1988.0, 1993.0, 2000.0, 2017.0, 2008.0, 1975.0, 2020.0, 1975.0, 1975.0, 1993.0, 1986.0, 2016.0, 1988.0, 1998.0, 1995.0, 2004.0, 2011.0, 2000.0, 1978.0, 1978.0, 1998.0, 1982.0, 1999.0, 1984.0, 1993.0, 1974.0, 1981.0, 1998.0, 2002.0, 1979.0, 1999.0, 1997.0, 2017.0, 2018.0, 2007.0, 1998.0, 2018.0, 2018.0, 1996.0, 2000.0, 1986.0, 2017.0, 2001.0, 1999.0, 2019.0, 2007.0, 2019.0, 2014.0, 1997.0, 2009.0, 2019.0, 2008.0, 2014.0, 2004.0, 2005.0, 1997.0, 2012.0, 1997.0, 2019.0, 2016.0, 1998.0, 2020.0, 2019.0, 2004.0, 2011.0, 1974.0, 2010.0, 1996.0, 2016.0, 2015.0, 2011.0, 2011.0, 2018.0, 2015.0, 2019.0, 2004.0, 2014.0, 2002.0, 2006.0, 1987.0, 1998.0, 2019.0, 2018.0, 2002.0, 2008.0, 2016.0, 2000.0, 1997.0, 1997.0, 2017.0, 2006.0, 2018.0, 2016.0, 2020.0, 1968.0, 2016.0, 2020.0, 2007.0, 1999.0, 2019.0, 2001.0, 2005.0, 1973.0, 1999.0, 2008.0, 1972.0, 2020.0, 2020.0, 2014.0, 2009.0, 2016.0, 2020.0, 2008.0, 1989.0, 2006.0, 2014.0, 2009.0, 2014.0, 2018.0, 2008.0, 2014.0, 2012.0, 2012.0, 1998.0, 2011.0, 2020.0, 2001.0, 2011.0, 1999.0, 2019.0, 2017.0, 1972.0, 2007.0, 1998.0, 2019.0, 2019.0, 2016.0, 2019.0, 2016.0, 1964.0, 2012.0, 1999.0, 2014.0, 2010.0, 2014.0, 2003.0, 1998.0, 1997.0, 2009.0, 1995.0, 2020.0, 2019.0, 1993.0, 2010.0, 2012.0, 2009.0, 2011.0, 2014.0, 2009.0, 1994.0, 1995.0, 2012.0, 2002.0, 2011.0, 2003.0, 2012.0, 2018.0, 2005.0, 1999.0, 2018.0, 1999.0, 2006.0, 2018.0, 2020.0, 2019.0, 2003.0, 2016.0, 2017.0, 2016.0, 2016.0, 2015.0, 2019.0, 2019.0, 2019.0, 2013.0, 2013.0, 2020.0, 2012.0, 2008.0, 2016.0, 2006.0, 2017.0, 2013.0, 2001.0, 1988.0, 1999.0, 2001.0, 2019.0, 1995.0, 2007.0, 2019.0, 1987.0, 2010.0, 2007.0, 2005.0, 1997.0, 2017.0, 2013.0, 1984.0, 1998.0, 1988.0, 2018.0, 1979.0, 1972.0, 2007.0, 2013.0, 1994.0, 2010.0, 2019.0, 2016.0, 1995.0, 1975.0, 2008.0, 2020.0, 1998.0, 2010.0, 2017.0, 1987.0, 2000.0, 1990.0, 1986.0, 1994.0, 1990.0, 1983.0, 1960.0, 2019.0, 1986.0, 2010.0, 2016.0, 2009.0, 2015.0, 1972.0, 2018.0, 1993.0, 2000.0, 1999.0, 1995.0, 1999.0, 1983.0, 2007.0, 1973.0, 1994.0, 2000.0, 2011.0, 1993.0, 2019.0, 1998.0, 1994.0, 2010.0, 1985.0, 1978.0, 1999.0, 2003.0, 1995.0, 2000.0, 1999.0, 1973.0, 1989.0, 1979.0, 1998.0, 2006.0, 1994.0, 2003.0, 2003.0, 1993.0, 1984.0, 2019.0, 1979.0, 2012.0, 2004.0, 2020.0, 1998.0, 1985.0, 1983.0, 2019.0, 2005.0, 1997.0, 1989.0, 1979.0, 2015.0, 2016.0, 2018.0, 2018.0, 1967.0, 2020.0, 1970.0, 2011.0, 1984.0, 1998.0, 1974.0, 1994.0, 1993.0, 1975.0, 1983.0, 1979.0, 1998.0], \"coloraxis\": \"coloraxis\", \"symbol\": \"circle\"}, \"mode\": \"markers\", \"name\": \"\", \"orientation\": \"v\", \"showlegend\": false, \"type\": \"scatter\", \"x\": [-0.3946709259543587, 1.8803747694258217, -1.5816626781930065, -3.5324857666509395, 1.936024000616759, -1.8241993085522719, -2.9741537130699567, 1.8159309356909452, 0.2397846539068167, -1.7510802632083262, -2.8613061745686417, -0.11982683693907369, -1.6556295593673187, 0.7050280633561078, -1.357775828162494, 0.4410073449257986, -0.7975422340081916, 0.018909518196155002, -1.2773707940472918, 1.7330863103939893, -0.3685804786197538, -0.13742221997512394, 1.243801722304334, 6.348256008665241, -3.14231390317282, 4.054310437211641, 2.0348727870113072, -0.3405568034268977, -0.5535750554898368, -1.7418571753033014, 5.583686763742508, 0.204800365585083, -4.130614241043677, 1.9951102285278146, -3.1588833400932446, -1.335879531202328, 1.0800510925395879, 1.093005926606915, 2.224272734568143, 4.815073362556783, 0.016132428251378686, 2.732669971760275, -2.9505318247580767, 2.311371396941635, -3.111089805361727, 4.733420248412986, 4.897058538226848, 2.5644532020634223, -0.4406245761743503, -1.6394766708552295, -5.091522268566215, -0.4366670598640204, 2.091666450617753, -0.5044223326431349, 1.1956487122012571, -5.288489913964188, 2.5430150599516947, 0.5300054455302824, 0.08575273279829149, -0.9944929696476518, 0.7980194234244391, -1.3101807253688649, -1.5192548672584492, 0.43002332512671043, 1.360260594045931, -0.9271624020140411, 0.6965719447253349, -0.976272386915991, -0.2885525604084042, -1.699407875212156, 0.8995347617458126, 0.048459324181789006, -2.6882428416970585, -0.6856118555570586, -1.6944997559936823, -2.046633266643887, 1.687735582737964, -4.527779285314528, -0.10603031432148281, -0.4767996984177352, -3.079354443854672, -1.40549300593175, -1.568272131437933, 2.4532844322615612, 1.3843914260427812, 4.424792101454838, 0.9229254364621097, 2.7112280730121703, 1.095966058419578, 1.1817987119192626, 5.403076322810249, -1.718194654458736, -1.0575959982829435, 2.2584829718035544, 2.7513062380604403, -0.8837967641979099, -2.4228835136984004, 0.6494261785502786, 0.3495169645778875, 4.420147773503127, 2.1619231346038306, -0.13363100965686636, 3.5270581799787952, 4.7656757383956325, -3.304189054232587, -4.62368399943993, 0.1710999074985978, 1.8635241703218752, -2.154047896747813, 0.812130179856751, -1.3754173045313054, -1.0153197120257054, 1.5746486635919474, -4.559864399402633, -1.672218010516925, -0.06918137560393887, 2.453304688463305, 1.4433987572021365, 2.432145338293557, 2.5333497207335895, 1.8596185243930392, 0.8615595306667145, -4.807071353516427, -0.9640381621670091, -1.4838439785105446, 0.7012447185958935, -2.3082703533916504, -0.5471614405511271, 4.474101150716303, -0.9623225876637492, -3.0373459992189256, 5.857355247663588, 3.310960959937338, -1.5908075330072702, 3.7575622991699293, 1.9625565950419988, -0.5799929488540606, -0.49033934683482516, -0.9584923638384861, -4.62662901621136, 1.8517961665621572, 0.4195341950916408, -0.5676718824171331, 2.4081391840984887, -1.3181442441860476, 4.5116449372592164, -2.222454543837643, -0.9628979459119867, 1.9067508951790288, 0.12235279277968546, 2.727173458499357, -1.0748119186944025, 1.813009345947026, 0.4941327337045905, -0.7941910222526003, -0.859835285867987, -6.059207758610998, 3.707283933753902, 1.9120543261403649, -0.18949609994836894, -2.926481520189928, -2.4242224330220434, 0.579226094334436, 1.5658875410720066, 4.78210088062994, -0.06284168277164894, 3.5399593782942005, -0.9008136313730097, 0.5082330115867854, 2.622396944074237, 2.9369779315841096, 1.6269688718306667, 1.173398433611338, 0.9943249274805505, -2.5083299597971958, 2.040568555172625, 0.9502219649067234, -3.625905467415433, -3.6197851994037222, 0.48131824266963724, 0.31270387836880364, 2.5854515790141956, -2.5621938617405577, -1.3716011634759537, -1.0666599564248216, -0.9148669538930143, -2.9951931163503858, 2.488700115379722, -0.45161840684413546, -0.9995044753320249, 2.404103551336434, 0.7932489362790135, 0.5640985488545888, -2.0358794751015403, -1.4343116219870173, -1.4707473690630641, -0.44093073793441234, -0.70828737777641, 0.11052010845916145, -0.4375882143062992, -0.9213712190747946, -1.2804616715908508, 1.9119888033613477, 1.9322465811624288, 1.5052677042152243, -5.069313696331623, 1.341330157190232, -1.2603566282963512, -4.933870580309289, 2.280212462957456, 0.9376999666453151, 1.7195497281586494, -4.67803060590309, -5.618560493716171, -3.561381678690842, -0.8954914899652204, 0.2124382849474571, -0.8422753170222455, 1.4688918567634361, 1.5525830236211664, 1.7385530733893542, -4.417531171723779, 0.6427848127419558, 1.186315453147502, -1.7975954575882231, -1.6630412949696647, -2.35419085128399, 0.24670931745437027, -0.9575316679299878, -2.990012023163629, -1.7066933802065951, -1.9419594065955523, -1.5042037723972275, 1.5500852192348775, -0.7731596156847335, 1.1004849129896592, -1.3908607082335027, 2.961452859011081, -2.1061023179940177, 1.3290133519734442, 2.2170842003748645, -1.410605716536841, 2.053659708258551, 1.3947895482636379, 1.8005231451922878, 2.7373698771907597, 0.4963829232484461, -1.3718702949866068, 3.528714796195932, 3.0069162279270563, -0.3621434492305684, 0.735543939321664, -0.49843826072759584, 0.8279347949521186, -0.9176891468442423, -1.6905145767659195, -1.1762356792969568, -3.1597723535850237, 4.445124913193736, -0.6647222881086094, -0.6649221332507114, 2.1555479000245237, -0.6148670020533672, -1.6876223127372025, 0.5705931190717741, -1.959401186862179, -0.9083514826116611, 3.5559368049928004, 4.285698680957027, 0.019577050142833674, -1.07260327334972, -3.3268648271563457, -2.1899205111043814, 2.0302566440970065, -1.8222305983408986, 2.357657414151711, -1.8944853800856118, -2.808753835200815, 1.3931160852523914, -4.932662606286411, 1.947720692949482, -3.286730357862489, -0.36119833911067045, -1.4296481909389125, -5.092605868505947, 2.5209244897409357, -1.4316125207591197, -5.9606896743793945, 1.2473498272906063, 1.6129527373402563, -0.9093127671813365, 0.9137289276512114, 0.9137289276512114, -0.7472159484402369, -0.7581965986361251, -3.5188686005584846, -2.6978617853771376, -1.443249991919563, 5.578374847425716, -1.4597957323383972, 2.0822505511912284, -5.707665233086767, 0.30005101249870864, -0.9431286651644615, -0.3137580759724485, 1.7514206892563888, -1.5254104741849805, 3.542001762262829, -4.634160204045324, -1.153542977634872, -0.5379689526513918, 0.25757285447402856, -0.9576916344021107, -2.3295591890625253, 1.4182149617223592, -0.8297782916513075, 2.5425853107254657, -0.7334193760655691, -0.27590415558657894, 0.1660599909157621, 2.2316556385882738, -0.3953240929456018, 0.679134612891992, -0.6736033169705955, 4.4553138982872245, 0.7475565247312241, -0.07402077754486137, -1.4807009194398741, 2.1878421552721843, -1.9775074981444125, 3.7820868785270334, -2.4715567718962705, -3.3319159199321695, 0.46763376961528064, 9.107925689577375, -1.1536154446432954, -3.8090583168530596, -4.7237339048691815, 2.710080951995211, 4.024979132873477, 1.1132083945459248, 0.1152337148801061, 4.189071845030589, 0.5178613915474386, -3.5802792123880356, 0.8793456665920849, -1.1155213192130096, 2.9051271319681478, 3.436152015225949, 3.1835523922078437, -3.6931452983234623, 2.5603887874850964, -2.1323036982715493, -1.006315488723507, -1.989078311504993, -0.9940981921088685, -5.543734852070523, 1.393658353182952, 0.5602324347778318, -4.356345101344374, -1.5341954369194604, -3.1310522614887133, 0.9801583770487992, -0.6226528084520859, 0.05180976589091608, -0.7641290292823298, 0.5114106169992308, 0.7972210512894432, -4.632343098439004, 5.486695502928021, 0.45383126431391574, 1.7446891787345804, -0.032444877865248654, -0.5468627054705674, 0.9985078430951263, 5.3178495986053465, 2.7009396342705116, 4.329570478460123, -1.188159707789342, -5.698591741958082, -0.6869100139713981, 0.6570256418807855, -3.1449891856476615, 1.8413205670314983, -0.7600188887870689, -1.6166321096659253, 4.926583707180059, 2.7161688564520245, -0.3524290751297429, 0.780380163642752, -0.9935610493756258, -0.8475480461350082, -1.9344615654432182, -4.678756194809636, -0.9531924954677162, 3.8079349643949563, -0.9886556720520371, 0.11148813264053724, -0.8254284254649014, 1.143568863607701, 0.17784293805310655, -1.3223389055955108, 1.104804994384117, -0.7486160288465833, 2.0649666848410053, -0.5675788123920866, 7.032206593239824, 0.32181268642125116, -4.47843849574462, -0.06839836327828161, 4.077967137285489, -0.07370825284675792, -0.80125307114709, 2.4131169595376725, -0.17600023575048998], \"xaxis\": \"x\", \"y\": [0.31885016055719073, 1.939194851573442, 5.342512957524543, 7.108253234297806, -0.9424169908092671, 0.8105368648591158, -1.1004754613686023, 0.17208615323455984, -0.5876912492186768, -1.9906990047758495, 5.129541646842767, 0.30235326914246774, -0.8154859617607184, -1.5148278911456652, -1.3279458778429318, 0.5207863696819209, 1.4652105496870296, 0.9904313022299094, -0.8432165924776883, 2.76112443663217, -1.1588635877603501, 0.2661191272415168, -1.9645114969903232, 1.9497204943211472, -0.2753680817286584, 1.1147555710041601, 0.7489539629355718, 1.6156366320831728, 1.3293505156518026, -1.796381045842238, 1.2760292701270273, -0.8244158540401025, 1.3323195885619852, 0.3488565832043942, -0.39159059818792374, -2.013386878021753, -1.4762342276478844, -3.4019594246319413, -0.5194707962144354, 2.0774239260670746, -1.3834456780359177, 3.2726205913087534, -0.7063019310992779, -0.5456612052201993, 1.7405284276888826, -2.604362384076967, -0.017840009949324175, 0.44688343958617105, -1.8333510773033852, -2.0560279593411233, 4.1700871569678855, -1.2736437157299012, -2.8797190364813914, -1.9440435387362285, 2.0666148994343714, -1.1987459378490144, 3.32294729363616, -2.1602060722836627, -2.9002658604300064, 1.1013971013214767, 5.46904541553411, -0.18086699182313642, 1.1858235028785855, -2.78994265694226, -1.5198054435875772, -0.6831854584750142, -2.3400140815812605, -0.47163227383056044, -2.0597328204337226, 1.661638335927146, -2.417735855148391, -1.9482256102723612, 1.3244331132520133, -1.409106989583734, -1.278866242468875, -1.2644352752308836, 4.68314333438972, -1.2959485499630605, -2.0213288560089144, -2.3900320655929783, 5.230337350653473, 0.6168213467774153, -1.023440559994322, -3.422040390128971, -2.8038046174353792, -0.5681270303312884, -3.2020337735404327, 1.3021224042770172, -0.6628190640916046, -1.9365338256846316, 4.273699274380511, 0.683228822776642, -0.6712152719191526, 1.3479629807509677, -1.9500421958229393, 1.2851521863735071, 0.2143245869617007, 2.5866867123068373, -0.8935866601198554, 2.550338797185846, 3.3510199145205166, 0.4615786044191869, 2.577794183983963, 3.738278868478587, -2.3546480465700066, 2.3340188643470587, 4.628717315104257, 0.6715543126896335, -0.1478302334165177, 1.621043087419643, -0.11633585380621872, -1.6161304148415834, -2.272744113184114, 1.8740462217438565, -0.40112251031070517, -0.04109996947927638, 0.9152962595550951, 3.3846390682258103, 2.535062147788551, 0.976663165663329, 2.8821859754271872, 2.893349178690504, 5.752150763272383, 2.230696654829105, -0.24846237727630993, -1.7518352197971951, 1.999827770794135, 1.0400569406492945, 0.6274751317772671, -0.28477414560548225, -0.2535282819867015, 0.7782884592394554, -0.5486631935352185, 0.351891725499875, 0.45775986176404276, -1.169100831260789, -0.8225977573458435, 1.210306084844256, 7.098573220210057, 0.10714921949434722, -1.5737623866124755, -1.3230781767838387, -1.2670506118882834, -2.7361636986708486, -1.5808693950393375, 2.127507453391105, 0.6191187143906428, -0.6065060345026944, -2.493264105151226, -0.5349797048374562, -0.982429896666086, -1.104363472868342, -2.9141295987682105, -0.050166895390160414, -1.5998310950545094, -1.8310635392555332, 4.070407402153757, 4.021006434517131, -2.420878570371308, -0.9808386595345002, -1.359652952161683, 1.5262540950722845, 1.8451741433475197, -0.8463091875350364, 4.760196708789747, -0.1284907276862996, -1.8272824670811096, -1.3819979122912691, -0.4014716491103203, 0.2076721164823025, 0.47631971685880836, -2.4202498099612164, -3.4514705446535503, -1.7324257794517315, 4.372186951619847, -3.3771374961043206, -1.4777813353510345, 0.8235425242993779, 0.8815976951816495, -1.7316618750708979, -1.549805401439074, -0.3187548991130308, -1.6831068856084122, -1.2040416424175604, -1.177848770931134, -1.7322497587567762, -1.2469195756644298, -1.7545384246037077, 0.40746625696354055, 0.46138867162489494, -0.2122576602905944, -2.033326739986634, 3.3302164715965494, 0.4934512342018733, -0.9900166217817117, 1.4058263885860103, -2.127789486545729, -1.9520043351911667, -2.489472850872005, -0.27450777758464645, -1.7527499640322717, -1.4076220877620271, -3.54631198913801, -0.24172200544290917, -3.1557268616508654, 0.10613935431067216, -2.836410231518883, 1.4724764392388048, -0.4582800541714964, -1.82405036294833, -3.090373483694328, -1.5424790453533295, -2.5699111014460017, 0.14123017219598666, 1.23743963144651, -1.6328657683325165, -2.2331373361585136, -0.598302829805685, -1.387943678365314, -1.4494771621775524, -2.3472847617195387, 1.2975176967479158, 1.6467149132964156, -2.0780201165000562, -0.9200609831977373, -2.3583234823069783, 0.8797557655046385, -1.1643835389167634, -1.3168974774518956, -1.759805483497958, 0.22743693840003681, 0.34092876368535985, -0.667564431172548, -1.5072578000504566, -0.7216871872145844, -3.14466506407638, -1.2094503141289112, -2.769662501746101, -2.3474927207214886, -2.6074332629338164, 2.9231280099963297, -0.9483385252296649, -1.8400259659595504, -1.4934176003076072, -2.921625596520868, -2.1476867420803933, -1.4255429597136116, -1.0672028622086784, 2.8441632430039907, 3.074779532007763, -2.359572055296275, -0.9346378521630478, -0.7381457159601579, 0.5011458267788634, -0.970738119310872, -2.2577966966277327, -1.0926750521474407, -0.18607045589638077, -1.369157593794486, -2.5608538115486215, -2.561713756205722, -1.4313091103779738, -2.6976605046418016, -1.6911271267426633, -0.3801596658834099, -0.9426966634333611, -1.296422713863446, 0.7501745573262004, -0.1185238498725762, -0.8868865935763269, -0.14079812191830116, 0.6894694236183291, -1.5418688527795181, -3.3197102743153026, -1.6994173965367407, -2.3767395912665963, -0.7098292109119251, 0.2868963123293004, -2.022557577869724, 0.1535866612631359, -2.4490676548793218, -0.4392473453898698, -0.3081519340477558, -2.0013681728303174, -0.1913832156921968, -3.1642843577049944, 3.9746674798285686, 0.15152594978233327, -0.6481239454670242, -3.0935662855710184, -1.7735737415321298, -1.4049578704049068, -1.4049578704049068, -2.1847558522066444, -0.5820735149996983, -1.4628415165281026, 1.5907638883236248, -2.3576719970312343, 1.4937603212845012, 2.619619916045386, -1.805191026392376, 0.6483457977718962, -2.9158069145793797, -1.03577414293109, -0.956482236582177, -2.2405075603228566, 2.5486155029423414, -0.5372850494498099, -0.565768212940589, -1.874861487398151, -0.12336075373152187, -0.5119772684745508, -2.577052688941814, 0.35431351070083034, 1.3744016155041063, -1.5827866863273927, -0.00464117079948277, 0.3905546089849861, -0.13620210828858326, 2.8843555900541586, 3.745150146174095, 6.378116440044532, 1.9835441342221058, -0.48954460839645175, 3.4558997619526566, 1.0871738237268613, 1.8317872737138698, -0.680843368054855, 2.5020269228254404, 3.799681458859532, 2.6409427205116094, 1.6147016806273111, 0.3291294439219617, 4.6990640528179295, 0.028955212985515698, -0.5072095274472779, 1.6870508844693681, 1.0652146626553256, -0.3860947024490014, 1.771571620268075, 4.024152406798223, 0.9473306791897018, 3.2472234560945226, -1.4145797516577912, -0.45473476269391394, 0.06221994717598287, -0.9265271221909815, -0.07456315871645133, 0.8266053595663799, -0.6767106450519039, 3.0488617420730697, -1.5499669843385562, 2.194771174496837, -1.1870609397903369, 1.1224023814322364, 1.9992187545634121, -0.4512064066616787, 4.578633506352838, 1.2275035713101246, 0.2957529361657995, -0.8167914103861252, 2.914028895841935, 4.113768298274617, 0.21006779735981468, -0.8062076233103137, -1.7544400781547074, -0.5568605401301713, 2.8323157845856666, 3.2800049365276007, 2.221290709676175, -2.848442346337123, -3.498509391234219, 2.873970384224863, 3.116209139040126, 0.9310154695652941, 0.9684104714592368, 2.9925861034889816, 5.065149692667107, -1.5336700783462347, 2.0305802789226464, -0.5314291908079337, -2.2037122935802405, 2.8102188319899493, 1.6890254890670624, 4.782727503453034, 1.640698996559464, 2.187887966593271, 0.3222525504795141, -0.7151578711385249, -1.570875273916106, -1.4879557780006736, 1.945610083242453, 2.5852257885202357, -0.0021558410091705744, 0.20677153716547902, 1.3952754663516482, 0.16233519340302968, 3.417875892704741, -2.276353246636351, -1.3610362276691186, -2.138548791292495, 0.9817441759939769, -0.2770614563691952, -1.2186503454912465, -0.27962549775881634, -2.7335031608896743, 1.8398144058321526, -0.6482320491881033, 0.14593457326120368, 2.7710578454732273, 0.7384613735258755, 0.5725151867776714, 2.0966952450845877, 3.8418981680704176, -0.5325342362816443], \"yaxis\": \"y\"}],                        {\"coloraxis\": {\"colorbar\": {\"title\": {\"text\": \"release year\"}}, \"colorscale\": [[0.0, \"#0d0887\"], [0.1111111111111111, \"#46039f\"], [0.2222222222222222, \"#7201a8\"], [0.3333333333333333, \"#9c179e\"], [0.4444444444444444, \"#bd3786\"], [0.5555555555555556, \"#d8576b\"], [0.6666666666666666, \"#ed7953\"], [0.7777777777777778, \"#fb9f3a\"], [0.8888888888888888, \"#fdca26\"], [1.0, \"#f0f921\"]]}, \"legend\": {\"tracegroupgap\": 0}, \"margin\": {\"t\": 60}, \"template\": {\"data\": {\"bar\": [{\"error_x\": {\"color\": \"#2a3f5f\"}, \"error_y\": {\"color\": \"#2a3f5f\"}, \"marker\": {\"line\": {\"color\": \"#E5ECF6\", \"width\": 0.5}}, \"type\": \"bar\"}], \"barpolar\": [{\"marker\": {\"line\": {\"color\": \"#E5ECF6\", \"width\": 0.5}}, \"type\": \"barpolar\"}], \"carpet\": [{\"aaxis\": {\"endlinecolor\": \"#2a3f5f\", \"gridcolor\": \"white\", \"linecolor\": \"white\", \"minorgridcolor\": \"white\", \"startlinecolor\": \"#2a3f5f\"}, \"baxis\": {\"endlinecolor\": \"#2a3f5f\", \"gridcolor\": \"white\", \"linecolor\": \"white\", \"minorgridcolor\": \"white\", \"startlinecolor\": \"#2a3f5f\"}, \"type\": \"carpet\"}], \"choropleth\": [{\"colorbar\": {\"outlinewidth\": 0, \"ticks\": \"\"}, \"type\": \"choropleth\"}], \"contour\": [{\"colorbar\": {\"outlinewidth\": 0, \"ticks\": \"\"}, \"colorscale\": [[0.0, \"#0d0887\"], [0.1111111111111111, \"#46039f\"], [0.2222222222222222, \"#7201a8\"], [0.3333333333333333, \"#9c179e\"], [0.4444444444444444, \"#bd3786\"], [0.5555555555555556, \"#d8576b\"], [0.6666666666666666, \"#ed7953\"], [0.7777777777777778, \"#fb9f3a\"], [0.8888888888888888, \"#fdca26\"], [1.0, \"#f0f921\"]], \"type\": \"contour\"}], \"contourcarpet\": [{\"colorbar\": {\"outlinewidth\": 0, \"ticks\": \"\"}, \"type\": \"contourcarpet\"}], \"heatmap\": [{\"colorbar\": {\"outlinewidth\": 0, \"ticks\": \"\"}, \"colorscale\": [[0.0, \"#0d0887\"], [0.1111111111111111, \"#46039f\"], [0.2222222222222222, \"#7201a8\"], [0.3333333333333333, \"#9c179e\"], [0.4444444444444444, \"#bd3786\"], [0.5555555555555556, \"#d8576b\"], [0.6666666666666666, \"#ed7953\"], [0.7777777777777778, \"#fb9f3a\"], [0.8888888888888888, \"#fdca26\"], [1.0, \"#f0f921\"]], \"type\": \"heatmap\"}], \"heatmapgl\": [{\"colorbar\": {\"outlinewidth\": 0, \"ticks\": \"\"}, \"colorscale\": [[0.0, \"#0d0887\"], [0.1111111111111111, \"#46039f\"], [0.2222222222222222, \"#7201a8\"], [0.3333333333333333, \"#9c179e\"], [0.4444444444444444, \"#bd3786\"], [0.5555555555555556, \"#d8576b\"], [0.6666666666666666, \"#ed7953\"], [0.7777777777777778, \"#fb9f3a\"], [0.8888888888888888, \"#fdca26\"], [1.0, \"#f0f921\"]], \"type\": \"heatmapgl\"}], \"histogram\": [{\"marker\": {\"colorbar\": {\"outlinewidth\": 0, \"ticks\": \"\"}}, \"type\": \"histogram\"}], \"histogram2d\": [{\"colorbar\": {\"outlinewidth\": 0, \"ticks\": \"\"}, \"colorscale\": [[0.0, \"#0d0887\"], [0.1111111111111111, \"#46039f\"], [0.2222222222222222, \"#7201a8\"], [0.3333333333333333, \"#9c179e\"], [0.4444444444444444, \"#bd3786\"], [0.5555555555555556, \"#d8576b\"], [0.6666666666666666, \"#ed7953\"], [0.7777777777777778, \"#fb9f3a\"], [0.8888888888888888, \"#fdca26\"], [1.0, \"#f0f921\"]], \"type\": \"histogram2d\"}], \"histogram2dcontour\": [{\"colorbar\": {\"outlinewidth\": 0, \"ticks\": \"\"}, \"colorscale\": [[0.0, \"#0d0887\"], [0.1111111111111111, \"#46039f\"], [0.2222222222222222, \"#7201a8\"], [0.3333333333333333, \"#9c179e\"], [0.4444444444444444, \"#bd3786\"], [0.5555555555555556, \"#d8576b\"], [0.6666666666666666, \"#ed7953\"], [0.7777777777777778, \"#fb9f3a\"], [0.8888888888888888, \"#fdca26\"], [1.0, \"#f0f921\"]], \"type\": \"histogram2dcontour\"}], \"mesh3d\": [{\"colorbar\": {\"outlinewidth\": 0, \"ticks\": \"\"}, \"type\": \"mesh3d\"}], \"parcoords\": [{\"line\": {\"colorbar\": {\"outlinewidth\": 0, \"ticks\": \"\"}}, \"type\": \"parcoords\"}], \"pie\": [{\"automargin\": true, \"type\": \"pie\"}], \"scatter\": [{\"marker\": {\"colorbar\": {\"outlinewidth\": 0, \"ticks\": \"\"}}, \"type\": \"scatter\"}], \"scatter3d\": [{\"line\": {\"colorbar\": {\"outlinewidth\": 0, \"ticks\": \"\"}}, \"marker\": {\"colorbar\": {\"outlinewidth\": 0, \"ticks\": \"\"}}, \"type\": \"scatter3d\"}], \"scattercarpet\": [{\"marker\": {\"colorbar\": {\"outlinewidth\": 0, \"ticks\": \"\"}}, \"type\": \"scattercarpet\"}], \"scattergeo\": [{\"marker\": {\"colorbar\": {\"outlinewidth\": 0, \"ticks\": \"\"}}, \"type\": \"scattergeo\"}], \"scattergl\": [{\"marker\": {\"colorbar\": {\"outlinewidth\": 0, \"ticks\": \"\"}}, \"type\": \"scattergl\"}], \"scattermapbox\": [{\"marker\": {\"colorbar\": {\"outlinewidth\": 0, \"ticks\": \"\"}}, \"type\": \"scattermapbox\"}], \"scatterpolar\": [{\"marker\": {\"colorbar\": {\"outlinewidth\": 0, \"ticks\": \"\"}}, \"type\": \"scatterpolar\"}], \"scatterpolargl\": [{\"marker\": {\"colorbar\": {\"outlinewidth\": 0, \"ticks\": \"\"}}, \"type\": \"scatterpolargl\"}], \"scatterternary\": [{\"marker\": {\"colorbar\": {\"outlinewidth\": 0, \"ticks\": \"\"}}, \"type\": \"scatterternary\"}], \"surface\": [{\"colorbar\": {\"outlinewidth\": 0, \"ticks\": \"\"}, \"colorscale\": [[0.0, \"#0d0887\"], [0.1111111111111111, \"#46039f\"], [0.2222222222222222, \"#7201a8\"], [0.3333333333333333, \"#9c179e\"], [0.4444444444444444, \"#bd3786\"], [0.5555555555555556, \"#d8576b\"], [0.6666666666666666, \"#ed7953\"], [0.7777777777777778, \"#fb9f3a\"], [0.8888888888888888, \"#fdca26\"], [1.0, \"#f0f921\"]], \"type\": \"surface\"}], \"table\": [{\"cells\": {\"fill\": {\"color\": \"#EBF0F8\"}, \"line\": {\"color\": \"white\"}}, \"header\": {\"fill\": {\"color\": \"#C8D4E3\"}, \"line\": {\"color\": \"white\"}}, \"type\": \"table\"}]}, \"layout\": {\"annotationdefaults\": {\"arrowcolor\": \"#2a3f5f\", \"arrowhead\": 0, \"arrowwidth\": 1}, \"autotypenumbers\": \"strict\", \"coloraxis\": {\"colorbar\": {\"outlinewidth\": 0, \"ticks\": \"\"}}, \"colorscale\": {\"diverging\": [[0, \"#8e0152\"], [0.1, \"#c51b7d\"], [0.2, \"#de77ae\"], [0.3, \"#f1b6da\"], [0.4, \"#fde0ef\"], [0.5, \"#f7f7f7\"], [0.6, \"#e6f5d0\"], [0.7, \"#b8e186\"], [0.8, \"#7fbc41\"], [0.9, \"#4d9221\"], [1, \"#276419\"]], \"sequential\": [[0.0, \"#0d0887\"], [0.1111111111111111, \"#46039f\"], [0.2222222222222222, \"#7201a8\"], [0.3333333333333333, \"#9c179e\"], [0.4444444444444444, \"#bd3786\"], [0.5555555555555556, \"#d8576b\"], [0.6666666666666666, \"#ed7953\"], [0.7777777777777778, \"#fb9f3a\"], [0.8888888888888888, \"#fdca26\"], [1.0, \"#f0f921\"]], \"sequentialminus\": [[0.0, \"#0d0887\"], [0.1111111111111111, \"#46039f\"], [0.2222222222222222, \"#7201a8\"], [0.3333333333333333, \"#9c179e\"], [0.4444444444444444, \"#bd3786\"], [0.5555555555555556, \"#d8576b\"], [0.6666666666666666, \"#ed7953\"], [0.7777777777777778, \"#fb9f3a\"], [0.8888888888888888, \"#fdca26\"], [1.0, \"#f0f921\"]]}, \"colorway\": [\"#636efa\", \"#EF553B\", \"#00cc96\", \"#ab63fa\", \"#FFA15A\", \"#19d3f3\", \"#FF6692\", \"#B6E880\", \"#FF97FF\", \"#FECB52\"], \"font\": {\"color\": \"#2a3f5f\"}, \"geo\": {\"bgcolor\": \"white\", \"lakecolor\": \"white\", \"landcolor\": \"#E5ECF6\", \"showlakes\": true, \"showland\": true, \"subunitcolor\": \"white\"}, \"hoverlabel\": {\"align\": \"left\"}, \"hovermode\": \"closest\", \"mapbox\": {\"style\": \"light\"}, \"paper_bgcolor\": \"white\", \"plot_bgcolor\": \"#E5ECF6\", \"polar\": {\"angularaxis\": {\"gridcolor\": \"white\", \"linecolor\": \"white\", \"ticks\": \"\"}, \"bgcolor\": \"#E5ECF6\", \"radialaxis\": {\"gridcolor\": \"white\", \"linecolor\": \"white\", \"ticks\": \"\"}}, \"scene\": {\"xaxis\": {\"backgroundcolor\": \"#E5ECF6\", \"gridcolor\": \"white\", \"gridwidth\": 2, \"linecolor\": \"white\", \"showbackground\": true, \"ticks\": \"\", \"zerolinecolor\": \"white\"}, \"yaxis\": {\"backgroundcolor\": \"#E5ECF6\", \"gridcolor\": \"white\", \"gridwidth\": 2, \"linecolor\": \"white\", \"showbackground\": true, \"ticks\": \"\", \"zerolinecolor\": \"white\"}, \"zaxis\": {\"backgroundcolor\": \"#E5ECF6\", \"gridcolor\": \"white\", \"gridwidth\": 2, \"linecolor\": \"white\", \"showbackground\": true, \"ticks\": \"\", \"zerolinecolor\": \"white\"}}, \"shapedefaults\": {\"line\": {\"color\": \"#2a3f5f\"}}, \"ternary\": {\"aaxis\": {\"gridcolor\": \"white\", \"linecolor\": \"white\", \"ticks\": \"\"}, \"baxis\": {\"gridcolor\": \"white\", \"linecolor\": \"white\", \"ticks\": \"\"}, \"bgcolor\": \"#E5ECF6\", \"caxis\": {\"gridcolor\": \"white\", \"linecolor\": \"white\", \"ticks\": \"\"}}, \"title\": {\"x\": 0.05}, \"xaxis\": {\"automargin\": true, \"gridcolor\": \"white\", \"linecolor\": \"white\", \"ticks\": \"\", \"title\": {\"standoff\": 15}, \"zerolinecolor\": \"white\", \"zerolinewidth\": 2}, \"yaxis\": {\"automargin\": true, \"gridcolor\": \"white\", \"linecolor\": \"white\", \"ticks\": \"\", \"title\": {\"standoff\": 15}, \"zerolinecolor\": \"white\", \"zerolinewidth\": 2}}}, \"xaxis\": {\"anchor\": \"y\", \"domain\": [0.0, 1.0], \"title\": {\"text\": \"PC 1 (0.27)\"}}, \"yaxis\": {\"anchor\": \"x\", \"domain\": [0.0, 1.0], \"title\": {\"text\": \"PC 2 (0.19)\"}}},                        {\"responsive\": true}                    ).then(function(){\n",
       "                            \n",
       "var gd = document.getElementById('d38f242d-5ae3-4d34-bbc8-1f383e7f7e13');\n",
       "var x = new MutationObserver(function (mutations, observer) {{\n",
       "        var display = window.getComputedStyle(gd).display;\n",
       "        if (!display || display === 'none') {{\n",
       "            console.log([gd, 'removed!']);\n",
       "            Plotly.purge(gd);\n",
       "            observer.disconnect();\n",
       "        }}\n",
       "}});\n",
       "\n",
       "// Listen for the removal of the full notebook cells\n",
       "var notebookContainer = gd.closest('#notebook-container');\n",
       "if (notebookContainer) {{\n",
       "    x.observe(notebookContainer, {childList: true});\n",
       "}}\n",
       "\n",
       "// Listen for the clearing of the current output cell\n",
       "var outputEl = gd.closest('.output');\n",
       "if (outputEl) {{\n",
       "    x.observe(outputEl, {childList: true});\n",
       "}}\n",
       "\n",
       "                        })                };                });            </script>        </div>"
      ]
     },
     "metadata": {},
     "output_type": "display_data"
    }
   ],
   "source": [
    "# Doing PCA\n",
    "pca = PCA(n_components=2)\n",
    "pca.fit(dff)\n",
    "X = pca.transform(dff)\n",
    "# creating DF for the visualization\n",
    "rdf = pd.DataFrame(data=X, index=df.index).reset_index()\n",
    "rdf['release year'] = df['release year'].tolist()\n",
    "\n",
    "fig = px.scatter(rdf, x=0, y=1, hover_data=[\"index\",'release year' ], color='release year')\n",
    "fig.update_xaxes(title_text=f\"PC 1 ({round(pca.explained_variance_ratio_[0],2)})\")\n",
    "fig.update_yaxes(title_text=f\"PC 2 ({round(pca.explained_variance_ratio_[1],2)})\")\n",
    "fig.show()"
   ]
  },
  {
   "cell_type": "code",
   "execution_count": 36,
   "metadata": {},
   "outputs": [
    {
     "data": {
      "application/vnd.plotly.v1+json": {
       "config": {
        "plotlyServerURL": "https://plot.ly"
       },
       "data": [
        {
         "customdata": [
          [
           "האם האם האם-Gidi Gov",
           1997
          ],
          [
           "הגננים היום עצובים-Yehudit Ravitz",
           1993
          ],
          [
           "הוא-Noa",
           1998
          ],
          [
           "הוא הולך ממך-Yehudit Ravitz",
           1987
          ],
          [
           "הולכת ממך-Sharon Haziz",
           2012
          ],
          [
           "הורה ממטרה-Shoshana Damari",
           2006
          ],
          [
           "היא הולכת בדרכים-Kaveret",
           1998
          ],
          [
           "היא יודעת-Ninet Tayeb",
           2006
          ],
          [
           "היא רוקדת-Yardena Arazi",
           1998
          ],
          [
           "היא רוקדת-Yardena Arazi.1",
           2019
          ],
          [
           "היו לילות-Noa",
           2011
          ],
          [
           "הכינור הנאמן-Yardena Arazi",
           1987
          ],
          [
           "הכל זה לטובה-Dana International",
           2007
          ],
          [
           "הכל סגור-Sarit Hadad",
           2012
          ],
          [
           "הלב-Maya Buskila",
           2004
          ],
          [
           "הלילה-Hakol Over Habibi",
           1989
          ],
          [
           "הללויה-חלב ודבש",
           1995
          ],
          [
           "הם בזמר הזה-Matti Caspi",
           1984
          ],
          [
           "המגפיים של ברוך-Kaveret",
           1973
          ],
          [
           "הנסיכה והרוח-Rita",
           1988
          ],
          [
           "השיר הזה-Sharona Pick",
           2004
          ],
          [
           "ואלס להגנת הצומח-Lehakat HaNachal",
           2010
          ],
          [
           "ודוד יפה עיניים-A-WA",
           2019
          ],
          [
           "וידוי-Yehudit Ravitz",
           1994
          ],
          [
           "ונצואלה-Green Onion",
           2003
          ],
          [
           "זה הכל בשבילך-Danny Sanderson",
           1990
          ],
          [
           "זודיאק-Yaron Hadad",
           1994
          ],
          [
           "זן נדיר-Yehudit Ravitz",
           1998
          ],
          [
           "זן נדיר-Korin Allal",
           1992
          ],
          [
           "חברים בכל מיני צבעים-Sarit Hadad",
           1999
          ],
          [
           "חופים הם לפעמים-Chava Alberstein",
           1975
          ],
          [
           "חזקה מהרוח-Gali Atari",
           1992
          ],
          [
           "חיוכים-Chava Alberstein",
           1968
          ],
          [
           "חייך וחיי-Gidi Gov",
           1997
          ],
          [
           "חייל של 100 שערים-Sheygets",
           2001
          ],
          [
           "חיכיתי לו-Sarit Hadad",
           2015
          ],
          [
           "חמימות חולפת-Dana Berger",
           1998
          ],
          [
           "טיקיטאס-Noa Kirel",
           2017
          ],
          [
           "יחילוי ויחלי-Ofra Haza",
           1984
          ],
          [
           "Maria-Evadne Baker",
           1965
          ],
          [
           "Marija Magdalena-Doris Dragović",
           2014
          ],
          [
           "Matchmaker-John Williams",
           1971
          ],
          [
           "Material Girl-הכוכב הבא",
           2019
          ],
          [
           "Mercy-Madame Monsieur",
           2018
          ],
          [
           "A Million Dreams-P!nk",
           2018
          ],
          [
           "A Million Voices-Polina Gagarina",
           2015
          ],
          [
           "Molitva - Serbian Version-Marija Šerifović",
           2007
          ],
          [
           "Money Money-Joel Grey",
           1972
          ],
          [
           "Mood Ring (By Demand) - Pride Remix-Britney Spears",
           2020
          ],
          [
           "Move Your Body - Single Mix-Sia",
           2017
          ],
          [
           "Mr. Blue Sky-Electric Light Orchestra",
           1977
          ],
          [
           "Mucho Bien-MR.BLACK",
           2020
          ],
          [
           "Mudbira-A-WA",
           2019
          ],
          [
           "Murder On The Dancefloor-Sophie Ellis-Bextor",
           2002
          ],
          [
           "My Favorite Things-Julie Andrews",
           1964
          ],
          [
           "My Happy Ending-Avril Lavigne",
           2004
          ],
          [
           "My Heart Will Go On - Love Theme from \"Titanic\"-Céline Dion",
           1997
          ],
          [
           "My Number One-Helena Paparizou",
           2005
          ],
          [
           "My Prerogative-Britney Spears",
           2004
          ],
          [
           "Neka Mi Ne Svane-Danijela Martinovic",
           2014
          ],
          [
           "Nel Blu Dipinto Di Blu-Domenico Modugno",
           2008
          ],
          [
           "Nemo-Nightwish",
           2005
          ],
          [
           "Ne partez pas sans moi (Grand prix de L'Eurovision 1988)-Céline Dion",
           1994
          ],
          [
           "Vay Halime-Candan Erçetin",
           2009
          ],
          [
           "Viens on s’aime-Slimane",
           2018
          ],
          [
           "Vogue-Madonna",
           2009
          ],
          [
           "Wannabe-Spice Girls",
           1996
          ],
          [
           "WAP (feat. Megan Thee Stallion)-Cardi B",
           2020
          ],
          [
           "We R Who We R-Kesha",
           2010
          ],
          [
           "What's Up?-4 Non Blondes",
           1992
          ],
          [
           "Whenever, Wherever-Shakira",
           2001
          ],
          [
           "When We're High-LP",
           2017
          ],
          [
           "When We Were Young-Adele",
           2015
          ],
          [
           "When You're Gone-Bryan Adams",
           1998
          ],
          [
           "Where Have You Been-Sarit Hadad",
           2012
          ],
          [
           "Who Knew-P!nk",
           2006
          ],
          [
           "A Whole New World-Lea Salonga",
           2004
          ],
          [
           "Wild Dances-Ruslana",
           2004
          ],
          [
           "Wind It Up-Gwen Stefani",
           2006
          ],
          [
           "Wings-Delta Goodrem",
           2016
          ],
          [
           "Woman in Love-Barbra Streisand",
           1980
          ],
          [
           "Womanizer - Acoustic-Lily Allen",
           2009
          ],
          [
           "Work Bitch-Britney Spears",
           2013
          ],
          [
           "Written in the Stars (feat. Eric Turner)-Tinie Tempah",
           2010
          ],
          [
           "Ya Watani-A-WA",
           2019
          ],
          [
           "Yoncé - Homecoming Live-Beyoncé",
           2019
          ],
          [
           "(You Drive Me) Crazy-Britney Spears",
           1999
          ],
          [
           "You Oughta Know-Alanis Morissette",
           2020
          ],
          [
           "You Oughta Know - 2015 Remaster-Alanis Morissette",
           1995
          ],
          [
           "You've Got The Love-Florence + The Machine",
           2009
          ],
          [
           "אגדת דשא-Gidi Gov",
           2019
          ],
          [
           "אגדת השמש והירח-Ethnix",
           1995
          ],
          [
           "אדוני-Roni Duani",
           2006
          ],
          [
           "אדון שוקו-Arik Einstein",
           1989
          ],
          [
           "אהבה קטנה-Shiri Maimon",
           2005
          ],
          [
           "אוהב להיות בבית-Arik Einstein",
           1993
          ],
          [
           "אוהבת לא אוהבת-Arkadi Duchin",
           2001
          ],
          [
           "אור-Shoshana Damari",
           1988
          ],
          [
           "אותך-Ilana Avital",
           1977
          ],
          [
           "אחלה עולם-Gidi Gov",
           2003
          ],
          [
           "איך שיר נולד-Yehonatan Geffen",
           1978
          ],
          [
           "אין לי רגע דל-Rivka Michaeli",
           1981
          ],
          [
           "אין עוד יום-Gidi Gov",
           1991
          ],
          [
           "אי שם-Ilanit",
           1972
          ],
          [
           "איתו לנצח-Kerach Tesha",
           1997
          ],
          [
           "אם ננעלו-Ofra Haza",
           1984
          ],
          [
           "אני אוהב-Yehonatan Geffen",
           1978
          ],
          [
           "אני אשתגע-Nurit Galron",
           2005
          ],
          [
           "אני חולם על נעמי-Hedva Amrani",
           2020
          ],
          [
           "אני חיה לי מיום ליום-Rita",
           1988
          ],
          [
           "אני משם-Yehudit Ravitz",
           1993
          ],
          [
           "אני שטה-Zehava Ben",
           2000
          ],
          [
           "אצל הדודה והדוד-Noa Kirel",
           2017
          ],
          [
           "ארץ טרופית יפה / בוא לריו - Live-Yehudit Ravitz",
           2008
          ],
          [
           "את ואני-Shlomo Artzi",
           1975
          ],
          [
           "את חירותי-Berry Sakharof",
           2020
          ],
          [
           "את חרותי-Chava Alberstein",
           1975
          ],
          [
           "את תלכי בשדה-Chava Alberstein",
           1975
          ],
          [
           "באהבתנו-Yehudit Ravitz",
           1993
          ],
          [
           "בגידה-Rita",
           1986
          ],
          [
           "בגלל הלילה-Chava Alberstein",
           2016
          ],
          [
           "בוא-Rita",
           1988
          ],
          [
           "בואי כלה-Noa",
           1998
          ],
          [
           "בוקר טוב עולם-Avtipus",
           1995
          ],
          [
           "בחום של תל אביב-Sarit Hadad",
           2004
          ],
          [
           "בי גאראר (חסר שקט)-Rita",
           2011
          ],
          [
           "בך לא נוגע-Yehudit Ravitz",
           2000
          ],
          [
           "בלילות הקיץ החמים-Matti Caspi",
           1978
          ],
          [
           "בלעדייך-Gidi Gov",
           1978
          ],
          [
           "בן אדם-Yardena Arazi",
           1998
          ],
          [
           "גבריאל-Ofra Haza",
           1982
          ],
          [
           "גיטרה וכינור-Arik Einstein",
           1999
          ],
          [
           "גלבי-Ofra Haza",
           1984
          ],
          [
           "ג'סיקה-Ethnix",
           1993
          ],
          [
           "גשם בעיתו-Ruthi Navon",
           1974
          ],
          [
           "דבקה רפיח - Bonus-Yehudit Ravitz",
           1981
          ],
          [
           "דון קיחוטה-Dana International",
           1998
          ],
          [
           "דון קיחוטה-Shiri Maimon",
           2002
          ],
          [
           "דמעות של מלאכים-Yehudit Ravitz",
           1979
          ],
          [
           "Never Be The Same Again-Melanie C",
           1999
          ],
          [
           "Nobody's Wife-Anouk",
           1997
          ],
          [
           "No Roots-Alice Merton",
           2017
          ],
          [
           "no tears left to cry-Ariana Grande",
           2018
          ],
          [
           "Oh My God (feat. Lily Allen)-Mark Ronson",
           2007
          ],
          [
           "Ojos Así-Shakira",
           1998
          ],
          [
           "One of Us-Cher",
           2018
          ],
          [
           "Oniro Mou-Yianna Terzi",
           2018
          ],
          [
           "Ooh Aah...Just a Little Bit - Motiv8 Radio Edit-Gina G",
           1996
          ],
          [
           "Oops!...I Did It Again-Britney Spears",
           2000
          ],
          [
           "Open Your Heart-Madonna",
           1986
          ],
          [
           "Ora Na Gyriseis-Malu",
           2017
          ],
          [
           "Over The Hills And Far Away-Nightwish",
           2001
          ],
          [
           "Paid My Dues-Anastacia",
           1999
          ],
          [
           "A Palé - Gesaffelstein Remix-Gesaffelstein",
           2019
          ],
          [
           "Parle à ma main (feat. Yelle et Christelle)-Fatal Bazooka",
           2007
          ],
          [
           "Parle à ta tête-Indila",
           2019
          ],
          [
           "Partition-Beyoncé",
           2014
          ],
          [
           "Part of Your World - From \"The Little Mermaid\" / Soundtrack Version-Jodi Benson",
           1997
          ],
          [
           "Party In The U.S.A.-Miley Cyrus",
           2009
          ],
          [
           "Pas eu le temps-Patrick Bruel",
           2019
          ],
          [
           "Petra - Offer Nissim 08' Reconstruction-Dana International",
           2008
          ],
          [
           "Petra - Offer Nissim Reconstruction Mix-Dana International",
           2014
          ],
          [
           "The Phantom Of the Opera-Andrew Lloyd Webber",
           2004
          ],
          [
           "Pon de Replay-Rihanna",
           2005
          ],
          [
           "Poor Unfortunate Souls - From \"The Little Mermaid\" / Soundtrack Version-Pat Carroll",
           1997
          ],
          [
           "Qué Hiciste-Jennifer Lopez",
           2012
          ],
          [
           "Que Nadie Sepa Mi Sufrir-Soledad",
           1997
          ],
          [
           "¿Quién te has creído que soy?-Fangoria",
           2019
          ],
          [
           "Read U Wrote U (Ellis Miah Mix) [feat. The Cast of RuPaul's Drag Race All Stars, Season 2]-RuPaul",
           2016
          ],
          [
           "Reflection-Christina Aguilera",
           1998
          ],
          [
           "Reflection (2020) - From \"Mulan\"-Christina Aguilera",
           2020
          ],
          [
           "Replay-Tamta",
           2019
          ],
          [
           "Rich Girl-Gwen Stefani",
           2004
          ],
          [
           "Rolling in the Deep-Adele",
           2011
          ],
          [
           "Sa Leat-Arik Einstein",
           1974
          ],
          [
           "Satellite-Lena",
           2010
          ],
          [
           "Say You'll Be There-Spice Girls",
           1996
          ],
          [
           "Send My Love (To Your New Lover)-Adele",
           2016
          ],
          [
           "Send My Love (To Your New Lover)-Adele.1",
           2015
          ],
          [
           "Set Fire to the Rain-Adele",
           2011
          ],
          [
           "Shake It Out-Florence + The Machine",
           2011
          ],
          [
           "Shallow-Lady Gaga",
           2018
          ],
          [
           "Ship To Wreck-Florence + The Machine",
           2015
          ],
          [
           "Shufuni-Sarit Hadad",
           2019
          ],
          [
           "Since U Been Gone-Kelly Clarkson",
           2004
          ],
          [
           "Sissy That Walk-RuPaul",
           2014
          ],
          [
           "Sk8er Boi-Avril Lavigne",
           2002
          ],
          [
           "Smile-Lily Allen",
           2006
          ],
          [
           "So Emotional-Whitney Houston",
           1987
          ],
          [
           "Sokratis-Elpida",
           1998
          ],
          [
           "Soldi-Mahmood",
           2019
          ],
          [
           "Solo (feat. Demi Lovato)-Clean Bandit",
           2018
          ],
          [
           "Something to Sing About-Original Cast of Buffy The Vampire Slayer",
           2002
          ],
          [
           "Soon We'll Be Found-Sia",
           2008
          ],
          [
           "Sound of Silence-Dami Im",
           2016
          ],
          [
           "Sous le vent-Garou",
           2000
          ],
          [
           "Spice Up Your Life-Spice Girls",
           1997
          ],
          [
           "Stop-Spice Girls",
           1997
          ],
          [
           "Sto Theo Me Paei-Eleni Foureira",
           2017
          ],
          [
           "Superstar - Turkish Version-Sibel Tüzün",
           2006
          ],
          [
           "Sweet but Psycho-Ava Max",
           2018
          ],
          [
           "Tears (feat. Louisa Johnson)-Clean Bandit",
           2016
          ],
          [
           "Temperatura-Eleni Foureira",
           2020
          ],
          [
           "Think-Aretha Franklin",
           1968
          ],
          [
           "Ti Koitas-Eleni Foureira",
           2016
          ],
          [
           "Together-Sia",
           2020
          ],
          [
           "Torn-Natalie Imbruglia",
           2007
          ],
          [
           "Total Eclipse of the Heart-Bonnie Tyler",
           1999
          ],
          [
           "Tous Eipes Pos-Malu",
           2019
          ],
          [
           "Tren Del Cielo-Soledad",
           2001
          ],
          [
           "Tren Del Cielo-Soledad.1",
           2005
          ],
          [
           "Tu te reconnaitras-Anne-Marie David",
           1973
          ],
          [
           "Tu Veneno-Natalia Oreiro",
           1999
          ],
          [
           "Umbrella-Rihanna",
           2008
          ],
          [
           "Une belle histoire-Michel Fugain & Le Big Bazar",
           1972
          ],
          [
           "1000 Doves-Lady Gaga",
           2020
          ],
          [
           "911-Lady Gaga",
           2020
          ],
          [
           "Ainsi bas la vida-Indila",
           2014
          ],
          [
           "Alejandro-Lady Gaga",
           2009
          ],
          [
           "Alive-Sia",
           2016
          ],
          [
           "All of My Love - Radio edit-Destiny",
           2020
          ],
          [
           "Alone-Céline Dion",
           2008
          ],
          [
           "Always Look On The Bright Side Of Life-Monty Python",
           1989
          ],
          [
           "Amies ennemies-Nâdiya",
           2006
          ],
          [
           "Anaconda-Nicki Minaj",
           2014
          ],
          [
           "Around The World-Aqua",
           2009
          ],
          [
           "Baby Can I Hold You-Red Band",
           2014
          ],
          [
           "Baby (feat. MARINA & Luis Fonsi)-Clean Bandit",
           2018
          ],
          [
           "Bamakom Hachi Namooch Be'e Tel Aviv (At the Lowest Place in Tel Aviv)-Dana International",
           2008
          ],
          [
           "Bang Bang-Jessie J",
           2014
          ],
          [
           "Because of You-Kelly Clarkson",
           2012
          ],
          [
           "Beegharar - Offer Nissim Club Remix-Rita",
           2012
          ],
          [
           "Believe-Cher",
           1998
          ],
          [
           "Best Thing I Never Had-Beyoncé",
           2011
          ],
          [
           "BLACK PARADE-Beyoncé",
           2020
          ],
          [
           "Bootylicious-Destiny's Child",
           2001
          ],
          [
           "Born This Way-Lady Gaga",
           2011
          ],
          [
           "Born to Make You Happy-Britney Spears",
           1999
          ],
          [
           "Break Up Bye Bye - Frock Destroyers Version-The Cast of RuPaul's Drag Race UK",
           2019
          ],
          [
           "Broken-Shefita",
           2017
          ],
          [
           "Cabaret-Liza Minnelli",
           1972
          ],
          [
           "Call Me - Original Version-Anna Vissi",
           2007
          ],
          [
           "Cambio Dolor-Natalia Oreiro",
           1998
          ],
          [
           "Ça va ça vient-Vitaa",
           2019
          ],
          [
           "Chameleon-Michela",
           2019
          ],
          [
           "Cheap Thrills-Sia",
           2016
          ],
          [
           "Chewing-Gum-Vendredi sur Mer",
           2019
          ],
          [
           "Cinderella - Yamim Tovim-Sexta",
           2016
          ],
          [
           "Climb Ev'ry Mountain-Peggy Wood",
           1964
          ],
          [
           "Colors of the Wind-Judy Kuhn",
           2012
          ],
          [
           "Come On Over (All I Want Is You)-Christina Aguilera",
           1999
          ],
          [
           "Crying for No Reason-Katy B",
           2014
          ],
          [
           "Dancing On My Own - Radio Edit-Robyn",
           2010
          ],
          [
           "Dernière danse-Indila",
           2014
          ],
          [
           "Dime-Beth",
           2003
          ],
          [
           "Diva - Original Hebrew Version-Dana International",
           1998
          ],
          [
           "Doctor Jones - Original Version-Aqua",
           1997
          ],
          [
           "Dog Days Are Over-Florence + The Machine",
           2009
          ],
          [
           "Don't Speak-No Doubt",
           1995
          ],
          [
           "Don't Start Now-Dua Lipa",
           2020
          ],
          [
           "Don't Start Now-Dua Lipa.1",
           2019
          ],
          [
           "Don't Turn Around-Ace of Base",
           1993
          ],
          [
           "Dynamite-Taio Cruz",
           2010
          ],
          [
           "Echo (You and I)-Anggun",
           2012
          ],
          [
           "Ein bisschen Frieden-Nicole",
           2009
          ],
          [
           "Eize Rikud-Hedva Amrani",
           2011
          ],
          [
           "Elastic Heart-Sia",
           2014
          ],
          [
           "Empire State of Mind (Part II) Broken Down-Alicia Keys",
           2009
          ],
          [
           "Eres Tú-Mocedades",
           1994
          ],
          [
           "Estoy Aquí-Shakira",
           1995
          ],
          [
           "Euphoria-Loreen",
           2012
          ],
          [
           "Ever Dream-Nightwish",
           2002
          ],
          [
           "Everytime We Touch - Radio Edit-Cascada",
           2011
          ],
          [
           "Every Way That I Can - Philippe Laurent from Galleon Radio Edit-Sertab Erener",
           2003
          ],
          [
           "Feel This Moment (feat. Christina Aguilera)-Pitbull",
           2012
          ],
          [
           "Flames-David Guetta",
           2018
          ],
          [
           "Forogj Világ!-Nox",
           2005
          ],
          [
           "Free-Dana International",
           1999
          ],
          [
           "Fuego-Eleni Foureira",
           2018
          ],
          [
           "Genie In a Bottle-Christina Aguilera",
           1999
          ],
          [
           "Get Me Bodied-Beyoncé",
           2006
          ],
          [
           "Gimme! Gimme! Gimme! (A Man After Midnight) - Offer Nissim Needs a Man Remix-Cher",
           2018
          ],
          [
           "GIRL LIKE ME-Black Eyed Peas",
           2020
          ],
          [
           "Give That-B. Ames",
           2019
          ],
          [
           "Going Under-Evanescence",
           2003
          ],
          [
           "Good as Hell-Lizzo",
           2016
          ],
          [
           "Good Night Europe-Offer Nissim",
           2017
          ],
          [
           "The Greatest (feat. Kendrick Lamar)-Sia",
           2016
          ],
          [
           "Gul l’Abi-Acid Arab",
           2016
          ],
          [
           "Habib galbi-A-WA",
           2015
          ],
          [
           "Hakol Beseder - Omri Smadar Remix-Yehudit Ravitz",
           2019
          ],
          [
           "Hana Mash Hu Al Yaman-A-WA",
           2019
          ],
          [
           "Hana Mash Hu Al Yaman-A-WA.1",
           2019
          ],
          [
           "Hard out Here-Lily Allen",
           2013
          ],
          [
           "Heaven Is a Place on Earth-Belinda Carlisle",
           2013
          ],
          [
           "Hey Mickey-Toni Basil",
           2020
          ],
          [
           "Hit the Road Jack-Ray Charles",
           2012
          ],
          [
           "Hot N Cold-Katy Perry",
           2008
          ],
          [
           "How Far I'll Go-Auli'i Cravalho",
           2016
          ],
          [
           "Hurt-Christina Aguilera",
           2006
          ],
          [
           "IDGAF-Dua Lipa",
           2017
          ],
          [
           "I'll Be Fine-Clairy Browne & The Bangin' Rackettes",
           2013
          ],
          [
           "I'm a Slave 4 U-Britney Spears",
           2001
          ],
          [
           "I'm Gonna Be (500 Miles)-The Proclaimers",
           1988
          ],
          [
           "I'm Outta Love-Anastacia",
           1999
          ],
          [
           "Independent Women, Pt. 1-Destiny's Child",
           2001
          ],
          [
           "Into the Unknown-Idina Menzel",
           2019
          ],
          [
           "Ironic-Alanis Morissette",
           1995
          ],
          [
           "Irreplaceable-Beyoncé",
           2007
          ],
          [
           "It's My Life-No Doubt",
           2019
          ],
          [
           "I Wanna Dance with Somebody (Who Loves Me)-Whitney Houston",
           1987
          ],
          [
           "I WILL SURVIVE-Gloria Gaynor",
           2010
          ],
          [
           "(I Would) Die For You-Antique",
           2007
          ],
          [
           "Je suis l'enfant soleil-Anne-Marie David",
           2005
          ],
          [
           "Je T’aime-Lara Fabian",
           1997
          ],
          [
           "Ze Rak Sport-Dafna Dekel",
           2017
          ],
          [
           "אהבה היא שיר לשניים-Ilanit",
           2013
          ],
          [
           "עוד נגיע-Yardena Arazi",
           1984
          ],
          [
           "עולה עולה-Izhar Cohan",
           1998
          ],
          [
           "עטוף ברחמים-Rita",
           1988
          ],
          [
           "עטור מצחך זהב שחור - ארץ ישראל הישנה והטובה חלק ג - רימאסטרינג-Arik Einstein",
           2018
          ],
          [
           "עין גדי-Yehudit Ravitz",
           1979
          ],
          [
           "על גבעות שיך אבריק - אדמה אדמתי-OFARIM",
           1972
          ],
          [
           "עליך ועליי-Sarit Hadad",
           2007
          ],
          [
           "עקרה (אורי)-Noa",
           2013
          ],
          [
           "ערב כחול עמוק-Rita",
           1994
          ],
          [
           "ערב שח-Shoshana Damari",
           2010
          ],
          [
           "'פאוץ-Noa Kirel",
           2019
          ],
          [
           "פגישה לאין קץ-Chava Alberstein",
           2016
          ],
          [
           "פנים אל מול פנים-Gidi Gov",
           1995
          ],
          [
           "פרח הלילך-Chava Alberstein",
           1975
          ],
          [
           "צא מזה - Live-Yehudit Ravitz",
           2008
          ],
          [
           "קולנוע (עומר מושקוביץ)-Omer Moskovich",
           2020
          ],
          [
           "קרן אור-Noa",
           1998
          ],
          [
           "רועה ורועה-Shoshana Damari",
           2010
          ],
          [
           "רוקדת-Ania Bukstein",
           2017
          ],
          [
           "רחבת הריקודים-Yehudit Ravitz",
           1987
          ],
          [
           "רחמים-Ofra Haza",
           2000
          ],
          [
           "רעידת אדמה-Yehudit Ravitz",
           1990
          ],
          [
           "שביל הבריחה-Rita",
           1986
          ],
          [
           "שבתות וחגים-Yehudit Ravitz",
           1994
          ],
          [
           "שחמט-Chava Alberstein",
           1990
          ],
          [
           "שטח ההפקר-Gidi Gov",
           1983
          ],
          [
           "שיבולת בשדה-Ran & Nama",
           1960
          ],
          [
           "שיר הפיפי-Gitit Fisher",
           2019
          ],
          [
           "שיר הפריחה - 1985 Version-Ofra Haza",
           1986
          ],
          [
           "שיר לאסף-Keren Peles",
           2010
          ],
          [
           "שיר משמר-Chava Alberstein",
           2016
          ],
          [
           "שיר של יום חולין-Ilanit",
           2009
          ],
          [
           "שרה ברחובות - גרסת האירוויזיון-Rita",
           2015
          ],
          [
           "שתו העדרים - מעמק לגבעה-OFARIM",
           1972
          ],
          [
           "תאמרו לו-Nasrin Kadri",
           2018
          ],
          [
           "תמונה-Yehudit Ravitz",
           1993
          ],
          [
           "תפילה - 1985 Version-Ofra Haza",
           2000
          ],
          [
           "תפתח חלון-Rita",
           1999
          ],
          [
           "תשאירי לי מקום לחבק אותך-Avtipus",
           1995
          ],
          [
           "メリッサ-PornoGraffitti",
           1999
          ],
          [
           "ילדות נשכחת-Nurit Galron",
           1983
          ],
          [
           "ים של געגוע-Yehudit Ravitz",
           2007
          ],
          [
           "יעלה ויבוא-Gidi Gov",
           1973
          ],
          [
           "יעקב-Laladin",
           1994
          ],
          [
           "ירושלים של זהב-Ofra Haza",
           2000
          ],
          [
           "יש אי שם-Noa",
           2011
          ],
          [
           "יש לי חולשה לרקדנים-Riki Gal",
           1993
          ],
          [
           "יש לי ציפור קטנה בלב-Noa Kirel",
           2019
          ],
          [
           "ישנן בנות-Dana International",
           1998
          ],
          [
           "כאן-Orna & Moshe Datz",
           1994
          ],
          [
           "כלניות-Shoshana Damari",
           2010
          ],
          [
           "כמה שאני יפה - 1985-Tzipi Shavit",
           1985
          ],
          [
           "כמו ים-Yehonatan Geffen",
           1978
          ],
          [
           "כמו סינדרלה-Sarit Hadad",
           1999
          ],
          [
           "כשאני איתך אני כמו דג-Teapacks",
           2003
          ],
          [
           "לא דיברנו עוד על אהבה-Gidi Gov",
           1995
          ],
          [
           "לאורך הים-Ofra Haza",
           2000
          ],
          [
           "לדמעות יש פה-Sarit Hadad",
           1999
          ],
          [
           "לו יהי-Chava Alberstein",
           1973
          ],
          [
           "לונדון-Chava Alberstein",
           1989
          ],
          [
           "לילה-Yehudit Ravitz",
           1979
          ],
          [
           "לילה טוב אירופה-Dana International",
           1998
          ],
          [
           "ליל חניה-Hanan Yovel",
           2006
          ],
          [
           "ללדין-Laladin",
           1994
          ],
          [
           "למה הלכת ממנו-Teapacks",
           2003
          ],
          [
           "למה ליבך כמו קרח-Gidi Gov",
           2003
          ],
          [
           "למחרת-Yehudit Ravitz",
           1993
          ],
          [
           "למי שאינו מאמין-Yehudit Ravitz",
           1984
          ],
          [
           "לעולם בעקבות השמש-שרי",
           2019
          ],
          [
           "לקחת את ידי בידך-Yehudit Ravitz",
           1979
          ],
          [
           "מגדלור-Shoshana Damari",
           2012
          ],
          [
           "מגדלור-Mika Karni",
           2004
          ],
          [
           "מה אתה רוצה-Ella Lee",
           2020
          ],
          [
           "מוסיקה נשארת-Yardena Arazi",
           1998
          ],
          [
           "מחרוזת שירי כפר-Ofra Haza",
           1985
          ],
          [
           "מחרוזת שירי רועים: א.שיר השומר, ב.רועה ורועה, ג.ערב שח, ד.שיר הכד, ה.דבקה רפיח-Ofra Haza",
           1983
          ],
          [
           "מידיד לאויב-Gitit Fisher",
           2019
          ],
          [
           "?מי המנטה? מי המסטיק? מי השוקולד-Shokolad Menta Mastik",
           2005
          ],
          [
           "מיטשל-Mika Karni",
           1997
          ],
          [
           "מי יודע מדוע ולמה לובשת הזברה פיג`מה-Mashina",
           1989
          ],
          [
           "מישהו-Yehudit Ravitz",
           1979
          ],
          [
           "מלכת השושנים-Eden Ben Zaken",
           2015
          ],
          [
           "מסקרה שחורה-Dikla",
           2016
          ],
          [
           "מפחד עלייך-Miri Mesika",
           2018
          ],
          [
           "מפחד עלייך - OFFER NISSIM REMIX-Miri Mesika",
           2018
          ],
          [
           "מקהלה עליזה-Chava Alberstein",
           1967
          ],
          [
           "מקהלה עליזה-Dana International",
           2020
          ],
          [
           "משירי ארץ אהבתי-Chava Alberstein",
           1970
          ],
          [
           "מתי לחזור-אתניקס",
           2011
          ],
          [
           "נגיעה אחת רכה-Nurit Galron",
           1984
          ],
          [
           "נוסעת לפטרה-Dana International",
           1998
          ],
          [
           "נח-Matti Caspi",
           1974
          ],
          [
           "ניצנים נראו בארץ-HaGevatron",
           1994
          ],
          [
           "נעמיד פני יתומים-Yehudit Ravitz",
           1993
          ],
          [
           "נשים רוקדות-Chava Alberstein",
           1975
          ],
          [
           "סיגליות-David Broza",
           1983
          ],
          [
           "סליחות-Yehudit Ravitz",
           1979
          ],
          [
           "סעידה סולטנה-Dana International",
           1998
          ]
         ],
         "hovertemplate": "0=%{x}<br>1=%{y}<br>index=%{customdata[0]}<br>release year=%{marker.color}<extra></extra>",
         "legendgroup": "",
         "marker": {
          "color": [
           1997,
           1993,
           1998,
           1987,
           2012,
           2006,
           1998,
           2006,
           1998,
           2019,
           2011,
           1987,
           2007,
           2012,
           2004,
           1989,
           1995,
           1984,
           1973,
           1988,
           2004,
           2010,
           2019,
           1994,
           2003,
           1990,
           1994,
           1998,
           1992,
           1999,
           1975,
           1992,
           1968,
           1997,
           2001,
           2015,
           1998,
           2017,
           1984,
           1965,
           2014,
           1971,
           2019,
           2018,
           2018,
           2015,
           2007,
           1972,
           2020,
           2017,
           1977,
           2020,
           2019,
           2002,
           1964,
           2004,
           1997,
           2005,
           2004,
           2014,
           2008,
           2005,
           1994,
           2009,
           2018,
           2009,
           1996,
           2020,
           2010,
           1992,
           2001,
           2017,
           2015,
           1998,
           2012,
           2006,
           2004,
           2004,
           2006,
           2016,
           1980,
           2009,
           2013,
           2010,
           2019,
           2019,
           1999,
           2020,
           1995,
           2009,
           2019,
           1995,
           2006,
           1989,
           2005,
           1993,
           2001,
           1988,
           1977,
           2003,
           1978,
           1981,
           1991,
           1972,
           1997,
           1984,
           1978,
           2005,
           2020,
           1988,
           1993,
           2000,
           2017,
           2008,
           1975,
           2020,
           1975,
           1975,
           1993,
           1986,
           2016,
           1988,
           1998,
           1995,
           2004,
           2011,
           2000,
           1978,
           1978,
           1998,
           1982,
           1999,
           1984,
           1993,
           1974,
           1981,
           1998,
           2002,
           1979,
           1999,
           1997,
           2017,
           2018,
           2007,
           1998,
           2018,
           2018,
           1996,
           2000,
           1986,
           2017,
           2001,
           1999,
           2019,
           2007,
           2019,
           2014,
           1997,
           2009,
           2019,
           2008,
           2014,
           2004,
           2005,
           1997,
           2012,
           1997,
           2019,
           2016,
           1998,
           2020,
           2019,
           2004,
           2011,
           1974,
           2010,
           1996,
           2016,
           2015,
           2011,
           2011,
           2018,
           2015,
           2019,
           2004,
           2014,
           2002,
           2006,
           1987,
           1998,
           2019,
           2018,
           2002,
           2008,
           2016,
           2000,
           1997,
           1997,
           2017,
           2006,
           2018,
           2016,
           2020,
           1968,
           2016,
           2020,
           2007,
           1999,
           2019,
           2001,
           2005,
           1973,
           1999,
           2008,
           1972,
           2020,
           2020,
           2014,
           2009,
           2016,
           2020,
           2008,
           1989,
           2006,
           2014,
           2009,
           2014,
           2018,
           2008,
           2014,
           2012,
           2012,
           1998,
           2011,
           2020,
           2001,
           2011,
           1999,
           2019,
           2017,
           1972,
           2007,
           1998,
           2019,
           2019,
           2016,
           2019,
           2016,
           1964,
           2012,
           1999,
           2014,
           2010,
           2014,
           2003,
           1998,
           1997,
           2009,
           1995,
           2020,
           2019,
           1993,
           2010,
           2012,
           2009,
           2011,
           2014,
           2009,
           1994,
           1995,
           2012,
           2002,
           2011,
           2003,
           2012,
           2018,
           2005,
           1999,
           2018,
           1999,
           2006,
           2018,
           2020,
           2019,
           2003,
           2016,
           2017,
           2016,
           2016,
           2015,
           2019,
           2019,
           2019,
           2013,
           2013,
           2020,
           2012,
           2008,
           2016,
           2006,
           2017,
           2013,
           2001,
           1988,
           1999,
           2001,
           2019,
           1995,
           2007,
           2019,
           1987,
           2010,
           2007,
           2005,
           1997,
           2017,
           2013,
           1984,
           1998,
           1988,
           2018,
           1979,
           1972,
           2007,
           2013,
           1994,
           2010,
           2019,
           2016,
           1995,
           1975,
           2008,
           2020,
           1998,
           2010,
           2017,
           1987,
           2000,
           1990,
           1986,
           1994,
           1990,
           1983,
           1960,
           2019,
           1986,
           2010,
           2016,
           2009,
           2015,
           1972,
           2018,
           1993,
           2000,
           1999,
           1995,
           1999,
           1983,
           2007,
           1973,
           1994,
           2000,
           2011,
           1993,
           2019,
           1998,
           1994,
           2010,
           1985,
           1978,
           1999,
           2003,
           1995,
           2000,
           1999,
           1973,
           1989,
           1979,
           1998,
           2006,
           1994,
           2003,
           2003,
           1993,
           1984,
           2019,
           1979,
           2012,
           2004,
           2020,
           1998,
           1985,
           1983,
           2019,
           2005,
           1997,
           1989,
           1979,
           2015,
           2016,
           2018,
           2018,
           1967,
           2020,
           1970,
           2011,
           1984,
           1998,
           1974,
           1994,
           1993,
           1975,
           1983,
           1979,
           1998
          ],
          "coloraxis": "coloraxis",
          "symbol": "circle"
         },
         "mode": "markers",
         "name": "",
         "orientation": "v",
         "showlegend": false,
         "type": "scatter",
         "x": [
          12.292874336242676,
          9.45177936553955,
          19.84664535522461,
          17.827919006347656,
          -3.6935489177703857,
          7.238928318023682,
          -1.8820278644561768,
          -16.63249397277832,
          4.142313003540039,
          13.945197105407715,
          17.22904396057129,
          1.790770411491394,
          1.697436809539795,
          -3.4595940113067627,
          -6.400298118591309,
          3.178473472595215,
          9.747447967529297,
          11.19286823272705,
          -4.9179229736328125,
          9.42416000366211,
          -8.622923851013184,
          10.676187515258789,
          -9.021841049194336,
          10.427739143371582,
          2.1072897911071777,
          9.044283866882324,
          6.232324600219727,
          14.600751876831055,
          6.9928436279296875,
          -1.1251866817474365,
          10.575051307678223,
          -0.6558078527450562,
          -18.134496688842773,
          3.934767246246338,
          0.7282183766365051,
          -19.462417602539062,
          -7.739413738250732,
          -12.682906150817871,
          -12.872700691223145,
          14.746684074401855,
          -0.7637083530426025,
          16.791942596435547,
          -2.2880661487579346,
          -3.0848512649536133,
          8.435617446899414,
          -1.094887614250183,
          4.960929870605469,
          -18.468780517578125,
          -6.956193447113037,
          -10.983583450317383,
          17.50129508972168,
          -4.961556911468506,
          -13.336745262145996,
          -13.345501899719238,
          13.350997924804688,
          1.510130763053894,
          11.224967956542969,
          -11.913166046142578,
          -10.16059398651123,
          10.170001983642578,
          16.301042556762695,
          -0.019770346581935883,
          9.046690940856934,
          -10.017969131469727,
          -14.098066329956055,
          -3.5383996963500977,
          -12.545764923095703,
          -12.892858505249023,
          -19.801990509033203,
          11.170238494873047,
          -11.709491729736328,
          -9.990720748901367,
          7.434532642364502,
          -0.5836392045021057,
          -2.7058627605438232,
          -0.784670352935791,
          15.5758638381958,
          0.41980963945388794,
          -15.320719718933105,
          -6.355106830596924,
          17.12761116027832,
          7.702737331390381,
          -3.9626402854919434,
          -13.547189712524414,
          -11.169588088989258,
          -6.705352783203125,
          -12.093942642211914,
          7.7195634841918945,
          -3.7360289096832275,
          -5.917665958404541,
          15.92926025390625,
          -3.0159029960632324,
          1.4945937395095825,
          7.44035005569458,
          -4.27050256729126,
          5.021292686462402,
          -6.442781448364258,
          11.408266067504883,
          -10.914915084838867,
          7.123414516448975,
          17.923582077026367,
          7.733282566070557,
          9.88122272491455,
          13.172516822814941,
          -0.6204068660736084,
          14.900683403015137,
          17.9282283782959,
          4.048490524291992,
          0.5263293385505676,
          7.406078338623047,
          -6.057877540588379,
          0.205532044172287,
          -5.366506099700928,
          16.488571166992188,
          4.238842487335205,
          -17.459453582763672,
          -1.0320109128952026,
          13.744688987731934,
          10.497666358947754,
          8.286823272705078,
          14.387205123901367,
          10.58279800415039,
          19.19150161743164,
          8.583473205566406,
          4.470032215118408,
          -19.958078384399414,
          11.553086280822754,
          9.150188446044922,
          4.765073776245117,
          10.423264503479004,
          3.740699291229248,
          9.597850799560547,
          -0.21006841957569122,
          -5.675998687744141,
          7.780201435089111,
          1.8510822057724,
          -2.4777872562408447,
          13.075114250183105,
          17.861042022705078,
          2.7467360496520996,
          -4.723978042602539,
          -17.19390869140625,
          -9.789288520812988,
          -6.823647975921631,
          -1.7659565210342407,
          6.647093296051025,
          4.769808292388916,
          -0.32333600521087646,
          -12.304057121276855,
          2.422511100769043,
          -13.461917877197266,
          14.480889320373535,
          -10.221348762512207,
          -11.921745300292969,
          -16.701679229736328,
          -4.878472328186035,
          18.93975067138672,
          14.315927505493164,
          -10.201753616333008,
          -2.8857522010803223,
          -3.282886028289795,
          -1.7503081560134888,
          9.631382942199707,
          -6.72285795211792,
          15.04443645477295,
          -15.369546890258789,
          -1.1358342170715332,
          -18.554479598999023,
          -7.220739364624023,
          1.588913083076477,
          1.978379249572754,
          -9.289839744567871,
          -12.240996360778809,
          -5.313692092895508,
          16.619430541992188,
          -7.6587629318237305,
          -2.4077937602996826,
          5.878711700439453,
          5.781306266784668,
          -3.7111153602600098,
          -6.767675399780273,
          1.5350598096847534,
          -20.987720489501953,
          -0.5556000471115112,
          -9.62218189239502,
          -8.691688537597656,
          -1.7517118453979492,
          -13.29025650024414,
          -6.293792247772217,
          9.651446342468262,
          0.9064966440200806,
          -13.417553901672363,
          12.04934310913086,
          6.4184794425964355,
          3.417435884475708,
          11.334001541137695,
          -20.894075393676758,
          -17.337448120117188,
          -9.205303192138672,
          -8.061707496643066,
          -22.09760093688965,
          2.479862689971924,
          -14.618200302124023,
          3.0841352939605713,
          -12.92914867401123,
          3.7313103675842285,
          -16.354148864746094,
          8.434741973876953,
          0.7879226207733154,
          -1.439944863319397,
          -17.57361602783203,
          -11.339160919189453,
          -0.005530931055545807,
          1.8725650310516357,
          6.458500385284424,
          -5.33063268661499,
          -16.120986938476562,
          -3.6362359523773193,
          -15.628708839416504,
          -14.117389678955078,
          -7.903402805328369,
          3.8253931999206543,
          8.07198715209961,
          -16.018035888671875,
          -9.854020118713379,
          -14.799708366394043,
          4.929172515869141,
          -2.9672482013702393,
          -20.914709091186523,
          -2.7241594791412354,
          3.1658856868743896,
          -1.390251874923706,
          1.0646562576293945,
          -6.476027965545654,
          -9.992498397827148,
          -5.909144401550293,
          -5.986043453216553,
          -12.395708084106445,
          -11.520589828491211,
          -10.972872734069824,
          14.08345890045166,
          -15.370211601257324,
          -3.331331491470337,
          -7.422152519226074,
          -10.225608825683594,
          -5.171367168426514,
          -8.918484687805176,
          10.271971702575684,
          6.370713233947754,
          15.103055000305176,
          -13.143745422363281,
          -15.369272232055664,
          1.2284116744995117,
          4.242461204528809,
          -9.873055458068848,
          -3.2413556575775146,
          -18.82625389099121,
          3.9012160301208496,
          4.075283050537109,
          -10.93568229675293,
          -10.937090873718262,
          -4.176780700683594,
          -10.782218933105469,
          -11.081254005432129,
          -0.6336471438407898,
          -3.7091879844665527,
          -19.84130859375,
          2.951871156692505,
          4.588812351226807,
          0.4071228802204132,
          2.6229605674743652,
          6.8022871017456055,
          -1.9612849950790405,
          -11.296896934509277,
          -18.93616485595703,
          -8.3816499710083,
          -0.7625053524971008,
          5.304608345031738,
          -14.422959327697754,
          3.7426249980926514,
          -6.357041835784912,
          -0.6362277269363403,
          -11.87730598449707,
          -9.778302192687988,
          2.8183305263519287,
          -12.34748649597168,
          15.530688285827637,
          5.3255205154418945,
          -9.000714302062988,
          -15.337323188781738,
          -18.710922241210938,
          -6.229462623596191,
          -6.229462623596191,
          0.3449428081512451,
          0.4407918155193329,
          0.037362854927778244,
          9.776445388793945,
          -15.327777862548828,
          4.628262996673584,
          10.0684175491333,
          -6.130843162536621,
          2.8025929927825928,
          -13.276041030883789,
          2.0510568618774414,
          -5.661607265472412,
          -7.104560852050781,
          11.177315711975098,
          2.6628875732421875,
          5.501153945922852,
          -3.073460817337036,
          1.6653101444244385,
          -7.1357011795043945,
          -12.056478500366211,
          12.047226905822754,
          4.53590202331543,
          -2.9007411003112793,
          2.2620253562927246,
          -4.920607089996338,
          -16.951435089111328,
          9.323396682739258,
          12.26069164276123,
          17.573392868041992,
          11.640619277954102,
          4.089378833770752,
          12.615082740783691,
          7.167909145355225,
          10.966086387634277,
          -2.464954137802124,
          12.738031387329102,
          15.547757148742676,
          11.429816246032715,
          8.873350143432617,
          4.156792640686035,
          20.798267364501953,
          9.89962387084961,
          -1.078724980354309,
          15.826214790344238,
          4.918238639831543,
          6.352479457855225,
          11.177271842956543,
          11.369324684143066,
          3.424436569213867,
          13.830682754516602,
          -19.769752502441406,
          5.960724830627441,
          -16.534299850463867,
          -8.012009620666504,
          4.878280162811279,
          4.317606449127197,
          2.774104595184326,
          6.73182487487793,
          -16.20022964477539,
          10.789929389953613,
          1.525389313697815,
          6.896751880645752,
          8.1901216506958,
          2.3136022090911865,
          15.936038970947266,
          4.960595607757568,
          2.9193997383117676,
          -7.6901726722717285,
          15.335227012634277,
          14.522011756896973,
          1.3421533107757568,
          -4.588115215301514,
          -9.856650352478027,
          -8.540489196777344,
          14.958545684814453,
          9.725916862487793,
          11.728750228881836,
          -12.374947547912598,
          -11.308320045471191,
          14.261651992797852,
          12.981695175170898,
          4.785654067993164,
          9.544438362121582,
          11.603203773498535,
          13.913323402404785,
          -3.5978450775146484,
          16.885906219482422,
          10.407242774963379,
          -11.432612419128418,
          15.514384269714355,
          9.65063190460205,
          16.42143440246582,
          8.726268768310547,
          13.162825584411621,
          3.3252170085906982,
          -21.173629760742188,
          -5.1853928565979,
          -21.804718017578125,
          14.270045280456543,
          14.770780563354492,
          6.159865856170654,
          8.371729850769043,
          10.196675300598145,
          -16.188583374023438,
          15.599449157714844,
          -3.4748196601867676,
          -5.611607551574707,
          -16.011077880859375,
          -1.8471887111663818,
          -0.4774773120880127,
          -12.63941764831543,
          2.250723123550415,
          -7.848202705383301,
          11.2540864944458,
          -6.8587327003479,
          1.6718021631240845,
          12.37951374053955,
          5.85800313949585,
          -18.232650756835938,
          6.212401866912842,
          13.676202774047852,
          2.5103418827056885
         ],
         "xaxis": "x",
         "y": [
          13.670344352722168,
          -7.555259704589844,
          7.6337175369262695,
          6.197037696838379,
          -8.126775741577148,
          12.980796813964844,
          15.722270965576172,
          -15.885476112365723,
          5.2297539710998535,
          20.39142608642578,
          7.506020545959473,
          12.46003246307373,
          9.826345443725586,
          -5.276004314422607,
          14.812358856201172,
          2.638056755065918,
          12.011665344238281,
          0.9892438650131226,
          8.646341323852539,
          -5.659642696380615,
          4.686906814575195,
          14.100372314453125,
          -10.164852142333984,
          -15.05801010131836,
          16.032339096069336,
          -11.484811782836914,
          -2.5712180137634277,
          14.15150260925293,
          0.5341729521751404,
          1.7199876308441162,
          -13.931845664978027,
          -2.0446784496307373,
          -20.920116424560547,
          -10.63398265838623,
          15.747466087341309,
          -15.693394660949707,
          -5.410482883453369,
          -4.981800079345703,
          -17.359333038330078,
          -15.381787300109863,
          -1.3667429685592651,
          -8.235139846801758,
          18.538076400756836,
          -12.197583198547363,
          7.782160758972168,
          -15.360267639160156,
          -15.2505521774292,
          -8.7571382522583,
          0.43687155842781067,
          7.2020111083984375,
          9.153210639953613,
          4.194484233856201,
          -8.849286079406738,
          2.9856209754943848,
          -7.222501277923584,
          19.805553436279297,
          -9.209027290344238,
          0.7483185529708862,
          0.23184385895729065,
          8.828324317932129,
          -1.0275964736938477,
          7.68064022064209,
          13.2849760055542,
          -6.628874778747559,
          -18.2886962890625,
          9.95645523071289,
          0.8894480466842651,
          13.1495361328125,
          -15.095308303833008,
          11.061881065368652,
          -6.491122245788574,
          1.6871583461761475,
          7.182174205780029,
          -0.6928137540817261,
          6.987216949462891,
          12.469399452209473,
          -4.5100789070129395,
          21.019439697265625,
          1.2623419761657715,
          -0.6613938212394714,
          4.411549091339111,
          12.050987243652344,
          6.115403652191162,
          -13.95914363861084,
          -4.27311897277832,
          -17.695432662963867,
          -7.077777862548828,
          -10.524443626403809,
          -11.515880584716797,
          -10.775338172912598,
          -12.514273643493652,
          8.570155143737793,
          0.6397281289100647,
          -5.310151100158691,
          -9.833075523376465,
          1.1652408838272095,
          8.093484878540039,
          2.2332923412323,
          -19.864315032958984,
          -15.260540008544922,
          -2.687366485595703,
          11.148028373718262,
          -9.25000286102295,
          -12.257383346557617,
          15.74027156829834,
          9.97732162475586,
          -1.7088552713394165,
          -3.3019235134124756,
          14.783945083618164,
          -3.6551642417907715,
          6.290440082550049,
          5.347621440887451,
          -6.449639797210693,
          12.18634033203125,
          13.834188461303711,
          -15.745482444763184,
          -12.433074951171875,
          -5.452768325805664,
          -7.839282989501953,
          -7.23897123336792,
          -6.570887565612793,
          -5.236198425292969,
          8.16525936126709,
          0.15339815616607666,
          6.540578365325928,
          -12.626304626464844,
          8.92705249786377,
          1.5702087879180908,
          -17.385812759399414,
          16.03962516784668,
          14.666942596435547,
          -13.898896217346191,
          -17.754066467285156,
          7.363369941711426,
          -12.641549110412598,
          -4.242180824279785,
          5.413033485412598,
          13.702744483947754,
          0.8919674754142761,
          21.401538848876953,
          -9.75550365447998,
          -13.708914756774902,
          7.77903413772583,
          -15.93117904663086,
          1.874777913093567,
          -16.034088134765625,
          11.788399696350098,
          1.7729074954986572,
          -2.7359721660614014,
          2.948826313018799,
          -18.46474266052246,
          20.508769989013672,
          -7.63308048248291,
          9.63859748840332,
          1.4437143802642822,
          -16.746417999267578,
          10.383151054382324,
          -10.50843334197998,
          -3.977747917175293,
          5.010812282562256,
          11.102232933044434,
          10.589485168457031,
          -1.7079663276672363,
          -6.049482822418213,
          -12.684937477111816,
          -18.48250961303711,
          -9.628279685974121,
          -15.025355339050293,
          10.448873519897461,
          -16.3936824798584,
          -17.052330017089844,
          -3.219606637954712,
          -4.680886745452881,
          -5.106525897979736,
          5.227343559265137,
          -14.53988265991211,
          -5.8896942138671875,
          19.822099685668945,
          19.82146644592285,
          -2.2320663928985596,
          -9.580230712890625,
          -11.772211074829102,
          -14.471590995788574,
          6.229757308959961,
          7.247135639190674,
          8.056687355041504,
          16.587743759155273,
          -16.276193618774414,
          5.460750102996826,
          14.099516868591309,
          -7.641316890716553,
          -3.1269733905792236,
          -3.702360153198242,
          5.255105495452881,
          7.186981201171875,
          7.201718807220459,
          -15.352009773254395,
          -19.25331687927246,
          -0.5104764699935913,
          3.4540460109710693,
          -14.81568717956543,
          7.1410417556762695,
          -12.752509117126465,
          -3.8160548210144043,
          -15.025001525878906,
          19.502904891967773,
          -4.744636058807373,
          6.638149738311768,
          21.93930435180664,
          -9.33664321899414,
          -4.900430679321289,
          -19.576953887939453,
          20.727231979370117,
          22.928176879882812,
          16.601993560791016,
          12.459389686584473,
          -2.927855968475342,
          3.980299234390259,
          -11.198807716369629,
          -16.476442337036133,
          -8.13323974609375,
          18.97897720336914,
          -2.0840706825256348,
          -5.507627010345459,
          11.984173774719238,
          4.36959981918335,
          11.272160530090332,
          -0.04161294177174568,
          -16.653526306152344,
          17.599491119384766,
          9.810401916503906,
          9.790263175964355,
          6.327442169189453,
          -9.58810806274414,
          9.220979690551758,
          -16.010908126831055,
          13.016215324401855,
          -11.606217384338379,
          4.093334197998047,
          -3.2625732421875,
          -8.140625,
          8.63135051727295,
          -6.300552845001221,
          -6.977048873901367,
          -2.7720344066619873,
          -8.129667282104492,
          1.7078490257263184,
          18.041940689086914,
          -17.489099502563477,
          -9.493309020996094,
          2.2030417919158936,
          -16.44451141357422,
          6.8562750816345215,
          -6.542516231536865,
          5.676486492156982,
          14.873824119567871,
          -19.07887840270996,
          17.724931716918945,
          -14.450725555419922,
          2.747195243835449,
          2.7461113929748535,
          -7.699857711791992,
          1.3683452606201172,
          5.785401344299316,
          -2.7356739044189453,
          10.099645614624023,
          -13.404390335083008,
          -17.381603240966797,
          -13.878983497619629,
          3.1350257396698,
          9.63560962677002,
          8.803241729736328,
          14.404449462890625,
          -7.392077445983887,
          -17.15122413635254,
          -8.755062103271484,
          12.837564468383789,
          16.245357513427734,
          -3.5261106491088867,
          22.33570671081543,
          -16.481653213500977,
          10.261898040771484,
          11.300527572631836,
          11.906554222106934,
          19.123672485351562,
          -14.995966911315918,
          3.411097764968872,
          22.56763458251953,
          -10.577332496643066,
          -12.647273063659668,
          -14.405868530273438,
          -3.0609116554260254,
          -3.0609116554260254,
          0.056070275604724884,
          3.6173784732818604,
          18.011098861694336,
          22.356521606445312,
          9.134177207946777,
          -18.246049880981445,
          7.6649627685546875,
          -6.607812881469727,
          19.76930046081543,
          -0.9699515700340271,
          -0.7314378619194031,
          2.492098808288574,
          -14.659035682678223,
          8.287651062011719,
          -14.367334365844727,
          24.023664474487305,
          13.354409217834473,
          3.1737990379333496,
          4.488255977630615,
          5.109200954437256,
          15.20021915435791,
          -9.552753448486328,
          2.293790340423584,
          -12.987396240234375,
          7.554701805114746,
          -19.826478958129883,
          -4.770351409912109,
          -8.300213813781738,
          0.4414798319339752,
          1.2683087587356567,
          6.315443515777588,
          -11.387663841247559,
          -3.151679039001465,
          2.4698851108551025,
          3.543212413787842,
          -9.488849639892578,
          6.057741641998291,
          -11.007266998291016,
          15.806478500366211,
          23.99281120300293,
          6.868047714233398,
          -16.82811164855957,
          7.264688014984131,
          11.193329811096191,
          20.933202743530273,
          -11.594778060913086,
          -12.433684349060059,
          -5.5113325119018555,
          -8.754762649536133,
          -13.778409004211426,
          -0.8310818672180176,
          17.554624557495117,
          -20.254037857055664,
          5.474175930023193,
          -11.15032958984375,
          -11.72674560546875,
          -11.772571563720703,
          14.657831192016602,
          -12.943796157836914,
          11.896666526794434,
          12.71046257019043,
          7.180301666259766,
          0.32147344946861267,
          21.986377716064453,
          -1.8213186264038086,
          -8.371159553527832,
          16.332338333129883,
          6.237237930297852,
          8.222138404846191,
          -0.8135433197021484,
          2.1326324939727783,
          3.0630085468292236,
          3.9341189861297607,
          3.293091297149658,
          -6.249000549316406,
          22.414369583129883,
          -13.871933937072754,
          -0.9786723256111145,
          -1.8402987718582153,
          4.367794990539551,
          5.867285251617432,
          -7.728516101837158,
          -15.323657035827637,
          -6.256485462188721,
          -11.692187309265137,
          14.851157188415527,
          10.630219459533691,
          18.269458770751953,
          -0.5721563100814819,
          9.55213737487793,
          -7.695200443267822,
          0.2546544075012207,
          13.036484718322754,
          -14.182032585144043,
          -12.989466667175293,
          -16.86832046508789,
          0.4199049472808838,
          -15.167291641235352,
          7.181210041046143,
          7.127368450164795,
          23.19147300720215,
          2.2556393146514893,
          -12.033060073852539,
          8.177638053894043,
          0.16435115039348602,
          1.8231583833694458,
          -11.116072654724121,
          -3.521165370941162,
          9.279780387878418,
          -3.627765655517578,
          12.297277450561523,
          -10.848403930664062,
          0.5731496214866638,
          -15.954172134399414,
          3.604947328567505,
          17.326416015625,
          0.8875870704650879,
          -13.352208137512207,
          1.7523953914642334,
          3.048520803451538,
          -8.878199577331543,
          0.6714288592338562
         ],
         "yaxis": "y"
        }
       ],
       "layout": {
        "coloraxis": {
         "colorbar": {
          "title": {
           "text": "release year"
          }
         },
         "colorscale": [
          [
           0,
           "#0d0887"
          ],
          [
           0.1111111111111111,
           "#46039f"
          ],
          [
           0.2222222222222222,
           "#7201a8"
          ],
          [
           0.3333333333333333,
           "#9c179e"
          ],
          [
           0.4444444444444444,
           "#bd3786"
          ],
          [
           0.5555555555555556,
           "#d8576b"
          ],
          [
           0.6666666666666666,
           "#ed7953"
          ],
          [
           0.7777777777777778,
           "#fb9f3a"
          ],
          [
           0.8888888888888888,
           "#fdca26"
          ],
          [
           1,
           "#f0f921"
          ]
         ]
        },
        "legend": {
         "tracegroupgap": 0
        },
        "margin": {
         "t": 60
        },
        "template": {
         "data": {
          "bar": [
           {
            "error_x": {
             "color": "#2a3f5f"
            },
            "error_y": {
             "color": "#2a3f5f"
            },
            "marker": {
             "line": {
              "color": "#E5ECF6",
              "width": 0.5
             }
            },
            "type": "bar"
           }
          ],
          "barpolar": [
           {
            "marker": {
             "line": {
              "color": "#E5ECF6",
              "width": 0.5
             }
            },
            "type": "barpolar"
           }
          ],
          "carpet": [
           {
            "aaxis": {
             "endlinecolor": "#2a3f5f",
             "gridcolor": "white",
             "linecolor": "white",
             "minorgridcolor": "white",
             "startlinecolor": "#2a3f5f"
            },
            "baxis": {
             "endlinecolor": "#2a3f5f",
             "gridcolor": "white",
             "linecolor": "white",
             "minorgridcolor": "white",
             "startlinecolor": "#2a3f5f"
            },
            "type": "carpet"
           }
          ],
          "choropleth": [
           {
            "colorbar": {
             "outlinewidth": 0,
             "ticks": ""
            },
            "type": "choropleth"
           }
          ],
          "contour": [
           {
            "colorbar": {
             "outlinewidth": 0,
             "ticks": ""
            },
            "colorscale": [
             [
              0,
              "#0d0887"
             ],
             [
              0.1111111111111111,
              "#46039f"
             ],
             [
              0.2222222222222222,
              "#7201a8"
             ],
             [
              0.3333333333333333,
              "#9c179e"
             ],
             [
              0.4444444444444444,
              "#bd3786"
             ],
             [
              0.5555555555555556,
              "#d8576b"
             ],
             [
              0.6666666666666666,
              "#ed7953"
             ],
             [
              0.7777777777777778,
              "#fb9f3a"
             ],
             [
              0.8888888888888888,
              "#fdca26"
             ],
             [
              1,
              "#f0f921"
             ]
            ],
            "type": "contour"
           }
          ],
          "contourcarpet": [
           {
            "colorbar": {
             "outlinewidth": 0,
             "ticks": ""
            },
            "type": "contourcarpet"
           }
          ],
          "heatmap": [
           {
            "colorbar": {
             "outlinewidth": 0,
             "ticks": ""
            },
            "colorscale": [
             [
              0,
              "#0d0887"
             ],
             [
              0.1111111111111111,
              "#46039f"
             ],
             [
              0.2222222222222222,
              "#7201a8"
             ],
             [
              0.3333333333333333,
              "#9c179e"
             ],
             [
              0.4444444444444444,
              "#bd3786"
             ],
             [
              0.5555555555555556,
              "#d8576b"
             ],
             [
              0.6666666666666666,
              "#ed7953"
             ],
             [
              0.7777777777777778,
              "#fb9f3a"
             ],
             [
              0.8888888888888888,
              "#fdca26"
             ],
             [
              1,
              "#f0f921"
             ]
            ],
            "type": "heatmap"
           }
          ],
          "heatmapgl": [
           {
            "colorbar": {
             "outlinewidth": 0,
             "ticks": ""
            },
            "colorscale": [
             [
              0,
              "#0d0887"
             ],
             [
              0.1111111111111111,
              "#46039f"
             ],
             [
              0.2222222222222222,
              "#7201a8"
             ],
             [
              0.3333333333333333,
              "#9c179e"
             ],
             [
              0.4444444444444444,
              "#bd3786"
             ],
             [
              0.5555555555555556,
              "#d8576b"
             ],
             [
              0.6666666666666666,
              "#ed7953"
             ],
             [
              0.7777777777777778,
              "#fb9f3a"
             ],
             [
              0.8888888888888888,
              "#fdca26"
             ],
             [
              1,
              "#f0f921"
             ]
            ],
            "type": "heatmapgl"
           }
          ],
          "histogram": [
           {
            "marker": {
             "colorbar": {
              "outlinewidth": 0,
              "ticks": ""
             }
            },
            "type": "histogram"
           }
          ],
          "histogram2d": [
           {
            "colorbar": {
             "outlinewidth": 0,
             "ticks": ""
            },
            "colorscale": [
             [
              0,
              "#0d0887"
             ],
             [
              0.1111111111111111,
              "#46039f"
             ],
             [
              0.2222222222222222,
              "#7201a8"
             ],
             [
              0.3333333333333333,
              "#9c179e"
             ],
             [
              0.4444444444444444,
              "#bd3786"
             ],
             [
              0.5555555555555556,
              "#d8576b"
             ],
             [
              0.6666666666666666,
              "#ed7953"
             ],
             [
              0.7777777777777778,
              "#fb9f3a"
             ],
             [
              0.8888888888888888,
              "#fdca26"
             ],
             [
              1,
              "#f0f921"
             ]
            ],
            "type": "histogram2d"
           }
          ],
          "histogram2dcontour": [
           {
            "colorbar": {
             "outlinewidth": 0,
             "ticks": ""
            },
            "colorscale": [
             [
              0,
              "#0d0887"
             ],
             [
              0.1111111111111111,
              "#46039f"
             ],
             [
              0.2222222222222222,
              "#7201a8"
             ],
             [
              0.3333333333333333,
              "#9c179e"
             ],
             [
              0.4444444444444444,
              "#bd3786"
             ],
             [
              0.5555555555555556,
              "#d8576b"
             ],
             [
              0.6666666666666666,
              "#ed7953"
             ],
             [
              0.7777777777777778,
              "#fb9f3a"
             ],
             [
              0.8888888888888888,
              "#fdca26"
             ],
             [
              1,
              "#f0f921"
             ]
            ],
            "type": "histogram2dcontour"
           }
          ],
          "mesh3d": [
           {
            "colorbar": {
             "outlinewidth": 0,
             "ticks": ""
            },
            "type": "mesh3d"
           }
          ],
          "parcoords": [
           {
            "line": {
             "colorbar": {
              "outlinewidth": 0,
              "ticks": ""
             }
            },
            "type": "parcoords"
           }
          ],
          "pie": [
           {
            "automargin": true,
            "type": "pie"
           }
          ],
          "scatter": [
           {
            "marker": {
             "colorbar": {
              "outlinewidth": 0,
              "ticks": ""
             }
            },
            "type": "scatter"
           }
          ],
          "scatter3d": [
           {
            "line": {
             "colorbar": {
              "outlinewidth": 0,
              "ticks": ""
             }
            },
            "marker": {
             "colorbar": {
              "outlinewidth": 0,
              "ticks": ""
             }
            },
            "type": "scatter3d"
           }
          ],
          "scattercarpet": [
           {
            "marker": {
             "colorbar": {
              "outlinewidth": 0,
              "ticks": ""
             }
            },
            "type": "scattercarpet"
           }
          ],
          "scattergeo": [
           {
            "marker": {
             "colorbar": {
              "outlinewidth": 0,
              "ticks": ""
             }
            },
            "type": "scattergeo"
           }
          ],
          "scattergl": [
           {
            "marker": {
             "colorbar": {
              "outlinewidth": 0,
              "ticks": ""
             }
            },
            "type": "scattergl"
           }
          ],
          "scattermapbox": [
           {
            "marker": {
             "colorbar": {
              "outlinewidth": 0,
              "ticks": ""
             }
            },
            "type": "scattermapbox"
           }
          ],
          "scatterpolar": [
           {
            "marker": {
             "colorbar": {
              "outlinewidth": 0,
              "ticks": ""
             }
            },
            "type": "scatterpolar"
           }
          ],
          "scatterpolargl": [
           {
            "marker": {
             "colorbar": {
              "outlinewidth": 0,
              "ticks": ""
             }
            },
            "type": "scatterpolargl"
           }
          ],
          "scatterternary": [
           {
            "marker": {
             "colorbar": {
              "outlinewidth": 0,
              "ticks": ""
             }
            },
            "type": "scatterternary"
           }
          ],
          "surface": [
           {
            "colorbar": {
             "outlinewidth": 0,
             "ticks": ""
            },
            "colorscale": [
             [
              0,
              "#0d0887"
             ],
             [
              0.1111111111111111,
              "#46039f"
             ],
             [
              0.2222222222222222,
              "#7201a8"
             ],
             [
              0.3333333333333333,
              "#9c179e"
             ],
             [
              0.4444444444444444,
              "#bd3786"
             ],
             [
              0.5555555555555556,
              "#d8576b"
             ],
             [
              0.6666666666666666,
              "#ed7953"
             ],
             [
              0.7777777777777778,
              "#fb9f3a"
             ],
             [
              0.8888888888888888,
              "#fdca26"
             ],
             [
              1,
              "#f0f921"
             ]
            ],
            "type": "surface"
           }
          ],
          "table": [
           {
            "cells": {
             "fill": {
              "color": "#EBF0F8"
             },
             "line": {
              "color": "white"
             }
            },
            "header": {
             "fill": {
              "color": "#C8D4E3"
             },
             "line": {
              "color": "white"
             }
            },
            "type": "table"
           }
          ]
         },
         "layout": {
          "annotationdefaults": {
           "arrowcolor": "#2a3f5f",
           "arrowhead": 0,
           "arrowwidth": 1
          },
          "autotypenumbers": "strict",
          "coloraxis": {
           "colorbar": {
            "outlinewidth": 0,
            "ticks": ""
           }
          },
          "colorscale": {
           "diverging": [
            [
             0,
             "#8e0152"
            ],
            [
             0.1,
             "#c51b7d"
            ],
            [
             0.2,
             "#de77ae"
            ],
            [
             0.3,
             "#f1b6da"
            ],
            [
             0.4,
             "#fde0ef"
            ],
            [
             0.5,
             "#f7f7f7"
            ],
            [
             0.6,
             "#e6f5d0"
            ],
            [
             0.7,
             "#b8e186"
            ],
            [
             0.8,
             "#7fbc41"
            ],
            [
             0.9,
             "#4d9221"
            ],
            [
             1,
             "#276419"
            ]
           ],
           "sequential": [
            [
             0,
             "#0d0887"
            ],
            [
             0.1111111111111111,
             "#46039f"
            ],
            [
             0.2222222222222222,
             "#7201a8"
            ],
            [
             0.3333333333333333,
             "#9c179e"
            ],
            [
             0.4444444444444444,
             "#bd3786"
            ],
            [
             0.5555555555555556,
             "#d8576b"
            ],
            [
             0.6666666666666666,
             "#ed7953"
            ],
            [
             0.7777777777777778,
             "#fb9f3a"
            ],
            [
             0.8888888888888888,
             "#fdca26"
            ],
            [
             1,
             "#f0f921"
            ]
           ],
           "sequentialminus": [
            [
             0,
             "#0d0887"
            ],
            [
             0.1111111111111111,
             "#46039f"
            ],
            [
             0.2222222222222222,
             "#7201a8"
            ],
            [
             0.3333333333333333,
             "#9c179e"
            ],
            [
             0.4444444444444444,
             "#bd3786"
            ],
            [
             0.5555555555555556,
             "#d8576b"
            ],
            [
             0.6666666666666666,
             "#ed7953"
            ],
            [
             0.7777777777777778,
             "#fb9f3a"
            ],
            [
             0.8888888888888888,
             "#fdca26"
            ],
            [
             1,
             "#f0f921"
            ]
           ]
          },
          "colorway": [
           "#636efa",
           "#EF553B",
           "#00cc96",
           "#ab63fa",
           "#FFA15A",
           "#19d3f3",
           "#FF6692",
           "#B6E880",
           "#FF97FF",
           "#FECB52"
          ],
          "font": {
           "color": "#2a3f5f"
          },
          "geo": {
           "bgcolor": "white",
           "lakecolor": "white",
           "landcolor": "#E5ECF6",
           "showlakes": true,
           "showland": true,
           "subunitcolor": "white"
          },
          "hoverlabel": {
           "align": "left"
          },
          "hovermode": "closest",
          "mapbox": {
           "style": "light"
          },
          "paper_bgcolor": "white",
          "plot_bgcolor": "#E5ECF6",
          "polar": {
           "angularaxis": {
            "gridcolor": "white",
            "linecolor": "white",
            "ticks": ""
           },
           "bgcolor": "#E5ECF6",
           "radialaxis": {
            "gridcolor": "white",
            "linecolor": "white",
            "ticks": ""
           }
          },
          "scene": {
           "xaxis": {
            "backgroundcolor": "#E5ECF6",
            "gridcolor": "white",
            "gridwidth": 2,
            "linecolor": "white",
            "showbackground": true,
            "ticks": "",
            "zerolinecolor": "white"
           },
           "yaxis": {
            "backgroundcolor": "#E5ECF6",
            "gridcolor": "white",
            "gridwidth": 2,
            "linecolor": "white",
            "showbackground": true,
            "ticks": "",
            "zerolinecolor": "white"
           },
           "zaxis": {
            "backgroundcolor": "#E5ECF6",
            "gridcolor": "white",
            "gridwidth": 2,
            "linecolor": "white",
            "showbackground": true,
            "ticks": "",
            "zerolinecolor": "white"
           }
          },
          "shapedefaults": {
           "line": {
            "color": "#2a3f5f"
           }
          },
          "ternary": {
           "aaxis": {
            "gridcolor": "white",
            "linecolor": "white",
            "ticks": ""
           },
           "baxis": {
            "gridcolor": "white",
            "linecolor": "white",
            "ticks": ""
           },
           "bgcolor": "#E5ECF6",
           "caxis": {
            "gridcolor": "white",
            "linecolor": "white",
            "ticks": ""
           }
          },
          "title": {
           "x": 0.05
          },
          "xaxis": {
           "automargin": true,
           "gridcolor": "white",
           "linecolor": "white",
           "ticks": "",
           "title": {
            "standoff": 15
           },
           "zerolinecolor": "white",
           "zerolinewidth": 2
          },
          "yaxis": {
           "automargin": true,
           "gridcolor": "white",
           "linecolor": "white",
           "ticks": "",
           "title": {
            "standoff": 15
           },
           "zerolinecolor": "white",
           "zerolinewidth": 2
          }
         }
        },
        "xaxis": {
         "anchor": "y",
         "domain": [
          0,
          1
         ],
         "title": {
          "text": "0"
         }
        },
        "yaxis": {
         "anchor": "x",
         "domain": [
          0,
          1
         ],
         "title": {
          "text": "1"
         }
        }
       }
      },
      "text/html": [
       "<div>                            <div id=\"458f8067-49fd-41c5-82c3-49bb15f0a2bb\" class=\"plotly-graph-div\" style=\"height:525px; width:100%;\"></div>            <script type=\"text/javascript\">                require([\"plotly\"], function(Plotly) {                    window.PLOTLYENV=window.PLOTLYENV || {};                                    if (document.getElementById(\"458f8067-49fd-41c5-82c3-49bb15f0a2bb\")) {                    Plotly.newPlot(                        \"458f8067-49fd-41c5-82c3-49bb15f0a2bb\",                        [{\"customdata\": [[\"\\u05d4\\u05d0\\u05dd \\u05d4\\u05d0\\u05dd \\u05d4\\u05d0\\u05dd-Gidi Gov\", 1997.0], [\"\\u05d4\\u05d2\\u05e0\\u05e0\\u05d9\\u05dd \\u05d4\\u05d9\\u05d5\\u05dd \\u05e2\\u05e6\\u05d5\\u05d1\\u05d9\\u05dd-Yehudit Ravitz\", 1993.0], [\"\\u05d4\\u05d5\\u05d0-Noa\", 1998.0], [\"\\u05d4\\u05d5\\u05d0 \\u05d4\\u05d5\\u05dc\\u05da \\u05de\\u05de\\u05da-Yehudit Ravitz\", 1987.0], [\"\\u05d4\\u05d5\\u05dc\\u05db\\u05ea \\u05de\\u05de\\u05da-Sharon Haziz\", 2012.0], [\"\\u05d4\\u05d5\\u05e8\\u05d4 \\u05de\\u05de\\u05d8\\u05e8\\u05d4-Shoshana Damari\", 2006.0], [\"\\u05d4\\u05d9\\u05d0 \\u05d4\\u05d5\\u05dc\\u05db\\u05ea \\u05d1\\u05d3\\u05e8\\u05db\\u05d9\\u05dd-Kaveret\", 1998.0], [\"\\u05d4\\u05d9\\u05d0 \\u05d9\\u05d5\\u05d3\\u05e2\\u05ea-Ninet Tayeb\", 2006.0], [\"\\u05d4\\u05d9\\u05d0 \\u05e8\\u05d5\\u05e7\\u05d3\\u05ea-Yardena Arazi\", 1998.0], [\"\\u05d4\\u05d9\\u05d0 \\u05e8\\u05d5\\u05e7\\u05d3\\u05ea-Yardena Arazi.1\", 2019.0], [\"\\u05d4\\u05d9\\u05d5 \\u05dc\\u05d9\\u05dc\\u05d5\\u05ea-Noa\", 2011.0], [\"\\u05d4\\u05db\\u05d9\\u05e0\\u05d5\\u05e8 \\u05d4\\u05e0\\u05d0\\u05de\\u05df-Yardena Arazi\", 1987.0], [\"\\u05d4\\u05db\\u05dc \\u05d6\\u05d4 \\u05dc\\u05d8\\u05d5\\u05d1\\u05d4-Dana International\", 2007.0], [\"\\u05d4\\u05db\\u05dc \\u05e1\\u05d2\\u05d5\\u05e8-Sarit Hadad\", 2012.0], [\"\\u05d4\\u05dc\\u05d1-Maya Buskila\", 2004.0], [\"\\u05d4\\u05dc\\u05d9\\u05dc\\u05d4-Hakol Over Habibi\", 1989.0], [\"\\u05d4\\u05dc\\u05dc\\u05d5\\u05d9\\u05d4-\\u05d7\\u05dc\\u05d1 \\u05d5\\u05d3\\u05d1\\u05e9\", 1995.0], [\"\\u05d4\\u05dd \\u05d1\\u05d6\\u05de\\u05e8 \\u05d4\\u05d6\\u05d4-Matti Caspi\", 1984.0], [\"\\u05d4\\u05de\\u05d2\\u05e4\\u05d9\\u05d9\\u05dd \\u05e9\\u05dc \\u05d1\\u05e8\\u05d5\\u05da-Kaveret\", 1973.0], [\"\\u05d4\\u05e0\\u05e1\\u05d9\\u05db\\u05d4 \\u05d5\\u05d4\\u05e8\\u05d5\\u05d7-Rita\", 1988.0], [\"\\u05d4\\u05e9\\u05d9\\u05e8 \\u05d4\\u05d6\\u05d4-Sharona Pick\", 2004.0], [\"\\u05d5\\u05d0\\u05dc\\u05e1 \\u05dc\\u05d4\\u05d2\\u05e0\\u05ea \\u05d4\\u05e6\\u05d5\\u05de\\u05d7-Lehakat HaNachal\", 2010.0], [\"\\u05d5\\u05d3\\u05d5\\u05d3 \\u05d9\\u05e4\\u05d4 \\u05e2\\u05d9\\u05e0\\u05d9\\u05d9\\u05dd-A-WA\", 2019.0], [\"\\u05d5\\u05d9\\u05d3\\u05d5\\u05d9-Yehudit Ravitz\", 1994.0], [\"\\u05d5\\u05e0\\u05e6\\u05d5\\u05d0\\u05dc\\u05d4-Green Onion\", 2003.0], [\"\\u05d6\\u05d4 \\u05d4\\u05db\\u05dc \\u05d1\\u05e9\\u05d1\\u05d9\\u05dc\\u05da-Danny Sanderson\", 1990.0], [\"\\u05d6\\u05d5\\u05d3\\u05d9\\u05d0\\u05e7-Yaron Hadad\", 1994.0], [\"\\u05d6\\u05df \\u05e0\\u05d3\\u05d9\\u05e8-Yehudit Ravitz\", 1998.0], [\"\\u05d6\\u05df \\u05e0\\u05d3\\u05d9\\u05e8-Korin Allal\", 1992.0], [\"\\u05d7\\u05d1\\u05e8\\u05d9\\u05dd \\u05d1\\u05db\\u05dc \\u05de\\u05d9\\u05e0\\u05d9 \\u05e6\\u05d1\\u05e2\\u05d9\\u05dd-Sarit Hadad\", 1999.0], [\"\\u05d7\\u05d5\\u05e4\\u05d9\\u05dd \\u05d4\\u05dd \\u05dc\\u05e4\\u05e2\\u05de\\u05d9\\u05dd-Chava Alberstein\", 1975.0], [\"\\u05d7\\u05d6\\u05e7\\u05d4 \\u05de\\u05d4\\u05e8\\u05d5\\u05d7-Gali Atari\", 1992.0], [\"\\u05d7\\u05d9\\u05d5\\u05db\\u05d9\\u05dd-Chava Alberstein\", 1968.0], [\"\\u05d7\\u05d9\\u05d9\\u05da \\u05d5\\u05d7\\u05d9\\u05d9-Gidi Gov\", 1997.0], [\"\\u05d7\\u05d9\\u05d9\\u05dc \\u05e9\\u05dc 100 \\u05e9\\u05e2\\u05e8\\u05d9\\u05dd-Sheygets\", 2001.0], [\"\\u05d7\\u05d9\\u05db\\u05d9\\u05ea\\u05d9 \\u05dc\\u05d5-Sarit Hadad\", 2015.0], [\"\\u05d7\\u05de\\u05d9\\u05de\\u05d5\\u05ea \\u05d7\\u05d5\\u05dc\\u05e4\\u05ea-Dana Berger\", 1998.0], [\"\\u05d8\\u05d9\\u05e7\\u05d9\\u05d8\\u05d0\\u05e1-Noa Kirel\", 2017.0], [\"\\u05d9\\u05d7\\u05d9\\u05dc\\u05d5\\u05d9 \\u05d5\\u05d9\\u05d7\\u05dc\\u05d9-Ofra Haza\", 1984.0], [\"Maria-Evadne Baker\", 1965.0], [\"Marija Magdalena-Doris Dragovi\\u0107\", 2014.0], [\"Matchmaker-John Williams\", 1971.0], [\"Material Girl-\\u05d4\\u05db\\u05d5\\u05db\\u05d1 \\u05d4\\u05d1\\u05d0\", 2019.0], [\"Mercy-Madame Monsieur\", 2018.0], [\"A Million Dreams-P!nk\", 2018.0], [\"A Million Voices-Polina Gagarina\", 2015.0], [\"Molitva - Serbian Version-Marija \\u0160erifovi\\u0107\", 2007.0], [\"Money Money-Joel Grey\", 1972.0], [\"Mood Ring (By Demand) - Pride Remix-Britney Spears\", 2020.0], [\"Move Your Body - Single Mix-Sia\", 2017.0], [\"Mr. Blue Sky-Electric Light Orchestra\", 1977.0], [\"Mucho Bien-MR.BLACK\", 2020.0], [\"Mudbira-A-WA\", 2019.0], [\"Murder On The Dancefloor-Sophie Ellis-Bextor\", 2002.0], [\"My Favorite Things-Julie Andrews\", 1964.0], [\"My Happy Ending-Avril Lavigne\", 2004.0], [\"My Heart Will Go On - Love Theme from \\\"Titanic\\\"-C\\u00e9line Dion\", 1997.0], [\"My Number One-Helena Paparizou\", 2005.0], [\"My Prerogative-Britney Spears\", 2004.0], [\"Neka Mi Ne Svane-Danijela Martinovic\", 2014.0], [\"Nel Blu Dipinto Di Blu-Domenico Modugno\", 2008.0], [\"Nemo-Nightwish\", 2005.0], [\"Ne partez pas sans moi (Grand prix de L'Eurovision 1988)-C\\u00e9line Dion\", 1994.0], [\"Vay Halime-Candan Er\\u00e7etin\", 2009.0], [\"Viens on s\\u2019aime-Slimane\", 2018.0], [\"Vogue-Madonna\", 2009.0], [\"Wannabe-Spice Girls\", 1996.0], [\"WAP (feat. Megan Thee Stallion)-Cardi B\", 2020.0], [\"We R Who We R-Kesha\", 2010.0], [\"What's Up?-4 Non Blondes\", 1992.0], [\"Whenever, Wherever-Shakira\", 2001.0], [\"When We're High-LP\", 2017.0], [\"When We Were Young-Adele\", 2015.0], [\"When You're Gone-Bryan Adams\", 1998.0], [\"Where Have You Been-Sarit Hadad\", 2012.0], [\"Who Knew-P!nk\", 2006.0], [\"A Whole New World-Lea Salonga\", 2004.0], [\"Wild Dances-Ruslana\", 2004.0], [\"Wind It Up-Gwen Stefani\", 2006.0], [\"Wings-Delta Goodrem\", 2016.0], [\"Woman in Love-Barbra Streisand\", 1980.0], [\"Womanizer - Acoustic-Lily Allen\", 2009.0], [\"Work Bitch-Britney Spears\", 2013.0], [\"Written in the Stars (feat. Eric Turner)-Tinie Tempah\", 2010.0], [\"Ya Watani-A-WA\", 2019.0], [\"Yonc\\u00e9 - Homecoming Live-Beyonc\\u00e9\", 2019.0], [\"(You Drive Me) Crazy-Britney Spears\", 1999.0], [\"You Oughta Know-Alanis Morissette\", 2020.0], [\"You Oughta Know - 2015 Remaster-Alanis Morissette\", 1995.0], [\"You've Got The Love-Florence + The Machine\", 2009.0], [\"\\u05d0\\u05d2\\u05d3\\u05ea \\u05d3\\u05e9\\u05d0-Gidi Gov\", 2019.0], [\"\\u05d0\\u05d2\\u05d3\\u05ea \\u05d4\\u05e9\\u05de\\u05e9 \\u05d5\\u05d4\\u05d9\\u05e8\\u05d7-Ethnix\", 1995.0], [\"\\u05d0\\u05d3\\u05d5\\u05e0\\u05d9-Roni Duani\", 2006.0], [\"\\u05d0\\u05d3\\u05d5\\u05df \\u05e9\\u05d5\\u05e7\\u05d5-Arik Einstein\", 1989.0], [\"\\u05d0\\u05d4\\u05d1\\u05d4 \\u05e7\\u05d8\\u05e0\\u05d4-Shiri Maimon\", 2005.0], [\"\\u05d0\\u05d5\\u05d4\\u05d1 \\u05dc\\u05d4\\u05d9\\u05d5\\u05ea \\u05d1\\u05d1\\u05d9\\u05ea-Arik Einstein\", 1993.0], [\"\\u05d0\\u05d5\\u05d4\\u05d1\\u05ea \\u05dc\\u05d0 \\u05d0\\u05d5\\u05d4\\u05d1\\u05ea-Arkadi Duchin\", 2001.0], [\"\\u05d0\\u05d5\\u05e8-Shoshana Damari\", 1988.0], [\"\\u05d0\\u05d5\\u05ea\\u05da-Ilana Avital\", 1977.0], [\"\\u05d0\\u05d7\\u05dc\\u05d4 \\u05e2\\u05d5\\u05dc\\u05dd-Gidi Gov\", 2003.0], [\"\\u05d0\\u05d9\\u05da \\u05e9\\u05d9\\u05e8 \\u05e0\\u05d5\\u05dc\\u05d3-Yehonatan Geffen\", 1978.0], [\"\\u05d0\\u05d9\\u05df \\u05dc\\u05d9 \\u05e8\\u05d2\\u05e2 \\u05d3\\u05dc-Rivka Michaeli\", 1981.0], [\"\\u05d0\\u05d9\\u05df \\u05e2\\u05d5\\u05d3 \\u05d9\\u05d5\\u05dd-Gidi Gov\", 1991.0], [\"\\u05d0\\u05d9 \\u05e9\\u05dd-Ilanit\", 1972.0], [\"\\u05d0\\u05d9\\u05ea\\u05d5 \\u05dc\\u05e0\\u05e6\\u05d7-Kerach Tesha\", 1997.0], [\"\\u05d0\\u05dd \\u05e0\\u05e0\\u05e2\\u05dc\\u05d5-Ofra Haza\", 1984.0], [\"\\u05d0\\u05e0\\u05d9 \\u05d0\\u05d5\\u05d4\\u05d1-Yehonatan Geffen\", 1978.0], [\"\\u05d0\\u05e0\\u05d9 \\u05d0\\u05e9\\u05ea\\u05d2\\u05e2-Nurit Galron\", 2005.0], [\"\\u05d0\\u05e0\\u05d9 \\u05d7\\u05d5\\u05dc\\u05dd \\u05e2\\u05dc \\u05e0\\u05e2\\u05de\\u05d9-Hedva Amrani\", 2020.0], [\"\\u05d0\\u05e0\\u05d9 \\u05d7\\u05d9\\u05d4 \\u05dc\\u05d9 \\u05de\\u05d9\\u05d5\\u05dd \\u05dc\\u05d9\\u05d5\\u05dd-Rita\", 1988.0], [\"\\u05d0\\u05e0\\u05d9 \\u05de\\u05e9\\u05dd-Yehudit Ravitz\", 1993.0], [\"\\u05d0\\u05e0\\u05d9 \\u05e9\\u05d8\\u05d4-Zehava Ben\", 2000.0], [\"\\u05d0\\u05e6\\u05dc \\u05d4\\u05d3\\u05d5\\u05d3\\u05d4 \\u05d5\\u05d4\\u05d3\\u05d5\\u05d3-Noa Kirel\", 2017.0], [\"\\u05d0\\u05e8\\u05e5 \\u05d8\\u05e8\\u05d5\\u05e4\\u05d9\\u05ea \\u05d9\\u05e4\\u05d4 / \\u05d1\\u05d5\\u05d0 \\u05dc\\u05e8\\u05d9\\u05d5 - Live-Yehudit Ravitz\", 2008.0], [\"\\u05d0\\u05ea \\u05d5\\u05d0\\u05e0\\u05d9-Shlomo Artzi\", 1975.0], [\"\\u05d0\\u05ea \\u05d7\\u05d9\\u05e8\\u05d5\\u05ea\\u05d9-Berry Sakharof\", 2020.0], [\"\\u05d0\\u05ea \\u05d7\\u05e8\\u05d5\\u05ea\\u05d9-Chava Alberstein\", 1975.0], [\"\\u05d0\\u05ea \\u05ea\\u05dc\\u05db\\u05d9 \\u05d1\\u05e9\\u05d3\\u05d4-Chava Alberstein\", 1975.0], [\"\\u05d1\\u05d0\\u05d4\\u05d1\\u05ea\\u05e0\\u05d5-Yehudit Ravitz\", 1993.0], [\"\\u05d1\\u05d2\\u05d9\\u05d3\\u05d4-Rita\", 1986.0], [\"\\u05d1\\u05d2\\u05dc\\u05dc \\u05d4\\u05dc\\u05d9\\u05dc\\u05d4-Chava Alberstein\", 2016.0], [\"\\u05d1\\u05d5\\u05d0-Rita\", 1988.0], [\"\\u05d1\\u05d5\\u05d0\\u05d9 \\u05db\\u05dc\\u05d4-Noa\", 1998.0], [\"\\u05d1\\u05d5\\u05e7\\u05e8 \\u05d8\\u05d5\\u05d1 \\u05e2\\u05d5\\u05dc\\u05dd-Avtipus\", 1995.0], [\"\\u05d1\\u05d7\\u05d5\\u05dd \\u05e9\\u05dc \\u05ea\\u05dc \\u05d0\\u05d1\\u05d9\\u05d1-Sarit Hadad\", 2004.0], [\"\\u05d1\\u05d9 \\u05d2\\u05d0\\u05e8\\u05d0\\u05e8 (\\u05d7\\u05e1\\u05e8 \\u05e9\\u05e7\\u05d8)-Rita\", 2011.0], [\"\\u05d1\\u05da \\u05dc\\u05d0 \\u05e0\\u05d5\\u05d2\\u05e2-Yehudit Ravitz\", 2000.0], [\"\\u05d1\\u05dc\\u05d9\\u05dc\\u05d5\\u05ea \\u05d4\\u05e7\\u05d9\\u05e5 \\u05d4\\u05d7\\u05de\\u05d9\\u05dd-Matti Caspi\", 1978.0], [\"\\u05d1\\u05dc\\u05e2\\u05d3\\u05d9\\u05d9\\u05da-Gidi Gov\", 1978.0], [\"\\u05d1\\u05df \\u05d0\\u05d3\\u05dd-Yardena Arazi\", 1998.0], [\"\\u05d2\\u05d1\\u05e8\\u05d9\\u05d0\\u05dc-Ofra Haza\", 1982.0], [\"\\u05d2\\u05d9\\u05d8\\u05e8\\u05d4 \\u05d5\\u05db\\u05d9\\u05e0\\u05d5\\u05e8-Arik Einstein\", 1999.0], [\"\\u05d2\\u05dc\\u05d1\\u05d9-Ofra Haza\", 1984.0], [\"\\u05d2'\\u05e1\\u05d9\\u05e7\\u05d4-Ethnix\", 1993.0], [\"\\u05d2\\u05e9\\u05dd \\u05d1\\u05e2\\u05d9\\u05ea\\u05d5-Ruthi Navon\", 1974.0], [\"\\u05d3\\u05d1\\u05e7\\u05d4 \\u05e8\\u05e4\\u05d9\\u05d7 - Bonus-Yehudit Ravitz\", 1981.0], [\"\\u05d3\\u05d5\\u05df \\u05e7\\u05d9\\u05d7\\u05d5\\u05d8\\u05d4-Dana International\", 1998.0], [\"\\u05d3\\u05d5\\u05df \\u05e7\\u05d9\\u05d7\\u05d5\\u05d8\\u05d4-Shiri Maimon\", 2002.0], [\"\\u05d3\\u05de\\u05e2\\u05d5\\u05ea \\u05e9\\u05dc \\u05de\\u05dc\\u05d0\\u05db\\u05d9\\u05dd-Yehudit Ravitz\", 1979.0], [\"Never Be The Same Again-Melanie C\", 1999.0], [\"Nobody's Wife-Anouk\", 1997.0], [\"No Roots-Alice Merton\", 2017.0], [\"no tears left to cry-Ariana Grande\", 2018.0], [\"Oh My God (feat. Lily Allen)-Mark Ronson\", 2007.0], [\"Ojos As\\u00ed-Shakira\", 1998.0], [\"One of Us-Cher\", 2018.0], [\"Oniro Mou-Yianna Terzi\", 2018.0], [\"Ooh Aah...Just a Little Bit - Motiv8 Radio Edit-Gina G\", 1996.0], [\"Oops!...I Did It Again-Britney Spears\", 2000.0], [\"Open Your Heart-Madonna\", 1986.0], [\"Ora Na Gyriseis-Malu\", 2017.0], [\"Over The Hills And Far Away-Nightwish\", 2001.0], [\"Paid My Dues-Anastacia\", 1999.0], [\"A Pal\\u00e9 - Gesaffelstein Remix-Gesaffelstein\", 2019.0], [\"Parle \\u00e0 ma main (feat. Yelle et Christelle)-Fatal Bazooka\", 2007.0], [\"Parle \\u00e0 ta t\\u00eate-Indila\", 2019.0], [\"Partition-Beyonc\\u00e9\", 2014.0], [\"Part of Your World - From \\\"The Little Mermaid\\\" / Soundtrack Version-Jodi Benson\", 1997.0], [\"Party In The U.S.A.-Miley Cyrus\", 2009.0], [\"Pas eu le temps-Patrick Bruel\", 2019.0], [\"Petra - Offer Nissim 08' Reconstruction-Dana International\", 2008.0], [\"Petra - Offer Nissim Reconstruction Mix-Dana International\", 2014.0], [\"The Phantom Of the Opera-Andrew Lloyd Webber\", 2004.0], [\"Pon de Replay-Rihanna\", 2005.0], [\"Poor Unfortunate Souls - From \\\"The Little Mermaid\\\" / Soundtrack Version-Pat Carroll\", 1997.0], [\"Qu\\u00e9 Hiciste-Jennifer Lopez\", 2012.0], [\"Que Nadie Sepa Mi Sufrir-Soledad\", 1997.0], [\"\\u00bfQui\\u00e9n te has cre\\u00eddo que soy?-Fangoria\", 2019.0], [\"Read U Wrote U (Ellis Miah Mix) [feat. The Cast of RuPaul's Drag Race All Stars, Season 2]-RuPaul\", 2016.0], [\"Reflection-Christina Aguilera\", 1998.0], [\"Reflection (2020) - From \\\"Mulan\\\"-Christina Aguilera\", 2020.0], [\"Replay-Tamta\", 2019.0], [\"Rich Girl-Gwen Stefani\", 2004.0], [\"Rolling in the Deep-Adele\", 2011.0], [\"Sa Leat-Arik Einstein\", 1974.0], [\"Satellite-Lena\", 2010.0], [\"Say You'll Be There-Spice Girls\", 1996.0], [\"Send My Love (To Your New Lover)-Adele\", 2016.0], [\"Send My Love (To Your New Lover)-Adele.1\", 2015.0], [\"Set Fire to the Rain-Adele\", 2011.0], [\"Shake It Out-Florence + The Machine\", 2011.0], [\"Shallow-Lady Gaga\", 2018.0], [\"Ship To Wreck-Florence + The Machine\", 2015.0], [\"Shufuni-Sarit Hadad\", 2019.0], [\"Since U Been Gone-Kelly Clarkson\", 2004.0], [\"Sissy That Walk-RuPaul\", 2014.0], [\"Sk8er Boi-Avril Lavigne\", 2002.0], [\"Smile-Lily Allen\", 2006.0], [\"So Emotional-Whitney Houston\", 1987.0], [\"Sokratis-Elpida\", 1998.0], [\"Soldi-Mahmood\", 2019.0], [\"Solo (feat. Demi Lovato)-Clean Bandit\", 2018.0], [\"Something to Sing About-Original Cast of Buffy The Vampire Slayer\", 2002.0], [\"Soon We'll Be Found-Sia\", 2008.0], [\"Sound of Silence-Dami Im\", 2016.0], [\"Sous le vent-Garou\", 2000.0], [\"Spice Up Your Life-Spice Girls\", 1997.0], [\"Stop-Spice Girls\", 1997.0], [\"Sto Theo Me Paei-Eleni Foureira\", 2017.0], [\"Superstar - Turkish Version-Sibel T\\u00fcz\\u00fcn\", 2006.0], [\"Sweet but Psycho-Ava Max\", 2018.0], [\"Tears (feat. Louisa Johnson)-Clean Bandit\", 2016.0], [\"Temperatura-Eleni Foureira\", 2020.0], [\"Think-Aretha Franklin\", 1968.0], [\"Ti Koitas-Eleni Foureira\", 2016.0], [\"Together-Sia\", 2020.0], [\"Torn-Natalie Imbruglia\", 2007.0], [\"Total Eclipse of the Heart-Bonnie Tyler\", 1999.0], [\"Tous Eipes Pos-Malu\", 2019.0], [\"Tren Del Cielo-Soledad\", 2001.0], [\"Tren Del Cielo-Soledad.1\", 2005.0], [\"Tu te reconnaitras-Anne-Marie David\", 1973.0], [\"Tu Veneno-Natalia Oreiro\", 1999.0], [\"Umbrella-Rihanna\", 2008.0], [\"Une belle histoire-Michel Fugain & Le Big Bazar\", 1972.0], [\"1000 Doves-Lady Gaga\", 2020.0], [\"911-Lady Gaga\", 2020.0], [\"Ainsi bas la vida-Indila\", 2014.0], [\"Alejandro-Lady Gaga\", 2009.0], [\"Alive-Sia\", 2016.0], [\"All of My Love - Radio edit-Destiny\", 2020.0], [\"Alone-C\\u00e9line Dion\", 2008.0], [\"Always Look On The Bright Side Of Life-Monty Python\", 1989.0], [\"Amies ennemies-N\\u00e2diya\", 2006.0], [\"Anaconda-Nicki Minaj\", 2014.0], [\"Around The World-Aqua\", 2009.0], [\"Baby Can I Hold You-Red Band\", 2014.0], [\"Baby (feat. MARINA & Luis Fonsi)-Clean Bandit\", 2018.0], [\"Bamakom Hachi Namooch Be'e Tel Aviv (At the Lowest Place in Tel Aviv)-Dana International\", 2008.0], [\"Bang Bang-Jessie J\", 2014.0], [\"Because of You-Kelly Clarkson\", 2012.0], [\"Beegharar - Offer Nissim Club Remix-Rita\", 2012.0], [\"Believe-Cher\", 1998.0], [\"Best Thing I Never Had-Beyonc\\u00e9\", 2011.0], [\"BLACK PARADE-Beyonc\\u00e9\", 2020.0], [\"Bootylicious-Destiny's Child\", 2001.0], [\"Born This Way-Lady Gaga\", 2011.0], [\"Born to Make You Happy-Britney Spears\", 1999.0], [\"Break Up Bye Bye - Frock Destroyers Version-The Cast of RuPaul's Drag Race UK\", 2019.0], [\"Broken-Shefita\", 2017.0], [\"Cabaret-Liza Minnelli\", 1972.0], [\"Call Me - Original Version-Anna Vissi\", 2007.0], [\"Cambio Dolor-Natalia Oreiro\", 1998.0], [\"\\u00c7a va \\u00e7a vient-Vitaa\", 2019.0], [\"Chameleon-Michela\", 2019.0], [\"Cheap Thrills-Sia\", 2016.0], [\"Chewing-Gum-Vendredi sur Mer\", 2019.0], [\"Cinderella - Yamim Tovim-Sexta\", 2016.0], [\"Climb Ev'ry Mountain-Peggy Wood\", 1964.0], [\"Colors of the Wind-Judy Kuhn\", 2012.0], [\"Come On Over (All I Want Is You)-Christina Aguilera\", 1999.0], [\"Crying for No Reason-Katy B\", 2014.0], [\"Dancing On My Own - Radio Edit-Robyn\", 2010.0], [\"Derni\\u00e8re danse-Indila\", 2014.0], [\"Dime-Beth\", 2003.0], [\"Diva - Original Hebrew Version-Dana International\", 1998.0], [\"Doctor Jones - Original Version-Aqua\", 1997.0], [\"Dog Days Are Over-Florence + The Machine\", 2009.0], [\"Don't Speak-No Doubt\", 1995.0], [\"Don't Start Now-Dua Lipa\", 2020.0], [\"Don't Start Now-Dua Lipa.1\", 2019.0], [\"Don't Turn Around-Ace of Base\", 1993.0], [\"Dynamite-Taio Cruz\", 2010.0], [\"Echo (You and I)-Anggun\", 2012.0], [\"Ein bisschen Frieden-Nicole\", 2009.0], [\"Eize Rikud-Hedva Amrani\", 2011.0], [\"Elastic Heart-Sia\", 2014.0], [\"Empire State of Mind (Part II) Broken Down-Alicia Keys\", 2009.0], [\"Eres T\\u00fa-Mocedades\", 1994.0], [\"Estoy Aqu\\u00ed-Shakira\", 1995.0], [\"Euphoria-Loreen\", 2012.0], [\"Ever Dream-Nightwish\", 2002.0], [\"Everytime We Touch - Radio Edit-Cascada\", 2011.0], [\"Every Way That I Can - Philippe Laurent from Galleon Radio Edit-Sertab Erener\", 2003.0], [\"Feel This Moment (feat. Christina Aguilera)-Pitbull\", 2012.0], [\"Flames-David Guetta\", 2018.0], [\"Forogj Vil\\u00e1g!-Nox\", 2005.0], [\"Free-Dana International\", 1999.0], [\"Fuego-Eleni Foureira\", 2018.0], [\"Genie In a Bottle-Christina Aguilera\", 1999.0], [\"Get Me Bodied-Beyonc\\u00e9\", 2006.0], [\"Gimme! Gimme! Gimme! (A Man After Midnight) - Offer Nissim Needs a Man Remix-Cher\", 2018.0], [\"GIRL LIKE ME-Black Eyed Peas\", 2020.0], [\"Give That-B. Ames\", 2019.0], [\"Going Under-Evanescence\", 2003.0], [\"Good as Hell-Lizzo\", 2016.0], [\"Good Night Europe-Offer Nissim\", 2017.0], [\"The Greatest (feat. Kendrick Lamar)-Sia\", 2016.0], [\"Gul l\\u2019Abi-Acid Arab\", 2016.0], [\"Habib galbi-A-WA\", 2015.0], [\"Hakol Beseder - Omri Smadar Remix-Yehudit Ravitz\", 2019.0], [\"Hana Mash Hu Al Yaman-A-WA\", 2019.0], [\"Hana Mash Hu Al Yaman-A-WA.1\", 2019.0], [\"Hard out Here-Lily Allen\", 2013.0], [\"Heaven Is a Place on Earth-Belinda Carlisle\", 2013.0], [\"Hey Mickey-Toni Basil\", 2020.0], [\"Hit the Road Jack-Ray Charles\", 2012.0], [\"Hot N Cold-Katy Perry\", 2008.0], [\"How Far I'll Go-Auli'i Cravalho\", 2016.0], [\"Hurt-Christina Aguilera\", 2006.0], [\"IDGAF-Dua Lipa\", 2017.0], [\"I'll Be Fine-Clairy Browne & The Bangin' Rackettes\", 2013.0], [\"I'm a Slave 4 U-Britney Spears\", 2001.0], [\"I'm Gonna Be (500 Miles)-The Proclaimers\", 1988.0], [\"I'm Outta Love-Anastacia\", 1999.0], [\"Independent Women, Pt. 1-Destiny's Child\", 2001.0], [\"Into the Unknown-Idina Menzel\", 2019.0], [\"Ironic-Alanis Morissette\", 1995.0], [\"Irreplaceable-Beyonc\\u00e9\", 2007.0], [\"It's My Life-No Doubt\", 2019.0], [\"I Wanna Dance with Somebody (Who Loves Me)-Whitney Houston\", 1987.0], [\"I WILL SURVIVE-Gloria Gaynor\", 2010.0], [\"(I Would) Die For You-Antique\", 2007.0], [\"Je suis l'enfant soleil-Anne-Marie David\", 2005.0], [\"Je T\\u2019aime-Lara Fabian\", 1997.0], [\"Ze Rak Sport-Dafna Dekel\", 2017.0], [\"\\u05d0\\u05d4\\u05d1\\u05d4 \\u05d4\\u05d9\\u05d0 \\u05e9\\u05d9\\u05e8 \\u05dc\\u05e9\\u05e0\\u05d9\\u05d9\\u05dd-Ilanit\", 2013.0], [\"\\u05e2\\u05d5\\u05d3 \\u05e0\\u05d2\\u05d9\\u05e2-Yardena Arazi\", 1984.0], [\"\\u05e2\\u05d5\\u05dc\\u05d4 \\u05e2\\u05d5\\u05dc\\u05d4-Izhar Cohan\", 1998.0], [\"\\u05e2\\u05d8\\u05d5\\u05e3 \\u05d1\\u05e8\\u05d7\\u05de\\u05d9\\u05dd-Rita\", 1988.0], [\"\\u05e2\\u05d8\\u05d5\\u05e8 \\u05de\\u05e6\\u05d7\\u05da \\u05d6\\u05d4\\u05d1 \\u05e9\\u05d7\\u05d5\\u05e8 - \\u05d0\\u05e8\\u05e5 \\u05d9\\u05e9\\u05e8\\u05d0\\u05dc \\u05d4\\u05d9\\u05e9\\u05e0\\u05d4 \\u05d5\\u05d4\\u05d8\\u05d5\\u05d1\\u05d4 \\u05d7\\u05dc\\u05e7 \\u05d2 - \\u05e8\\u05d9\\u05de\\u05d0\\u05e1\\u05d8\\u05e8\\u05d9\\u05e0\\u05d2-Arik Einstein\", 2018.0], [\"\\u05e2\\u05d9\\u05df \\u05d2\\u05d3\\u05d9-Yehudit Ravitz\", 1979.0], [\"\\u05e2\\u05dc \\u05d2\\u05d1\\u05e2\\u05d5\\u05ea \\u05e9\\u05d9\\u05da \\u05d0\\u05d1\\u05e8\\u05d9\\u05e7 - \\u05d0\\u05d3\\u05de\\u05d4 \\u05d0\\u05d3\\u05de\\u05ea\\u05d9-OFARIM\", 1972.0], [\"\\u05e2\\u05dc\\u05d9\\u05da \\u05d5\\u05e2\\u05dc\\u05d9\\u05d9-Sarit Hadad\", 2007.0], [\"\\u05e2\\u05e7\\u05e8\\u05d4 (\\u05d0\\u05d5\\u05e8\\u05d9)-Noa\", 2013.0], [\"\\u05e2\\u05e8\\u05d1 \\u05db\\u05d7\\u05d5\\u05dc \\u05e2\\u05de\\u05d5\\u05e7-Rita\", 1994.0], [\"\\u05e2\\u05e8\\u05d1 \\u05e9\\u05d7-Shoshana Damari\", 2010.0], [\"'\\u05e4\\u05d0\\u05d5\\u05e5-Noa Kirel\", 2019.0], [\"\\u05e4\\u05d2\\u05d9\\u05e9\\u05d4 \\u05dc\\u05d0\\u05d9\\u05df \\u05e7\\u05e5-Chava Alberstein\", 2016.0], [\"\\u05e4\\u05e0\\u05d9\\u05dd \\u05d0\\u05dc \\u05de\\u05d5\\u05dc \\u05e4\\u05e0\\u05d9\\u05dd-Gidi Gov\", 1995.0], [\"\\u05e4\\u05e8\\u05d7 \\u05d4\\u05dc\\u05d9\\u05dc\\u05da-Chava Alberstein\", 1975.0], [\"\\u05e6\\u05d0 \\u05de\\u05d6\\u05d4 - Live-Yehudit Ravitz\", 2008.0], [\"\\u05e7\\u05d5\\u05dc\\u05e0\\u05d5\\u05e2 (\\u05e2\\u05d5\\u05de\\u05e8 \\u05de\\u05d5\\u05e9\\u05e7\\u05d5\\u05d1\\u05d9\\u05e5)-Omer Moskovich\", 2020.0], [\"\\u05e7\\u05e8\\u05df \\u05d0\\u05d5\\u05e8-Noa\", 1998.0], [\"\\u05e8\\u05d5\\u05e2\\u05d4 \\u05d5\\u05e8\\u05d5\\u05e2\\u05d4-Shoshana Damari\", 2010.0], [\"\\u05e8\\u05d5\\u05e7\\u05d3\\u05ea-Ania Bukstein\", 2017.0], [\"\\u05e8\\u05d7\\u05d1\\u05ea \\u05d4\\u05e8\\u05d9\\u05e7\\u05d5\\u05d3\\u05d9\\u05dd-Yehudit Ravitz\", 1987.0], [\"\\u05e8\\u05d7\\u05de\\u05d9\\u05dd-Ofra Haza\", 2000.0], [\"\\u05e8\\u05e2\\u05d9\\u05d3\\u05ea \\u05d0\\u05d3\\u05de\\u05d4-Yehudit Ravitz\", 1990.0], [\"\\u05e9\\u05d1\\u05d9\\u05dc \\u05d4\\u05d1\\u05e8\\u05d9\\u05d7\\u05d4-Rita\", 1986.0], [\"\\u05e9\\u05d1\\u05ea\\u05d5\\u05ea \\u05d5\\u05d7\\u05d2\\u05d9\\u05dd-Yehudit Ravitz\", 1994.0], [\"\\u05e9\\u05d7\\u05de\\u05d8-Chava Alberstein\", 1990.0], [\"\\u05e9\\u05d8\\u05d7 \\u05d4\\u05d4\\u05e4\\u05e7\\u05e8-Gidi Gov\", 1983.0], [\"\\u05e9\\u05d9\\u05d1\\u05d5\\u05dc\\u05ea \\u05d1\\u05e9\\u05d3\\u05d4-Ran & Nama\", 1960.0], [\"\\u05e9\\u05d9\\u05e8 \\u05d4\\u05e4\\u05d9\\u05e4\\u05d9-Gitit Fisher\", 2019.0], [\"\\u05e9\\u05d9\\u05e8 \\u05d4\\u05e4\\u05e8\\u05d9\\u05d7\\u05d4 - 1985 Version-Ofra Haza\", 1986.0], [\"\\u05e9\\u05d9\\u05e8 \\u05dc\\u05d0\\u05e1\\u05e3-Keren Peles\", 2010.0], [\"\\u05e9\\u05d9\\u05e8 \\u05de\\u05e9\\u05de\\u05e8-Chava Alberstein\", 2016.0], [\"\\u05e9\\u05d9\\u05e8 \\u05e9\\u05dc \\u05d9\\u05d5\\u05dd \\u05d7\\u05d5\\u05dc\\u05d9\\u05df-Ilanit\", 2009.0], [\"\\u05e9\\u05e8\\u05d4 \\u05d1\\u05e8\\u05d7\\u05d5\\u05d1\\u05d5\\u05ea - \\u05d2\\u05e8\\u05e1\\u05ea \\u05d4\\u05d0\\u05d9\\u05e8\\u05d5\\u05d5\\u05d9\\u05d6\\u05d9\\u05d5\\u05df-Rita\", 2015.0], [\"\\u05e9\\u05ea\\u05d5 \\u05d4\\u05e2\\u05d3\\u05e8\\u05d9\\u05dd - \\u05de\\u05e2\\u05de\\u05e7 \\u05dc\\u05d2\\u05d1\\u05e2\\u05d4-OFARIM\", 1972.0], [\"\\u05ea\\u05d0\\u05de\\u05e8\\u05d5 \\u05dc\\u05d5-Nasrin Kadri\", 2018.0], [\"\\u05ea\\u05de\\u05d5\\u05e0\\u05d4-Yehudit Ravitz\", 1993.0], [\"\\u05ea\\u05e4\\u05d9\\u05dc\\u05d4 - 1985 Version-Ofra Haza\", 2000.0], [\"\\u05ea\\u05e4\\u05ea\\u05d7 \\u05d7\\u05dc\\u05d5\\u05df-Rita\", 1999.0], [\"\\u05ea\\u05e9\\u05d0\\u05d9\\u05e8\\u05d9 \\u05dc\\u05d9 \\u05de\\u05e7\\u05d5\\u05dd \\u05dc\\u05d7\\u05d1\\u05e7 \\u05d0\\u05d5\\u05ea\\u05da-Avtipus\", 1995.0], [\"\\u30e1\\u30ea\\u30c3\\u30b5-PornoGraffitti\", 1999.0], [\"\\u05d9\\u05dc\\u05d3\\u05d5\\u05ea \\u05e0\\u05e9\\u05db\\u05d7\\u05ea-Nurit Galron\", 1983.0], [\"\\u05d9\\u05dd \\u05e9\\u05dc \\u05d2\\u05e2\\u05d2\\u05d5\\u05e2-Yehudit Ravitz\", 2007.0], [\"\\u05d9\\u05e2\\u05dc\\u05d4 \\u05d5\\u05d9\\u05d1\\u05d5\\u05d0-Gidi Gov\", 1973.0], [\"\\u05d9\\u05e2\\u05e7\\u05d1-Laladin\", 1994.0], [\"\\u05d9\\u05e8\\u05d5\\u05e9\\u05dc\\u05d9\\u05dd \\u05e9\\u05dc \\u05d6\\u05d4\\u05d1-Ofra Haza\", 2000.0], [\"\\u05d9\\u05e9 \\u05d0\\u05d9 \\u05e9\\u05dd-Noa\", 2011.0], [\"\\u05d9\\u05e9 \\u05dc\\u05d9 \\u05d7\\u05d5\\u05dc\\u05e9\\u05d4 \\u05dc\\u05e8\\u05e7\\u05d3\\u05e0\\u05d9\\u05dd-Riki Gal\", 1993.0], [\"\\u05d9\\u05e9 \\u05dc\\u05d9 \\u05e6\\u05d9\\u05e4\\u05d5\\u05e8 \\u05e7\\u05d8\\u05e0\\u05d4 \\u05d1\\u05dc\\u05d1-Noa Kirel\", 2019.0], [\"\\u05d9\\u05e9\\u05e0\\u05df \\u05d1\\u05e0\\u05d5\\u05ea-Dana International\", 1998.0], [\"\\u05db\\u05d0\\u05df-Orna & Moshe Datz\", 1994.0], [\"\\u05db\\u05dc\\u05e0\\u05d9\\u05d5\\u05ea-Shoshana Damari\", 2010.0], [\"\\u05db\\u05de\\u05d4 \\u05e9\\u05d0\\u05e0\\u05d9 \\u05d9\\u05e4\\u05d4 - 1985-Tzipi Shavit\", 1985.0], [\"\\u05db\\u05de\\u05d5 \\u05d9\\u05dd-Yehonatan Geffen\", 1978.0], [\"\\u05db\\u05de\\u05d5 \\u05e1\\u05d9\\u05e0\\u05d3\\u05e8\\u05dc\\u05d4-Sarit Hadad\", 1999.0], [\"\\u05db\\u05e9\\u05d0\\u05e0\\u05d9 \\u05d0\\u05d9\\u05ea\\u05da \\u05d0\\u05e0\\u05d9 \\u05db\\u05de\\u05d5 \\u05d3\\u05d2-Teapacks\", 2003.0], [\"\\u05dc\\u05d0 \\u05d3\\u05d9\\u05d1\\u05e8\\u05e0\\u05d5 \\u05e2\\u05d5\\u05d3 \\u05e2\\u05dc \\u05d0\\u05d4\\u05d1\\u05d4-Gidi Gov\", 1995.0], [\"\\u05dc\\u05d0\\u05d5\\u05e8\\u05da \\u05d4\\u05d9\\u05dd-Ofra Haza\", 2000.0], [\"\\u05dc\\u05d3\\u05de\\u05e2\\u05d5\\u05ea \\u05d9\\u05e9 \\u05e4\\u05d4-Sarit Hadad\", 1999.0], [\"\\u05dc\\u05d5 \\u05d9\\u05d4\\u05d9-Chava Alberstein\", 1973.0], [\"\\u05dc\\u05d5\\u05e0\\u05d3\\u05d5\\u05df-Chava Alberstein\", 1989.0], [\"\\u05dc\\u05d9\\u05dc\\u05d4-Yehudit Ravitz\", 1979.0], [\"\\u05dc\\u05d9\\u05dc\\u05d4 \\u05d8\\u05d5\\u05d1 \\u05d0\\u05d9\\u05e8\\u05d5\\u05e4\\u05d4-Dana International\", 1998.0], [\"\\u05dc\\u05d9\\u05dc \\u05d7\\u05e0\\u05d9\\u05d4-Hanan Yovel\", 2006.0], [\"\\u05dc\\u05dc\\u05d3\\u05d9\\u05df-Laladin\", 1994.0], [\"\\u05dc\\u05de\\u05d4 \\u05d4\\u05dc\\u05db\\u05ea \\u05de\\u05de\\u05e0\\u05d5-Teapacks\", 2003.0], [\"\\u05dc\\u05de\\u05d4 \\u05dc\\u05d9\\u05d1\\u05da \\u05db\\u05de\\u05d5 \\u05e7\\u05e8\\u05d7-Gidi Gov\", 2003.0], [\"\\u05dc\\u05de\\u05d7\\u05e8\\u05ea-Yehudit Ravitz\", 1993.0], [\"\\u05dc\\u05de\\u05d9 \\u05e9\\u05d0\\u05d9\\u05e0\\u05d5 \\u05de\\u05d0\\u05de\\u05d9\\u05df-Yehudit Ravitz\", 1984.0], [\"\\u05dc\\u05e2\\u05d5\\u05dc\\u05dd \\u05d1\\u05e2\\u05e7\\u05d1\\u05d5\\u05ea \\u05d4\\u05e9\\u05de\\u05e9-\\u05e9\\u05e8\\u05d9\", 2019.0], [\"\\u05dc\\u05e7\\u05d7\\u05ea \\u05d0\\u05ea \\u05d9\\u05d3\\u05d9 \\u05d1\\u05d9\\u05d3\\u05da-Yehudit Ravitz\", 1979.0], [\"\\u05de\\u05d2\\u05d3\\u05dc\\u05d5\\u05e8-Shoshana Damari\", 2012.0], [\"\\u05de\\u05d2\\u05d3\\u05dc\\u05d5\\u05e8-Mika Karni\", 2004.0], [\"\\u05de\\u05d4 \\u05d0\\u05ea\\u05d4 \\u05e8\\u05d5\\u05e6\\u05d4-Ella Lee\", 2020.0], [\"\\u05de\\u05d5\\u05e1\\u05d9\\u05e7\\u05d4 \\u05e0\\u05e9\\u05d0\\u05e8\\u05ea-Yardena Arazi\", 1998.0], [\"\\u05de\\u05d7\\u05e8\\u05d5\\u05d6\\u05ea \\u05e9\\u05d9\\u05e8\\u05d9 \\u05db\\u05e4\\u05e8-Ofra Haza\", 1985.0], [\"\\u05de\\u05d7\\u05e8\\u05d5\\u05d6\\u05ea \\u05e9\\u05d9\\u05e8\\u05d9 \\u05e8\\u05d5\\u05e2\\u05d9\\u05dd: \\u05d0.\\u05e9\\u05d9\\u05e8 \\u05d4\\u05e9\\u05d5\\u05de\\u05e8, \\u05d1.\\u05e8\\u05d5\\u05e2\\u05d4 \\u05d5\\u05e8\\u05d5\\u05e2\\u05d4, \\u05d2.\\u05e2\\u05e8\\u05d1 \\u05e9\\u05d7, \\u05d3.\\u05e9\\u05d9\\u05e8 \\u05d4\\u05db\\u05d3, \\u05d4.\\u05d3\\u05d1\\u05e7\\u05d4 \\u05e8\\u05e4\\u05d9\\u05d7-Ofra Haza\", 1983.0], [\"\\u05de\\u05d9\\u05d3\\u05d9\\u05d3 \\u05dc\\u05d0\\u05d5\\u05d9\\u05d1-Gitit Fisher\", 2019.0], [\"?\\u05de\\u05d9 \\u05d4\\u05de\\u05e0\\u05d8\\u05d4? \\u05de\\u05d9 \\u05d4\\u05de\\u05e1\\u05d8\\u05d9\\u05e7? \\u05de\\u05d9 \\u05d4\\u05e9\\u05d5\\u05e7\\u05d5\\u05dc\\u05d3-Shokolad Menta Mastik\", 2005.0], [\"\\u05de\\u05d9\\u05d8\\u05e9\\u05dc-Mika Karni\", 1997.0], [\"\\u05de\\u05d9 \\u05d9\\u05d5\\u05d3\\u05e2 \\u05de\\u05d3\\u05d5\\u05e2 \\u05d5\\u05dc\\u05de\\u05d4 \\u05dc\\u05d5\\u05d1\\u05e9\\u05ea \\u05d4\\u05d6\\u05d1\\u05e8\\u05d4 \\u05e4\\u05d9\\u05d2`\\u05de\\u05d4-Mashina\", 1989.0], [\"\\u05de\\u05d9\\u05e9\\u05d4\\u05d5-Yehudit Ravitz\", 1979.0], [\"\\u05de\\u05dc\\u05db\\u05ea \\u05d4\\u05e9\\u05d5\\u05e9\\u05e0\\u05d9\\u05dd-Eden Ben Zaken\", 2015.0], [\"\\u05de\\u05e1\\u05e7\\u05e8\\u05d4 \\u05e9\\u05d7\\u05d5\\u05e8\\u05d4-Dikla\", 2016.0], [\"\\u05de\\u05e4\\u05d7\\u05d3 \\u05e2\\u05dc\\u05d9\\u05d9\\u05da-Miri Mesika\", 2018.0], [\"\\u05de\\u05e4\\u05d7\\u05d3 \\u05e2\\u05dc\\u05d9\\u05d9\\u05da - OFFER NISSIM REMIX-Miri Mesika\", 2018.0], [\"\\u05de\\u05e7\\u05d4\\u05dc\\u05d4 \\u05e2\\u05dc\\u05d9\\u05d6\\u05d4-Chava Alberstein\", 1967.0], [\"\\u05de\\u05e7\\u05d4\\u05dc\\u05d4 \\u05e2\\u05dc\\u05d9\\u05d6\\u05d4-Dana International\", 2020.0], [\"\\u05de\\u05e9\\u05d9\\u05e8\\u05d9 \\u05d0\\u05e8\\u05e5 \\u05d0\\u05d4\\u05d1\\u05ea\\u05d9-Chava Alberstein\", 1970.0], [\"\\u05de\\u05ea\\u05d9 \\u05dc\\u05d7\\u05d6\\u05d5\\u05e8-\\u05d0\\u05ea\\u05e0\\u05d9\\u05e7\\u05e1\", 2011.0], [\"\\u05e0\\u05d2\\u05d9\\u05e2\\u05d4 \\u05d0\\u05d7\\u05ea \\u05e8\\u05db\\u05d4-Nurit Galron\", 1984.0], [\"\\u05e0\\u05d5\\u05e1\\u05e2\\u05ea \\u05dc\\u05e4\\u05d8\\u05e8\\u05d4-Dana International\", 1998.0], [\"\\u05e0\\u05d7-Matti Caspi\", 1974.0], [\"\\u05e0\\u05d9\\u05e6\\u05e0\\u05d9\\u05dd \\u05e0\\u05e8\\u05d0\\u05d5 \\u05d1\\u05d0\\u05e8\\u05e5-HaGevatron\", 1994.0], [\"\\u05e0\\u05e2\\u05de\\u05d9\\u05d3 \\u05e4\\u05e0\\u05d9 \\u05d9\\u05ea\\u05d5\\u05de\\u05d9\\u05dd-Yehudit Ravitz\", 1993.0], [\"\\u05e0\\u05e9\\u05d9\\u05dd \\u05e8\\u05d5\\u05e7\\u05d3\\u05d5\\u05ea-Chava Alberstein\", 1975.0], [\"\\u05e1\\u05d9\\u05d2\\u05dc\\u05d9\\u05d5\\u05ea-David Broza\", 1983.0], [\"\\u05e1\\u05dc\\u05d9\\u05d7\\u05d5\\u05ea-Yehudit Ravitz\", 1979.0], [\"\\u05e1\\u05e2\\u05d9\\u05d3\\u05d4 \\u05e1\\u05d5\\u05dc\\u05d8\\u05e0\\u05d4-Dana International\", 1998.0]], \"hovertemplate\": \"0=%{x}<br>1=%{y}<br>index=%{customdata[0]}<br>release year=%{marker.color}<extra></extra>\", \"legendgroup\": \"\", \"marker\": {\"color\": [1997.0, 1993.0, 1998.0, 1987.0, 2012.0, 2006.0, 1998.0, 2006.0, 1998.0, 2019.0, 2011.0, 1987.0, 2007.0, 2012.0, 2004.0, 1989.0, 1995.0, 1984.0, 1973.0, 1988.0, 2004.0, 2010.0, 2019.0, 1994.0, 2003.0, 1990.0, 1994.0, 1998.0, 1992.0, 1999.0, 1975.0, 1992.0, 1968.0, 1997.0, 2001.0, 2015.0, 1998.0, 2017.0, 1984.0, 1965.0, 2014.0, 1971.0, 2019.0, 2018.0, 2018.0, 2015.0, 2007.0, 1972.0, 2020.0, 2017.0, 1977.0, 2020.0, 2019.0, 2002.0, 1964.0, 2004.0, 1997.0, 2005.0, 2004.0, 2014.0, 2008.0, 2005.0, 1994.0, 2009.0, 2018.0, 2009.0, 1996.0, 2020.0, 2010.0, 1992.0, 2001.0, 2017.0, 2015.0, 1998.0, 2012.0, 2006.0, 2004.0, 2004.0, 2006.0, 2016.0, 1980.0, 2009.0, 2013.0, 2010.0, 2019.0, 2019.0, 1999.0, 2020.0, 1995.0, 2009.0, 2019.0, 1995.0, 2006.0, 1989.0, 2005.0, 1993.0, 2001.0, 1988.0, 1977.0, 2003.0, 1978.0, 1981.0, 1991.0, 1972.0, 1997.0, 1984.0, 1978.0, 2005.0, 2020.0, 1988.0, 1993.0, 2000.0, 2017.0, 2008.0, 1975.0, 2020.0, 1975.0, 1975.0, 1993.0, 1986.0, 2016.0, 1988.0, 1998.0, 1995.0, 2004.0, 2011.0, 2000.0, 1978.0, 1978.0, 1998.0, 1982.0, 1999.0, 1984.0, 1993.0, 1974.0, 1981.0, 1998.0, 2002.0, 1979.0, 1999.0, 1997.0, 2017.0, 2018.0, 2007.0, 1998.0, 2018.0, 2018.0, 1996.0, 2000.0, 1986.0, 2017.0, 2001.0, 1999.0, 2019.0, 2007.0, 2019.0, 2014.0, 1997.0, 2009.0, 2019.0, 2008.0, 2014.0, 2004.0, 2005.0, 1997.0, 2012.0, 1997.0, 2019.0, 2016.0, 1998.0, 2020.0, 2019.0, 2004.0, 2011.0, 1974.0, 2010.0, 1996.0, 2016.0, 2015.0, 2011.0, 2011.0, 2018.0, 2015.0, 2019.0, 2004.0, 2014.0, 2002.0, 2006.0, 1987.0, 1998.0, 2019.0, 2018.0, 2002.0, 2008.0, 2016.0, 2000.0, 1997.0, 1997.0, 2017.0, 2006.0, 2018.0, 2016.0, 2020.0, 1968.0, 2016.0, 2020.0, 2007.0, 1999.0, 2019.0, 2001.0, 2005.0, 1973.0, 1999.0, 2008.0, 1972.0, 2020.0, 2020.0, 2014.0, 2009.0, 2016.0, 2020.0, 2008.0, 1989.0, 2006.0, 2014.0, 2009.0, 2014.0, 2018.0, 2008.0, 2014.0, 2012.0, 2012.0, 1998.0, 2011.0, 2020.0, 2001.0, 2011.0, 1999.0, 2019.0, 2017.0, 1972.0, 2007.0, 1998.0, 2019.0, 2019.0, 2016.0, 2019.0, 2016.0, 1964.0, 2012.0, 1999.0, 2014.0, 2010.0, 2014.0, 2003.0, 1998.0, 1997.0, 2009.0, 1995.0, 2020.0, 2019.0, 1993.0, 2010.0, 2012.0, 2009.0, 2011.0, 2014.0, 2009.0, 1994.0, 1995.0, 2012.0, 2002.0, 2011.0, 2003.0, 2012.0, 2018.0, 2005.0, 1999.0, 2018.0, 1999.0, 2006.0, 2018.0, 2020.0, 2019.0, 2003.0, 2016.0, 2017.0, 2016.0, 2016.0, 2015.0, 2019.0, 2019.0, 2019.0, 2013.0, 2013.0, 2020.0, 2012.0, 2008.0, 2016.0, 2006.0, 2017.0, 2013.0, 2001.0, 1988.0, 1999.0, 2001.0, 2019.0, 1995.0, 2007.0, 2019.0, 1987.0, 2010.0, 2007.0, 2005.0, 1997.0, 2017.0, 2013.0, 1984.0, 1998.0, 1988.0, 2018.0, 1979.0, 1972.0, 2007.0, 2013.0, 1994.0, 2010.0, 2019.0, 2016.0, 1995.0, 1975.0, 2008.0, 2020.0, 1998.0, 2010.0, 2017.0, 1987.0, 2000.0, 1990.0, 1986.0, 1994.0, 1990.0, 1983.0, 1960.0, 2019.0, 1986.0, 2010.0, 2016.0, 2009.0, 2015.0, 1972.0, 2018.0, 1993.0, 2000.0, 1999.0, 1995.0, 1999.0, 1983.0, 2007.0, 1973.0, 1994.0, 2000.0, 2011.0, 1993.0, 2019.0, 1998.0, 1994.0, 2010.0, 1985.0, 1978.0, 1999.0, 2003.0, 1995.0, 2000.0, 1999.0, 1973.0, 1989.0, 1979.0, 1998.0, 2006.0, 1994.0, 2003.0, 2003.0, 1993.0, 1984.0, 2019.0, 1979.0, 2012.0, 2004.0, 2020.0, 1998.0, 1985.0, 1983.0, 2019.0, 2005.0, 1997.0, 1989.0, 1979.0, 2015.0, 2016.0, 2018.0, 2018.0, 1967.0, 2020.0, 1970.0, 2011.0, 1984.0, 1998.0, 1974.0, 1994.0, 1993.0, 1975.0, 1983.0, 1979.0, 1998.0], \"coloraxis\": \"coloraxis\", \"symbol\": \"circle\"}, \"mode\": \"markers\", \"name\": \"\", \"orientation\": \"v\", \"showlegend\": false, \"type\": \"scatter\", \"x\": [12.292874336242676, 9.45177936553955, 19.84664535522461, 17.827919006347656, -3.6935489177703857, 7.238928318023682, -1.8820278644561768, -16.63249397277832, 4.142313003540039, 13.945197105407715, 17.22904396057129, 1.790770411491394, 1.697436809539795, -3.4595940113067627, -6.400298118591309, 3.178473472595215, 9.747447967529297, 11.19286823272705, -4.9179229736328125, 9.42416000366211, -8.622923851013184, 10.676187515258789, -9.021841049194336, 10.427739143371582, 2.1072897911071777, 9.044283866882324, 6.232324600219727, 14.600751876831055, 6.9928436279296875, -1.1251866817474365, 10.575051307678223, -0.6558078527450562, -18.134496688842773, 3.934767246246338, 0.7282183766365051, -19.462417602539062, -7.739413738250732, -12.682906150817871, -12.872700691223145, 14.746684074401855, -0.7637083530426025, 16.791942596435547, -2.2880661487579346, -3.0848512649536133, 8.435617446899414, -1.094887614250183, 4.960929870605469, -18.468780517578125, -6.956193447113037, -10.983583450317383, 17.50129508972168, -4.961556911468506, -13.336745262145996, -13.345501899719238, 13.350997924804688, 1.510130763053894, 11.224967956542969, -11.913166046142578, -10.16059398651123, 10.170001983642578, 16.301042556762695, -0.019770346581935883, 9.046690940856934, -10.017969131469727, -14.098066329956055, -3.5383996963500977, -12.545764923095703, -12.892858505249023, -19.801990509033203, 11.170238494873047, -11.709491729736328, -9.990720748901367, 7.434532642364502, -0.5836392045021057, -2.7058627605438232, -0.784670352935791, 15.5758638381958, 0.41980963945388794, -15.320719718933105, -6.355106830596924, 17.12761116027832, 7.702737331390381, -3.9626402854919434, -13.547189712524414, -11.169588088989258, -6.705352783203125, -12.093942642211914, 7.7195634841918945, -3.7360289096832275, -5.917665958404541, 15.92926025390625, -3.0159029960632324, 1.4945937395095825, 7.44035005569458, -4.27050256729126, 5.021292686462402, -6.442781448364258, 11.408266067504883, -10.914915084838867, 7.123414516448975, 17.923582077026367, 7.733282566070557, 9.88122272491455, 13.172516822814941, -0.6204068660736084, 14.900683403015137, 17.9282283782959, 4.048490524291992, 0.5263293385505676, 7.406078338623047, -6.057877540588379, 0.205532044172287, -5.366506099700928, 16.488571166992188, 4.238842487335205, -17.459453582763672, -1.0320109128952026, 13.744688987731934, 10.497666358947754, 8.286823272705078, 14.387205123901367, 10.58279800415039, 19.19150161743164, 8.583473205566406, 4.470032215118408, -19.958078384399414, 11.553086280822754, 9.150188446044922, 4.765073776245117, 10.423264503479004, 3.740699291229248, 9.597850799560547, -0.21006841957569122, -5.675998687744141, 7.780201435089111, 1.8510822057724, -2.4777872562408447, 13.075114250183105, 17.861042022705078, 2.7467360496520996, -4.723978042602539, -17.19390869140625, -9.789288520812988, -6.823647975921631, -1.7659565210342407, 6.647093296051025, 4.769808292388916, -0.32333600521087646, -12.304057121276855, 2.422511100769043, -13.461917877197266, 14.480889320373535, -10.221348762512207, -11.921745300292969, -16.701679229736328, -4.878472328186035, 18.93975067138672, 14.315927505493164, -10.201753616333008, -2.8857522010803223, -3.282886028289795, -1.7503081560134888, 9.631382942199707, -6.72285795211792, 15.04443645477295, -15.369546890258789, -1.1358342170715332, -18.554479598999023, -7.220739364624023, 1.588913083076477, 1.978379249572754, -9.289839744567871, -12.240996360778809, -5.313692092895508, 16.619430541992188, -7.6587629318237305, -2.4077937602996826, 5.878711700439453, 5.781306266784668, -3.7111153602600098, -6.767675399780273, 1.5350598096847534, -20.987720489501953, -0.5556000471115112, -9.62218189239502, -8.691688537597656, -1.7517118453979492, -13.29025650024414, -6.293792247772217, 9.651446342468262, 0.9064966440200806, -13.417553901672363, 12.04934310913086, 6.4184794425964355, 3.417435884475708, 11.334001541137695, -20.894075393676758, -17.337448120117188, -9.205303192138672, -8.061707496643066, -22.09760093688965, 2.479862689971924, -14.618200302124023, 3.0841352939605713, -12.92914867401123, 3.7313103675842285, -16.354148864746094, 8.434741973876953, 0.7879226207733154, -1.439944863319397, -17.57361602783203, -11.339160919189453, -0.005530931055545807, 1.8725650310516357, 6.458500385284424, -5.33063268661499, -16.120986938476562, -3.6362359523773193, -15.628708839416504, -14.117389678955078, -7.903402805328369, 3.8253931999206543, 8.07198715209961, -16.018035888671875, -9.854020118713379, -14.799708366394043, 4.929172515869141, -2.9672482013702393, -20.914709091186523, -2.7241594791412354, 3.1658856868743896, -1.390251874923706, 1.0646562576293945, -6.476027965545654, -9.992498397827148, -5.909144401550293, -5.986043453216553, -12.395708084106445, -11.520589828491211, -10.972872734069824, 14.08345890045166, -15.370211601257324, -3.331331491470337, -7.422152519226074, -10.225608825683594, -5.171367168426514, -8.918484687805176, 10.271971702575684, 6.370713233947754, 15.103055000305176, -13.143745422363281, -15.369272232055664, 1.2284116744995117, 4.242461204528809, -9.873055458068848, -3.2413556575775146, -18.82625389099121, 3.9012160301208496, 4.075283050537109, -10.93568229675293, -10.937090873718262, -4.176780700683594, -10.782218933105469, -11.081254005432129, -0.6336471438407898, -3.7091879844665527, -19.84130859375, 2.951871156692505, 4.588812351226807, 0.4071228802204132, 2.6229605674743652, 6.8022871017456055, -1.9612849950790405, -11.296896934509277, -18.93616485595703, -8.3816499710083, -0.7625053524971008, 5.304608345031738, -14.422959327697754, 3.7426249980926514, -6.357041835784912, -0.6362277269363403, -11.87730598449707, -9.778302192687988, 2.8183305263519287, -12.34748649597168, 15.530688285827637, 5.3255205154418945, -9.000714302062988, -15.337323188781738, -18.710922241210938, -6.229462623596191, -6.229462623596191, 0.3449428081512451, 0.4407918155193329, 0.037362854927778244, 9.776445388793945, -15.327777862548828, 4.628262996673584, 10.0684175491333, -6.130843162536621, 2.8025929927825928, -13.276041030883789, 2.0510568618774414, -5.661607265472412, -7.104560852050781, 11.177315711975098, 2.6628875732421875, 5.501153945922852, -3.073460817337036, 1.6653101444244385, -7.1357011795043945, -12.056478500366211, 12.047226905822754, 4.53590202331543, -2.9007411003112793, 2.2620253562927246, -4.920607089996338, -16.951435089111328, 9.323396682739258, 12.26069164276123, 17.573392868041992, 11.640619277954102, 4.089378833770752, 12.615082740783691, 7.167909145355225, 10.966086387634277, -2.464954137802124, 12.738031387329102, 15.547757148742676, 11.429816246032715, 8.873350143432617, 4.156792640686035, 20.798267364501953, 9.89962387084961, -1.078724980354309, 15.826214790344238, 4.918238639831543, 6.352479457855225, 11.177271842956543, 11.369324684143066, 3.424436569213867, 13.830682754516602, -19.769752502441406, 5.960724830627441, -16.534299850463867, -8.012009620666504, 4.878280162811279, 4.317606449127197, 2.774104595184326, 6.73182487487793, -16.20022964477539, 10.789929389953613, 1.525389313697815, 6.896751880645752, 8.1901216506958, 2.3136022090911865, 15.936038970947266, 4.960595607757568, 2.9193997383117676, -7.6901726722717285, 15.335227012634277, 14.522011756896973, 1.3421533107757568, -4.588115215301514, -9.856650352478027, -8.540489196777344, 14.958545684814453, 9.725916862487793, 11.728750228881836, -12.374947547912598, -11.308320045471191, 14.261651992797852, 12.981695175170898, 4.785654067993164, 9.544438362121582, 11.603203773498535, 13.913323402404785, -3.5978450775146484, 16.885906219482422, 10.407242774963379, -11.432612419128418, 15.514384269714355, 9.65063190460205, 16.42143440246582, 8.726268768310547, 13.162825584411621, 3.3252170085906982, -21.173629760742188, -5.1853928565979, -21.804718017578125, 14.270045280456543, 14.770780563354492, 6.159865856170654, 8.371729850769043, 10.196675300598145, -16.188583374023438, 15.599449157714844, -3.4748196601867676, -5.611607551574707, -16.011077880859375, -1.8471887111663818, -0.4774773120880127, -12.63941764831543, 2.250723123550415, -7.848202705383301, 11.2540864944458, -6.8587327003479, 1.6718021631240845, 12.37951374053955, 5.85800313949585, -18.232650756835938, 6.212401866912842, 13.676202774047852, 2.5103418827056885], \"xaxis\": \"x\", \"y\": [13.670344352722168, -7.555259704589844, 7.6337175369262695, 6.197037696838379, -8.126775741577148, 12.980796813964844, 15.722270965576172, -15.885476112365723, 5.2297539710998535, 20.39142608642578, 7.506020545959473, 12.46003246307373, 9.826345443725586, -5.276004314422607, 14.812358856201172, 2.638056755065918, 12.011665344238281, 0.9892438650131226, 8.646341323852539, -5.659642696380615, 4.686906814575195, 14.100372314453125, -10.164852142333984, -15.05801010131836, 16.032339096069336, -11.484811782836914, -2.5712180137634277, 14.15150260925293, 0.5341729521751404, 1.7199876308441162, -13.931845664978027, -2.0446784496307373, -20.920116424560547, -10.63398265838623, 15.747466087341309, -15.693394660949707, -5.410482883453369, -4.981800079345703, -17.359333038330078, -15.381787300109863, -1.3667429685592651, -8.235139846801758, 18.538076400756836, -12.197583198547363, 7.782160758972168, -15.360267639160156, -15.2505521774292, -8.7571382522583, 0.43687155842781067, 7.2020111083984375, 9.153210639953613, 4.194484233856201, -8.849286079406738, 2.9856209754943848, -7.222501277923584, 19.805553436279297, -9.209027290344238, 0.7483185529708862, 0.23184385895729065, 8.828324317932129, -1.0275964736938477, 7.68064022064209, 13.2849760055542, -6.628874778747559, -18.2886962890625, 9.95645523071289, 0.8894480466842651, 13.1495361328125, -15.095308303833008, 11.061881065368652, -6.491122245788574, 1.6871583461761475, 7.182174205780029, -0.6928137540817261, 6.987216949462891, 12.469399452209473, -4.5100789070129395, 21.019439697265625, 1.2623419761657715, -0.6613938212394714, 4.411549091339111, 12.050987243652344, 6.115403652191162, -13.95914363861084, -4.27311897277832, -17.695432662963867, -7.077777862548828, -10.524443626403809, -11.515880584716797, -10.775338172912598, -12.514273643493652, 8.570155143737793, 0.6397281289100647, -5.310151100158691, -9.833075523376465, 1.1652408838272095, 8.093484878540039, 2.2332923412323, -19.864315032958984, -15.260540008544922, -2.687366485595703, 11.148028373718262, -9.25000286102295, -12.257383346557617, 15.74027156829834, 9.97732162475586, -1.7088552713394165, -3.3019235134124756, 14.783945083618164, -3.6551642417907715, 6.290440082550049, 5.347621440887451, -6.449639797210693, 12.18634033203125, 13.834188461303711, -15.745482444763184, -12.433074951171875, -5.452768325805664, -7.839282989501953, -7.23897123336792, -6.570887565612793, -5.236198425292969, 8.16525936126709, 0.15339815616607666, 6.540578365325928, -12.626304626464844, 8.92705249786377, 1.5702087879180908, -17.385812759399414, 16.03962516784668, 14.666942596435547, -13.898896217346191, -17.754066467285156, 7.363369941711426, -12.641549110412598, -4.242180824279785, 5.413033485412598, 13.702744483947754, 0.8919674754142761, 21.401538848876953, -9.75550365447998, -13.708914756774902, 7.77903413772583, -15.93117904663086, 1.874777913093567, -16.034088134765625, 11.788399696350098, 1.7729074954986572, -2.7359721660614014, 2.948826313018799, -18.46474266052246, 20.508769989013672, -7.63308048248291, 9.63859748840332, 1.4437143802642822, -16.746417999267578, 10.383151054382324, -10.50843334197998, -3.977747917175293, 5.010812282562256, 11.102232933044434, 10.589485168457031, -1.7079663276672363, -6.049482822418213, -12.684937477111816, -18.48250961303711, -9.628279685974121, -15.025355339050293, 10.448873519897461, -16.3936824798584, -17.052330017089844, -3.219606637954712, -4.680886745452881, -5.106525897979736, 5.227343559265137, -14.53988265991211, -5.8896942138671875, 19.822099685668945, 19.82146644592285, -2.2320663928985596, -9.580230712890625, -11.772211074829102, -14.471590995788574, 6.229757308959961, 7.247135639190674, 8.056687355041504, 16.587743759155273, -16.276193618774414, 5.460750102996826, 14.099516868591309, -7.641316890716553, -3.1269733905792236, -3.702360153198242, 5.255105495452881, 7.186981201171875, 7.201718807220459, -15.352009773254395, -19.25331687927246, -0.5104764699935913, 3.4540460109710693, -14.81568717956543, 7.1410417556762695, -12.752509117126465, -3.8160548210144043, -15.025001525878906, 19.502904891967773, -4.744636058807373, 6.638149738311768, 21.93930435180664, -9.33664321899414, -4.900430679321289, -19.576953887939453, 20.727231979370117, 22.928176879882812, 16.601993560791016, 12.459389686584473, -2.927855968475342, 3.980299234390259, -11.198807716369629, -16.476442337036133, -8.13323974609375, 18.97897720336914, -2.0840706825256348, -5.507627010345459, 11.984173774719238, 4.36959981918335, 11.272160530090332, -0.04161294177174568, -16.653526306152344, 17.599491119384766, 9.810401916503906, 9.790263175964355, 6.327442169189453, -9.58810806274414, 9.220979690551758, -16.010908126831055, 13.016215324401855, -11.606217384338379, 4.093334197998047, -3.2625732421875, -8.140625, 8.63135051727295, -6.300552845001221, -6.977048873901367, -2.7720344066619873, -8.129667282104492, 1.7078490257263184, 18.041940689086914, -17.489099502563477, -9.493309020996094, 2.2030417919158936, -16.44451141357422, 6.8562750816345215, -6.542516231536865, 5.676486492156982, 14.873824119567871, -19.07887840270996, 17.724931716918945, -14.450725555419922, 2.747195243835449, 2.7461113929748535, -7.699857711791992, 1.3683452606201172, 5.785401344299316, -2.7356739044189453, 10.099645614624023, -13.404390335083008, -17.381603240966797, -13.878983497619629, 3.1350257396698, 9.63560962677002, 8.803241729736328, 14.404449462890625, -7.392077445983887, -17.15122413635254, -8.755062103271484, 12.837564468383789, 16.245357513427734, -3.5261106491088867, 22.33570671081543, -16.481653213500977, 10.261898040771484, 11.300527572631836, 11.906554222106934, 19.123672485351562, -14.995966911315918, 3.411097764968872, 22.56763458251953, -10.577332496643066, -12.647273063659668, -14.405868530273438, -3.0609116554260254, -3.0609116554260254, 0.056070275604724884, 3.6173784732818604, 18.011098861694336, 22.356521606445312, 9.134177207946777, -18.246049880981445, 7.6649627685546875, -6.607812881469727, 19.76930046081543, -0.9699515700340271, -0.7314378619194031, 2.492098808288574, -14.659035682678223, 8.287651062011719, -14.367334365844727, 24.023664474487305, 13.354409217834473, 3.1737990379333496, 4.488255977630615, 5.109200954437256, 15.20021915435791, -9.552753448486328, 2.293790340423584, -12.987396240234375, 7.554701805114746, -19.826478958129883, -4.770351409912109, -8.300213813781738, 0.4414798319339752, 1.2683087587356567, 6.315443515777588, -11.387663841247559, -3.151679039001465, 2.4698851108551025, 3.543212413787842, -9.488849639892578, 6.057741641998291, -11.007266998291016, 15.806478500366211, 23.99281120300293, 6.868047714233398, -16.82811164855957, 7.264688014984131, 11.193329811096191, 20.933202743530273, -11.594778060913086, -12.433684349060059, -5.5113325119018555, -8.754762649536133, -13.778409004211426, -0.8310818672180176, 17.554624557495117, -20.254037857055664, 5.474175930023193, -11.15032958984375, -11.72674560546875, -11.772571563720703, 14.657831192016602, -12.943796157836914, 11.896666526794434, 12.71046257019043, 7.180301666259766, 0.32147344946861267, 21.986377716064453, -1.8213186264038086, -8.371159553527832, 16.332338333129883, 6.237237930297852, 8.222138404846191, -0.8135433197021484, 2.1326324939727783, 3.0630085468292236, 3.9341189861297607, 3.293091297149658, -6.249000549316406, 22.414369583129883, -13.871933937072754, -0.9786723256111145, -1.8402987718582153, 4.367794990539551, 5.867285251617432, -7.728516101837158, -15.323657035827637, -6.256485462188721, -11.692187309265137, 14.851157188415527, 10.630219459533691, 18.269458770751953, -0.5721563100814819, 9.55213737487793, -7.695200443267822, 0.2546544075012207, 13.036484718322754, -14.182032585144043, -12.989466667175293, -16.86832046508789, 0.4199049472808838, -15.167291641235352, 7.181210041046143, 7.127368450164795, 23.19147300720215, 2.2556393146514893, -12.033060073852539, 8.177638053894043, 0.16435115039348602, 1.8231583833694458, -11.116072654724121, -3.521165370941162, 9.279780387878418, -3.627765655517578, 12.297277450561523, -10.848403930664062, 0.5731496214866638, -15.954172134399414, 3.604947328567505, 17.326416015625, 0.8875870704650879, -13.352208137512207, 1.7523953914642334, 3.048520803451538, -8.878199577331543, 0.6714288592338562], \"yaxis\": \"y\"}],                        {\"coloraxis\": {\"colorbar\": {\"title\": {\"text\": \"release year\"}}, \"colorscale\": [[0.0, \"#0d0887\"], [0.1111111111111111, \"#46039f\"], [0.2222222222222222, \"#7201a8\"], [0.3333333333333333, \"#9c179e\"], [0.4444444444444444, \"#bd3786\"], [0.5555555555555556, \"#d8576b\"], [0.6666666666666666, \"#ed7953\"], [0.7777777777777778, \"#fb9f3a\"], [0.8888888888888888, \"#fdca26\"], [1.0, \"#f0f921\"]]}, \"legend\": {\"tracegroupgap\": 0}, \"margin\": {\"t\": 60}, \"template\": {\"data\": {\"bar\": [{\"error_x\": {\"color\": \"#2a3f5f\"}, \"error_y\": {\"color\": \"#2a3f5f\"}, \"marker\": {\"line\": {\"color\": \"#E5ECF6\", \"width\": 0.5}}, \"type\": \"bar\"}], \"barpolar\": [{\"marker\": {\"line\": {\"color\": \"#E5ECF6\", \"width\": 0.5}}, \"type\": \"barpolar\"}], \"carpet\": [{\"aaxis\": {\"endlinecolor\": \"#2a3f5f\", \"gridcolor\": \"white\", \"linecolor\": \"white\", \"minorgridcolor\": \"white\", \"startlinecolor\": \"#2a3f5f\"}, \"baxis\": {\"endlinecolor\": \"#2a3f5f\", \"gridcolor\": \"white\", \"linecolor\": \"white\", \"minorgridcolor\": \"white\", \"startlinecolor\": \"#2a3f5f\"}, \"type\": \"carpet\"}], \"choropleth\": [{\"colorbar\": {\"outlinewidth\": 0, \"ticks\": \"\"}, \"type\": \"choropleth\"}], \"contour\": [{\"colorbar\": {\"outlinewidth\": 0, \"ticks\": \"\"}, \"colorscale\": [[0.0, \"#0d0887\"], [0.1111111111111111, \"#46039f\"], [0.2222222222222222, \"#7201a8\"], [0.3333333333333333, \"#9c179e\"], [0.4444444444444444, \"#bd3786\"], [0.5555555555555556, \"#d8576b\"], [0.6666666666666666, \"#ed7953\"], [0.7777777777777778, \"#fb9f3a\"], [0.8888888888888888, \"#fdca26\"], [1.0, \"#f0f921\"]], \"type\": \"contour\"}], \"contourcarpet\": [{\"colorbar\": {\"outlinewidth\": 0, \"ticks\": \"\"}, \"type\": \"contourcarpet\"}], \"heatmap\": [{\"colorbar\": {\"outlinewidth\": 0, \"ticks\": \"\"}, \"colorscale\": [[0.0, \"#0d0887\"], [0.1111111111111111, \"#46039f\"], [0.2222222222222222, \"#7201a8\"], [0.3333333333333333, \"#9c179e\"], [0.4444444444444444, \"#bd3786\"], [0.5555555555555556, \"#d8576b\"], [0.6666666666666666, \"#ed7953\"], [0.7777777777777778, \"#fb9f3a\"], [0.8888888888888888, \"#fdca26\"], [1.0, \"#f0f921\"]], \"type\": \"heatmap\"}], \"heatmapgl\": [{\"colorbar\": {\"outlinewidth\": 0, \"ticks\": \"\"}, \"colorscale\": [[0.0, \"#0d0887\"], [0.1111111111111111, \"#46039f\"], [0.2222222222222222, \"#7201a8\"], [0.3333333333333333, \"#9c179e\"], [0.4444444444444444, \"#bd3786\"], [0.5555555555555556, \"#d8576b\"], [0.6666666666666666, \"#ed7953\"], [0.7777777777777778, \"#fb9f3a\"], [0.8888888888888888, \"#fdca26\"], [1.0, \"#f0f921\"]], \"type\": \"heatmapgl\"}], \"histogram\": [{\"marker\": {\"colorbar\": {\"outlinewidth\": 0, \"ticks\": \"\"}}, \"type\": \"histogram\"}], \"histogram2d\": [{\"colorbar\": {\"outlinewidth\": 0, \"ticks\": \"\"}, \"colorscale\": [[0.0, \"#0d0887\"], [0.1111111111111111, \"#46039f\"], [0.2222222222222222, \"#7201a8\"], [0.3333333333333333, \"#9c179e\"], [0.4444444444444444, \"#bd3786\"], [0.5555555555555556, \"#d8576b\"], [0.6666666666666666, \"#ed7953\"], [0.7777777777777778, \"#fb9f3a\"], [0.8888888888888888, \"#fdca26\"], [1.0, \"#f0f921\"]], \"type\": \"histogram2d\"}], \"histogram2dcontour\": [{\"colorbar\": {\"outlinewidth\": 0, \"ticks\": \"\"}, \"colorscale\": [[0.0, \"#0d0887\"], [0.1111111111111111, \"#46039f\"], [0.2222222222222222, \"#7201a8\"], [0.3333333333333333, \"#9c179e\"], [0.4444444444444444, \"#bd3786\"], [0.5555555555555556, \"#d8576b\"], [0.6666666666666666, \"#ed7953\"], [0.7777777777777778, \"#fb9f3a\"], [0.8888888888888888, \"#fdca26\"], [1.0, \"#f0f921\"]], \"type\": \"histogram2dcontour\"}], \"mesh3d\": [{\"colorbar\": {\"outlinewidth\": 0, \"ticks\": \"\"}, \"type\": \"mesh3d\"}], \"parcoords\": [{\"line\": {\"colorbar\": {\"outlinewidth\": 0, \"ticks\": \"\"}}, \"type\": \"parcoords\"}], \"pie\": [{\"automargin\": true, \"type\": \"pie\"}], \"scatter\": [{\"marker\": {\"colorbar\": {\"outlinewidth\": 0, \"ticks\": \"\"}}, \"type\": \"scatter\"}], \"scatter3d\": [{\"line\": {\"colorbar\": {\"outlinewidth\": 0, \"ticks\": \"\"}}, \"marker\": {\"colorbar\": {\"outlinewidth\": 0, \"ticks\": \"\"}}, \"type\": \"scatter3d\"}], \"scattercarpet\": [{\"marker\": {\"colorbar\": {\"outlinewidth\": 0, \"ticks\": \"\"}}, \"type\": \"scattercarpet\"}], \"scattergeo\": [{\"marker\": {\"colorbar\": {\"outlinewidth\": 0, \"ticks\": \"\"}}, \"type\": \"scattergeo\"}], \"scattergl\": [{\"marker\": {\"colorbar\": {\"outlinewidth\": 0, \"ticks\": \"\"}}, \"type\": \"scattergl\"}], \"scattermapbox\": [{\"marker\": {\"colorbar\": {\"outlinewidth\": 0, \"ticks\": \"\"}}, \"type\": \"scattermapbox\"}], \"scatterpolar\": [{\"marker\": {\"colorbar\": {\"outlinewidth\": 0, \"ticks\": \"\"}}, \"type\": \"scatterpolar\"}], \"scatterpolargl\": [{\"marker\": {\"colorbar\": {\"outlinewidth\": 0, \"ticks\": \"\"}}, \"type\": \"scatterpolargl\"}], \"scatterternary\": [{\"marker\": {\"colorbar\": {\"outlinewidth\": 0, \"ticks\": \"\"}}, \"type\": \"scatterternary\"}], \"surface\": [{\"colorbar\": {\"outlinewidth\": 0, \"ticks\": \"\"}, \"colorscale\": [[0.0, \"#0d0887\"], [0.1111111111111111, \"#46039f\"], [0.2222222222222222, \"#7201a8\"], [0.3333333333333333, \"#9c179e\"], [0.4444444444444444, \"#bd3786\"], [0.5555555555555556, \"#d8576b\"], [0.6666666666666666, \"#ed7953\"], [0.7777777777777778, \"#fb9f3a\"], [0.8888888888888888, \"#fdca26\"], [1.0, \"#f0f921\"]], \"type\": \"surface\"}], \"table\": [{\"cells\": {\"fill\": {\"color\": \"#EBF0F8\"}, \"line\": {\"color\": \"white\"}}, \"header\": {\"fill\": {\"color\": \"#C8D4E3\"}, \"line\": {\"color\": \"white\"}}, \"type\": \"table\"}]}, \"layout\": {\"annotationdefaults\": {\"arrowcolor\": \"#2a3f5f\", \"arrowhead\": 0, \"arrowwidth\": 1}, \"autotypenumbers\": \"strict\", \"coloraxis\": {\"colorbar\": {\"outlinewidth\": 0, \"ticks\": \"\"}}, \"colorscale\": {\"diverging\": [[0, \"#8e0152\"], [0.1, \"#c51b7d\"], [0.2, \"#de77ae\"], [0.3, \"#f1b6da\"], [0.4, \"#fde0ef\"], [0.5, \"#f7f7f7\"], [0.6, \"#e6f5d0\"], [0.7, \"#b8e186\"], [0.8, \"#7fbc41\"], [0.9, \"#4d9221\"], [1, \"#276419\"]], \"sequential\": [[0.0, \"#0d0887\"], [0.1111111111111111, \"#46039f\"], [0.2222222222222222, \"#7201a8\"], [0.3333333333333333, \"#9c179e\"], [0.4444444444444444, \"#bd3786\"], [0.5555555555555556, \"#d8576b\"], [0.6666666666666666, \"#ed7953\"], [0.7777777777777778, \"#fb9f3a\"], [0.8888888888888888, \"#fdca26\"], [1.0, \"#f0f921\"]], \"sequentialminus\": [[0.0, \"#0d0887\"], [0.1111111111111111, \"#46039f\"], [0.2222222222222222, \"#7201a8\"], [0.3333333333333333, \"#9c179e\"], [0.4444444444444444, \"#bd3786\"], [0.5555555555555556, \"#d8576b\"], [0.6666666666666666, \"#ed7953\"], [0.7777777777777778, \"#fb9f3a\"], [0.8888888888888888, \"#fdca26\"], [1.0, \"#f0f921\"]]}, \"colorway\": [\"#636efa\", \"#EF553B\", \"#00cc96\", \"#ab63fa\", \"#FFA15A\", \"#19d3f3\", \"#FF6692\", \"#B6E880\", \"#FF97FF\", \"#FECB52\"], \"font\": {\"color\": \"#2a3f5f\"}, \"geo\": {\"bgcolor\": \"white\", \"lakecolor\": \"white\", \"landcolor\": \"#E5ECF6\", \"showlakes\": true, \"showland\": true, \"subunitcolor\": \"white\"}, \"hoverlabel\": {\"align\": \"left\"}, \"hovermode\": \"closest\", \"mapbox\": {\"style\": \"light\"}, \"paper_bgcolor\": \"white\", \"plot_bgcolor\": \"#E5ECF6\", \"polar\": {\"angularaxis\": {\"gridcolor\": \"white\", \"linecolor\": \"white\", \"ticks\": \"\"}, \"bgcolor\": \"#E5ECF6\", \"radialaxis\": {\"gridcolor\": \"white\", \"linecolor\": \"white\", \"ticks\": \"\"}}, \"scene\": {\"xaxis\": {\"backgroundcolor\": \"#E5ECF6\", \"gridcolor\": \"white\", \"gridwidth\": 2, \"linecolor\": \"white\", \"showbackground\": true, \"ticks\": \"\", \"zerolinecolor\": \"white\"}, \"yaxis\": {\"backgroundcolor\": \"#E5ECF6\", \"gridcolor\": \"white\", \"gridwidth\": 2, \"linecolor\": \"white\", \"showbackground\": true, \"ticks\": \"\", \"zerolinecolor\": \"white\"}, \"zaxis\": {\"backgroundcolor\": \"#E5ECF6\", \"gridcolor\": \"white\", \"gridwidth\": 2, \"linecolor\": \"white\", \"showbackground\": true, \"ticks\": \"\", \"zerolinecolor\": \"white\"}}, \"shapedefaults\": {\"line\": {\"color\": \"#2a3f5f\"}}, \"ternary\": {\"aaxis\": {\"gridcolor\": \"white\", \"linecolor\": \"white\", \"ticks\": \"\"}, \"baxis\": {\"gridcolor\": \"white\", \"linecolor\": \"white\", \"ticks\": \"\"}, \"bgcolor\": \"#E5ECF6\", \"caxis\": {\"gridcolor\": \"white\", \"linecolor\": \"white\", \"ticks\": \"\"}}, \"title\": {\"x\": 0.05}, \"xaxis\": {\"automargin\": true, \"gridcolor\": \"white\", \"linecolor\": \"white\", \"ticks\": \"\", \"title\": {\"standoff\": 15}, \"zerolinecolor\": \"white\", \"zerolinewidth\": 2}, \"yaxis\": {\"automargin\": true, \"gridcolor\": \"white\", \"linecolor\": \"white\", \"ticks\": \"\", \"title\": {\"standoff\": 15}, \"zerolinecolor\": \"white\", \"zerolinewidth\": 2}}}, \"xaxis\": {\"anchor\": \"y\", \"domain\": [0.0, 1.0], \"title\": {\"text\": \"0\"}}, \"yaxis\": {\"anchor\": \"x\", \"domain\": [0.0, 1.0], \"title\": {\"text\": \"1\"}}},                        {\"responsive\": true}                    ).then(function(){\n",
       "                            \n",
       "var gd = document.getElementById('458f8067-49fd-41c5-82c3-49bb15f0a2bb');\n",
       "var x = new MutationObserver(function (mutations, observer) {{\n",
       "        var display = window.getComputedStyle(gd).display;\n",
       "        if (!display || display === 'none') {{\n",
       "            console.log([gd, 'removed!']);\n",
       "            Plotly.purge(gd);\n",
       "            observer.disconnect();\n",
       "        }}\n",
       "}});\n",
       "\n",
       "// Listen for the removal of the full notebook cells\n",
       "var notebookContainer = gd.closest('#notebook-container');\n",
       "if (notebookContainer) {{\n",
       "    x.observe(notebookContainer, {childList: true});\n",
       "}}\n",
       "\n",
       "// Listen for the clearing of the current output cell\n",
       "var outputEl = gd.closest('.output');\n",
       "if (outputEl) {{\n",
       "    x.observe(outputEl, {childList: true});\n",
       "}}\n",
       "\n",
       "                        })                };                });            </script>        </div>"
      ]
     },
     "metadata": {},
     "output_type": "display_data"
    }
   ],
   "source": [
    "#T-SNE analysis\n",
    "X_embedded = TSNE(n_components=2).fit_transform(dff)\n",
    "rdf = pd.DataFrame(data=X_embedded, index=df.index).reset_index()\n",
    "rdf['release year'] = df['release year'].tolist()\n",
    "fig = px.scatter(rdf, x=0, y=1, hover_data=[\"index\", \"release year\"], color=\"release year\")\n",
    "fig.show()"
   ]
  },
  {
   "cell_type": "code",
   "execution_count": 13,
   "metadata": {},
   "outputs": [
    {
     "ename": "NameError",
     "evalue": "name 'df_subset' is not defined",
     "output_type": "error",
     "traceback": [
      "\u001b[0;31m---------------------------------------------------------------------------\u001b[0m",
      "\u001b[0;31mNameError\u001b[0m                                 Traceback (most recent call last)",
      "\u001b[0;32m<ipython-input-13-3c21d42ec423>\u001b[0m in \u001b[0;36m<module>\u001b[0;34m\u001b[0m\n\u001b[1;32m      1\u001b[0m \u001b[0mget_ipython\u001b[0m\u001b[0;34m(\u001b[0m\u001b[0;34m)\u001b[0m\u001b[0;34m.\u001b[0m\u001b[0mrun_line_magic\u001b[0m\u001b[0;34m(\u001b[0m\u001b[0;34m'matplotlib'\u001b[0m\u001b[0;34m,\u001b[0m \u001b[0;34m'inline'\u001b[0m\u001b[0;34m)\u001b[0m\u001b[0;34m\u001b[0m\u001b[0;34m\u001b[0m\u001b[0m\n\u001b[0;32m----> 2\u001b[0;31m \u001b[0mdf_subset\u001b[0m\u001b[0;34m[\u001b[0m\u001b[0;34m'tsne-2d-one'\u001b[0m\u001b[0;34m]\u001b[0m \u001b[0;34m=\u001b[0m \u001b[0mt_res\u001b[0m\u001b[0;34m[\u001b[0m\u001b[0;34m:\u001b[0m\u001b[0;34m,\u001b[0m\u001b[0;36m0\u001b[0m\u001b[0;34m]\u001b[0m\u001b[0;34m\u001b[0m\u001b[0;34m\u001b[0m\u001b[0m\n\u001b[0m\u001b[1;32m      3\u001b[0m \u001b[0mdf_subset\u001b[0m\u001b[0;34m[\u001b[0m\u001b[0;34m'tsne-2d-two'\u001b[0m\u001b[0;34m]\u001b[0m \u001b[0;34m=\u001b[0m \u001b[0mt_res\u001b[0m\u001b[0;34m[\u001b[0m\u001b[0;34m:\u001b[0m\u001b[0;34m,\u001b[0m\u001b[0;36m1\u001b[0m\u001b[0;34m]\u001b[0m\u001b[0;34m\u001b[0m\u001b[0;34m\u001b[0m\u001b[0m\n\u001b[1;32m      4\u001b[0m \u001b[0;32mimport\u001b[0m \u001b[0mmatplotlib\u001b[0m\u001b[0;34m.\u001b[0m\u001b[0mpyplot\u001b[0m \u001b[0;32mas\u001b[0m \u001b[0mplt\u001b[0m\u001b[0;34m\u001b[0m\u001b[0;34m\u001b[0m\u001b[0m\n\u001b[1;32m      5\u001b[0m \u001b[0;32mfrom\u001b[0m \u001b[0mmpl_toolkits\u001b[0m\u001b[0;34m.\u001b[0m\u001b[0mmplot3d\u001b[0m \u001b[0;32mimport\u001b[0m \u001b[0mAxes3D\u001b[0m\u001b[0;34m\u001b[0m\u001b[0;34m\u001b[0m\u001b[0m\n",
      "\u001b[0;31mNameError\u001b[0m: name 'df_subset' is not defined"
     ]
    }
   ],
   "source": [
    "%matplotlib inline\n",
    "df_subset['tsne-2d-one'] = t_res[:,0]\n",
    "df_subset['tsne-2d-two'] = t_res[:,1]\n",
    "import matplotlib.pyplot as plt\n",
    "from mpl_toolkits.mplot3d import Axes3D\n",
    "import seaborn as sns\n",
    "plt.figure(figsize=(16,10))\n",
    "sns.scatterplot(\n",
    "    x=\"tsne-2d-one\", y=\"tsne-2d-two\",\n",
    "    hue=\"y\",\n",
    "    palette=sns.color_palette(\"hls\", 10),\n",
    "    data=df_subset,\n",
    "    legend=\"full\",\n",
    "    alpha=0.3\n",
    ")"
   ]
  }
 ],
 "metadata": {
  "kernelspec": {
   "display_name": "Python 3",
   "language": "python",
   "name": "python3"
  },
  "language_info": {
   "codemirror_mode": {
    "name": "ipython",
    "version": 3
   },
   "file_extension": ".py",
   "mimetype": "text/x-python",
   "name": "python",
   "nbconvert_exporter": "python",
   "pygments_lexer": "ipython3",
   "version": "3.7.3"
  }
 },
 "nbformat": 4,
 "nbformat_minor": 4
}
